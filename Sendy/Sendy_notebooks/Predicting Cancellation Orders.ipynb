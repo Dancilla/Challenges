{
 "cells": [
  {
   "cell_type": "code",
   "execution_count": 258,
   "metadata": {
    "ExecuteTime": {
     "end_time": "2019-07-29T12:52:20.783765Z",
     "start_time": "2019-07-29T12:52:20.770060Z"
    }
   },
   "outputs": [
    {
     "name": "stdout",
     "output_type": "stream",
     "text": [
      "Populating the interactive namespace from numpy and matplotlib\n"
     ]
    },
    {
     "name": "stderr",
     "output_type": "stream",
     "text": [
      "/home/dancilla/PYTHON_37/lib/python3.6/site-packages/IPython/core/magics/pylab.py:160: UserWarning: pylab import has clobbered these variables: ['random']\n",
      "`%matplotlib` prevents importing * from pylab and numpy\n",
      "  \"\\n`%matplotlib` prevents importing * from pylab and numpy\"\n"
     ]
    }
   ],
   "source": [
    "%pylab inline"
   ]
  },
  {
   "cell_type": "markdown",
   "metadata": {},
   "source": [
    "# Problem Statement"
   ]
  },
  {
   "cell_type": "markdown",
   "metadata": {},
   "source": [
    "**Data Analysis case study**\n",
    "\n",
    "I am working on a logistic problem where they have faced cancellation of orders in their deliveries. \n",
    "Their main goal is to be the 1st prefered delivery partner in Africa.\n",
    "\n",
    "**Challenge 2**\n",
    "\n",
    "-There's been deliberate deletion of data\n",
    "1. Use the data 2, missed data to predict cancellation reasons for all orders with missing data.\n",
    "2. Document steps and method used.\n",
    "\n",
    "How to predict cancellation reasons\n",
    "Our algorithm will be a multi-class classification machine learning algorithm which involves the following steps:\n",
    "\n",
    "1. Importing libraries\n",
    "2. Fetching the dataset\n",
    "3. Creating the dependent variable class\n",
    "4. Extracting features and output\n",
    "5. Train-Test dataset splitting (include test dataset as holdout data)\n",
    "6. Feature scaling\n",
    "7. Training the model\n",
    "8. Calculating the model score using the metric deemed fit based on the problem\n",
    "9. Saving the model for predicting cancellation reasons on the test dataset"
   ]
  },
  {
   "cell_type": "code",
   "execution_count": 259,
   "metadata": {
    "ExecuteTime": {
     "end_time": "2019-07-29T12:52:21.324467Z",
     "start_time": "2019-07-29T12:52:21.315228Z"
    }
   },
   "outputs": [],
   "source": [
    "##for faster data processing\n",
    "import numba as nb\n",
    "import dask as da\n",
    "\n",
    "#for data manipulation \n",
    "import pandas as pd\n",
    "import numpy as np\n",
    "\n",
    "##for data visualizations, distribution  and prediction of the variables\n",
    "from pandas_summary import DataFrameSummary\n",
    "import scipy as sc\n",
    "import sklearn as skl\n",
    "import seaborn as sns\n",
    "\n",
    "import random"
   ]
  },
  {
   "cell_type": "markdown",
   "metadata": {},
   "source": [
    "# Import Dataset"
   ]
  },
  {
   "cell_type": "code",
   "execution_count": 260,
   "metadata": {
    "ExecuteTime": {
     "end_time": "2019-07-29T12:52:21.753201Z",
     "start_time": "2019-07-29T12:52:21.686112Z"
    }
   },
   "outputs": [],
   "source": [
    "query_df = pd.read_csv('../Sendy_data/prediction_df.csv', sep=',')\n",
    "test_df = pd.read_csv('../Sendy_data/test_df.csv', sep=',')\n"
   ]
  },
  {
   "cell_type": "code",
   "execution_count": 261,
   "metadata": {
    "ExecuteTime": {
     "end_time": "2019-07-29T12:52:21.911814Z",
     "start_time": "2019-07-29T12:52:21.876180Z"
    }
   },
   "outputs": [
    {
     "data": {
      "text/html": [
       "<div>\n",
       "<style scoped>\n",
       "    .dataframe tbody tr th:only-of-type {\n",
       "        vertical-align: middle;\n",
       "    }\n",
       "\n",
       "    .dataframe tbody tr th {\n",
       "        vertical-align: top;\n",
       "    }\n",
       "\n",
       "    .dataframe thead th {\n",
       "        text-align: right;\n",
       "    }\n",
       "</style>\n",
       "<table border=\"1\" class=\"dataframe\">\n",
       "  <thead>\n",
       "    <tr style=\"text-align: right;\">\n",
       "      <th></th>\n",
       "      <th>index</th>\n",
       "      <th>personal_or_business</th>\n",
       "      <th>business_number</th>\n",
       "      <th>vehicle_type</th>\n",
       "      <th>standard_or_express</th>\n",
       "      <th>platform</th>\n",
       "      <th>cancel_reason</th>\n",
       "      <th>cancelled_by</th>\n",
       "      <th>placement_day</th>\n",
       "      <th>placement_time</th>\n",
       "      <th>...</th>\n",
       "      <th>distance_(km)</th>\n",
       "      <th>pickup_lat</th>\n",
       "      <th>pickup_long</th>\n",
       "      <th>scheduled</th>\n",
       "      <th>order_timedelta</th>\n",
       "      <th>processing_timedelta</th>\n",
       "      <th>confirmation_timedelta</th>\n",
       "      <th>order_period</th>\n",
       "      <th>processing_period</th>\n",
       "      <th>confirmation_period</th>\n",
       "    </tr>\n",
       "  </thead>\n",
       "  <tbody>\n",
       "    <tr>\n",
       "      <th>0</th>\n",
       "      <td>0</td>\n",
       "      <td>Personal</td>\n",
       "      <td>-1.0</td>\n",
       "      <td>Bike</td>\n",
       "      <td>Express</td>\n",
       "      <td>android</td>\n",
       "      <td>No driver has been allocated to my request.</td>\n",
       "      <td>Customer</td>\n",
       "      <td>1</td>\n",
       "      <td>2019-07-29 17:55:38</td>\n",
       "      <td>...</td>\n",
       "      <td>9</td>\n",
       "      <td>-1.313053</td>\n",
       "      <td>36.841437</td>\n",
       "      <td>OnDemAND</td>\n",
       "      <td>NaN</td>\n",
       "      <td>-1 days +23:59:03.000000000</td>\n",
       "      <td>NaN</td>\n",
       "      <td>0</td>\n",
       "      <td>0</td>\n",
       "      <td>0</td>\n",
       "    </tr>\n",
       "    <tr>\n",
       "      <th>1</th>\n",
       "      <td>1</td>\n",
       "      <td>Personal</td>\n",
       "      <td>-1.0</td>\n",
       "      <td>Bike</td>\n",
       "      <td>Express</td>\n",
       "      <td>android</td>\n",
       "      <td>My order is not ready.</td>\n",
       "      <td>Customer</td>\n",
       "      <td>1</td>\n",
       "      <td>2019-07-29 12:26:27</td>\n",
       "      <td>...</td>\n",
       "      <td>14</td>\n",
       "      <td>-1.318959</td>\n",
       "      <td>36.853394</td>\n",
       "      <td>OnDemAND</td>\n",
       "      <td>-1 days +23:58:51.000000000</td>\n",
       "      <td>-1 days +23:57:43.000000000</td>\n",
       "      <td>-1 days +23:58:52.000000000</td>\n",
       "      <td>0</td>\n",
       "      <td>0</td>\n",
       "      <td>0</td>\n",
       "    </tr>\n",
       "    <tr>\n",
       "      <th>2</th>\n",
       "      <td>2</td>\n",
       "      <td>Business</td>\n",
       "      <td>20680.0</td>\n",
       "      <td>Bike</td>\n",
       "      <td>Express</td>\n",
       "      <td>android</td>\n",
       "      <td>I placed the wrong locations.</td>\n",
       "      <td>Customer</td>\n",
       "      <td>1</td>\n",
       "      <td>2019-07-29 13:21:18</td>\n",
       "      <td>...</td>\n",
       "      <td>16</td>\n",
       "      <td>-1.313854</td>\n",
       "      <td>36.706867</td>\n",
       "      <td>OnDemAND</td>\n",
       "      <td>-1 days +23:59:44.000000000</td>\n",
       "      <td>-1 days +23:33:49.000000000</td>\n",
       "      <td>-1 days +23:34:05.000000000</td>\n",
       "      <td>0</td>\n",
       "      <td>0</td>\n",
       "      <td>0</td>\n",
       "    </tr>\n",
       "    <tr>\n",
       "      <th>3</th>\n",
       "      <td>3</td>\n",
       "      <td>Personal</td>\n",
       "      <td>-1.0</td>\n",
       "      <td>Bike</td>\n",
       "      <td>Express</td>\n",
       "      <td>android</td>\n",
       "      <td>My order is not ready.</td>\n",
       "      <td>Customer</td>\n",
       "      <td>1</td>\n",
       "      <td>2019-07-29 10:29:19</td>\n",
       "      <td>...</td>\n",
       "      <td>20</td>\n",
       "      <td>-1.206197</td>\n",
       "      <td>36.778776</td>\n",
       "      <td>OnDemAND</td>\n",
       "      <td>NaN</td>\n",
       "      <td>-1 days +23:59:50.000000000</td>\n",
       "      <td>NaN</td>\n",
       "      <td>0</td>\n",
       "      <td>0</td>\n",
       "      <td>0</td>\n",
       "    </tr>\n",
       "    <tr>\n",
       "      <th>4</th>\n",
       "      <td>4</td>\n",
       "      <td>Personal</td>\n",
       "      <td>-1.0</td>\n",
       "      <td>Bike</td>\n",
       "      <td>Standard</td>\n",
       "      <td>ios</td>\n",
       "      <td>No Partner</td>\n",
       "      <td>Staff</td>\n",
       "      <td>1</td>\n",
       "      <td>2019-07-29 14:34:05</td>\n",
       "      <td>...</td>\n",
       "      <td>11</td>\n",
       "      <td>-1.296958</td>\n",
       "      <td>36.808166</td>\n",
       "      <td>OnDemAND</td>\n",
       "      <td>-1 days +23:34:57.000000000</td>\n",
       "      <td>-1 days +22:44:24.000000000</td>\n",
       "      <td>-1 days +23:09:27.000000000</td>\n",
       "      <td>0</td>\n",
       "      <td>0</td>\n",
       "      <td>0</td>\n",
       "    </tr>\n",
       "  </tbody>\n",
       "</table>\n",
       "<p>5 rows × 24 columns</p>\n",
       "</div>"
      ],
      "text/plain": [
       "   index personal_or_business  business_number vehicle_type  \\\n",
       "0      0             Personal             -1.0         Bike   \n",
       "1      1             Personal             -1.0         Bike   \n",
       "2      2             Business          20680.0         Bike   \n",
       "3      3             Personal             -1.0         Bike   \n",
       "4      4             Personal             -1.0         Bike   \n",
       "\n",
       "  standard_or_express platform                                cancel_reason  \\\n",
       "0             Express  android  No driver has been allocated to my request.   \n",
       "1             Express  android                       My order is not ready.   \n",
       "2             Express  android                I placed the wrong locations.   \n",
       "3             Express  android                       My order is not ready.   \n",
       "4            Standard      ios                                   No Partner   \n",
       "\n",
       "  cancelled_by  placement_day       placement_time  ...  distance_(km)  \\\n",
       "0     Customer              1  2019-07-29 17:55:38  ...              9   \n",
       "1     Customer              1  2019-07-29 12:26:27  ...             14   \n",
       "2     Customer              1  2019-07-29 13:21:18  ...             16   \n",
       "3     Customer              1  2019-07-29 10:29:19  ...             20   \n",
       "4        Staff              1  2019-07-29 14:34:05  ...             11   \n",
       "\n",
       "  pickup_lat  pickup_long scheduled              order_timedelta  \\\n",
       "0  -1.313053    36.841437  OnDemAND                          NaN   \n",
       "1  -1.318959    36.853394  OnDemAND  -1 days +23:58:51.000000000   \n",
       "2  -1.313854    36.706867  OnDemAND  -1 days +23:59:44.000000000   \n",
       "3  -1.206197    36.778776  OnDemAND                          NaN   \n",
       "4  -1.296958    36.808166  OnDemAND  -1 days +23:34:57.000000000   \n",
       "\n",
       "          processing_timedelta       confirmation_timedelta order_period  \\\n",
       "0  -1 days +23:59:03.000000000                          NaN            0   \n",
       "1  -1 days +23:57:43.000000000  -1 days +23:58:52.000000000            0   \n",
       "2  -1 days +23:33:49.000000000  -1 days +23:34:05.000000000            0   \n",
       "3  -1 days +23:59:50.000000000                          NaN            0   \n",
       "4  -1 days +22:44:24.000000000  -1 days +23:09:27.000000000            0   \n",
       "\n",
       "  processing_period confirmation_period  \n",
       "0                 0                   0  \n",
       "1                 0                   0  \n",
       "2                 0                   0  \n",
       "3                 0                   0  \n",
       "4                 0                   0  \n",
       "\n",
       "[5 rows x 24 columns]"
      ]
     },
     "execution_count": 261,
     "metadata": {},
     "output_type": "execute_result"
    }
   ],
   "source": [
    "query_df.head()"
   ]
  },
  {
   "cell_type": "code",
   "execution_count": 262,
   "metadata": {
    "ExecuteTime": {
     "end_time": "2019-07-29T12:52:22.051247Z",
     "start_time": "2019-07-29T12:52:22.024746Z"
    }
   },
   "outputs": [
    {
     "data": {
      "text/html": [
       "<div>\n",
       "<style scoped>\n",
       "    .dataframe tbody tr th:only-of-type {\n",
       "        vertical-align: middle;\n",
       "    }\n",
       "\n",
       "    .dataframe tbody tr th {\n",
       "        vertical-align: top;\n",
       "    }\n",
       "\n",
       "    .dataframe thead th {\n",
       "        text-align: right;\n",
       "    }\n",
       "</style>\n",
       "<table border=\"1\" class=\"dataframe\">\n",
       "  <thead>\n",
       "    <tr style=\"text-align: right;\">\n",
       "      <th></th>\n",
       "      <th>personal_or_business</th>\n",
       "      <th>business_number</th>\n",
       "      <th>vehicle_type</th>\n",
       "      <th>standard_or_express</th>\n",
       "      <th>platform</th>\n",
       "      <th>cancel_reason</th>\n",
       "      <th>cancelled_by</th>\n",
       "      <th>placement_day</th>\n",
       "      <th>placement_time</th>\n",
       "      <th>confirmation_day</th>\n",
       "      <th>confirmation_time</th>\n",
       "      <th>cancellation_day</th>\n",
       "      <th>cancellation_time</th>\n",
       "      <th>distance_(km)</th>\n",
       "      <th>pickup_lat</th>\n",
       "      <th>pickup_long</th>\n",
       "      <th>scheduled</th>\n",
       "    </tr>\n",
       "  </thead>\n",
       "  <tbody>\n",
       "    <tr>\n",
       "      <th>0</th>\n",
       "      <td>Personal</td>\n",
       "      <td>-1.0</td>\n",
       "      <td>Bike</td>\n",
       "      <td>Express</td>\n",
       "      <td>ios</td>\n",
       "      <td>NaN</td>\n",
       "      <td>Customer</td>\n",
       "      <td>1</td>\n",
       "      <td>15:23:44</td>\n",
       "      <td>1</td>\n",
       "      <td>16:40:47</td>\n",
       "      <td>1</td>\n",
       "      <td>16:43:50</td>\n",
       "      <td>4</td>\n",
       "      <td>-1.299370</td>\n",
       "      <td>36.822107</td>\n",
       "      <td>OnDemAND</td>\n",
       "    </tr>\n",
       "    <tr>\n",
       "      <th>1</th>\n",
       "      <td>Business</td>\n",
       "      <td>20680.0</td>\n",
       "      <td>Bike</td>\n",
       "      <td>Express</td>\n",
       "      <td>desktop</td>\n",
       "      <td>NaN</td>\n",
       "      <td>Staff</td>\n",
       "      <td>1</td>\n",
       "      <td>14:21:46</td>\n",
       "      <td>1</td>\n",
       "      <td>14:22:20</td>\n",
       "      <td>1</td>\n",
       "      <td>14:30:48</td>\n",
       "      <td>17</td>\n",
       "      <td>-1.264490</td>\n",
       "      <td>36.789303</td>\n",
       "      <td>OnDemAND</td>\n",
       "    </tr>\n",
       "    <tr>\n",
       "      <th>2</th>\n",
       "      <td>Business</td>\n",
       "      <td>17968.0</td>\n",
       "      <td>Bike</td>\n",
       "      <td>Express</td>\n",
       "      <td>desktop</td>\n",
       "      <td>NaN</td>\n",
       "      <td>Customer</td>\n",
       "      <td>1</td>\n",
       "      <td>15:13:20</td>\n",
       "      <td>1</td>\n",
       "      <td>NaN</td>\n",
       "      <td>1</td>\n",
       "      <td>15:56:34</td>\n",
       "      <td>18</td>\n",
       "      <td>-1.427056</td>\n",
       "      <td>36.961499</td>\n",
       "      <td>OnDemAND</td>\n",
       "    </tr>\n",
       "    <tr>\n",
       "      <th>3</th>\n",
       "      <td>Personal</td>\n",
       "      <td>-1.0</td>\n",
       "      <td>Bike</td>\n",
       "      <td>Standard</td>\n",
       "      <td>android</td>\n",
       "      <td>NaN</td>\n",
       "      <td>Customer</td>\n",
       "      <td>1</td>\n",
       "      <td>13:54:19</td>\n",
       "      <td>1</td>\n",
       "      <td>NaN</td>\n",
       "      <td>1</td>\n",
       "      <td>13:56:41</td>\n",
       "      <td>8</td>\n",
       "      <td>-1.301737</td>\n",
       "      <td>36.743936</td>\n",
       "      <td>OnDemAND</td>\n",
       "    </tr>\n",
       "    <tr>\n",
       "      <th>4</th>\n",
       "      <td>Personal</td>\n",
       "      <td>-1.0</td>\n",
       "      <td>Bike</td>\n",
       "      <td>Standard</td>\n",
       "      <td>android</td>\n",
       "      <td>NaN</td>\n",
       "      <td>Staff</td>\n",
       "      <td>1</td>\n",
       "      <td>13:24:05</td>\n",
       "      <td>1</td>\n",
       "      <td>15:57:20</td>\n",
       "      <td>1</td>\n",
       "      <td>17:14:46</td>\n",
       "      <td>13</td>\n",
       "      <td>-1.308098</td>\n",
       "      <td>36.920464</td>\n",
       "      <td>Scheduled</td>\n",
       "    </tr>\n",
       "  </tbody>\n",
       "</table>\n",
       "</div>"
      ],
      "text/plain": [
       "  personal_or_business  business_number vehicle_type standard_or_express  \\\n",
       "0             Personal             -1.0         Bike             Express   \n",
       "1             Business          20680.0         Bike             Express   \n",
       "2             Business          17968.0         Bike             Express   \n",
       "3             Personal             -1.0         Bike            Standard   \n",
       "4             Personal             -1.0         Bike            Standard   \n",
       "\n",
       "  platform  cancel_reason cancelled_by  placement_day placement_time  \\\n",
       "0      ios            NaN     Customer              1       15:23:44   \n",
       "1  desktop            NaN        Staff              1       14:21:46   \n",
       "2  desktop            NaN     Customer              1       15:13:20   \n",
       "3  android            NaN     Customer              1       13:54:19   \n",
       "4  android            NaN        Staff              1       13:24:05   \n",
       "\n",
       "   confirmation_day confirmation_time  cancellation_day cancellation_time  \\\n",
       "0                 1          16:40:47                 1          16:43:50   \n",
       "1                 1          14:22:20                 1          14:30:48   \n",
       "2                 1               NaN                 1          15:56:34   \n",
       "3                 1               NaN                 1          13:56:41   \n",
       "4                 1          15:57:20                 1          17:14:46   \n",
       "\n",
       "   distance_(km)  pickup_lat  pickup_long  scheduled  \n",
       "0              4   -1.299370    36.822107   OnDemAND  \n",
       "1             17   -1.264490    36.789303   OnDemAND  \n",
       "2             18   -1.427056    36.961499   OnDemAND  \n",
       "3              8   -1.301737    36.743936   OnDemAND  \n",
       "4             13   -1.308098    36.920464  Scheduled  "
      ]
     },
     "execution_count": 262,
     "metadata": {},
     "output_type": "execute_result"
    }
   ],
   "source": [
    "test_df.head()"
   ]
  },
  {
   "cell_type": "code",
   "execution_count": 263,
   "metadata": {
    "ExecuteTime": {
     "end_time": "2019-07-29T12:52:22.214456Z",
     "start_time": "2019-07-29T12:52:22.207470Z"
    }
   },
   "outputs": [
    {
     "data": {
      "text/plain": [
       "(6393, 24)"
      ]
     },
     "execution_count": 263,
     "metadata": {},
     "output_type": "execute_result"
    }
   ],
   "source": [
    "query_df.shape"
   ]
  },
  {
   "cell_type": "markdown",
   "metadata": {},
   "source": [
    "## Assign numbers for string features"
   ]
  },
  {
   "cell_type": "code",
   "execution_count": 264,
   "metadata": {
    "ExecuteTime": {
     "end_time": "2019-07-29T12:52:22.608653Z",
     "start_time": "2019-07-29T12:52:22.592292Z"
    }
   },
   "outputs": [
    {
     "name": "stderr",
     "output_type": "stream",
     "text": [
      "/home/dancilla/PYTHON_37/lib/python3.6/site-packages/ipykernel_launcher.py:3: SettingWithCopyWarning: \n",
      "A value is trying to be set on a copy of a slice from a DataFrame\n",
      "\n",
      "See the caveats in the documentation: http://pandas.pydata.org/pandas-docs/stable/user_guide/indexing.html#returning-a-view-versus-a-copy\n",
      "  This is separate from the ipykernel package so we can avoid doing imports until\n",
      "/home/dancilla/PYTHON_37/lib/python3.6/site-packages/ipykernel_launcher.py:4: SettingWithCopyWarning: \n",
      "A value is trying to be set on a copy of a slice from a DataFrame\n",
      "\n",
      "See the caveats in the documentation: http://pandas.pydata.org/pandas-docs/stable/user_guide/indexing.html#returning-a-view-versus-a-copy\n",
      "  after removing the cwd from sys.path.\n"
     ]
    }
   ],
   "source": [
    "# traversing through personal or business orders \n",
    "# column of dataFrame and writing values where  condition matches. \n",
    "query_df['personal_or_business'][query_df['personal_or_business'] == 'Personal'] = 1\n",
    "query_df['personal_or_business'][query_df['personal_or_business'] == 'Business'] = 2\n"
   ]
  },
  {
   "cell_type": "code",
   "execution_count": 265,
   "metadata": {
    "ExecuteTime": {
     "end_time": "2019-07-29T12:52:22.789637Z",
     "start_time": "2019-07-29T12:52:22.774828Z"
    }
   },
   "outputs": [
    {
     "name": "stderr",
     "output_type": "stream",
     "text": [
      "/home/dancilla/PYTHON_37/lib/python3.6/site-packages/ipykernel_launcher.py:3: SettingWithCopyWarning: \n",
      "A value is trying to be set on a copy of a slice from a DataFrame\n",
      "\n",
      "See the caveats in the documentation: http://pandas.pydata.org/pandas-docs/stable/user_guide/indexing.html#returning-a-view-versus-a-copy\n",
      "  This is separate from the ipykernel package so we can avoid doing imports until\n",
      "/home/dancilla/PYTHON_37/lib/python3.6/site-packages/ipykernel_launcher.py:4: SettingWithCopyWarning: \n",
      "A value is trying to be set on a copy of a slice from a DataFrame\n",
      "\n",
      "See the caveats in the documentation: http://pandas.pydata.org/pandas-docs/stable/user_guide/indexing.html#returning-a-view-versus-a-copy\n",
      "  after removing the cwd from sys.path.\n"
     ]
    }
   ],
   "source": [
    "# traversing through types of vehicles \n",
    "# column of dataFrame and writing values where  condition matches. \n",
    "query_df['vehicle_type'][query_df['vehicle_type'] == 'Bike'] = 1\n",
    "query_df['vehicle_type'][query_df['vehicle_type'] == 'Standard Bike'] = 2\n"
   ]
  },
  {
   "cell_type": "code",
   "execution_count": 266,
   "metadata": {
    "ExecuteTime": {
     "end_time": "2019-07-29T12:52:23.157299Z",
     "start_time": "2019-07-29T12:52:23.139540Z"
    }
   },
   "outputs": [
    {
     "name": "stderr",
     "output_type": "stream",
     "text": [
      "/home/dancilla/PYTHON_37/lib/python3.6/site-packages/ipykernel_launcher.py:3: SettingWithCopyWarning: \n",
      "A value is trying to be set on a copy of a slice from a DataFrame\n",
      "\n",
      "See the caveats in the documentation: http://pandas.pydata.org/pandas-docs/stable/user_guide/indexing.html#returning-a-view-versus-a-copy\n",
      "  This is separate from the ipykernel package so we can avoid doing imports until\n",
      "/home/dancilla/PYTHON_37/lib/python3.6/site-packages/ipykernel_launcher.py:4: SettingWithCopyWarning: \n",
      "A value is trying to be set on a copy of a slice from a DataFrame\n",
      "\n",
      "See the caveats in the documentation: http://pandas.pydata.org/pandas-docs/stable/user_guide/indexing.html#returning-a-view-versus-a-copy\n",
      "  after removing the cwd from sys.path.\n"
     ]
    }
   ],
   "source": [
    "# traversing through types of order \n",
    "# column of dataFrame and writing values where  condition matches. \n",
    "query_df['standard_or_express'][query_df['standard_or_express'] == 'Express'] = 1\n",
    "query_df['standard_or_express'][query_df['standard_or_express'] == 'Standard'] = 2\n"
   ]
  },
  {
   "cell_type": "code",
   "execution_count": 267,
   "metadata": {
    "ExecuteTime": {
     "end_time": "2019-07-29T12:52:23.508266Z",
     "start_time": "2019-07-29T12:52:23.495963Z"
    }
   },
   "outputs": [
    {
     "name": "stderr",
     "output_type": "stream",
     "text": [
      "/home/dancilla/PYTHON_37/lib/python3.6/site-packages/ipykernel_launcher.py:3: SettingWithCopyWarning: \n",
      "A value is trying to be set on a copy of a slice from a DataFrame\n",
      "\n",
      "See the caveats in the documentation: http://pandas.pydata.org/pandas-docs/stable/user_guide/indexing.html#returning-a-view-versus-a-copy\n",
      "  This is separate from the ipykernel package so we can avoid doing imports until\n",
      "/home/dancilla/PYTHON_37/lib/python3.6/site-packages/ipykernel_launcher.py:4: SettingWithCopyWarning: \n",
      "A value is trying to be set on a copy of a slice from a DataFrame\n",
      "\n",
      "See the caveats in the documentation: http://pandas.pydata.org/pandas-docs/stable/user_guide/indexing.html#returning-a-view-versus-a-copy\n",
      "  after removing the cwd from sys.path.\n"
     ]
    }
   ],
   "source": [
    "# traversing through who cancelled the orders\n",
    "# column of dataFrame and writing values where  condition matches. \n",
    "query_df['cancelled_by'][query_df['cancelled_by'] == 'Customer'] = 1\n",
    "query_df['cancelled_by'][query_df['cancelled_by'] == 'Staff'] = 2\n"
   ]
  },
  {
   "cell_type": "code",
   "execution_count": 268,
   "metadata": {
    "ExecuteTime": {
     "end_time": "2019-07-29T12:52:23.775945Z",
     "start_time": "2019-07-29T12:52:23.758114Z"
    }
   },
   "outputs": [
    {
     "name": "stderr",
     "output_type": "stream",
     "text": [
      "/home/dancilla/PYTHON_37/lib/python3.6/site-packages/ipykernel_launcher.py:3: SettingWithCopyWarning: \n",
      "A value is trying to be set on a copy of a slice from a DataFrame\n",
      "\n",
      "See the caveats in the documentation: http://pandas.pydata.org/pandas-docs/stable/user_guide/indexing.html#returning-a-view-versus-a-copy\n",
      "  This is separate from the ipykernel package so we can avoid doing imports until\n",
      "/home/dancilla/PYTHON_37/lib/python3.6/site-packages/ipykernel_launcher.py:4: SettingWithCopyWarning: \n",
      "A value is trying to be set on a copy of a slice from a DataFrame\n",
      "\n",
      "See the caveats in the documentation: http://pandas.pydata.org/pandas-docs/stable/user_guide/indexing.html#returning-a-view-versus-a-copy\n",
      "  after removing the cwd from sys.path.\n"
     ]
    }
   ],
   "source": [
    "# traversing through types of indication of whether order was on demand or scheduled\n",
    "# column of dataFrame and writing values where  condition matches. \n",
    "query_df['scheduled'][query_df['scheduled'] == 'OnDemAND'] = 1\n",
    "query_df['scheduled'][query_df['scheduled'] == 'Scheduled'] = 2\n"
   ]
  },
  {
   "cell_type": "code",
   "execution_count": 269,
   "metadata": {
    "ExecuteTime": {
     "end_time": "2019-07-29T12:52:24.107925Z",
     "start_time": "2019-07-29T12:52:24.076068Z"
    }
   },
   "outputs": [
    {
     "name": "stderr",
     "output_type": "stream",
     "text": [
      "/home/dancilla/PYTHON_37/lib/python3.6/site-packages/ipykernel_launcher.py:3: SettingWithCopyWarning: \n",
      "A value is trying to be set on a copy of a slice from a DataFrame\n",
      "\n",
      "See the caveats in the documentation: http://pandas.pydata.org/pandas-docs/stable/user_guide/indexing.html#returning-a-view-versus-a-copy\n",
      "  This is separate from the ipykernel package so we can avoid doing imports until\n",
      "/home/dancilla/PYTHON_37/lib/python3.6/site-packages/ipykernel_launcher.py:4: SettingWithCopyWarning: \n",
      "A value is trying to be set on a copy of a slice from a DataFrame\n",
      "\n",
      "See the caveats in the documentation: http://pandas.pydata.org/pandas-docs/stable/user_guide/indexing.html#returning-a-view-versus-a-copy\n",
      "  after removing the cwd from sys.path.\n",
      "/home/dancilla/PYTHON_37/lib/python3.6/site-packages/ipykernel_launcher.py:5: SettingWithCopyWarning: \n",
      "A value is trying to be set on a copy of a slice from a DataFrame\n",
      "\n",
      "See the caveats in the documentation: http://pandas.pydata.org/pandas-docs/stable/user_guide/indexing.html#returning-a-view-versus-a-copy\n",
      "  \"\"\"\n",
      "/home/dancilla/PYTHON_37/lib/python3.6/site-packages/ipykernel_launcher.py:6: SettingWithCopyWarning: \n",
      "A value is trying to be set on a copy of a slice from a DataFrame\n",
      "\n",
      "See the caveats in the documentation: http://pandas.pydata.org/pandas-docs/stable/user_guide/indexing.html#returning-a-view-versus-a-copy\n",
      "  \n",
      "/home/dancilla/PYTHON_37/lib/python3.6/site-packages/ipykernel_launcher.py:7: SettingWithCopyWarning: \n",
      "A value is trying to be set on a copy of a slice from a DataFrame\n",
      "\n",
      "See the caveats in the documentation: http://pandas.pydata.org/pandas-docs/stable/user_guide/indexing.html#returning-a-view-versus-a-copy\n",
      "  import sys\n"
     ]
    }
   ],
   "source": [
    "# traversing through types of platforms used \n",
    "# column of dataFrame and writing values where  condition matches. \n",
    "query_df['platform'][query_df['platform'] == 'android'] = 1\n",
    "query_df['platform'][query_df['platform'] == 'ios'] = 2\n",
    "query_df['platform'][query_df['platform'] == 'desktop'] = 3\n",
    "query_df['platform'][query_df['platform'] == 'API'] = 4\n",
    "query_df['platform'][query_df['platform'] == 'peer_web'] = 5\n"
   ]
  },
  {
   "cell_type": "code",
   "execution_count": 270,
   "metadata": {
    "ExecuteTime": {
     "end_time": "2019-07-29T12:52:26.379142Z",
     "start_time": "2019-07-29T12:52:26.370269Z"
    }
   },
   "outputs": [
    {
     "data": {
      "text/plain": [
       "array(['No driver has been allocated to my request.',\n",
       "       'My order is not ready.', 'I placed the wrong locations.',\n",
       "       'No Partner', 'Customer error', 'The driver is too far away.',\n",
       "       'Delay'], dtype=object)"
      ]
     },
     "execution_count": 270,
     "metadata": {},
     "output_type": "execute_result"
    }
   ],
   "source": [
    "query_df['cancel_reason'].unique()"
   ]
  },
  {
   "cell_type": "code",
   "execution_count": 271,
   "metadata": {
    "ExecuteTime": {
     "end_time": "2019-07-29T12:52:26.673943Z",
     "start_time": "2019-07-29T12:52:26.657914Z"
    }
   },
   "outputs": [
    {
     "name": "stdout",
     "output_type": "stream",
     "text": [
      "y_train_ohe shape: (6393, 6)\n",
      "y_train_ohe samples:\n",
      "[[1 0 0 0 0 0]\n",
      " [0 1 0 0 0 0]\n",
      " [0 0 1 0 0 0]\n",
      " [0 1 0 0 0 0]\n",
      " [0 0 0 1 0 0]]\n"
     ]
    }
   ],
   "source": [
    "from sklearn.preprocessing import label_binarize\n",
    "\n",
    "# Transform labels into one hot encoded format.\n",
    "y_train_ohe = label_binarize(query_df['cancel_reason'], classes=['No driver has been allocated to my request.', \n",
    "                                                                 'My order is not ready.', 'I placed the wrong locations.',\n",
    "                                                                'No Partner', 'Customer error', 'The driver is too far away.'\n",
    "                                                                'Delay'])\n",
    "print('y_train_ohe shape: {}'.format(y_train_ohe.shape))\n",
    "print('y_train_ohe samples:')\n",
    "print(y_train_ohe[:5])"
   ]
  },
  {
   "cell_type": "code",
   "execution_count": 272,
   "metadata": {
    "ExecuteTime": {
     "end_time": "2019-07-29T12:52:27.216026Z",
     "start_time": "2019-07-29T12:52:27.177654Z"
    }
   },
   "outputs": [
    {
     "data": {
      "text/html": [
       "<div>\n",
       "<style scoped>\n",
       "    .dataframe tbody tr th:only-of-type {\n",
       "        vertical-align: middle;\n",
       "    }\n",
       "\n",
       "    .dataframe tbody tr th {\n",
       "        vertical-align: top;\n",
       "    }\n",
       "\n",
       "    .dataframe thead th {\n",
       "        text-align: right;\n",
       "    }\n",
       "</style>\n",
       "<table border=\"1\" class=\"dataframe\">\n",
       "  <thead>\n",
       "    <tr style=\"text-align: right;\">\n",
       "      <th></th>\n",
       "      <th>index</th>\n",
       "      <th>personal_or_business</th>\n",
       "      <th>business_number</th>\n",
       "      <th>vehicle_type</th>\n",
       "      <th>standard_or_express</th>\n",
       "      <th>platform</th>\n",
       "      <th>cancel_reason</th>\n",
       "      <th>cancelled_by</th>\n",
       "      <th>placement_day</th>\n",
       "      <th>placement_time</th>\n",
       "      <th>...</th>\n",
       "      <th>distance_(km)</th>\n",
       "      <th>pickup_lat</th>\n",
       "      <th>pickup_long</th>\n",
       "      <th>scheduled</th>\n",
       "      <th>order_timedelta</th>\n",
       "      <th>processing_timedelta</th>\n",
       "      <th>confirmation_timedelta</th>\n",
       "      <th>order_period</th>\n",
       "      <th>processing_period</th>\n",
       "      <th>confirmation_period</th>\n",
       "    </tr>\n",
       "  </thead>\n",
       "  <tbody>\n",
       "    <tr>\n",
       "      <th>0</th>\n",
       "      <td>0</td>\n",
       "      <td>1</td>\n",
       "      <td>-1.0</td>\n",
       "      <td>1</td>\n",
       "      <td>1</td>\n",
       "      <td>1</td>\n",
       "      <td>No driver has been allocated to my request.</td>\n",
       "      <td>1</td>\n",
       "      <td>1</td>\n",
       "      <td>2019-07-29 17:55:38</td>\n",
       "      <td>...</td>\n",
       "      <td>9</td>\n",
       "      <td>-1.313053</td>\n",
       "      <td>36.841437</td>\n",
       "      <td>1</td>\n",
       "      <td>NaN</td>\n",
       "      <td>-1 days +23:59:03.000000000</td>\n",
       "      <td>NaN</td>\n",
       "      <td>0</td>\n",
       "      <td>0</td>\n",
       "      <td>0</td>\n",
       "    </tr>\n",
       "    <tr>\n",
       "      <th>1</th>\n",
       "      <td>1</td>\n",
       "      <td>1</td>\n",
       "      <td>-1.0</td>\n",
       "      <td>1</td>\n",
       "      <td>1</td>\n",
       "      <td>1</td>\n",
       "      <td>My order is not ready.</td>\n",
       "      <td>1</td>\n",
       "      <td>1</td>\n",
       "      <td>2019-07-29 12:26:27</td>\n",
       "      <td>...</td>\n",
       "      <td>14</td>\n",
       "      <td>-1.318959</td>\n",
       "      <td>36.853394</td>\n",
       "      <td>1</td>\n",
       "      <td>-1 days +23:58:51.000000000</td>\n",
       "      <td>-1 days +23:57:43.000000000</td>\n",
       "      <td>-1 days +23:58:52.000000000</td>\n",
       "      <td>0</td>\n",
       "      <td>0</td>\n",
       "      <td>0</td>\n",
       "    </tr>\n",
       "    <tr>\n",
       "      <th>2</th>\n",
       "      <td>2</td>\n",
       "      <td>2</td>\n",
       "      <td>20680.0</td>\n",
       "      <td>1</td>\n",
       "      <td>1</td>\n",
       "      <td>1</td>\n",
       "      <td>I placed the wrong locations.</td>\n",
       "      <td>1</td>\n",
       "      <td>1</td>\n",
       "      <td>2019-07-29 13:21:18</td>\n",
       "      <td>...</td>\n",
       "      <td>16</td>\n",
       "      <td>-1.313854</td>\n",
       "      <td>36.706867</td>\n",
       "      <td>1</td>\n",
       "      <td>-1 days +23:59:44.000000000</td>\n",
       "      <td>-1 days +23:33:49.000000000</td>\n",
       "      <td>-1 days +23:34:05.000000000</td>\n",
       "      <td>0</td>\n",
       "      <td>0</td>\n",
       "      <td>0</td>\n",
       "    </tr>\n",
       "    <tr>\n",
       "      <th>3</th>\n",
       "      <td>3</td>\n",
       "      <td>1</td>\n",
       "      <td>-1.0</td>\n",
       "      <td>1</td>\n",
       "      <td>1</td>\n",
       "      <td>1</td>\n",
       "      <td>My order is not ready.</td>\n",
       "      <td>1</td>\n",
       "      <td>1</td>\n",
       "      <td>2019-07-29 10:29:19</td>\n",
       "      <td>...</td>\n",
       "      <td>20</td>\n",
       "      <td>-1.206197</td>\n",
       "      <td>36.778776</td>\n",
       "      <td>1</td>\n",
       "      <td>NaN</td>\n",
       "      <td>-1 days +23:59:50.000000000</td>\n",
       "      <td>NaN</td>\n",
       "      <td>0</td>\n",
       "      <td>0</td>\n",
       "      <td>0</td>\n",
       "    </tr>\n",
       "    <tr>\n",
       "      <th>4</th>\n",
       "      <td>4</td>\n",
       "      <td>1</td>\n",
       "      <td>-1.0</td>\n",
       "      <td>1</td>\n",
       "      <td>2</td>\n",
       "      <td>2</td>\n",
       "      <td>No Partner</td>\n",
       "      <td>2</td>\n",
       "      <td>1</td>\n",
       "      <td>2019-07-29 14:34:05</td>\n",
       "      <td>...</td>\n",
       "      <td>11</td>\n",
       "      <td>-1.296958</td>\n",
       "      <td>36.808166</td>\n",
       "      <td>1</td>\n",
       "      <td>-1 days +23:34:57.000000000</td>\n",
       "      <td>-1 days +22:44:24.000000000</td>\n",
       "      <td>-1 days +23:09:27.000000000</td>\n",
       "      <td>0</td>\n",
       "      <td>0</td>\n",
       "      <td>0</td>\n",
       "    </tr>\n",
       "  </tbody>\n",
       "</table>\n",
       "<p>5 rows × 24 columns</p>\n",
       "</div>"
      ],
      "text/plain": [
       "   index personal_or_business  business_number vehicle_type  \\\n",
       "0      0                    1             -1.0            1   \n",
       "1      1                    1             -1.0            1   \n",
       "2      2                    2          20680.0            1   \n",
       "3      3                    1             -1.0            1   \n",
       "4      4                    1             -1.0            1   \n",
       "\n",
       "  standard_or_express platform                                cancel_reason  \\\n",
       "0                   1        1  No driver has been allocated to my request.   \n",
       "1                   1        1                       My order is not ready.   \n",
       "2                   1        1                I placed the wrong locations.   \n",
       "3                   1        1                       My order is not ready.   \n",
       "4                   2        2                                   No Partner   \n",
       "\n",
       "  cancelled_by  placement_day       placement_time  ...  distance_(km)  \\\n",
       "0            1              1  2019-07-29 17:55:38  ...              9   \n",
       "1            1              1  2019-07-29 12:26:27  ...             14   \n",
       "2            1              1  2019-07-29 13:21:18  ...             16   \n",
       "3            1              1  2019-07-29 10:29:19  ...             20   \n",
       "4            2              1  2019-07-29 14:34:05  ...             11   \n",
       "\n",
       "  pickup_lat  pickup_long scheduled              order_timedelta  \\\n",
       "0  -1.313053    36.841437         1                          NaN   \n",
       "1  -1.318959    36.853394         1  -1 days +23:58:51.000000000   \n",
       "2  -1.313854    36.706867         1  -1 days +23:59:44.000000000   \n",
       "3  -1.206197    36.778776         1                          NaN   \n",
       "4  -1.296958    36.808166         1  -1 days +23:34:57.000000000   \n",
       "\n",
       "          processing_timedelta       confirmation_timedelta order_period  \\\n",
       "0  -1 days +23:59:03.000000000                          NaN            0   \n",
       "1  -1 days +23:57:43.000000000  -1 days +23:58:52.000000000            0   \n",
       "2  -1 days +23:33:49.000000000  -1 days +23:34:05.000000000            0   \n",
       "3  -1 days +23:59:50.000000000                          NaN            0   \n",
       "4  -1 days +22:44:24.000000000  -1 days +23:09:27.000000000            0   \n",
       "\n",
       "  processing_period confirmation_period  \n",
       "0                 0                   0  \n",
       "1                 0                   0  \n",
       "2                 0                   0  \n",
       "3                 0                   0  \n",
       "4                 0                   0  \n",
       "\n",
       "[5 rows x 24 columns]"
      ]
     },
     "execution_count": 272,
     "metadata": {},
     "output_type": "execute_result"
    }
   ],
   "source": [
    "query_df.head()"
   ]
  },
  {
   "cell_type": "markdown",
   "metadata": {},
   "source": [
    "### Change timelines to pandas datetime"
   ]
  },
  {
   "cell_type": "code",
   "execution_count": 273,
   "metadata": {
    "ExecuteTime": {
     "end_time": "2019-07-29T12:52:28.090271Z",
     "start_time": "2019-07-29T12:52:28.070111Z"
    }
   },
   "outputs": [],
   "source": [
    "query_df['placement_time'] = pd.to_datetime(query_df['placement_time'])\n",
    "query_df['confirmation_time'] = pd.to_datetime(query_df['confirmation_time'])\n",
    "query_df['cancellation_time'] = pd.to_datetime(query_df['cancellation_time'])\n"
   ]
  },
  {
   "cell_type": "code",
   "execution_count": 274,
   "metadata": {
    "ExecuteTime": {
     "end_time": "2019-07-29T12:52:28.490116Z",
     "start_time": "2019-07-29T12:52:28.469266Z"
    }
   },
   "outputs": [
    {
     "name": "stdout",
     "output_type": "stream",
     "text": [
      "<class 'pandas.core.frame.DataFrame'>\n",
      "RangeIndex: 6393 entries, 0 to 6392\n",
      "Data columns (total 24 columns):\n",
      "index                     6393 non-null int64\n",
      "personal_or_business      6393 non-null object\n",
      "business_number           6393 non-null float64\n",
      "vehicle_type              6393 non-null object\n",
      "standard_or_express       6393 non-null object\n",
      "platform                  6393 non-null object\n",
      "cancel_reason             6393 non-null object\n",
      "cancelled_by              6393 non-null object\n",
      "placement_day             6393 non-null int64\n",
      "placement_time            6393 non-null datetime64[ns]\n",
      "confirmation_day          6393 non-null int64\n",
      "confirmation_time         2879 non-null datetime64[ns]\n",
      "cancellation_day          6393 non-null int64\n",
      "cancellation_time         6393 non-null datetime64[ns]\n",
      "distance_(km)             6393 non-null int64\n",
      "pickup_lat                6393 non-null float64\n",
      "pickup_long               6393 non-null float64\n",
      "scheduled                 6393 non-null object\n",
      "order_timedelta           2879 non-null object\n",
      "processing_timedelta      6393 non-null object\n",
      "confirmation_timedelta    2879 non-null object\n",
      "order_period              6393 non-null int64\n",
      "processing_period         6393 non-null int64\n",
      "confirmation_period       6393 non-null int64\n",
      "dtypes: datetime64[ns](3), float64(3), int64(8), object(10)\n",
      "memory usage: 1.2+ MB\n"
     ]
    }
   ],
   "source": [
    "query_df.info()"
   ]
  },
  {
   "cell_type": "markdown",
   "metadata": {},
   "source": [
    "## Split data"
   ]
  },
  {
   "cell_type": "code",
   "execution_count": 275,
   "metadata": {
    "ExecuteTime": {
     "end_time": "2019-07-29T12:52:29.353627Z",
     "start_time": "2019-07-29T12:52:29.348633Z"
    }
   },
   "outputs": [
    {
     "data": {
      "text/plain": [
       "Index(['index', 'personal_or_business', 'business_number', 'vehicle_type',\n",
       "       'standard_or_express', 'platform', 'cancel_reason', 'cancelled_by',\n",
       "       'placement_day', 'placement_time', 'confirmation_day',\n",
       "       'confirmation_time', 'cancellation_day', 'cancellation_time',\n",
       "       'distance_(km)', 'pickup_lat', 'pickup_long', 'scheduled',\n",
       "       'order_timedelta', 'processing_timedelta', 'confirmation_timedelta',\n",
       "       'order_period', 'processing_period', 'confirmation_period'],\n",
       "      dtype='object')"
      ]
     },
     "execution_count": 275,
     "metadata": {},
     "output_type": "execute_result"
    }
   ],
   "source": [
    "query_df.keys()"
   ]
  },
  {
   "cell_type": "code",
   "execution_count": 276,
   "metadata": {
    "ExecuteTime": {
     "end_time": "2019-07-29T12:52:29.925366Z",
     "start_time": "2019-07-29T12:52:29.915989Z"
    }
   },
   "outputs": [
    {
     "data": {
      "text/plain": [
       "Index(['personal_or_business', 'business_number', 'vehicle_type',\n",
       "       'standard_or_express', 'platform', 'cancel_reason', 'cancelled_by',\n",
       "       'placement_day', 'placement_time', 'confirmation_day',\n",
       "       'confirmation_time', 'cancellation_day', 'cancellation_time',\n",
       "       'distance_(km)', 'pickup_lat', 'pickup_long', 'scheduled'],\n",
       "      dtype='object')"
      ]
     },
     "execution_count": 276,
     "metadata": {},
     "output_type": "execute_result"
    }
   ],
   "source": [
    "test_df.keys()"
   ]
  },
  {
   "cell_type": "code",
   "execution_count": 277,
   "metadata": {
    "ExecuteTime": {
     "end_time": "2019-07-29T12:52:30.370544Z",
     "start_time": "2019-07-29T12:52:30.349350Z"
    }
   },
   "outputs": [],
   "source": [
    "import pandas as pd\n",
    "from sklearn import datasets, linear_model\n",
    "from sklearn.model_selection import train_test_split\n",
    "from matplotlib import pyplot as plt\n",
    "from sklearn import datasets, linear_model\n",
    "from sklearn.model_selection import train_test_split\n",
    "from matplotlib import pyplot as plt\n",
    "from sklearn.metrics import accuracy_score\n",
    "from sklearn.preprocessing import StandardScaler, PolynomialFeatures\n",
    "from sklearn.model_selection import train_test_split, GridSearchCV\n",
    "from sklearn.ensemble import RandomForestClassifier\n",
    "from sklearn.metrics import confusion_matrix\n",
    "from sklearn.externals import joblib\n",
    "\n",
    "\n",
    "#Choose the features which will be used for building the model\n",
    "columns = ['personal_or_business', 'business_number', 'vehicle_type',\n",
    "       'standard_or_express', 'platform', 'cancelled_by',\n",
    "       'placement_day', 'confirmation_day', 'cancellation_day',\n",
    "       'distance_(km)', 'pickup_lat', 'pickup_long', 'scheduled']\n",
    "\n",
    "holdout = test_df # from now on we will refer to this\n",
    "               # dataframe as the holdout data\n",
    "X = query_df[columns]\n",
    "y = y_train_ohe\n",
    "\n",
    "X_train, X_test, y_train, y_test = train_test_split(X, y, test_size=0.20,random_state=0)"
   ]
  },
  {
   "cell_type": "markdown",
   "metadata": {
    "ExecuteTime": {
     "end_time": "2019-07-29T12:00:05.135028Z",
     "start_time": "2019-07-29T12:00:05.129326Z"
    }
   },
   "source": [
    "**In this case, since we are predicting multiple values, we need to use the multiclass classification using\n",
    "using Random Forest on Scikit-Learn Library**\n"
   ]
  },
  {
   "cell_type": "markdown",
   "metadata": {
    "ExecuteTime": {
     "end_time": "2019-07-29T10:44:34.299090Z",
     "start_time": "2019-07-29T10:44:34.291012Z"
    }
   },
   "source": [
    "## Feature Scaling"
   ]
  },
  {
   "cell_type": "code",
   "execution_count": 278,
   "metadata": {
    "ExecuteTime": {
     "end_time": "2019-07-29T12:52:32.127589Z",
     "start_time": "2019-07-29T12:52:32.104211Z"
    }
   },
   "outputs": [
    {
     "name": "stderr",
     "output_type": "stream",
     "text": [
      "/home/dancilla/PYTHON_37/lib/python3.6/site-packages/sklearn/preprocessing/data.py:625: DataConversionWarning: Data with input dtype int64, float64, object were all converted to float64 by StandardScaler.\n",
      "  return self.partial_fit(X, y)\n",
      "/home/dancilla/PYTHON_37/lib/python3.6/site-packages/sklearn/base.py:462: DataConversionWarning: Data with input dtype int64, float64, object were all converted to float64 by StandardScaler.\n",
      "  return self.fit(X, **fit_params).transform(X)\n",
      "/home/dancilla/PYTHON_37/lib/python3.6/site-packages/ipykernel_launcher.py:4: DataConversionWarning: Data with input dtype int64, float64, object were all converted to float64 by StandardScaler.\n",
      "  after removing the cwd from sys.path.\n"
     ]
    }
   ],
   "source": [
    "# Feature Scaling\n",
    "scaler = StandardScaler()\n",
    "X_train = scaler.fit_transform(X_train)\n",
    "X_test = scaler.transform(X_test)"
   ]
  },
  {
   "cell_type": "markdown",
   "metadata": {},
   "source": [
    "## Training the model"
   ]
  },
  {
   "cell_type": "markdown",
   "metadata": {},
   "source": [
    "### Random forest classifier"
   ]
  },
  {
   "cell_type": "code",
   "execution_count": 279,
   "metadata": {
    "ExecuteTime": {
     "end_time": "2019-07-29T12:52:34.845301Z",
     "start_time": "2019-07-29T12:52:34.349175Z"
    }
   },
   "outputs": [
    {
     "name": "stdout",
     "output_type": "stream",
     "text": [
      "The accuracy of the Random Classifier is 0.1563721657544957\n"
     ]
    }
   ],
   "source": [
    "# Fitting Random Forest Classification to the Training set\n",
    "\n",
    "clf = RandomForestClassifier(n_estimators=100, max_depth=2, random_state=0)\n",
    "clf.fit(X_train, y_train)  \n",
    "prediction=clf.predict(X_test)\n",
    "print('The accuracy of the Random Classifier is', metrics.accuracy_score(prediction,y_test))"
   ]
  },
  {
   "cell_type": "markdown",
   "metadata": {},
   "source": [
    "## evaluation of classification perfomance"
   ]
  },
  {
   "cell_type": "code",
   "execution_count": 282,
   "metadata": {
    "ExecuteTime": {
     "end_time": "2019-07-29T12:53:37.565310Z",
     "start_time": "2019-07-29T12:53:37.543281Z"
    }
   },
   "outputs": [
    {
     "name": "stdout",
     "output_type": "stream",
     "text": [
      "The precision score of the Random Classifier is 0.16713142120039456\n",
      "The recall score of the Random Classifier is 0.05846422338568935\n",
      "The F1 score of the Random Classifier is 0.08662586338273973\n"
     ]
    },
    {
     "name": "stderr",
     "output_type": "stream",
     "text": [
      "/home/dancilla/PYTHON_37/lib/python3.6/site-packages/sklearn/metrics/classification.py:1143: UndefinedMetricWarning: Precision is ill-defined and being set to 0.0 in labels with no predicted samples.\n",
      "  'precision', 'predicted', average, warn_for)\n",
      "/home/dancilla/PYTHON_37/lib/python3.6/site-packages/sklearn/metrics/classification.py:1145: UndefinedMetricWarning: Recall is ill-defined and being set to 0.0 in labels with no true samples.\n",
      "  'recall', 'true', average, warn_for)\n",
      "/home/dancilla/PYTHON_37/lib/python3.6/site-packages/sklearn/metrics/classification.py:1143: UndefinedMetricWarning: F-score is ill-defined and being set to 0.0 in labels with no predicted samples.\n",
      "  'precision', 'predicted', average, warn_for)\n",
      "/home/dancilla/PYTHON_37/lib/python3.6/site-packages/sklearn/metrics/classification.py:1145: UndefinedMetricWarning: F-score is ill-defined and being set to 0.0 in labels with no true samples.\n",
      "  'recall', 'true', average, warn_for)\n"
     ]
    }
   ],
   "source": [
    "#check the perfomance of the model by using f1_score, precision_score, recall_score, \n",
    "from sklearn.metrics import f1_score, precision_score, recall_score, classification_report\n",
    "\n",
    "print ('The precision score of the Random Classifier is', precision_score(y_test, prediction, average='weighted'))\n",
    "print ('The recall score of the Random Classifier is', recall_score(y_test, prediction, average='weighted'))\n",
    "print ('The F1 score of the Random Classifier is', f1_score(y_test, prediction, average='weighted'))\n",
    "\n"
   ]
  },
  {
   "cell_type": "code",
   "execution_count": 285,
   "metadata": {
    "ExecuteTime": {
     "end_time": "2019-07-29T12:55:51.125909Z",
     "start_time": "2019-07-29T12:55:51.120730Z"
    }
   },
   "outputs": [
    {
     "data": {
      "text/plain": [
       "Index(['personal_or_business', 'business_number', 'vehicle_type',\n",
       "       'standard_or_express', 'platform', 'cancel_reason', 'cancelled_by',\n",
       "       'placement_day', 'placement_time', 'confirmation_day',\n",
       "       'confirmation_time', 'cancellation_day', 'cancellation_time',\n",
       "       'distance_(km)', 'pickup_lat', 'pickup_long', 'scheduled'],\n",
       "      dtype='object')"
      ]
     },
     "execution_count": 285,
     "metadata": {},
     "output_type": "execute_result"
    }
   ],
   "source": [
    "holdout.columns"
   ]
  },
  {
   "cell_type": "code",
   "execution_count": 286,
   "metadata": {
    "ExecuteTime": {
     "end_time": "2019-07-29T12:57:14.265872Z",
     "start_time": "2019-07-29T12:57:14.244664Z"
    }
   },
   "outputs": [],
   "source": [
    "#Choose the features which will be used for building the model\n",
    "columns = ['personal_or_business', 'business_number', 'vehicle_type',\n",
    "       'standard_or_express', 'platform', 'cancelled_by',\n",
    "       'placement_day', 'confirmation_day', 'cancellation_day',\n",
    "       'distance_(km)', 'pickup_lat', 'pickup_long', 'scheduled']\n",
    "holdout=holdout[columns]"
   ]
  },
  {
   "cell_type": "code",
   "execution_count": 287,
   "metadata": {
    "ExecuteTime": {
     "end_time": "2019-07-29T12:57:25.039737Z",
     "start_time": "2019-07-29T12:57:25.011755Z"
    }
   },
   "outputs": [
    {
     "data": {
      "text/html": [
       "<div>\n",
       "<style scoped>\n",
       "    .dataframe tbody tr th:only-of-type {\n",
       "        vertical-align: middle;\n",
       "    }\n",
       "\n",
       "    .dataframe tbody tr th {\n",
       "        vertical-align: top;\n",
       "    }\n",
       "\n",
       "    .dataframe thead th {\n",
       "        text-align: right;\n",
       "    }\n",
       "</style>\n",
       "<table border=\"1\" class=\"dataframe\">\n",
       "  <thead>\n",
       "    <tr style=\"text-align: right;\">\n",
       "      <th></th>\n",
       "      <th>personal_or_business</th>\n",
       "      <th>business_number</th>\n",
       "      <th>vehicle_type</th>\n",
       "      <th>standard_or_express</th>\n",
       "      <th>platform</th>\n",
       "      <th>cancelled_by</th>\n",
       "      <th>placement_day</th>\n",
       "      <th>confirmation_day</th>\n",
       "      <th>cancellation_day</th>\n",
       "      <th>distance_(km)</th>\n",
       "      <th>pickup_lat</th>\n",
       "      <th>pickup_long</th>\n",
       "      <th>scheduled</th>\n",
       "    </tr>\n",
       "  </thead>\n",
       "  <tbody>\n",
       "    <tr>\n",
       "      <th>0</th>\n",
       "      <td>Personal</td>\n",
       "      <td>-1.0</td>\n",
       "      <td>Bike</td>\n",
       "      <td>Express</td>\n",
       "      <td>ios</td>\n",
       "      <td>Customer</td>\n",
       "      <td>1</td>\n",
       "      <td>1</td>\n",
       "      <td>1</td>\n",
       "      <td>4</td>\n",
       "      <td>-1.299370</td>\n",
       "      <td>36.822107</td>\n",
       "      <td>OnDemAND</td>\n",
       "    </tr>\n",
       "    <tr>\n",
       "      <th>1</th>\n",
       "      <td>Business</td>\n",
       "      <td>20680.0</td>\n",
       "      <td>Bike</td>\n",
       "      <td>Express</td>\n",
       "      <td>desktop</td>\n",
       "      <td>Staff</td>\n",
       "      <td>1</td>\n",
       "      <td>1</td>\n",
       "      <td>1</td>\n",
       "      <td>17</td>\n",
       "      <td>-1.264490</td>\n",
       "      <td>36.789303</td>\n",
       "      <td>OnDemAND</td>\n",
       "    </tr>\n",
       "    <tr>\n",
       "      <th>2</th>\n",
       "      <td>Business</td>\n",
       "      <td>17968.0</td>\n",
       "      <td>Bike</td>\n",
       "      <td>Express</td>\n",
       "      <td>desktop</td>\n",
       "      <td>Customer</td>\n",
       "      <td>1</td>\n",
       "      <td>1</td>\n",
       "      <td>1</td>\n",
       "      <td>18</td>\n",
       "      <td>-1.427056</td>\n",
       "      <td>36.961499</td>\n",
       "      <td>OnDemAND</td>\n",
       "    </tr>\n",
       "    <tr>\n",
       "      <th>3</th>\n",
       "      <td>Personal</td>\n",
       "      <td>-1.0</td>\n",
       "      <td>Bike</td>\n",
       "      <td>Standard</td>\n",
       "      <td>android</td>\n",
       "      <td>Customer</td>\n",
       "      <td>1</td>\n",
       "      <td>1</td>\n",
       "      <td>1</td>\n",
       "      <td>8</td>\n",
       "      <td>-1.301737</td>\n",
       "      <td>36.743936</td>\n",
       "      <td>OnDemAND</td>\n",
       "    </tr>\n",
       "    <tr>\n",
       "      <th>4</th>\n",
       "      <td>Personal</td>\n",
       "      <td>-1.0</td>\n",
       "      <td>Bike</td>\n",
       "      <td>Standard</td>\n",
       "      <td>android</td>\n",
       "      <td>Staff</td>\n",
       "      <td>1</td>\n",
       "      <td>1</td>\n",
       "      <td>1</td>\n",
       "      <td>13</td>\n",
       "      <td>-1.308098</td>\n",
       "      <td>36.920464</td>\n",
       "      <td>Scheduled</td>\n",
       "    </tr>\n",
       "  </tbody>\n",
       "</table>\n",
       "</div>"
      ],
      "text/plain": [
       "  personal_or_business  business_number vehicle_type standard_or_express  \\\n",
       "0             Personal             -1.0         Bike             Express   \n",
       "1             Business          20680.0         Bike             Express   \n",
       "2             Business          17968.0         Bike             Express   \n",
       "3             Personal             -1.0         Bike            Standard   \n",
       "4             Personal             -1.0         Bike            Standard   \n",
       "\n",
       "  platform cancelled_by  placement_day  confirmation_day  cancellation_day  \\\n",
       "0      ios     Customer              1                 1                 1   \n",
       "1  desktop        Staff              1                 1                 1   \n",
       "2  desktop     Customer              1                 1                 1   \n",
       "3  android     Customer              1                 1                 1   \n",
       "4  android        Staff              1                 1                 1   \n",
       "\n",
       "   distance_(km)  pickup_lat  pickup_long  scheduled  \n",
       "0              4   -1.299370    36.822107   OnDemAND  \n",
       "1             17   -1.264490    36.789303   OnDemAND  \n",
       "2             18   -1.427056    36.961499   OnDemAND  \n",
       "3              8   -1.301737    36.743936   OnDemAND  \n",
       "4             13   -1.308098    36.920464  Scheduled  "
      ]
     },
     "execution_count": 287,
     "metadata": {},
     "output_type": "execute_result"
    }
   ],
   "source": [
    "holdout.head()"
   ]
  },
  {
   "cell_type": "markdown",
   "metadata": {},
   "source": [
    "## Assign numbers for string features on the holdout dataset"
   ]
  },
  {
   "cell_type": "code",
   "execution_count": 288,
   "metadata": {
    "ExecuteTime": {
     "end_time": "2019-07-29T13:00:55.424413Z",
     "start_time": "2019-07-29T13:00:55.409048Z"
    }
   },
   "outputs": [
    {
     "name": "stderr",
     "output_type": "stream",
     "text": [
      "/home/dancilla/PYTHON_37/lib/python3.6/site-packages/ipykernel_launcher.py:3: SettingWithCopyWarning: \n",
      "A value is trying to be set on a copy of a slice from a DataFrame\n",
      "\n",
      "See the caveats in the documentation: http://pandas.pydata.org/pandas-docs/stable/user_guide/indexing.html#returning-a-view-versus-a-copy\n",
      "  This is separate from the ipykernel package so we can avoid doing imports until\n",
      "/home/dancilla/PYTHON_37/lib/python3.6/site-packages/pandas/core/generic.py:9116: SettingWithCopyWarning: \n",
      "A value is trying to be set on a copy of a slice from a DataFrame\n",
      "\n",
      "See the caveats in the documentation: http://pandas.pydata.org/pandas-docs/stable/user_guide/indexing.html#returning-a-view-versus-a-copy\n",
      "  self._update_inplace(new_data)\n",
      "/home/dancilla/PYTHON_37/lib/python3.6/site-packages/IPython/core/interactiveshell.py:3267: SettingWithCopyWarning: \n",
      "A value is trying to be set on a copy of a slice from a DataFrame\n",
      "\n",
      "See the caveats in the documentation: http://pandas.pydata.org/pandas-docs/stable/user_guide/indexing.html#returning-a-view-versus-a-copy\n",
      "  exec(code_obj, self.user_global_ns, self.user_ns)\n",
      "/home/dancilla/PYTHON_37/lib/python3.6/site-packages/ipykernel_launcher.py:4: SettingWithCopyWarning: \n",
      "A value is trying to be set on a copy of a slice from a DataFrame\n",
      "\n",
      "See the caveats in the documentation: http://pandas.pydata.org/pandas-docs/stable/user_guide/indexing.html#returning-a-view-versus-a-copy\n",
      "  after removing the cwd from sys.path.\n"
     ]
    }
   ],
   "source": [
    "# traversing through personal or business orders \n",
    "# column of dataFrame and writing values where  condition matches. \n",
    "holdout['personal_or_business'][holdout['personal_or_business'] == 'Personal'] = 1\n",
    "holdout['personal_or_business'][holdout['personal_or_business'] == 'Business'] = 2\n"
   ]
  },
  {
   "cell_type": "code",
   "execution_count": 289,
   "metadata": {
    "ExecuteTime": {
     "end_time": "2019-07-29T13:00:56.297575Z",
     "start_time": "2019-07-29T13:00:56.283403Z"
    }
   },
   "outputs": [
    {
     "name": "stderr",
     "output_type": "stream",
     "text": [
      "/home/dancilla/PYTHON_37/lib/python3.6/site-packages/ipykernel_launcher.py:3: SettingWithCopyWarning: \n",
      "A value is trying to be set on a copy of a slice from a DataFrame\n",
      "\n",
      "See the caveats in the documentation: http://pandas.pydata.org/pandas-docs/stable/user_guide/indexing.html#returning-a-view-versus-a-copy\n",
      "  This is separate from the ipykernel package so we can avoid doing imports until\n",
      "/home/dancilla/PYTHON_37/lib/python3.6/site-packages/ipykernel_launcher.py:4: SettingWithCopyWarning: \n",
      "A value is trying to be set on a copy of a slice from a DataFrame\n",
      "\n",
      "See the caveats in the documentation: http://pandas.pydata.org/pandas-docs/stable/user_guide/indexing.html#returning-a-view-versus-a-copy\n",
      "  after removing the cwd from sys.path.\n"
     ]
    }
   ],
   "source": [
    "# traversing through personal or business orders \n",
    "# column of dataFrame and writing values where  condition matches. \n",
    "holdout['personal_or_business'][holdout['personal_or_business'] == 'Personal'] = 1\n",
    "holdout['personal_or_business'][holdout['personal_or_business'] == 'Business'] = 2\n"
   ]
  },
  {
   "cell_type": "code",
   "execution_count": 290,
   "metadata": {
    "ExecuteTime": {
     "end_time": "2019-07-29T13:00:56.928282Z",
     "start_time": "2019-07-29T13:00:56.916178Z"
    }
   },
   "outputs": [
    {
     "name": "stderr",
     "output_type": "stream",
     "text": [
      "/home/dancilla/PYTHON_37/lib/python3.6/site-packages/ipykernel_launcher.py:3: SettingWithCopyWarning: \n",
      "A value is trying to be set on a copy of a slice from a DataFrame\n",
      "\n",
      "See the caveats in the documentation: http://pandas.pydata.org/pandas-docs/stable/user_guide/indexing.html#returning-a-view-versus-a-copy\n",
      "  This is separate from the ipykernel package so we can avoid doing imports until\n",
      "/home/dancilla/PYTHON_37/lib/python3.6/site-packages/ipykernel_launcher.py:4: SettingWithCopyWarning: \n",
      "A value is trying to be set on a copy of a slice from a DataFrame\n",
      "\n",
      "See the caveats in the documentation: http://pandas.pydata.org/pandas-docs/stable/user_guide/indexing.html#returning-a-view-versus-a-copy\n",
      "  after removing the cwd from sys.path.\n"
     ]
    }
   ],
   "source": [
    "# traversing through types of order \n",
    "# column of dataFrame and writing values where  condition matches. \n",
    "holdout['standard_or_express'][holdout['standard_or_express'] == 'Express'] = 1\n",
    "holdout['standard_or_express'][holdout['standard_or_express'] == 'Standard'] = 2\n"
   ]
  },
  {
   "cell_type": "code",
   "execution_count": 295,
   "metadata": {
    "ExecuteTime": {
     "end_time": "2019-07-29T13:02:38.681385Z",
     "start_time": "2019-07-29T13:02:38.666174Z"
    }
   },
   "outputs": [
    {
     "name": "stderr",
     "output_type": "stream",
     "text": [
      "/home/dancilla/PYTHON_37/lib/python3.6/site-packages/ipykernel_launcher.py:3: SettingWithCopyWarning: \n",
      "A value is trying to be set on a copy of a slice from a DataFrame\n",
      "\n",
      "See the caveats in the documentation: http://pandas.pydata.org/pandas-docs/stable/user_guide/indexing.html#returning-a-view-versus-a-copy\n",
      "  This is separate from the ipykernel package so we can avoid doing imports until\n",
      "/home/dancilla/PYTHON_37/lib/python3.6/site-packages/pandas/core/generic.py:9116: SettingWithCopyWarning: \n",
      "A value is trying to be set on a copy of a slice from a DataFrame\n",
      "\n",
      "See the caveats in the documentation: http://pandas.pydata.org/pandas-docs/stable/user_guide/indexing.html#returning-a-view-versus-a-copy\n",
      "  self._update_inplace(new_data)\n",
      "/home/dancilla/PYTHON_37/lib/python3.6/site-packages/IPython/core/interactiveshell.py:3267: SettingWithCopyWarning: \n",
      "A value is trying to be set on a copy of a slice from a DataFrame\n",
      "\n",
      "See the caveats in the documentation: http://pandas.pydata.org/pandas-docs/stable/user_guide/indexing.html#returning-a-view-versus-a-copy\n",
      "  exec(code_obj, self.user_global_ns, self.user_ns)\n",
      "/home/dancilla/PYTHON_37/lib/python3.6/site-packages/ipykernel_launcher.py:4: SettingWithCopyWarning: \n",
      "A value is trying to be set on a copy of a slice from a DataFrame\n",
      "\n",
      "See the caveats in the documentation: http://pandas.pydata.org/pandas-docs/stable/user_guide/indexing.html#returning-a-view-versus-a-copy\n",
      "  after removing the cwd from sys.path.\n"
     ]
    }
   ],
   "source": [
    "# traversing through types of vehicles \n",
    "# column of dataFrame and writing values where  condition matches. \n",
    "holdout['vehicle_type'][holdout['vehicle_type'] == 'Bike'] = 1\n",
    "holdout['vehicle_type'][holdout['vehicle_type'] == 'Standard Bike'] = 2"
   ]
  },
  {
   "cell_type": "code",
   "execution_count": 296,
   "metadata": {
    "ExecuteTime": {
     "end_time": "2019-07-29T13:02:39.051148Z",
     "start_time": "2019-07-29T13:02:39.037486Z"
    }
   },
   "outputs": [
    {
     "name": "stderr",
     "output_type": "stream",
     "text": [
      "/home/dancilla/PYTHON_37/lib/python3.6/site-packages/ipykernel_launcher.py:3: SettingWithCopyWarning: \n",
      "A value is trying to be set on a copy of a slice from a DataFrame\n",
      "\n",
      "See the caveats in the documentation: http://pandas.pydata.org/pandas-docs/stable/user_guide/indexing.html#returning-a-view-versus-a-copy\n",
      "  This is separate from the ipykernel package so we can avoid doing imports until\n",
      "/home/dancilla/PYTHON_37/lib/python3.6/site-packages/ipykernel_launcher.py:4: SettingWithCopyWarning: \n",
      "A value is trying to be set on a copy of a slice from a DataFrame\n",
      "\n",
      "See the caveats in the documentation: http://pandas.pydata.org/pandas-docs/stable/user_guide/indexing.html#returning-a-view-versus-a-copy\n",
      "  after removing the cwd from sys.path.\n"
     ]
    }
   ],
   "source": [
    "# traversing through who cancelled the orders\n",
    "# column of dataFrame and writing values where  condition matches. \n",
    "holdout['cancelled_by'][holdout['cancelled_by'] == 'Customer'] = 1\n",
    "holdout['cancelled_by'][holdout['cancelled_by'] == 'Staff'] = 2\n"
   ]
  },
  {
   "cell_type": "code",
   "execution_count": 297,
   "metadata": {
    "ExecuteTime": {
     "end_time": "2019-07-29T13:02:39.825250Z",
     "start_time": "2019-07-29T13:02:39.810796Z"
    }
   },
   "outputs": [
    {
     "name": "stderr",
     "output_type": "stream",
     "text": [
      "/home/dancilla/PYTHON_37/lib/python3.6/site-packages/ipykernel_launcher.py:3: SettingWithCopyWarning: \n",
      "A value is trying to be set on a copy of a slice from a DataFrame\n",
      "\n",
      "See the caveats in the documentation: http://pandas.pydata.org/pandas-docs/stable/user_guide/indexing.html#returning-a-view-versus-a-copy\n",
      "  This is separate from the ipykernel package so we can avoid doing imports until\n",
      "/home/dancilla/PYTHON_37/lib/python3.6/site-packages/ipykernel_launcher.py:4: SettingWithCopyWarning: \n",
      "A value is trying to be set on a copy of a slice from a DataFrame\n",
      "\n",
      "See the caveats in the documentation: http://pandas.pydata.org/pandas-docs/stable/user_guide/indexing.html#returning-a-view-versus-a-copy\n",
      "  after removing the cwd from sys.path.\n"
     ]
    }
   ],
   "source": [
    "# traversing through types of indication of whether order was on demand or scheduled\n",
    "# column of dataFrame and writing values where  condition matches. \n",
    "holdout['scheduled'][holdout['scheduled'] == 'OnDemAND'] = 1\n",
    "holdout['scheduled'][holdout['scheduled'] == 'Scheduled'] = 2\n"
   ]
  },
  {
   "cell_type": "code",
   "execution_count": 298,
   "metadata": {
    "ExecuteTime": {
     "end_time": "2019-07-29T13:02:40.174914Z",
     "start_time": "2019-07-29T13:02:40.146968Z"
    }
   },
   "outputs": [
    {
     "name": "stderr",
     "output_type": "stream",
     "text": [
      "/home/dancilla/PYTHON_37/lib/python3.6/site-packages/ipykernel_launcher.py:3: SettingWithCopyWarning: \n",
      "A value is trying to be set on a copy of a slice from a DataFrame\n",
      "\n",
      "See the caveats in the documentation: http://pandas.pydata.org/pandas-docs/stable/user_guide/indexing.html#returning-a-view-versus-a-copy\n",
      "  This is separate from the ipykernel package so we can avoid doing imports until\n",
      "/home/dancilla/PYTHON_37/lib/python3.6/site-packages/ipykernel_launcher.py:4: SettingWithCopyWarning: \n",
      "A value is trying to be set on a copy of a slice from a DataFrame\n",
      "\n",
      "See the caveats in the documentation: http://pandas.pydata.org/pandas-docs/stable/user_guide/indexing.html#returning-a-view-versus-a-copy\n",
      "  after removing the cwd from sys.path.\n",
      "/home/dancilla/PYTHON_37/lib/python3.6/site-packages/ipykernel_launcher.py:5: SettingWithCopyWarning: \n",
      "A value is trying to be set on a copy of a slice from a DataFrame\n",
      "\n",
      "See the caveats in the documentation: http://pandas.pydata.org/pandas-docs/stable/user_guide/indexing.html#returning-a-view-versus-a-copy\n",
      "  \"\"\"\n",
      "/home/dancilla/PYTHON_37/lib/python3.6/site-packages/ipykernel_launcher.py:6: SettingWithCopyWarning: \n",
      "A value is trying to be set on a copy of a slice from a DataFrame\n",
      "\n",
      "See the caveats in the documentation: http://pandas.pydata.org/pandas-docs/stable/user_guide/indexing.html#returning-a-view-versus-a-copy\n",
      "  \n",
      "/home/dancilla/PYTHON_37/lib/python3.6/site-packages/ipykernel_launcher.py:7: SettingWithCopyWarning: \n",
      "A value is trying to be set on a copy of a slice from a DataFrame\n",
      "\n",
      "See the caveats in the documentation: http://pandas.pydata.org/pandas-docs/stable/user_guide/indexing.html#returning-a-view-versus-a-copy\n",
      "  import sys\n"
     ]
    }
   ],
   "source": [
    "# traversing through types of platforms used \n",
    "# column of dataFrame and writing values where  condition matches. \n",
    "holdout['platform'][holdout['platform'] == 'android'] = 1\n",
    "holdout['platform'][holdout['platform'] == 'ios'] = 2\n",
    "holdout['platform'][holdout['platform'] == 'desktop'] = 3\n",
    "holdout['platform'][holdout['platform'] == 'API'] = 4\n",
    "holdout['platform'][holdout['platform'] == 'peer_web'] = 5\n"
   ]
  },
  {
   "cell_type": "code",
   "execution_count": 299,
   "metadata": {
    "ExecuteTime": {
     "end_time": "2019-07-29T13:02:41.289400Z",
     "start_time": "2019-07-29T13:02:40.825690Z"
    }
   },
   "outputs": [],
   "source": [
    "clf = RandomForestClassifier(n_estimators=100, max_depth=2, random_state=0)\n",
    "clf.fit(X_train, y_train) \n",
    "holdout_predictions = clf.predict(holdout[columns])"
   ]
  },
  {
   "cell_type": "code",
   "execution_count": 318,
   "metadata": {
    "ExecuteTime": {
     "end_time": "2019-07-29T13:12:55.172315Z",
     "start_time": "2019-07-29T13:12:55.166176Z"
    }
   },
   "outputs": [
    {
     "ename": "SyntaxError",
     "evalue": "invalid syntax (<ipython-input-318-428c5d1f2efd>, line 1)",
     "output_type": "error",
     "traceback": [
      "\u001b[0;36m  File \u001b[0;32m\"<ipython-input-318-428c5d1f2efd>\"\u001b[0;36m, line \u001b[0;32m1\u001b[0m\n\u001b[0;31m    submission_df = (holdout.cancel_reason : holdout_predictions)\u001b[0m\n\u001b[0m                                           ^\u001b[0m\n\u001b[0;31mSyntaxError\u001b[0m\u001b[0;31m:\u001b[0m invalid syntax\n"
     ]
    }
   ],
   "source": [
    "submission_df = (holdout.cancel_reason : holdout_predictions)\n",
    "submission = pd.DataFrame(submission_df)\n",
    "submission.to_csv(\"submission11.csv\",index=False)"
   ]
  },
  {
   "cell_type": "code",
   "execution_count": null,
   "metadata": {},
   "outputs": [],
   "source": []
  },
  {
   "cell_type": "code",
   "execution_count": null,
   "metadata": {},
   "outputs": [],
   "source": []
  }
 ],
 "metadata": {
  "kernelspec": {
   "display_name": "Python 3",
   "language": "python",
   "name": "python3"
  },
  "language_info": {
   "codemirror_mode": {
    "name": "ipython",
    "version": 3
   },
   "file_extension": ".py",
   "mimetype": "text/x-python",
   "name": "python",
   "nbconvert_exporter": "python",
   "pygments_lexer": "ipython3",
   "version": "3.6.5"
  },
  "toc": {
   "base_numbering": 1,
   "nav_menu": {},
   "number_sections": true,
   "sideBar": true,
   "skip_h1_title": false,
   "title_cell": "Table of Contents",
   "title_sidebar": "Contents",
   "toc_cell": false,
   "toc_position": {},
   "toc_section_display": true,
   "toc_window_display": false
  }
 },
 "nbformat": 4,
 "nbformat_minor": 2
}
