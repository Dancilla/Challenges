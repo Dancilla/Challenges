{
 "cells": [
  {
   "cell_type": "markdown",
   "metadata": {},
   "source": [
    "# Problem Statement"
   ]
  },
  {
   "cell_type": "markdown",
   "metadata": {},
   "source": [
    "**Data Analysis case study**\n",
    "\n",
    "I am working on a logistic problem where they have faced cancellation of orders in their deliveries. \n",
    "Their main goal is to be the 1st prefered delivery partner in Africa.\n",
    "\n",
    "Main objective is partnership, bringing together both drivers and businesses for the 24hr delivery services.\n",
    "\n",
    "**Challenge 1**\n",
    "1. Analyse order cancellations\n",
    "2. visualize most important aspects using your prefered method.\n",
    "3. document steps \n",
    "4. Insights on how to reduce number of cancelled orders.\n",
    "\n",
    "**Challenge 2**\n",
    "\n",
    "-There's been deliberate deletion of data\n",
    "1. Use the data 2, missed data to predict cancellation reasons for all orders with missing data.\n",
    "2. Document steps and method used.\n",
    "\n",
    "**Challenge 3**\n",
    "\n",
    "create a presentation for the relevant work done."
   ]
  },
  {
   "cell_type": "markdown",
   "metadata": {},
   "source": [
    "# Import Packages"
   ]
  },
  {
   "cell_type": "code",
   "execution_count": 1,
   "metadata": {
    "ExecuteTime": {
     "end_time": "2019-07-26T12:39:06.386512Z",
     "start_time": "2019-07-26T12:39:05.405237Z"
    }
   },
   "outputs": [],
   "source": [
    "##for faster data processing\n",
    "import numba as nb\n",
    "import dask as da\n",
    "\n",
    "#for data manipulation \n",
    "import pandas as pd\n",
    "import numpy as np\n",
    "\n",
    "##for data visualizations and distributions of the variables\n",
    "import matplotlib as mtb\n",
    "import matplotlib.pyplot as plt\n",
    "from pandas_summary import DataFrameSummary\n",
    "import scipy as sc\n",
    "import sklearn as skl"
   ]
  },
  {
   "cell_type": "markdown",
   "metadata": {},
   "source": [
    "# Import datasets"
   ]
  },
  {
   "cell_type": "code",
   "execution_count": null,
   "metadata": {},
   "outputs": [],
   "source": []
  },
  {
   "cell_type": "code",
   "execution_count": null,
   "metadata": {},
   "outputs": [],
   "source": []
  }
 ],
 "metadata": {
  "kernelspec": {
   "display_name": "Python 3",
   "language": "python",
   "name": "python3"
  },
  "language_info": {
   "codemirror_mode": {
    "name": "ipython",
    "version": 3
   },
   "file_extension": ".py",
   "mimetype": "text/x-python",
   "name": "python",
   "nbconvert_exporter": "python",
   "pygments_lexer": "ipython3",
   "version": "3.6.5"
  },
  "toc": {
   "base_numbering": 1,
   "nav_menu": {},
   "number_sections": true,
   "sideBar": true,
   "skip_h1_title": false,
   "title_cell": "Table of Contents",
   "title_sidebar": "Contents",
   "toc_cell": false,
   "toc_position": {},
   "toc_section_display": true,
   "toc_window_display": false
  }
 },
 "nbformat": 4,
 "nbformat_minor": 2
}
