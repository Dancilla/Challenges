{
 "cells": [
  {
   "cell_type": "markdown",
   "metadata": {},
   "source": [
    "# Problem Statement"
   ]
  },
  {
   "cell_type": "markdown",
   "metadata": {},
   "source": [
    "**Data Analysis case study**\n",
    "\n",
    "I am working on a logistic problem where they have faced cancellation of orders in their deliveries. \n",
    "Their main goal is to be the 1st prefered delivery partner in Africa.\n",
    "\n",
    "Main objective is partnership, bringing together both drivers and businesses for the 24hr delivery services.\n",
    "\n",
    "**Challenge 1**\n",
    "1. Analyse order cancellations\n",
    "2. visualize most important aspects using your prefered method.\n",
    "3. document steps \n",
    "4. Insights on how to reduce number of cancelled orders.\n",
    "\n",
    "**Challenge 2**\n",
    "\n",
    "-There's been deliberate deletion of data\n",
    "1. Use the data 2, missed data to predict cancellation reasons for all orders with missing data.\n",
    "2. Document steps and method used.\n",
    "\n",
    "**Challenge 3**\n",
    "\n",
    "create a presentation for the relevant work done."
   ]
  },
  {
   "cell_type": "markdown",
   "metadata": {},
   "source": [
    "# Import Packages"
   ]
  },
  {
   "cell_type": "code",
   "execution_count": 52,
   "metadata": {
    "ExecuteTime": {
     "end_time": "2019-07-27T16:47:05.593777Z",
     "start_time": "2019-07-27T16:47:03.784205Z"
    }
   },
   "outputs": [],
   "source": [
    "##for faster data processing\n",
    "import numba as nb\n",
    "import dask as da\n",
    "\n",
    "#for data manipulation \n",
    "import pandas as pd\n",
    "import numpy as np\n",
    "\n",
    "##for data visualizations and distributions of the variables\n",
    "import matplotlib as mtb\n",
    "import matplotlib.pyplot as plt\n",
    "from pandas_summary import DataFrameSummary\n",
    "import scipy as sc\n",
    "import sklearn as skl\n",
    "import seaborn as sns\n",
    "\n",
    "%matplotlib inline"
   ]
  },
  {
   "cell_type": "markdown",
   "metadata": {},
   "source": [
    "# Import datasets"
   ]
  },
  {
   "cell_type": "code",
   "execution_count": 32,
   "metadata": {
    "ExecuteTime": {
     "end_time": "2019-07-27T16:32:41.791942Z",
     "start_time": "2019-07-27T16:32:41.749075Z"
    }
   },
   "outputs": [],
   "source": [
    "query_df = pd.read_csv('../Sendy_data/analysis_df.csv', sep=',')\n",
    "test_df = pd.read_csv('../Sendy_data/test_df.csv', sep=',')\n"
   ]
  },
  {
   "cell_type": "markdown",
   "metadata": {},
   "source": [
    "# EDA"
   ]
  },
  {
   "cell_type": "code",
   "execution_count": 33,
   "metadata": {
    "ExecuteTime": {
     "end_time": "2019-07-27T16:32:42.132564Z",
     "start_time": "2019-07-27T16:32:42.125679Z"
    }
   },
   "outputs": [],
   "source": [
    "# to view all the columns during EDA\n",
    "pd.set_option('display.max_columns', 35)"
   ]
  },
  {
   "cell_type": "code",
   "execution_count": 34,
   "metadata": {
    "ExecuteTime": {
     "end_time": "2019-07-27T16:32:42.378497Z",
     "start_time": "2019-07-27T16:32:42.350743Z"
    }
   },
   "outputs": [
    {
     "data": {
      "text/html": [
       "<div>\n",
       "<style scoped>\n",
       "    .dataframe tbody tr th:only-of-type {\n",
       "        vertical-align: middle;\n",
       "    }\n",
       "\n",
       "    .dataframe tbody tr th {\n",
       "        vertical-align: top;\n",
       "    }\n",
       "\n",
       "    .dataframe thead th {\n",
       "        text-align: right;\n",
       "    }\n",
       "</style>\n",
       "<table border=\"1\" class=\"dataframe\">\n",
       "  <thead>\n",
       "    <tr style=\"text-align: right;\">\n",
       "      <th></th>\n",
       "      <th>personal_or_business</th>\n",
       "      <th>business_number</th>\n",
       "      <th>vehicle_type</th>\n",
       "      <th>standard_or_express</th>\n",
       "      <th>platform</th>\n",
       "      <th>cancel_reason</th>\n",
       "      <th>cancelled_by</th>\n",
       "      <th>placement_day</th>\n",
       "      <th>placement_time</th>\n",
       "      <th>confirmation_day</th>\n",
       "      <th>confirmation_time</th>\n",
       "      <th>cancellation_day</th>\n",
       "      <th>cancellation_time</th>\n",
       "      <th>distance_(km)</th>\n",
       "      <th>pickup_lat</th>\n",
       "      <th>pickup_long</th>\n",
       "      <th>scheduled</th>\n",
       "    </tr>\n",
       "  </thead>\n",
       "  <tbody>\n",
       "    <tr>\n",
       "      <th>0</th>\n",
       "      <td>Personal</td>\n",
       "      <td>-1.0</td>\n",
       "      <td>Bike</td>\n",
       "      <td>Express</td>\n",
       "      <td>android</td>\n",
       "      <td>No driver has been allocated to my request.</td>\n",
       "      <td>Customer</td>\n",
       "      <td>1</td>\n",
       "      <td>17:55:38</td>\n",
       "      <td>1</td>\n",
       "      <td>NaN</td>\n",
       "      <td>1</td>\n",
       "      <td>17:56:35</td>\n",
       "      <td>9</td>\n",
       "      <td>-1.313053</td>\n",
       "      <td>36.841437</td>\n",
       "      <td>OnDemAND</td>\n",
       "    </tr>\n",
       "    <tr>\n",
       "      <th>1</th>\n",
       "      <td>Personal</td>\n",
       "      <td>-1.0</td>\n",
       "      <td>Bike</td>\n",
       "      <td>Express</td>\n",
       "      <td>android</td>\n",
       "      <td>My order is not ready.</td>\n",
       "      <td>Customer</td>\n",
       "      <td>1</td>\n",
       "      <td>12:26:27</td>\n",
       "      <td>1</td>\n",
       "      <td>12:27:36</td>\n",
       "      <td>1</td>\n",
       "      <td>12:28:44</td>\n",
       "      <td>14</td>\n",
       "      <td>-1.318959</td>\n",
       "      <td>36.853394</td>\n",
       "      <td>OnDemAND</td>\n",
       "    </tr>\n",
       "    <tr>\n",
       "      <th>2</th>\n",
       "      <td>Business</td>\n",
       "      <td>20680.0</td>\n",
       "      <td>Bike</td>\n",
       "      <td>Express</td>\n",
       "      <td>android</td>\n",
       "      <td>I placed the wrong locations.</td>\n",
       "      <td>Customer</td>\n",
       "      <td>1</td>\n",
       "      <td>13:21:18</td>\n",
       "      <td>1</td>\n",
       "      <td>13:21:34</td>\n",
       "      <td>1</td>\n",
       "      <td>13:47:29</td>\n",
       "      <td>16</td>\n",
       "      <td>-1.313854</td>\n",
       "      <td>36.706867</td>\n",
       "      <td>OnDemAND</td>\n",
       "    </tr>\n",
       "    <tr>\n",
       "      <th>3</th>\n",
       "      <td>Personal</td>\n",
       "      <td>-1.0</td>\n",
       "      <td>Bike</td>\n",
       "      <td>Express</td>\n",
       "      <td>android</td>\n",
       "      <td>My order is not ready.</td>\n",
       "      <td>Customer</td>\n",
       "      <td>1</td>\n",
       "      <td>10:29:19</td>\n",
       "      <td>1</td>\n",
       "      <td>NaN</td>\n",
       "      <td>1</td>\n",
       "      <td>10:29:29</td>\n",
       "      <td>20</td>\n",
       "      <td>-1.206197</td>\n",
       "      <td>36.778776</td>\n",
       "      <td>OnDemAND</td>\n",
       "    </tr>\n",
       "    <tr>\n",
       "      <th>4</th>\n",
       "      <td>Personal</td>\n",
       "      <td>-1.0</td>\n",
       "      <td>Bike</td>\n",
       "      <td>Standard</td>\n",
       "      <td>ios</td>\n",
       "      <td>No Partner</td>\n",
       "      <td>Staff</td>\n",
       "      <td>1</td>\n",
       "      <td>14:34:05</td>\n",
       "      <td>1</td>\n",
       "      <td>14:59:08</td>\n",
       "      <td>1</td>\n",
       "      <td>15:49:41</td>\n",
       "      <td>11</td>\n",
       "      <td>-1.296958</td>\n",
       "      <td>36.808166</td>\n",
       "      <td>OnDemAND</td>\n",
       "    </tr>\n",
       "  </tbody>\n",
       "</table>\n",
       "</div>"
      ],
      "text/plain": [
       "  personal_or_business  business_number vehicle_type standard_or_express  \\\n",
       "0             Personal             -1.0         Bike             Express   \n",
       "1             Personal             -1.0         Bike             Express   \n",
       "2             Business          20680.0         Bike             Express   \n",
       "3             Personal             -1.0         Bike             Express   \n",
       "4             Personal             -1.0         Bike            Standard   \n",
       "\n",
       "  platform                                cancel_reason cancelled_by  \\\n",
       "0  android  No driver has been allocated to my request.     Customer   \n",
       "1  android                       My order is not ready.     Customer   \n",
       "2  android                I placed the wrong locations.     Customer   \n",
       "3  android                       My order is not ready.     Customer   \n",
       "4      ios                                   No Partner        Staff   \n",
       "\n",
       "   placement_day placement_time  confirmation_day confirmation_time  \\\n",
       "0              1       17:55:38                 1               NaN   \n",
       "1              1       12:26:27                 1          12:27:36   \n",
       "2              1       13:21:18                 1          13:21:34   \n",
       "3              1       10:29:19                 1               NaN   \n",
       "4              1       14:34:05                 1          14:59:08   \n",
       "\n",
       "   cancellation_day cancellation_time  distance_(km)  pickup_lat  pickup_long  \\\n",
       "0                 1          17:56:35              9   -1.313053    36.841437   \n",
       "1                 1          12:28:44             14   -1.318959    36.853394   \n",
       "2                 1          13:47:29             16   -1.313854    36.706867   \n",
       "3                 1          10:29:29             20   -1.206197    36.778776   \n",
       "4                 1          15:49:41             11   -1.296958    36.808166   \n",
       "\n",
       "  scheduled  \n",
       "0  OnDemAND  \n",
       "1  OnDemAND  \n",
       "2  OnDemAND  \n",
       "3  OnDemAND  \n",
       "4  OnDemAND  "
      ]
     },
     "execution_count": 34,
     "metadata": {},
     "output_type": "execute_result"
    }
   ],
   "source": [
    "query_df.head()"
   ]
  },
  {
   "cell_type": "code",
   "execution_count": 35,
   "metadata": {
    "ExecuteTime": {
     "end_time": "2019-07-27T16:32:43.224556Z",
     "start_time": "2019-07-27T16:32:43.161666Z"
    }
   },
   "outputs": [
    {
     "data": {
      "text/html": [
       "<div>\n",
       "<style scoped>\n",
       "    .dataframe tbody tr th:only-of-type {\n",
       "        vertical-align: middle;\n",
       "    }\n",
       "\n",
       "    .dataframe tbody tr th {\n",
       "        vertical-align: top;\n",
       "    }\n",
       "\n",
       "    .dataframe thead th {\n",
       "        text-align: right;\n",
       "    }\n",
       "</style>\n",
       "<table border=\"1\" class=\"dataframe\">\n",
       "  <thead>\n",
       "    <tr style=\"text-align: right;\">\n",
       "      <th></th>\n",
       "      <th>business_number</th>\n",
       "      <th>placement_day</th>\n",
       "      <th>confirmation_day</th>\n",
       "      <th>cancellation_day</th>\n",
       "      <th>distance_(km)</th>\n",
       "      <th>pickup_lat</th>\n",
       "      <th>pickup_long</th>\n",
       "    </tr>\n",
       "  </thead>\n",
       "  <tbody>\n",
       "    <tr>\n",
       "      <th>count</th>\n",
       "      <td>6393.000000</td>\n",
       "      <td>6393.000000</td>\n",
       "      <td>6393.000000</td>\n",
       "      <td>6393.000000</td>\n",
       "      <td>6393.000000</td>\n",
       "      <td>6393.000000</td>\n",
       "      <td>6393.000000</td>\n",
       "    </tr>\n",
       "    <tr>\n",
       "      <th>mean</th>\n",
       "      <td>13810.055060</td>\n",
       "      <td>3.674018</td>\n",
       "      <td>3.674018</td>\n",
       "      <td>3.674018</td>\n",
       "      <td>13.930862</td>\n",
       "      <td>-1.287768</td>\n",
       "      <td>36.814969</td>\n",
       "    </tr>\n",
       "    <tr>\n",
       "      <th>std</th>\n",
       "      <td>16276.500407</td>\n",
       "      <td>1.713099</td>\n",
       "      <td>1.713099</td>\n",
       "      <td>1.713099</td>\n",
       "      <td>45.310560</td>\n",
       "      <td>0.067094</td>\n",
       "      <td>0.113884</td>\n",
       "    </tr>\n",
       "    <tr>\n",
       "      <th>min</th>\n",
       "      <td>-1.000000</td>\n",
       "      <td>1.000000</td>\n",
       "      <td>1.000000</td>\n",
       "      <td>1.000000</td>\n",
       "      <td>0.000000</td>\n",
       "      <td>-2.390920</td>\n",
       "      <td>32.628902</td>\n",
       "    </tr>\n",
       "    <tr>\n",
       "      <th>25%</th>\n",
       "      <td>-1.000000</td>\n",
       "      <td>2.000000</td>\n",
       "      <td>2.000000</td>\n",
       "      <td>2.000000</td>\n",
       "      <td>5.000000</td>\n",
       "      <td>-1.315811</td>\n",
       "      <td>36.786055</td>\n",
       "    </tr>\n",
       "    <tr>\n",
       "      <th>50%</th>\n",
       "      <td>-1.000000</td>\n",
       "      <td>4.000000</td>\n",
       "      <td>4.000000</td>\n",
       "      <td>4.000000</td>\n",
       "      <td>9.000000</td>\n",
       "      <td>-1.291188</td>\n",
       "      <td>36.813105</td>\n",
       "    </tr>\n",
       "    <tr>\n",
       "      <th>75%</th>\n",
       "      <td>28396.000000</td>\n",
       "      <td>5.000000</td>\n",
       "      <td>5.000000</td>\n",
       "      <td>5.000000</td>\n",
       "      <td>16.000000</td>\n",
       "      <td>-1.263937</td>\n",
       "      <td>36.843238</td>\n",
       "    </tr>\n",
       "    <tr>\n",
       "      <th>max</th>\n",
       "      <td>62392.000000</td>\n",
       "      <td>7.000000</td>\n",
       "      <td>7.000000</td>\n",
       "      <td>7.000000</td>\n",
       "      <td>2061.000000</td>\n",
       "      <td>0.551064</td>\n",
       "      <td>40.689788</td>\n",
       "    </tr>\n",
       "  </tbody>\n",
       "</table>\n",
       "</div>"
      ],
      "text/plain": [
       "       business_number  placement_day  confirmation_day  cancellation_day  \\\n",
       "count      6393.000000    6393.000000       6393.000000       6393.000000   \n",
       "mean      13810.055060       3.674018          3.674018          3.674018   \n",
       "std       16276.500407       1.713099          1.713099          1.713099   \n",
       "min          -1.000000       1.000000          1.000000          1.000000   \n",
       "25%          -1.000000       2.000000          2.000000          2.000000   \n",
       "50%          -1.000000       4.000000          4.000000          4.000000   \n",
       "75%       28396.000000       5.000000          5.000000          5.000000   \n",
       "max       62392.000000       7.000000          7.000000          7.000000   \n",
       "\n",
       "       distance_(km)   pickup_lat  pickup_long  \n",
       "count    6393.000000  6393.000000  6393.000000  \n",
       "mean       13.930862    -1.287768    36.814969  \n",
       "std        45.310560     0.067094     0.113884  \n",
       "min         0.000000    -2.390920    32.628902  \n",
       "25%         5.000000    -1.315811    36.786055  \n",
       "50%         9.000000    -1.291188    36.813105  \n",
       "75%        16.000000    -1.263937    36.843238  \n",
       "max      2061.000000     0.551064    40.689788  "
      ]
     },
     "execution_count": 35,
     "metadata": {},
     "output_type": "execute_result"
    }
   ],
   "source": [
    "query_df.describe()"
   ]
  },
  {
   "cell_type": "code",
   "execution_count": 36,
   "metadata": {
    "ExecuteTime": {
     "end_time": "2019-07-27T16:32:44.000070Z",
     "start_time": "2019-07-27T16:32:43.993374Z"
    }
   },
   "outputs": [
    {
     "data": {
      "text/plain": [
       "(6393, 17)"
      ]
     },
     "execution_count": 36,
     "metadata": {},
     "output_type": "execute_result"
    }
   ],
   "source": [
    "query_df.shape"
   ]
  },
  {
   "cell_type": "code",
   "execution_count": 37,
   "metadata": {
    "ExecuteTime": {
     "end_time": "2019-07-27T16:32:53.307588Z",
     "start_time": "2019-07-27T16:32:53.301874Z"
    }
   },
   "outputs": [
    {
     "data": {
      "text/plain": [
       "Index(['personal_or_business', 'business_number', 'vehicle_type',\n",
       "       'standard_or_express', 'platform', 'cancel_reason', 'cancelled_by',\n",
       "       'placement_day', 'placement_time', 'confirmation_day',\n",
       "       'confirmation_time', 'cancellation_day', 'cancellation_time',\n",
       "       'distance_(km)', 'pickup_lat', 'pickup_long', 'scheduled'],\n",
       "      dtype='object')"
      ]
     },
     "execution_count": 37,
     "metadata": {},
     "output_type": "execute_result"
    }
   ],
   "source": [
    "query_df.columns"
   ]
  },
  {
   "cell_type": "code",
   "execution_count": 38,
   "metadata": {
    "ExecuteTime": {
     "end_time": "2019-07-27T16:33:13.128756Z",
     "start_time": "2019-07-27T16:33:13.122328Z"
    }
   },
   "outputs": [
    {
     "data": {
      "text/plain": [
       "personal_or_business     object\n",
       "business_number         float64\n",
       "vehicle_type             object\n",
       "standard_or_express      object\n",
       "platform                 object\n",
       "cancel_reason            object\n",
       "cancelled_by             object\n",
       "placement_day             int64\n",
       "placement_time           object\n",
       "confirmation_day          int64\n",
       "confirmation_time        object\n",
       "cancellation_day          int64\n",
       "cancellation_time        object\n",
       "distance_(km)             int64\n",
       "pickup_lat              float64\n",
       "pickup_long             float64\n",
       "scheduled                object\n",
       "dtype: object"
      ]
     },
     "execution_count": 38,
     "metadata": {},
     "output_type": "execute_result"
    }
   ],
   "source": [
    "query_df.dtypes"
   ]
  },
  {
   "cell_type": "code",
   "execution_count": 46,
   "metadata": {
    "ExecuteTime": {
     "end_time": "2019-07-27T16:44:38.289851Z",
     "start_time": "2019-07-27T16:44:38.284938Z"
    }
   },
   "outputs": [],
   "source": [
    "query_df=query_df.reset_index()"
   ]
  },
  {
   "cell_type": "markdown",
   "metadata": {},
   "source": [
    "## Analyse the order cancellations"
   ]
  },
  {
   "cell_type": "code",
   "execution_count": 49,
   "metadata": {
    "ExecuteTime": {
     "end_time": "2019-07-27T16:45:55.603228Z",
     "start_time": "2019-07-27T16:45:55.039619Z"
    }
   },
   "outputs": [
    {
     "data": {
      "text/plain": [
       "<Figure size 720x432 with 0 Axes>"
      ]
     },
     "metadata": {},
     "output_type": "display_data"
    },
    {
     "data": {
      "image/png": "[encoded data removed]",
      "text/plain": [
       "<Figure size 1080x432 with 1 Axes>"
      ]
     },
     "metadata": {
      "needs_background": "light"
     },
     "output_type": "display_data"
    }
   ],
   "source": [
    "fig=plt.figure(figsize=(10,6))\n",
    "fig=plt.figure(figsize=(15,6))\n",
    "query_df.boxplot(return_type='axes',\n",
    "                 patch_artist=True, notch=True,\n",
    "                    medianprops = dict(linestyle='-', linewidth=2, color='Yellow'),\n",
    "           boxprops = dict(linestyle='--', linewidth=2, color='Black', facecolor = 'blue', alpha = .75)\n",
    "                );\n",
    "plt.title('Numerical Feautures Boxplot', fontsize=20)\n",
    "plt.xticks(rotation = 45);"
   ]
  },
  {
   "cell_type": "code",
   "execution_count": 50,
   "metadata": {
    "ExecuteTime": {
     "end_time": "2019-07-27T16:46:18.786622Z",
     "start_time": "2019-07-27T16:46:18.759718Z"
    }
   },
   "outputs": [
    {
     "data": {
      "text/html": [
       "<div>\n",
       "<style scoped>\n",
       "    .dataframe tbody tr th:only-of-type {\n",
       "        vertical-align: middle;\n",
       "    }\n",
       "\n",
       "    .dataframe tbody tr th {\n",
       "        vertical-align: top;\n",
       "    }\n",
       "\n",
       "    .dataframe thead th {\n",
       "        text-align: right;\n",
       "    }\n",
       "</style>\n",
       "<table border=\"1\" class=\"dataframe\">\n",
       "  <thead>\n",
       "    <tr style=\"text-align: right;\">\n",
       "      <th></th>\n",
       "      <th>index</th>\n",
       "      <th>business_number</th>\n",
       "      <th>placement_day</th>\n",
       "      <th>confirmation_day</th>\n",
       "      <th>cancellation_day</th>\n",
       "      <th>distance_(km)</th>\n",
       "      <th>pickup_lat</th>\n",
       "      <th>pickup_long</th>\n",
       "    </tr>\n",
       "  </thead>\n",
       "  <tbody>\n",
       "    <tr>\n",
       "      <th>index</th>\n",
       "      <td>1.000000</td>\n",
       "      <td>-0.016740</td>\n",
       "      <td>0.943072</td>\n",
       "      <td>0.943072</td>\n",
       "      <td>0.943072</td>\n",
       "      <td>0.042830</td>\n",
       "      <td>-0.036331</td>\n",
       "      <td>0.056895</td>\n",
       "    </tr>\n",
       "    <tr>\n",
       "      <th>business_number</th>\n",
       "      <td>-0.016740</td>\n",
       "      <td>1.000000</td>\n",
       "      <td>-0.024353</td>\n",
       "      <td>-0.024353</td>\n",
       "      <td>-0.024353</td>\n",
       "      <td>-0.041149</td>\n",
       "      <td>-0.066078</td>\n",
       "      <td>0.045934</td>\n",
       "    </tr>\n",
       "    <tr>\n",
       "      <th>placement_day</th>\n",
       "      <td>0.943072</td>\n",
       "      <td>-0.024353</td>\n",
       "      <td>1.000000</td>\n",
       "      <td>1.000000</td>\n",
       "      <td>1.000000</td>\n",
       "      <td>0.047666</td>\n",
       "      <td>-0.040651</td>\n",
       "      <td>0.048434</td>\n",
       "    </tr>\n",
       "    <tr>\n",
       "      <th>confirmation_day</th>\n",
       "      <td>0.943072</td>\n",
       "      <td>-0.024353</td>\n",
       "      <td>1.000000</td>\n",
       "      <td>1.000000</td>\n",
       "      <td>1.000000</td>\n",
       "      <td>0.047666</td>\n",
       "      <td>-0.040651</td>\n",
       "      <td>0.048434</td>\n",
       "    </tr>\n",
       "    <tr>\n",
       "      <th>cancellation_day</th>\n",
       "      <td>0.943072</td>\n",
       "      <td>-0.024353</td>\n",
       "      <td>1.000000</td>\n",
       "      <td>1.000000</td>\n",
       "      <td>1.000000</td>\n",
       "      <td>0.047666</td>\n",
       "      <td>-0.040651</td>\n",
       "      <td>0.048434</td>\n",
       "    </tr>\n",
       "    <tr>\n",
       "      <th>distance_(km)</th>\n",
       "      <td>0.042830</td>\n",
       "      <td>-0.041149</td>\n",
       "      <td>0.047666</td>\n",
       "      <td>0.047666</td>\n",
       "      <td>0.047666</td>\n",
       "      <td>1.000000</td>\n",
       "      <td>0.032725</td>\n",
       "      <td>-0.014479</td>\n",
       "    </tr>\n",
       "    <tr>\n",
       "      <th>pickup_lat</th>\n",
       "      <td>-0.036331</td>\n",
       "      <td>-0.066078</td>\n",
       "      <td>-0.040651</td>\n",
       "      <td>-0.040651</td>\n",
       "      <td>-0.040651</td>\n",
       "      <td>0.032725</td>\n",
       "      <td>1.000000</td>\n",
       "      <td>-0.626917</td>\n",
       "    </tr>\n",
       "    <tr>\n",
       "      <th>pickup_long</th>\n",
       "      <td>0.056895</td>\n",
       "      <td>0.045934</td>\n",
       "      <td>0.048434</td>\n",
       "      <td>0.048434</td>\n",
       "      <td>0.048434</td>\n",
       "      <td>-0.014479</td>\n",
       "      <td>-0.626917</td>\n",
       "      <td>1.000000</td>\n",
       "    </tr>\n",
       "  </tbody>\n",
       "</table>\n",
       "</div>"
      ],
      "text/plain": [
       "                     index  business_number  placement_day  confirmation_day  \\\n",
       "index             1.000000        -0.016740       0.943072          0.943072   \n",
       "business_number  -0.016740         1.000000      -0.024353         -0.024353   \n",
       "placement_day     0.943072        -0.024353       1.000000          1.000000   \n",
       "confirmation_day  0.943072        -0.024353       1.000000          1.000000   \n",
       "cancellation_day  0.943072        -0.024353       1.000000          1.000000   \n",
       "distance_(km)     0.042830        -0.041149       0.047666          0.047666   \n",
       "pickup_lat       -0.036331        -0.066078      -0.040651         -0.040651   \n",
       "pickup_long       0.056895         0.045934       0.048434          0.048434   \n",
       "\n",
       "                  cancellation_day  distance_(km)  pickup_lat  pickup_long  \n",
       "index                     0.943072       0.042830   -0.036331     0.056895  \n",
       "business_number          -0.024353      -0.041149   -0.066078     0.045934  \n",
       "placement_day             1.000000       0.047666   -0.040651     0.048434  \n",
       "confirmation_day          1.000000       0.047666   -0.040651     0.048434  \n",
       "cancellation_day          1.000000       0.047666   -0.040651     0.048434  \n",
       "distance_(km)             0.047666       1.000000    0.032725    -0.014479  \n",
       "pickup_lat               -0.040651       0.032725    1.000000    -0.626917  \n",
       "pickup_long               0.048434      -0.014479   -0.626917     1.000000  "
      ]
     },
     "execution_count": 50,
     "metadata": {},
     "output_type": "execute_result"
    }
   ],
   "source": [
    "query_df.corr()"
   ]
  },
  {
   "cell_type": "code",
   "execution_count": 53,
   "metadata": {
    "ExecuteTime": {
     "end_time": "2019-07-27T16:47:08.041841Z",
     "start_time": "2019-07-27T16:47:07.166743Z"
    }
   },
   "outputs": [
    {
     "data": {
      "image/png": "[encoded data removed]",
      "text/plain": [
       "<Figure size 1080x720 with 2 Axes>"
      ]
     },
     "metadata": {
      "needs_background": "light"
     },
     "output_type": "display_data"
    }
   ],
   "source": [
    "# Plot correlation matrix\n",
    "plt.figure(figsize=(15,10))\n",
    "sns.heatmap(query_df.corr(), annot=True, fmt=\".1f\")\n",
    "plt.show()"
   ]
  },
  {
   "cell_type": "code",
   "execution_count": null,
   "metadata": {},
   "outputs": [],
   "source": []
  }
 ],
 "metadata": {
  "kernelspec": {
   "display_name": "Python 3",
   "language": "python",
   "name": "python3"
  },
  "language_info": {
   "codemirror_mode": {
    "name": "ipython",
    "version": 3
   },
   "file_extension": ".py",
   "mimetype": "text/x-python",
   "name": "python",
   "nbconvert_exporter": "python",
   "pygments_lexer": "ipython3",
   "version": "3.6.5"
  },
  "toc": {
   "base_numbering": 1,
   "nav_menu": {},
   "number_sections": true,
   "sideBar": true,
   "skip_h1_title": false,
   "title_cell": "Table of Contents",
   "title_sidebar": "Contents",
   "toc_cell": false,
   "toc_position": {},
   "toc_section_display": true,
   "toc_window_display": false
  }
 },
 "nbformat": 4,
 "nbformat_minor": 2
}
