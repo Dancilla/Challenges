{
 "cells": [
  {
   "cell_type": "markdown",
   "metadata": {},
   "source": [
    "# Problem Statement "
   ]
  },
  {
   "cell_type": "markdown",
   "metadata": {},
   "source": [
    "**Data Analysis case study**\n",
    "\n",
    "I am working on a logistic problem where they have faced cancellation of orders in their deliveries. \n",
    "Their main goal is to be the 1st prefered delivery partner in Africa.\n",
    "\n",
    "Main objective is partnership, bringing together both drivers and businesses for the 24hr delivery services.\n",
    "\n",
    "**Challenge 1**\n",
    "1. Analyse order cancellations\n",
    "2. visualize most important aspects using your prefered method.\n",
    "3. document steps \n",
    "4. Insights on how to reduce number of cancelled orders.\n",
    "\n",
    "**Challenge 2**\n",
    "\n",
    "-There's been deliberate deletion of data\n",
    "1. Use the data 2, missed data to predict cancellation reasons for all orders with missing data.\n",
    "2. Document steps and method used.\n",
    "\n",
    "**Challenge 3**\n",
    "\n",
    "create a presentation for the relevant work done.\n"
   ]
  },
  {
   "cell_type": "markdown",
   "metadata": {},
   "source": [
    "# Import packages"
   ]
  },
  {
   "cell_type": "code",
   "execution_count": null,
   "metadata": {
    "ExecuteTime": {
     "end_time": "2019-07-25T00:35:37.942649Z",
     "start_time": "2019-07-25T00:35:29.588189Z"
    }
   },
   "outputs": [],
   "source": [
    "##for faster data processing\n",
    "import numba as nb\n",
    "\n",
    "\n",
    "#for data manipulation \n",
    "import pandas as pd\n",
    "import numpy as np\n",
    "\n",
    "##for data visualizations and distributions of the variables\n",
    "import matplotlib as mtb\n",
    "import matplotlib.pyplot as plt\n",
    "from pandas_summary import DataFrameSummary\n",
    "import scipy as sc\n",
    "import sklearn as skl"
   ]
  },
  {
   "cell_type": "markdown",
   "metadata": {},
   "source": [
    "# Import dataset"
   ]
  },
  {
   "cell_type": "code",
   "execution_count": 2,
   "metadata": {
    "ExecuteTime": {
     "end_time": "2019-07-25T00:35:37.955888Z",
     "start_time": "2019-07-25T00:35:37.952836Z"
    }
   },
   "outputs": [],
   "source": [
    "#import pandas as pd\n",
    "\n",
    "#import sendy data into \n",
    "#xls = pd.ExcelFile('../Sendy_data/Data_Analyst_Data_for_Case_Study.xlsx')\n",
    "\n",
    "#query_results_df = pd.read_excel(xls, 'Query_result')\n",
    "#missed_cancellation = pd.read_excel(xls, 'Missing_Cancel_Reason')"
   ]
  },
  {
   "cell_type": "code",
   "execution_count": 3,
   "metadata": {
    "ExecuteTime": {
     "end_time": "2019-07-25T00:35:38.082378Z",
     "start_time": "2019-07-25T00:35:37.958789Z"
    }
   },
   "outputs": [],
   "source": [
    "#read the data file\n",
    "query_df = pd.read_csv('../Sendy_data/query_result.csv', sep=',')\n",
    "missed_cancellation_df = pd.read_csv('../Sendy_data/missing_cancellation_reason.csv', sep=',')\n"
   ]
  },
  {
   "cell_type": "code",
   "execution_count": 4,
   "metadata": {
    "ExecuteTime": {
     "end_time": "2019-07-25T00:35:40.403282Z",
     "start_time": "2019-07-25T00:35:40.348761Z"
    }
   },
   "outputs": [
    {
     "data": {
      "text/html": [
       "<div>\n",
       "<style scoped>\n",
       "    .dataframe tbody tr th:only-of-type {\n",
       "        vertical-align: middle;\n",
       "    }\n",
       "\n",
       "    .dataframe tbody tr th {\n",
       "        vertical-align: top;\n",
       "    }\n",
       "\n",
       "    .dataframe thead th {\n",
       "        text-align: right;\n",
       "    }\n",
       "</style>\n",
       "<table border=\"1\" class=\"dataframe\">\n",
       "  <thead>\n",
       "    <tr style=\"text-align: right;\">\n",
       "      <th></th>\n",
       "      <th>Personal or Business</th>\n",
       "      <th>Business Number</th>\n",
       "      <th>Vehicle Type</th>\n",
       "      <th>Standard or Express</th>\n",
       "      <th>Platform</th>\n",
       "      <th>Cancel Reason</th>\n",
       "      <th>Cancelled by</th>\n",
       "      <th>Placement Day</th>\n",
       "      <th>Placement Time</th>\n",
       "      <th>Confirmation Day</th>\n",
       "      <th>Confirmation Time</th>\n",
       "      <th>Cancellation Day</th>\n",
       "      <th>Cancellation Time</th>\n",
       "      <th>Distance (KM)</th>\n",
       "      <th>Pickup Lat</th>\n",
       "      <th>Pickup Long</th>\n",
       "      <th>scheduled</th>\n",
       "    </tr>\n",
       "  </thead>\n",
       "  <tbody>\n",
       "    <tr>\n",
       "      <th>0</th>\n",
       "      <td>Personal</td>\n",
       "      <td>NaN</td>\n",
       "      <td>Bike</td>\n",
       "      <td>Express</td>\n",
       "      <td>android</td>\n",
       "      <td>No driver has been allocated to my request.</td>\n",
       "      <td>Customer</td>\n",
       "      <td>1.0</td>\n",
       "      <td>17:55:38</td>\n",
       "      <td>NaN</td>\n",
       "      <td>NaN</td>\n",
       "      <td>1.0</td>\n",
       "      <td>17:56:35</td>\n",
       "      <td>9.0</td>\n",
       "      <td>-1.313053</td>\n",
       "      <td>36.841437</td>\n",
       "      <td>OnDemAND</td>\n",
       "    </tr>\n",
       "    <tr>\n",
       "      <th>1</th>\n",
       "      <td>Personal</td>\n",
       "      <td>NaN</td>\n",
       "      <td>Bike</td>\n",
       "      <td>Express</td>\n",
       "      <td>android</td>\n",
       "      <td>My order is not ready.</td>\n",
       "      <td>Customer</td>\n",
       "      <td>1.0</td>\n",
       "      <td>12:26:27</td>\n",
       "      <td>1.0</td>\n",
       "      <td>12:27:36</td>\n",
       "      <td>1.0</td>\n",
       "      <td>12:28:44</td>\n",
       "      <td>14.0</td>\n",
       "      <td>-1.318959</td>\n",
       "      <td>36.853394</td>\n",
       "      <td>OnDemAND</td>\n",
       "    </tr>\n",
       "    <tr>\n",
       "      <th>2</th>\n",
       "      <td>Business</td>\n",
       "      <td>20680.0</td>\n",
       "      <td>Bike</td>\n",
       "      <td>Express</td>\n",
       "      <td>android</td>\n",
       "      <td>I placed the wrong locations.</td>\n",
       "      <td>Customer</td>\n",
       "      <td>1.0</td>\n",
       "      <td>13:21:18</td>\n",
       "      <td>1.0</td>\n",
       "      <td>13:21:34</td>\n",
       "      <td>1.0</td>\n",
       "      <td>13:47:29</td>\n",
       "      <td>16.0</td>\n",
       "      <td>-1.313854</td>\n",
       "      <td>36.706867</td>\n",
       "      <td>OnDemAND</td>\n",
       "    </tr>\n",
       "    <tr>\n",
       "      <th>3</th>\n",
       "      <td>Personal</td>\n",
       "      <td>NaN</td>\n",
       "      <td>Bike</td>\n",
       "      <td>Express</td>\n",
       "      <td>android</td>\n",
       "      <td>My order is not ready.</td>\n",
       "      <td>Customer</td>\n",
       "      <td>1.0</td>\n",
       "      <td>10:29:19</td>\n",
       "      <td>NaN</td>\n",
       "      <td>NaN</td>\n",
       "      <td>1.0</td>\n",
       "      <td>10:29:29</td>\n",
       "      <td>20.0</td>\n",
       "      <td>-1.206197</td>\n",
       "      <td>36.778776</td>\n",
       "      <td>OnDemAND</td>\n",
       "    </tr>\n",
       "    <tr>\n",
       "      <th>4</th>\n",
       "      <td>Personal</td>\n",
       "      <td>NaN</td>\n",
       "      <td>Bike</td>\n",
       "      <td>Standard</td>\n",
       "      <td>ios</td>\n",
       "      <td>No Partner</td>\n",
       "      <td>Staff</td>\n",
       "      <td>1.0</td>\n",
       "      <td>14:34:05</td>\n",
       "      <td>1.0</td>\n",
       "      <td>14:59:08</td>\n",
       "      <td>1.0</td>\n",
       "      <td>15:49:41</td>\n",
       "      <td>11.0</td>\n",
       "      <td>-1.296958</td>\n",
       "      <td>36.808166</td>\n",
       "      <td>OnDemAND</td>\n",
       "    </tr>\n",
       "  </tbody>\n",
       "</table>\n",
       "</div>"
      ],
      "text/plain": [
       "  Personal or Business  Business Number Vehicle Type Standard or Express  \\\n",
       "0             Personal              NaN         Bike             Express   \n",
       "1             Personal              NaN         Bike             Express   \n",
       "2             Business          20680.0         Bike             Express   \n",
       "3             Personal              NaN         Bike             Express   \n",
       "4             Personal              NaN         Bike            Standard   \n",
       "\n",
       "  Platform                                Cancel Reason Cancelled by  \\\n",
       "0  android  No driver has been allocated to my request.     Customer   \n",
       "1  android                       My order is not ready.     Customer   \n",
       "2  android                I placed the wrong locations.     Customer   \n",
       "3  android                       My order is not ready.     Customer   \n",
       "4      ios                                   No Partner        Staff   \n",
       "\n",
       "   Placement Day Placement Time  Confirmation Day Confirmation Time  \\\n",
       "0            1.0       17:55:38               NaN               NaN   \n",
       "1            1.0       12:26:27               1.0          12:27:36   \n",
       "2            1.0       13:21:18               1.0          13:21:34   \n",
       "3            1.0       10:29:19               NaN               NaN   \n",
       "4            1.0       14:34:05               1.0          14:59:08   \n",
       "\n",
       "   Cancellation Day Cancellation Time  Distance (KM)  Pickup Lat  Pickup Long  \\\n",
       "0               1.0          17:56:35            9.0   -1.313053    36.841437   \n",
       "1               1.0          12:28:44           14.0   -1.318959    36.853394   \n",
       "2               1.0          13:47:29           16.0   -1.313854    36.706867   \n",
       "3               1.0          10:29:29           20.0   -1.206197    36.778776   \n",
       "4               1.0          15:49:41           11.0   -1.296958    36.808166   \n",
       "\n",
       "  scheduled  \n",
       "0  OnDemAND  \n",
       "1  OnDemAND  \n",
       "2  OnDemAND  \n",
       "3  OnDemAND  \n",
       "4  OnDemAND  "
      ]
     },
     "execution_count": 4,
     "metadata": {},
     "output_type": "execute_result"
    }
   ],
   "source": [
    "query_df.head()"
   ]
  },
  {
   "cell_type": "code",
   "execution_count": 5,
   "metadata": {
    "ExecuteTime": {
     "end_time": "2019-07-25T00:35:48.197889Z",
     "start_time": "2019-07-25T00:35:48.166729Z"
    }
   },
   "outputs": [
    {
     "data": {
      "text/html": [
       "<div>\n",
       "<style scoped>\n",
       "    .dataframe tbody tr th:only-of-type {\n",
       "        vertical-align: middle;\n",
       "    }\n",
       "\n",
       "    .dataframe tbody tr th {\n",
       "        vertical-align: top;\n",
       "    }\n",
       "\n",
       "    .dataframe thead th {\n",
       "        text-align: right;\n",
       "    }\n",
       "</style>\n",
       "<table border=\"1\" class=\"dataframe\">\n",
       "  <thead>\n",
       "    <tr style=\"text-align: right;\">\n",
       "      <th></th>\n",
       "      <th>Personal or Business</th>\n",
       "      <th>Business Number</th>\n",
       "      <th>Vehicle Type</th>\n",
       "      <th>Standard or Express</th>\n",
       "      <th>Platform</th>\n",
       "      <th>Cancel Reason</th>\n",
       "      <th>Cancelled by</th>\n",
       "      <th>Placement Day</th>\n",
       "      <th>Placement Time</th>\n",
       "      <th>Confirmation Day</th>\n",
       "      <th>Confirmation Time</th>\n",
       "      <th>Cancellation Day</th>\n",
       "      <th>Cancellation Time</th>\n",
       "      <th>Distance (KM)</th>\n",
       "      <th>Pickup Lat</th>\n",
       "      <th>Pickup Long</th>\n",
       "      <th>scheduled</th>\n",
       "    </tr>\n",
       "  </thead>\n",
       "  <tbody>\n",
       "    <tr>\n",
       "      <th>0</th>\n",
       "      <td>Personal</td>\n",
       "      <td>NaN</td>\n",
       "      <td>Bike</td>\n",
       "      <td>Express</td>\n",
       "      <td>ios</td>\n",
       "      <td>NaN</td>\n",
       "      <td>Customer</td>\n",
       "      <td>1.0</td>\n",
       "      <td>15:23:44</td>\n",
       "      <td>1.0</td>\n",
       "      <td>16:40:47</td>\n",
       "      <td>1.0</td>\n",
       "      <td>16:43:50</td>\n",
       "      <td>4.0</td>\n",
       "      <td>-1.299370</td>\n",
       "      <td>36.822107</td>\n",
       "      <td>OnDemAND</td>\n",
       "    </tr>\n",
       "    <tr>\n",
       "      <th>1</th>\n",
       "      <td>Business</td>\n",
       "      <td>20680.0</td>\n",
       "      <td>Bike</td>\n",
       "      <td>Express</td>\n",
       "      <td>desktop</td>\n",
       "      <td>NaN</td>\n",
       "      <td>Staff</td>\n",
       "      <td>1.0</td>\n",
       "      <td>14:21:46</td>\n",
       "      <td>1.0</td>\n",
       "      <td>14:22:20</td>\n",
       "      <td>1.0</td>\n",
       "      <td>14:30:48</td>\n",
       "      <td>17.0</td>\n",
       "      <td>-1.264490</td>\n",
       "      <td>36.789303</td>\n",
       "      <td>OnDemAND</td>\n",
       "    </tr>\n",
       "    <tr>\n",
       "      <th>2</th>\n",
       "      <td>Business</td>\n",
       "      <td>17968.0</td>\n",
       "      <td>Bike</td>\n",
       "      <td>Express</td>\n",
       "      <td>desktop</td>\n",
       "      <td>NaN</td>\n",
       "      <td>Customer</td>\n",
       "      <td>1.0</td>\n",
       "      <td>15:13:20</td>\n",
       "      <td>NaN</td>\n",
       "      <td>NaN</td>\n",
       "      <td>1.0</td>\n",
       "      <td>15:56:34</td>\n",
       "      <td>18.0</td>\n",
       "      <td>-1.427056</td>\n",
       "      <td>36.961499</td>\n",
       "      <td>OnDemAND</td>\n",
       "    </tr>\n",
       "    <tr>\n",
       "      <th>3</th>\n",
       "      <td>Personal</td>\n",
       "      <td>NaN</td>\n",
       "      <td>Bike</td>\n",
       "      <td>Standard</td>\n",
       "      <td>android</td>\n",
       "      <td>NaN</td>\n",
       "      <td>Customer</td>\n",
       "      <td>1.0</td>\n",
       "      <td>13:54:19</td>\n",
       "      <td>NaN</td>\n",
       "      <td>NaN</td>\n",
       "      <td>1.0</td>\n",
       "      <td>13:56:41</td>\n",
       "      <td>8.0</td>\n",
       "      <td>-1.301737</td>\n",
       "      <td>36.743936</td>\n",
       "      <td>OnDemAND</td>\n",
       "    </tr>\n",
       "    <tr>\n",
       "      <th>4</th>\n",
       "      <td>Personal</td>\n",
       "      <td>NaN</td>\n",
       "      <td>Bike</td>\n",
       "      <td>Standard</td>\n",
       "      <td>android</td>\n",
       "      <td>NaN</td>\n",
       "      <td>Staff</td>\n",
       "      <td>1.0</td>\n",
       "      <td>13:24:05</td>\n",
       "      <td>1.0</td>\n",
       "      <td>15:57:20</td>\n",
       "      <td>1.0</td>\n",
       "      <td>17:14:46</td>\n",
       "      <td>13.0</td>\n",
       "      <td>-1.308098</td>\n",
       "      <td>36.920464</td>\n",
       "      <td>Scheduled</td>\n",
       "    </tr>\n",
       "  </tbody>\n",
       "</table>\n",
       "</div>"
      ],
      "text/plain": [
       "  Personal or Business  Business Number Vehicle Type Standard or Express  \\\n",
       "0             Personal              NaN         Bike             Express   \n",
       "1             Business          20680.0         Bike             Express   \n",
       "2             Business          17968.0         Bike             Express   \n",
       "3             Personal              NaN         Bike            Standard   \n",
       "4             Personal              NaN         Bike            Standard   \n",
       "\n",
       "  Platform  Cancel Reason Cancelled by  Placement Day Placement Time  \\\n",
       "0      ios            NaN     Customer            1.0       15:23:44   \n",
       "1  desktop            NaN        Staff            1.0       14:21:46   \n",
       "2  desktop            NaN     Customer            1.0       15:13:20   \n",
       "3  android            NaN     Customer            1.0       13:54:19   \n",
       "4  android            NaN        Staff            1.0       13:24:05   \n",
       "\n",
       "   Confirmation Day Confirmation Time  Cancellation Day Cancellation Time  \\\n",
       "0               1.0          16:40:47               1.0          16:43:50   \n",
       "1               1.0          14:22:20               1.0          14:30:48   \n",
       "2               NaN               NaN               1.0          15:56:34   \n",
       "3               NaN               NaN               1.0          13:56:41   \n",
       "4               1.0          15:57:20               1.0          17:14:46   \n",
       "\n",
       "   Distance (KM)  Pickup Lat  Pickup Long  scheduled  \n",
       "0            4.0   -1.299370    36.822107   OnDemAND  \n",
       "1           17.0   -1.264490    36.789303   OnDemAND  \n",
       "2           18.0   -1.427056    36.961499   OnDemAND  \n",
       "3            8.0   -1.301737    36.743936   OnDemAND  \n",
       "4           13.0   -1.308098    36.920464  Scheduled  "
      ]
     },
     "execution_count": 5,
     "metadata": {},
     "output_type": "execute_result"
    }
   ],
   "source": [
    "missed_cancellation_df.head()"
   ]
  },
  {
   "cell_type": "code",
   "execution_count": 6,
   "metadata": {
    "ExecuteTime": {
     "end_time": "2019-07-25T00:36:04.162459Z",
     "start_time": "2019-07-25T00:36:04.157661Z"
    }
   },
   "outputs": [
    {
     "data": {
      "text/plain": [
       "<bound method IndexOpsMixin.tolist of Index(['Personal or Business', 'Business Number', 'Vehicle Type',\n",
       "       'Standard or Express', 'Platform', 'Cancel Reason', 'Cancelled by',\n",
       "       'Placement Day', 'Placement Time', 'Confirmation Day',\n",
       "       'Confirmation Time', 'Cancellation Day', 'Cancellation Time',\n",
       "       'Distance (KM)', 'Pickup Lat', 'Pickup Long', 'scheduled'],\n",
       "      dtype='object')>"
      ]
     },
     "execution_count": 6,
     "metadata": {},
     "output_type": "execute_result"
    }
   ],
   "source": [
    "query_df.columns.tolist"
   ]
  },
  {
   "cell_type": "markdown",
   "metadata": {},
   "source": [
    "## Rename columns"
   ]
  },
  {
   "cell_type": "code",
   "execution_count": 7,
   "metadata": {
    "ExecuteTime": {
     "end_time": "2019-07-25T00:36:09.936753Z",
     "start_time": "2019-07-25T00:36:09.927358Z"
    }
   },
   "outputs": [],
   "source": [
    "# Rename columns using a dictionary to map values\n",
    "\n",
    "query_df.rename(columns={'Personal or Business':'personal_or_Business', 'Business Number':'Business_Number', 'Vehicle Type':'Vehicle_Type', \n",
    "                                 'Standard or Express':'Standard_or_Express', 'Cancel Reason':'Cancel_Reason', 'Cancelled by':'Cancelled_by',\n",
    "                                 'Placement Day':'Placement_Day', 'Placement Time':'placement_time', 'Confirmation Day':'Confirmation_Day',\n",
    "                                'Confirmation Time':'Confirmation_Time', 'Cancellation Day':'Cancellation_Day', 'Cancellation Time':'Cancellation_time',\n",
    "                                'Distance (KM)':'Distance_(KM)', 'Pickup Lat':'Pickup_Lat', 'Pickup Long':'Pickup_Long'}, inplace=True)"
   ]
  },
  {
   "cell_type": "code",
   "execution_count": 8,
   "metadata": {
    "ExecuteTime": {
     "end_time": "2019-07-25T00:36:12.938955Z",
     "start_time": "2019-07-25T00:36:12.934273Z"
    }
   },
   "outputs": [
    {
     "data": {
      "text/plain": [
       "<bound method IndexOpsMixin.tolist of Index(['personal_or_Business', 'Business_Number', 'Vehicle_Type',\n",
       "       'Standard_or_Express', 'Platform', 'Cancel_Reason', 'Cancelled_by',\n",
       "       'Placement_Day', 'placement_time', 'Confirmation_Day',\n",
       "       'Confirmation_Time', 'Cancellation_Day', 'Cancellation_time',\n",
       "       'Distance_(KM)', 'Pickup_Lat', 'Pickup_Long', 'scheduled'],\n",
       "      dtype='object')>"
      ]
     },
     "execution_count": 8,
     "metadata": {},
     "output_type": "execute_result"
    }
   ],
   "source": [
    "query_df.columns.tolist"
   ]
  },
  {
   "cell_type": "code",
   "execution_count": 13,
   "metadata": {
    "ExecuteTime": {
     "end_time": "2019-07-25T00:36:34.636332Z",
     "start_time": "2019-07-25T00:36:34.631755Z"
    }
   },
   "outputs": [],
   "source": [
    "query_df.columns = map(str.lower, query_df.columns)"
   ]
  },
  {
   "cell_type": "code",
   "execution_count": 14,
   "metadata": {
    "ExecuteTime": {
     "end_time": "2019-07-25T00:36:35.185286Z",
     "start_time": "2019-07-25T00:36:35.175450Z"
    }
   },
   "outputs": [
    {
     "data": {
      "text/plain": [
       "Index(['personal_or_business', 'business_number', 'vehicle_type',\n",
       "       'standard_or_express', 'platform', 'cancel_reason', 'cancelled_by',\n",
       "       'placement_day', 'placement_time', 'confirmation_day',\n",
       "       'confirmation_time', 'cancellation_day', 'cancellation_time',\n",
       "       'distance_(km)', 'pickup_lat', 'pickup_long', 'scheduled'],\n",
       "      dtype='object')"
      ]
     },
     "execution_count": 14,
     "metadata": {},
     "output_type": "execute_result"
    }
   ],
   "source": [
    "query_df.columns"
   ]
  },
  {
   "cell_type": "code",
   "execution_count": 15,
   "metadata": {
    "ExecuteTime": {
     "end_time": "2019-07-25T00:36:35.992386Z",
     "start_time": "2019-07-25T00:36:35.975692Z"
    }
   },
   "outputs": [
    {
     "name": "stdout",
     "output_type": "stream",
     "text": [
      "<class 'pandas.core.frame.DataFrame'>\n",
      "RangeIndex: 6406 entries, 0 to 6405\n",
      "Data columns (total 17 columns):\n",
      "personal_or_business    6398 non-null object\n",
      "business_number         3064 non-null float64\n",
      "vehicle_type            6398 non-null object\n",
      "standard_or_express     6393 non-null object\n",
      "platform                6398 non-null object\n",
      "cancel_reason           6398 non-null object\n",
      "cancelled_by            6398 non-null object\n",
      "placement_day           6398 non-null float64\n",
      "placement_time          6398 non-null object\n",
      "confirmation_day        2882 non-null float64\n",
      "confirmation_time       2882 non-null object\n",
      "cancellation_day        6398 non-null float64\n",
      "cancellation_time       6398 non-null object\n",
      "distance_(km)           6398 non-null float64\n",
      "pickup_lat              6398 non-null float64\n",
      "pickup_long             6398 non-null float64\n",
      "scheduled               6398 non-null object\n",
      "dtypes: float64(7), object(10)\n",
      "memory usage: 850.9+ KB\n"
     ]
    }
   ],
   "source": [
    "query_df.info()"
   ]
  },
  {
   "cell_type": "markdown",
   "metadata": {},
   "source": [
    "The total number of entries is 6398 with both categorical and numerical data. "
   ]
  },
  {
   "cell_type": "markdown",
   "metadata": {},
   "source": [
    "## Change data types "
   ]
  },
  {
   "cell_type": "code",
   "execution_count": 17,
   "metadata": {
    "ExecuteTime": {
     "end_time": "2019-07-25T00:39:08.140105Z",
     "start_time": "2019-07-25T00:39:08.124874Z"
    }
   },
   "outputs": [
    {
     "data": {
      "text/plain": [
       "5.0    1308\n",
       "4.0    1188\n",
       "3.0    1056\n",
       "2.0    1045\n",
       "1.0     832\n",
       "6.0     661\n",
       "7.0     308\n",
       "Name: cancellation_day, dtype: int64"
      ]
     },
     "execution_count": 17,
     "metadata": {},
     "output_type": "execute_result"
    }
   ],
   "source": [
    "query_df['cancellation_day'].value_counts()"
   ]
  },
  {
   "cell_type": "markdown",
   "metadata": {},
   "source": [
    "## Check for Nan"
   ]
  },
  {
   "cell_type": "code",
   "execution_count": null,
   "metadata": {
    "ExecuteTime": {
     "end_time": "2019-07-24T23:33:39.772969Z",
     "start_time": "2019-07-24T23:33:39.760267Z"
    }
   },
   "outputs": [],
   "source": [
    "query_df.isnull().any()"
   ]
  },
  {
   "cell_type": "code",
   "execution_count": null,
   "metadata": {
    "ExecuteTime": {
     "end_time": "2019-07-24T23:37:30.576843Z",
     "start_time": "2019-07-24T23:37:30.563822Z"
    }
   },
   "outputs": [],
   "source": [
    "query_df.isnull().sum()"
   ]
  },
  {
   "cell_type": "code",
   "execution_count": null,
   "metadata": {},
   "outputs": [],
   "source": []
  }
 ],
 "metadata": {
  "kernelspec": {
   "display_name": "Python 3",
   "language": "python",
   "name": "python3"
  },
  "language_info": {
   "codemirror_mode": {
    "name": "ipython",
    "version": 3
   },
   "file_extension": ".py",
   "mimetype": "text/x-python",
   "name": "python",
   "nbconvert_exporter": "python",
   "pygments_lexer": "ipython3",
   "version": "3.6.5"
  },
  "toc": {
   "base_numbering": 1,
   "nav_menu": {},
   "number_sections": true,
   "sideBar": true,
   "skip_h1_title": false,
   "title_cell": "Table of Contents",
   "title_sidebar": "Contents",
   "toc_cell": false,
   "toc_position": {},
   "toc_section_display": true,
   "toc_window_display": false
  }
 },
 "nbformat": 4,
 "nbformat_minor": 2
}
