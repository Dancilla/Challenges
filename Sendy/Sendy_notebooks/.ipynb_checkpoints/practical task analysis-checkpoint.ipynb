{
 "cells": [
  {
   "cell_type": "markdown",
   "metadata": {},
   "source": [
    "# Problem Statement"
   ]
  },
  {
   "cell_type": "markdown",
   "metadata": {},
   "source": [
    "**Data Analysis case study**\n",
    "\n",
    "I am working on a logistic problem where they have faced cancellation of orders in their deliveries. \n",
    "Their main goal is to be the 1st prefered delivery partner in Africa.\n",
    "\n",
    "Main objective is partnership, bringing together both drivers and businesses for the 24hr delivery services.\n",
    "\n",
    "**Challenge 1**\n",
    "1. Analyse order cancellations\n",
    "2. visualize most important aspects using your prefered method.\n",
    "3. document steps \n",
    "4. Insights on how to reduce number of cancelled orders.\n",
    "\n",
    "**Challenge 2**\n",
    "\n",
    "-There's been deliberate deletion of data\n",
    "1. Use the data 2, missed data to predict cancellation reasons for all orders with missing data.\n",
    "2. Document steps and method used.\n",
    "\n",
    "**Challenge 3**\n",
    "\n",
    "create a presentation for the relevant work done."
   ]
  },
  {
   "cell_type": "markdown",
   "metadata": {},
   "source": [
    "# Import Packages"
   ]
  },
  {
   "cell_type": "code",
   "execution_count": null,
   "metadata": {
    "ExecuteTime": {
     "end_time": "2019-07-28T18:41:00.239260Z",
     "start_time": "2019-07-28T18:40:49.608821Z"
    }
   },
   "outputs": [],
   "source": [
    "##for faster data processing\n",
    "import numba as nb\n",
    "import dask as da\n",
    "\n",
    "#for data manipulation \n",
    "import pandas as pd\n",
    "import numpy as np\n",
    "\n",
    "##for data visualizations and distributions of the variables\n",
    "import matplotlib as mtb\n",
    "import matplotlib.pyplot as plt\n",
    "from pandas_summary import DataFrameSummary\n",
    "import scipy as sc\n",
    "import sklearn as skl\n",
    "import seaborn as sns\n",
    "\n",
    "%matplotlib inline"
   ]
  },
  {
   "cell_type": "markdown",
   "metadata": {},
   "source": [
    "# Import datasets"
   ]
  },
  {
   "cell_type": "code",
   "execution_count": null,
   "metadata": {
    "ExecuteTime": {
     "end_time": "2019-07-28T18:41:00.483490Z",
     "start_time": "2019-07-28T18:41:00.242348Z"
    }
   },
   "outputs": [],
   "source": [
    "query_df = pd.read_csv('../Sendy_data/analysis_df.csv', sep=',')\n",
    "test_df = pd.read_csv('../Sendy_data/test_df.csv', sep=',')\n"
   ]
  },
  {
   "cell_type": "markdown",
   "metadata": {},
   "source": [
    "# EDA"
   ]
  },
  {
   "cell_type": "code",
   "execution_count": null,
   "metadata": {
    "ExecuteTime": {
     "end_time": "2019-07-28T18:41:00.492362Z",
     "start_time": "2019-07-28T18:41:00.485816Z"
    }
   },
   "outputs": [],
   "source": [
    "# to view all the columns during EDA\n",
    "pd.set_option('display.max_columns', 35)"
   ]
  },
  {
   "cell_type": "code",
   "execution_count": null,
   "metadata": {
    "ExecuteTime": {
     "end_time": "2019-07-28T18:41:00.622895Z",
     "start_time": "2019-07-28T18:41:00.496989Z"
    }
   },
   "outputs": [],
   "source": [
    "#display the dataset\n",
    "query_df.head()"
   ]
  },
  {
   "cell_type": "code",
   "execution_count": null,
   "metadata": {
    "ExecuteTime": {
     "end_time": "2019-07-28T18:41:00.783782Z",
     "start_time": "2019-07-28T18:41:00.627244Z"
    }
   },
   "outputs": [],
   "source": [
    "#look at the distribution of each attribute by reviewing summary statistics\n",
    "query_df.describe()"
   ]
  },
  {
   "cell_type": "code",
   "execution_count": null,
   "metadata": {
    "ExecuteTime": {
     "end_time": "2019-07-28T18:41:00.927221Z",
     "start_time": "2019-07-28T18:41:00.787262Z"
    }
   },
   "outputs": [],
   "source": [
    "#look at the number of rows and columns in the dataset\n",
    "query_df.shape"
   ]
  },
  {
   "cell_type": "code",
   "execution_count": null,
   "metadata": {
    "ExecuteTime": {
     "end_time": "2019-07-28T18:41:01.000681Z",
     "start_time": "2019-07-28T18:41:00.931105Z"
    }
   },
   "outputs": [],
   "source": [
    "#look at the columns contained in the dataset \n",
    "query_df.columns"
   ]
  },
  {
   "cell_type": "code",
   "execution_count": null,
   "metadata": {
    "ExecuteTime": {
     "end_time": "2019-07-28T18:41:01.081965Z",
     "start_time": "2019-07-28T18:41:01.003103Z"
    }
   },
   "outputs": [],
   "source": [
    "##look at the data types of the variables\n",
    "query_df.dtypes"
   ]
  },
  {
   "cell_type": "code",
   "execution_count": null,
   "metadata": {
    "ExecuteTime": {
     "end_time": "2019-07-28T18:45:33.446237Z",
     "start_time": "2019-07-28T18:45:33.441146Z"
    }
   },
   "outputs": [],
   "source": [
    "#reset index\n",
    "query_df=query_df.reset_index()"
   ]
  },
  {
   "cell_type": "code",
   "execution_count": null,
   "metadata": {
    "ExecuteTime": {
     "end_time": "2019-07-28T19:06:48.414195Z",
     "start_time": "2019-07-28T19:06:48.402246Z"
    }
   },
   "outputs": [],
   "source": [
    "print ('Number of observations (datapoints) in the dataset:', len(query_df.index), '\\n'')\n",
    "print '- ('Mean pickup (latitude, longitude):\\n', query_df[['pickup_lat', 'pickup_long']].mean(axis=0), '\\n'')\n",
    "print '- Mean distance traveled (km):', query_df['distance_(km)'].mean(), '\\n'\n",
    "print '- Mean platform:', query_df['platform'].mean(), '\\n'\n",
    "print '- Mean vehicle_type:', query_df['vehicle_type'].mean(), '\\n'\n",
    "print '- Mean standard_or_express:', query_df['standard_or_express'].mean(), '\\n'\n"
   ]
  },
  {
   "cell_type": "markdown",
   "metadata": {},
   "source": [
    "**Review the spread of each attribute by looking at box and whisker plots.**\n"
   ]
  },
  {
   "cell_type": "code",
   "execution_count": null,
   "metadata": {
    "ExecuteTime": {
     "end_time": "2019-07-28T18:45:35.136792Z",
     "start_time": "2019-07-28T18:45:34.515152Z"
    }
   },
   "outputs": [],
   "source": [
    "fig=plt.figure(figsize=(15,6))\n",
    "query_df.boxplot(return_type='axes',\n",
    "                 patch_artist=True, notch=True,\n",
    "                    medianprops = dict(linestyle='-', linewidth=2, color='Yellow'),\n",
    "           boxprops = dict(linestyle='--', linewidth=2, color='Black', facecolor = 'blue', alpha = .75)\n",
    "                );\n",
    "plt.title('Numerical Feautures Boxplot', fontsize=20)\n",
    "plt.xticks(rotation = 45);"
   ]
  },
  {
   "cell_type": "code",
   "execution_count": null,
   "metadata": {
    "ExecuteTime": {
     "end_time": "2019-07-28T18:45:37.074749Z",
     "start_time": "2019-07-28T18:45:37.033563Z"
    }
   },
   "outputs": [],
   "source": [
    "query_df.corr()"
   ]
  },
  {
   "cell_type": "code",
   "execution_count": null,
   "metadata": {
    "ExecuteTime": {
     "end_time": "2019-07-28T18:45:38.069877Z",
     "start_time": "2019-07-28T18:45:37.276198Z"
    }
   },
   "outputs": [],
   "source": [
    "# Plot correlation matrix\n",
    "plt.figure(figsize=(15,10))\n",
    "sns.heatmap(query_df.corr(), annot=True, fmt=\".1f\")\n",
    "plt.show()"
   ]
  },
  {
   "cell_type": "markdown",
   "metadata": {},
   "source": [
    "# Analyse the order cancellations"
   ]
  },
  {
   "cell_type": "code",
   "execution_count": null,
   "metadata": {
    "ExecuteTime": {
     "end_time": "2019-07-28T05:29:41.382557Z",
     "start_time": "2019-07-28T05:29:41.368852Z"
    }
   },
   "outputs": [],
   "source": [
    "#query_df['cancel_reason'].plot(kind='hist', bin=100)\n",
    "#plt.xlabel(\"cancel reasons\")\n",
    "query_df['cancel_reason'].describe()"
   ]
  },
  {
   "cell_type": "code",
   "execution_count": null,
   "metadata": {
    "ExecuteTime": {
     "end_time": "2019-07-28T05:29:42.596465Z",
     "start_time": "2019-07-28T05:29:42.584378Z"
    }
   },
   "outputs": [],
   "source": [
    "query_df['cancel_reason'].value_counts()"
   ]
  },
  {
   "cell_type": "code",
   "execution_count": null,
   "metadata": {
    "ExecuteTime": {
     "end_time": "2019-07-28T19:09:48.175492Z",
     "start_time": "2019-07-28T19:09:47.858196Z"
    }
   },
   "outputs": [],
   "source": [
    "query_df['cancel_reason'].value_counts().plot(kind='bar')\n",
    "plt.xticks(rotation = 90);"
   ]
  },
  {
   "cell_type": "markdown",
   "metadata": {},
   "source": [
    "**The main reasons for cancellations observed was that no driver has been allocated to my request.**"
   ]
  },
  {
   "cell_type": "code",
   "execution_count": null,
   "metadata": {
    "ExecuteTime": {
     "end_time": "2019-07-28T19:10:02.077966Z",
     "start_time": "2019-07-28T19:10:01.369770Z"
    }
   },
   "outputs": [],
   "source": [
    "%matplotlib inline\n",
    "#fig=plt.figure(figsize=(20,10))\n",
    "\n",
    "from matplotlib.ticker import FuncFormatter\n",
    "query_df.groupby(['cancel_reason','platform'])['cancel_reason','platform'].count().plot.bar(figsize=(10,6))\n",
    "\n",
    "plt.xlabel(\"Cancel_reason\")\n",
    "plt.ylabel(\"Platform\")\n",
    "plt.title('Platform with cancel reasons', fontsize=20)\n",
    "plt.xticks(rotation = 90);\n"
   ]
  },
  {
   "cell_type": "code",
   "execution_count": null,
   "metadata": {
    "ExecuteTime": {
     "end_time": "2019-07-28T19:11:45.250904Z",
     "start_time": "2019-07-28T19:11:45.240354Z"
    }
   },
   "outputs": [],
   "source": [
    "query_df['vehicle_type'].value_counts()"
   ]
  },
  {
   "cell_type": "markdown",
   "metadata": {},
   "source": [
    "This shows that the most popular reason for order cancellation was No driver has been allocated to my request mainly using an android device. \n",
    "\n",
    "This followed by No driver has been allocated to my request mainly using a desktop."
   ]
  },
  {
   "cell_type": "code",
   "execution_count": null,
   "metadata": {
    "ExecuteTime": {
     "end_time": "2019-07-28T19:13:25.286843Z",
     "start_time": "2019-07-28T19:13:24.731445Z"
    }
   },
   "outputs": [],
   "source": [
    "%matplotlib inline\n",
    "#fig=plt.figure(figsize=(20,10))\n",
    "\n",
    "from matplotlib.ticker import FuncFormatter\n",
    "query_df.groupby(['cancel_reason','vehicle_type'])['cancel_reason','vehicle_type'].count().plot.bar(figsize=(10,6))\n",
    "\n",
    "plt.xlabel(\"Cancel_reason\")\n",
    "plt.ylabel(\"vehicle_type\")\n",
    "plt.title('vehicle_types with cancel reasons', fontsize=20)\n",
    "plt.xticks(rotation = 90);"
   ]
  },
  {
   "cell_type": "code",
   "execution_count": null,
   "metadata": {
    "ExecuteTime": {
     "end_time": "2019-07-28T19:02:44.614881Z",
     "start_time": "2019-07-28T19:02:40.740654Z"
    }
   },
   "outputs": [],
   "source": [
    "query_df.groupby('scheduled').hist(figsize=(10,6))"
   ]
  },
  {
   "cell_type": "code",
   "execution_count": null,
   "metadata": {
    "ExecuteTime": {
     "end_time": "2019-07-28T19:14:37.476397Z",
     "start_time": "2019-07-28T19:14:34.442792Z"
    }
   },
   "outputs": [],
   "source": [
    "query_df.groupby('scheduled').hist(figsize=(10,6))"
   ]
  },
  {
   "cell_type": "code",
   "execution_count": null,
   "metadata": {
    "ExecuteTime": {
     "end_time": "2019-07-28T19:15:13.456785Z",
     "start_time": "2019-07-28T19:15:13.449761Z"
    }
   },
   "outputs": [],
   "source": [
    "query_df.columns.tolist"
   ]
  },
  {
   "cell_type": "code",
   "execution_count": null,
   "metadata": {
    "ExecuteTime": {
     "start_time": "2019-07-28T19:17:57.792Z"
    }
   },
   "outputs": [],
   "source": [
    "plt.rcParams['figure.figsize'] = (10, 10)\n",
    " \n",
    "plt.hist(query_df['distance_(km)'], bins=25, range=[0, 15]); plt.xlabel('Trip distance (km)')\n",
    "plt.ylabel('No. of observations'); plt.title('Histogram of trips by distance')\n",
    "plt.show()\n",
    " \n",
    "plt.hist(query_df['vehicle_type'], bins=25, range=[0, 75]); plt.xlabel('vehicle_type ')\n",
    "plt.ylabel('No. of observations'); plt.title('Histogram of trips by vehicle_type')\n",
    "plt.show()\n",
    " \n",
    "plt.hist(query_df['scheduled'], bins=25, range=[0, 15]); plt.xlabel(' scheduled trips')\n",
    "plt.ylabel('No. of observations'); plt.title('Histogram of scheduled trips')\n",
    "plt.show()"
   ]
  },
  {
   "cell_type": "code",
   "execution_count": null,
   "metadata": {},
   "outputs": [],
   "source": [
    "plt.scatter(taxi_data['dropoff_longitude'][samples], taxi_data['dropoff_latitude'][samples], c='r', alpha=0.75)\n",
    "plt.show()"
   ]
  },
  {
   "cell_type": "code",
   "execution_count": null,
   "metadata": {},
   "outputs": [],
   "source": [
    "weekdayAverage= weekday/30\n",
    "weekdayAverage.head()"
   ]
  },
  {
   "cell_type": "code",
   "execution_count": null,
   "metadata": {},
   "outputs": [],
   "source": [
    "weekdayAverage.plot(kind='bar')\n",
    "plt.ylabel('Average Rides Per Day')\n",
    "plt.title('Average Rides per Day vs Day of Week')"
   ]
  },
  {
   "cell_type": "code",
   "execution_count": null,
   "metadata": {},
   "outputs": [],
   "source": [
    "cancellation time -placement time range "
   ]
  },
  {
   "cell_type": "code",
   "execution_count": null,
   "metadata": {},
   "outputs": [],
   "source": [
    "check personalor business"
   ]
  },
  {
   "cell_type": "code",
   "execution_count": null,
   "metadata": {},
   "outputs": [],
   "source": [
    "df.groupby(['category','sex']).B.count().unstack().reset_index()\\\n",
    ".plot.bar(x = 'category', y = ['f', 'm'])"
   ]
  },
  {
   "cell_type": "code",
   "execution_count": null,
   "metadata": {},
   "outputs": [],
   "source": []
  },
  {
   "cell_type": "code",
   "execution_count": null,
   "metadata": {},
   "outputs": [],
   "source": [
    "import seaborn as sns\n",
    "sns.set(style=\"whitegrid\")\n",
    "\n",
    "g = sns.factorplot(x=\"office_id\", y=\"sales\", hue=\"state\", data=flat_df, kind=\"bar\", palette=\"muted\")"
   ]
  },
  {
   "cell_type": "code",
   "execution_count": null,
   "metadata": {},
   "outputs": [],
   "source": [
    "#count the number of rows for each carrier\n",
    "zwuup_df['context_network_wifi'].value_counts().plot.pie(autopct='%1.1f%%')\n",
    "\n",
    "# add a circle at the center\n",
    "\n",
    "my_circle=plt.Circle( (0,0), 0.7, color='white')\n",
    "\n",
    "p=plt.gcf()\n",
    "p.gca().add_artist(my_circle)"
   ]
  }
 ],
 "metadata": {
  "kernelspec": {
   "display_name": "Python 3",
   "language": "python",
   "name": "python3"
  },
  "language_info": {
   "codemirror_mode": {
    "name": "ipython",
    "version": 3
   },
   "file_extension": ".py",
   "mimetype": "text/x-python",
   "name": "python",
   "nbconvert_exporter": "python",
   "pygments_lexer": "ipython3",
   "version": "3.6.5"
  },
  "toc": {
   "base_numbering": 1,
   "nav_menu": {},
   "number_sections": true,
   "sideBar": true,
   "skip_h1_title": false,
   "title_cell": "Table of Contents",
   "title_sidebar": "Contents",
   "toc_cell": false,
   "toc_position": {},
   "toc_section_display": true,
   "toc_window_display": false
  }
 },
 "nbformat": 4,
 "nbformat_minor": 2
}
