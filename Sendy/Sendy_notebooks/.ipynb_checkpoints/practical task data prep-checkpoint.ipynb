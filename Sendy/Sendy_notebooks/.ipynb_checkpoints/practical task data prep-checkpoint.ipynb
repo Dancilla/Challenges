{
 "cells": [
  {
   "cell_type": "markdown",
   "metadata": {},
   "source": [
    "# Problem Statement "
   ]
  },
  {
   "cell_type": "markdown",
   "metadata": {},
   "source": [
    "\n",
    "Data preparation for analysis will be done in this notebook"
   ]
  },
  {
   "cell_type": "markdown",
   "metadata": {},
   "source": [
    "# Import packages"
   ]
  },
  {
   "cell_type": "code",
   "execution_count": null,
   "metadata": {
    "ExecuteTime": {
     "end_time": "2019-07-27T09:40:58.445776Z",
     "start_time": "2019-07-27T09:40:57.200997Z"
    }
   },
   "outputs": [],
   "source": [
    "##for faster data processing\n",
    "import numba as nb\n",
    "import dask as da\n",
    "\n",
    "#for data manipulation \n",
    "import pandas as pd\n",
    "import numpy as np\n",
    "\n",
    "##for data visualizations and distributions of the variables\n",
    "import matplotlib as mtb\n",
    "import matplotlib.pyplot as plt\n",
    "from pandas_summary import DataFrameSummary\n",
    "import scipy as sc\n",
    "import sklearn as skl\n",
    "\n",
    "from datetime import datetime"
   ]
  },
  {
   "cell_type": "markdown",
   "metadata": {},
   "source": [
    "# Import dataset"
   ]
  },
  {
   "cell_type": "code",
   "execution_count": null,
   "metadata": {
    "ExecuteTime": {
     "end_time": "2019-07-27T09:40:58.455134Z",
     "start_time": "2019-07-27T09:40:58.449248Z"
    }
   },
   "outputs": [],
   "source": [
    "#import pandas as pd\n",
    "\n",
    "#import sendy data into a dataframehttp://localhost:8888/notebooks/projects/Challenges/Sendy/Sendy_notebooks/sendy_practical%20_task.ipynb#Import-dataset\n",
    "#xls = pd.ExcelFile('../Sendy_data/Data_Analyst_Data_for_Case_Study.xlsx')\n",
    "\n",
    "#query_results_df = pd.read_excel(xls, 'Query_result')\n",
    "#missed_cancellation = pd.read_excel(xls, 'Missing_Cancel_Reason')"
   ]
  },
  {
   "cell_type": "code",
   "execution_count": null,
   "metadata": {
    "ExecuteTime": {
     "end_time": "2019-07-27T09:40:58.594797Z",
     "start_time": "2019-07-27T09:40:58.461457Z"
    }
   },
   "outputs": [],
   "source": [
    "#read the data file\n",
    "query_df = pd.read_csv('../Sendy_data/query_result.csv', sep=',')\n",
    "missed_cancellation_df = pd.read_csv('../Sendy_data/missing_cancellation_reason.csv', sep=',')\n"
   ]
  },
  {
   "cell_type": "code",
   "execution_count": null,
   "metadata": {
    "ExecuteTime": {
     "end_time": "2019-07-27T09:40:58.699666Z",
     "start_time": "2019-07-27T09:40:58.599620Z"
    }
   },
   "outputs": [],
   "source": [
    "#Look at the last rows from the query_df dataset\n",
    "query_df.tail(10)\n",
    "#query_results_df.head()"
   ]
  },
  {
   "cell_type": "code",
   "execution_count": null,
   "metadata": {
    "ExecuteTime": {
     "end_time": "2019-07-27T09:40:58.804668Z",
     "start_time": "2019-07-27T09:40:58.704138Z"
    }
   },
   "outputs": [],
   "source": [
    "#Look at a couple of rows from the query_df dataset\n",
    "query_df.sample(5)"
   ]
  },
  {
   "cell_type": "code",
   "execution_count": null,
   "metadata": {
    "ExecuteTime": {
     "end_time": "2019-07-27T09:40:58.887257Z",
     "start_time": "2019-07-27T09:40:58.808795Z"
    }
   },
   "outputs": [],
   "source": [
    "query_df.head()"
   ]
  },
  {
   "cell_type": "code",
   "execution_count": null,
   "metadata": {
    "ExecuteTime": {
     "end_time": "2019-07-27T09:40:58.959372Z",
     "start_time": "2019-07-27T09:40:58.889877Z"
    }
   },
   "outputs": [],
   "source": [
    "# drop last n rows\n",
    "#drop the created bottom rows with Nan\n",
    "query_df.drop(query_df.tail(8).index,inplace=True) \n"
   ]
  },
  {
   "cell_type": "code",
   "execution_count": null,
   "metadata": {
    "ExecuteTime": {
     "end_time": "2019-07-27T09:40:59.071815Z",
     "start_time": "2019-07-27T09:40:58.961940Z"
    }
   },
   "outputs": [],
   "source": [
    "query_df.tail()"
   ]
  },
  {
   "cell_type": "code",
   "execution_count": null,
   "metadata": {
    "ExecuteTime": {
     "end_time": "2019-07-27T09:40:59.153663Z",
     "start_time": "2019-07-27T09:40:59.074926Z"
    }
   },
   "outputs": [],
   "source": [
    "query_df.shape\n"
   ]
  },
  {
   "cell_type": "code",
   "execution_count": null,
   "metadata": {
    "ExecuteTime": {
     "end_time": "2019-07-27T09:40:59.242851Z",
     "start_time": "2019-07-27T09:40:59.156761Z"
    },
    "scrolled": true
   },
   "outputs": [],
   "source": [
    "missed_cancellation_df.drop(missed_cancellation_df.tail(8).index,inplace=True) \n"
   ]
  },
  {
   "cell_type": "code",
   "execution_count": null,
   "metadata": {
    "ExecuteTime": {
     "end_time": "2019-07-27T09:40:59.408326Z",
     "start_time": "2019-07-27T09:40:59.246172Z"
    }
   },
   "outputs": [],
   "source": [
    "missed_cancellation_df.tail()"
   ]
  },
  {
   "cell_type": "code",
   "execution_count": null,
   "metadata": {
    "ExecuteTime": {
     "end_time": "2019-07-27T09:40:59.478304Z",
     "start_time": "2019-07-27T09:40:59.412490Z"
    }
   },
   "outputs": [],
   "source": [
    "missed_cancellation_df.shape"
   ]
  },
  {
   "cell_type": "markdown",
   "metadata": {},
   "source": [
    "## List columns"
   ]
  },
  {
   "cell_type": "code",
   "execution_count": null,
   "metadata": {
    "ExecuteTime": {
     "end_time": "2019-07-27T09:41:00.114672Z",
     "start_time": "2019-07-27T09:41:00.109225Z"
    }
   },
   "outputs": [],
   "source": [
    "query_df.columns.tolist"
   ]
  },
  {
   "cell_type": "code",
   "execution_count": null,
   "metadata": {
    "ExecuteTime": {
     "end_time": "2019-07-27T09:41:00.710516Z",
     "start_time": "2019-07-27T09:41:00.695986Z"
    }
   },
   "outputs": [],
   "source": [
    "missed_cancellation_df.columns.tolist"
   ]
  },
  {
   "cell_type": "markdown",
   "metadata": {},
   "source": [
    "## Rename columns"
   ]
  },
  {
   "cell_type": "code",
   "execution_count": null,
   "metadata": {
    "ExecuteTime": {
     "end_time": "2019-07-27T09:41:01.478732Z",
     "start_time": "2019-07-27T09:41:01.468572Z"
    }
   },
   "outputs": [],
   "source": [
    "# Rename columns using a dictionary to map values\n",
    "\n",
    "query_df.rename(columns={'Personal or Business':'personal_or_Business', 'Business Number':'Business_Number', 'Vehicle Type':'Vehicle_Type', \n",
    "                                 'Standard or Express':'Standard_or_Express', 'Cancel Reason':'Cancel_Reason', 'Cancelled by':'Cancelled_by',\n",
    "                                 'Placement Day':'Placement_Day', 'Placement Time':'placement_time', 'Confirmation Day':'Confirmation_Day',\n",
    "                                'Confirmation Time':'Confirmation_Time', 'Cancellation Day':'Cancellation_Day', 'Cancellation Time':'Cancellation_time',\n",
    "                                'Distance (KM)':'Distance_(KM)', 'Pickup Lat':'Pickup_Lat', 'Pickup Long':'Pickup_Long'}, inplace=True)"
   ]
  },
  {
   "cell_type": "code",
   "execution_count": null,
   "metadata": {
    "ExecuteTime": {
     "end_time": "2019-07-27T09:41:01.706373Z",
     "start_time": "2019-07-27T09:41:01.695194Z"
    }
   },
   "outputs": [],
   "source": [
    "missed_cancellation_df.rename(columns={'Personal or Business':'personal_or_Business', 'Business Number':'Business_Number', 'Vehicle Type':'Vehicle_Type', \n",
    "                                 'Standard or Express':'Standard_or_Express', 'Cancel Reason':'Cancel_Reason', 'Cancelled by':'Cancelled_by',\n",
    "                                 'Placement Day':'Placement_Day', 'Placement Time':'placement_time', 'Confirmation Day':'Confirmation_Day',\n",
    "                                'Confirmation Time':'Confirmation_Time', 'Cancellation Day':'Cancellation_Day', 'Cancellation Time':'Cancellation_time',\n",
    "                                'Distance (KM)':'Distance_(KM)', 'Pickup Lat':'Pickup_Lat', 'Pickup Long':'Pickup_Long'}, inplace=True)"
   ]
  },
  {
   "cell_type": "code",
   "execution_count": null,
   "metadata": {
    "ExecuteTime": {
     "end_time": "2019-07-27T09:41:01.908067Z",
     "start_time": "2019-07-27T09:41:01.901328Z"
    }
   },
   "outputs": [],
   "source": [
    "missed_cancellation_df.columns.tolist"
   ]
  },
  {
   "cell_type": "code",
   "execution_count": null,
   "metadata": {
    "ExecuteTime": {
     "end_time": "2019-07-27T09:41:02.123138Z",
     "start_time": "2019-07-27T09:41:02.119590Z"
    }
   },
   "outputs": [],
   "source": [
    "#change all the column names to lower case names\n",
    "query_df.columns = map(str.lower, query_df.columns)"
   ]
  },
  {
   "cell_type": "code",
   "execution_count": null,
   "metadata": {
    "ExecuteTime": {
     "end_time": "2019-07-27T09:41:02.375902Z",
     "start_time": "2019-07-27T09:41:02.367849Z"
    }
   },
   "outputs": [],
   "source": [
    "query_df.columns"
   ]
  },
  {
   "cell_type": "code",
   "execution_count": null,
   "metadata": {
    "ExecuteTime": {
     "end_time": "2019-07-27T09:41:02.684683Z",
     "start_time": "2019-07-27T09:41:02.675829Z"
    }
   },
   "outputs": [],
   "source": [
    "#change all the column names to lower case names\n",
    "missed_cancellation_df.columns = map(str.lower, missed_cancellation_df.columns)"
   ]
  },
  {
   "cell_type": "code",
   "execution_count": null,
   "metadata": {
    "ExecuteTime": {
     "end_time": "2019-07-27T09:41:03.004970Z",
     "start_time": "2019-07-27T09:41:02.995634Z"
    }
   },
   "outputs": [],
   "source": [
    "missed_cancellation_df.columns"
   ]
  },
  {
   "cell_type": "markdown",
   "metadata": {},
   "source": [
    "## Check for Nan"
   ]
  },
  {
   "cell_type": "code",
   "execution_count": null,
   "metadata": {
    "ExecuteTime": {
     "end_time": "2019-07-27T09:41:03.646387Z",
     "start_time": "2019-07-27T09:41:03.629813Z"
    }
   },
   "outputs": [],
   "source": [
    "query_df.isnull().any()"
   ]
  },
  {
   "cell_type": "markdown",
   "metadata": {},
   "source": [
    "Null values are in 3 variables, the business number, confirmation_day and confirmation_time"
   ]
  },
  {
   "cell_type": "code",
   "execution_count": null,
   "metadata": {
    "ExecuteTime": {
     "end_time": "2019-07-27T09:41:04.674207Z",
     "start_time": "2019-07-27T09:41:04.659602Z"
    }
   },
   "outputs": [],
   "source": [
    "query_df.isnull().sum()"
   ]
  },
  {
   "cell_type": "code",
   "execution_count": null,
   "metadata": {
    "ExecuteTime": {
     "end_time": "2019-07-27T09:41:04.908846Z",
     "start_time": "2019-07-27T09:41:04.902443Z"
    }
   },
   "outputs": [],
   "source": [
    "query_df.shape"
   ]
  },
  {
   "cell_type": "code",
   "execution_count": null,
   "metadata": {
    "ExecuteTime": {
     "end_time": "2019-07-27T09:41:05.172892Z",
     "start_time": "2019-07-27T09:41:05.164190Z"
    }
   },
   "outputs": [],
   "source": [
    "#show the dimensions\n",
    "query_df.ndim"
   ]
  },
  {
   "cell_type": "code",
   "execution_count": null,
   "metadata": {
    "ExecuteTime": {
     "end_time": "2019-07-27T09:41:05.470270Z",
     "start_time": "2019-07-27T09:41:05.460189Z"
    }
   },
   "outputs": [],
   "source": [
    "missed_cancellation_df.isnull().any()"
   ]
  },
  {
   "cell_type": "code",
   "execution_count": null,
   "metadata": {
    "ExecuteTime": {
     "end_time": "2019-07-27T09:41:05.790387Z",
     "start_time": "2019-07-27T09:41:05.781939Z"
    }
   },
   "outputs": [],
   "source": [
    "missed_cancellation_df.isnull().sum()"
   ]
  },
  {
   "cell_type": "markdown",
   "metadata": {},
   "source": [
    "According to observation both data sets have null values on the same columns i.e. business_number, confirmation_day,confirmation_time\n",
    "except for the missed cancellation datasets which has null values on the cancel reason column. this will be worked on later"
   ]
  },
  {
   "cell_type": "markdown",
   "metadata": {
    "ExecuteTime": {
     "end_time": "2019-07-26T13:06:52.507254Z",
     "start_time": "2019-07-26T13:06:52.501602Z"
    }
   },
   "source": [
    "**Observe if the nature of the null values and if the nulls fall under the same indexes**"
   ]
  },
  {
   "cell_type": "code",
   "execution_count": null,
   "metadata": {
    "ExecuteTime": {
     "end_time": "2019-07-27T09:41:06.856711Z",
     "start_time": "2019-07-27T09:41:06.771120Z"
    }
   },
   "outputs": [],
   "source": [
    "query_df[query_df.isnull().values.any(axis=1)]"
   ]
  },
  {
   "cell_type": "code",
   "execution_count": null,
   "metadata": {
    "ExecuteTime": {
     "end_time": "2019-07-27T09:41:07.578616Z",
     "start_time": "2019-07-27T09:41:07.486301Z"
    }
   },
   "outputs": [],
   "source": [
    "missed_cancellation_df[missed_cancellation_df.isnull().values.any(axis=1)]"
   ]
  },
  {
   "cell_type": "markdown",
   "metadata": {},
   "source": [
    "Deal with the null values "
   ]
  },
  {
   "cell_type": "markdown",
   "metadata": {},
   "source": [
    "**Business number**\n",
    "\n",
    "Create a dataframe for those with and without a business number "
   ]
  },
  {
   "cell_type": "code",
   "execution_count": null,
   "metadata": {
    "ExecuteTime": {
     "end_time": "2019-07-27T09:41:09.840020Z",
     "start_time": "2019-07-27T09:41:09.836129Z"
    }
   },
   "outputs": [],
   "source": [
    "#replace all the missing values with -1\n",
    "query_df['business_number'].fillna(-1, inplace=True)"
   ]
  },
  {
   "cell_type": "markdown",
   "metadata": {},
   "source": [
    "**confirmation_day**"
   ]
  },
  {
   "cell_type": "code",
   "execution_count": null,
   "metadata": {
    "ExecuteTime": {
     "end_time": "2019-07-27T09:41:12.958425Z",
     "start_time": "2019-07-27T09:41:12.949806Z"
    }
   },
   "outputs": [],
   "source": [
    "query_df['confirmation_day'].fillna(-1, inplace=True)"
   ]
  },
  {
   "cell_type": "code",
   "execution_count": null,
   "metadata": {
    "ExecuteTime": {
     "end_time": "2019-07-27T09:41:13.226404Z",
     "start_time": "2019-07-27T09:41:13.222653Z"
    }
   },
   "outputs": [],
   "source": [
    "#with_business_number=query_df[query_df['business_number'].notnull()].reset_index()\n",
    "#without_business_number=query_df[query_df['business_number'].isnull()].reset_index()"
   ]
  },
  {
   "cell_type": "code",
   "execution_count": null,
   "metadata": {
    "ExecuteTime": {
     "end_time": "2019-07-27T09:41:14.131581Z",
     "start_time": "2019-07-27T09:41:14.126054Z"
    }
   },
   "outputs": [],
   "source": [
    "missed_cancellation_df['business_number'].fillna(-1, inplace=True)"
   ]
  },
  {
   "cell_type": "code",
   "execution_count": null,
   "metadata": {
    "ExecuteTime": {
     "end_time": "2019-07-27T09:41:14.431328Z",
     "start_time": "2019-07-27T09:41:14.427436Z"
    }
   },
   "outputs": [],
   "source": [
    "missed_cancellation_df['confirmation_day'].fillna(-1, inplace=True)"
   ]
  },
  {
   "cell_type": "markdown",
   "metadata": {},
   "source": [
    "## Change data types"
   ]
  },
  {
   "cell_type": "markdown",
   "metadata": {},
   "source": [
    "**A data type, in programming, is a classification that specifies which type of value \n",
    "a variable has and what type of mathematical, relational or logical operations can be applied to it without causing an error.** \n",
    "\n",
    "\n",
    "1. The Personal or Business is a object but it should be an bool\n",
    "2. The business_number is a float64 but it should be an int64\n",
    "3. The Standard or Express is a float64 but it should be an bool.\n",
    "4. The placement_time, confirmation_time, cancellation_time is a object instead of datetime64[ns]\n",
    "5. **The cancelled_by is a object but it should be an bool\n",
    "6. **The vehicle_type is a object but it should be an bool\n",
    "7. **The scheduled is a object but it should be an bool\n",
    "8. **The placement_day is a float but it should be an datetime64[ns]\n",
    "9. **The confirmation_day is a float but it should be an datetime64[ns]\n",
    "10. **The cancellation_day is a float but it should be an datetime64[ns]\n",
    "11. The distance_(km) is a float64 but it should be an int64\n",
    "convert data types in pandas, Use astype() to force an appropriate dtype"
   ]
  },
  {
   "cell_type": "code",
   "execution_count": null,
   "metadata": {
    "ExecuteTime": {
     "end_time": "2019-07-27T09:41:16.721999Z",
     "start_time": "2019-07-27T09:41:16.699164Z"
    }
   },
   "outputs": [],
   "source": [
    "query_df.info()"
   ]
  },
  {
   "cell_type": "code",
   "execution_count": null,
   "metadata": {
    "ExecuteTime": {
     "end_time": "2019-07-27T09:41:17.430493Z",
     "start_time": "2019-07-27T09:41:17.423822Z"
    }
   },
   "outputs": [],
   "source": [
    "query_df.get_dtype_counts()"
   ]
  },
  {
   "cell_type": "markdown",
   "metadata": {},
   "source": [
    "The total number of entries is 6398 with both categorical and numerical data. "
   ]
  },
  {
   "cell_type": "code",
   "execution_count": null,
   "metadata": {
    "ExecuteTime": {
     "end_time": "2019-07-27T09:41:22.290424Z",
     "start_time": "2019-07-27T09:41:22.285831Z"
    }
   },
   "outputs": [],
   "source": [
    "query_df['business_number']=query_df['business_number'].astype('int64', inplace=True)"
   ]
  },
  {
   "cell_type": "markdown",
   "metadata": {},
   "source": [
    "### Convert time to pandas datetime"
   ]
  },
  {
   "cell_type": "markdown",
   "metadata": {},
   "source": [
    "**query_df**"
   ]
  },
  {
   "cell_type": "code",
   "execution_count": null,
   "metadata": {
    "ExecuteTime": {
     "end_time": "2019-07-27T09:41:28.489437Z",
     "start_time": "2019-07-27T09:41:25.643019Z"
    }
   },
   "outputs": [],
   "source": [
    "# Convert date to pandas date_time\n",
    "query_df['placement_time'] =  query_df['placement_time'].apply(pd.to_datetime, errors='coerce') \n",
    "query_df['confirmation_time'] =  query_df['confirmation_time'].apply(pd.to_datetime, errors='coerce') \n",
    "query_df['cancellation_time'] =  query_df['cancellation_time'].apply(pd.to_datetime, errors='coerce') \n"
   ]
  },
  {
   "cell_type": "code",
   "execution_count": null,
   "metadata": {
    "ExecuteTime": {
     "end_time": "2019-07-27T09:41:28.502880Z",
     "start_time": "2019-07-27T09:41:28.492746Z"
    }
   },
   "outputs": [],
   "source": [
    "#show total number of values of the column cancellation day\n",
    "query_df['cancellation_day'].value_counts()"
   ]
  },
  {
   "cell_type": "code",
   "execution_count": null,
   "metadata": {
    "ExecuteTime": {
     "end_time": "2019-07-27T09:41:39.485567Z",
     "start_time": "2019-07-27T09:41:39.474939Z"
    }
   },
   "outputs": [],
   "source": [
    "query_df['cancellation_day'] =  query_df['cancellation_day'].astype('int64', inplace=True) \n",
    "query_df['placement_day'] =  query_df['cancellation_day'].astype('int64', inplace=True) \n",
    "query_df['confirmation_day'] =  query_df['cancellation_day'].astype('int64', inplace=True) \n"
   ]
  },
  {
   "cell_type": "markdown",
   "metadata": {},
   "source": [
    "#### Add columns for weekday and weekend names"
   ]
  },
  {
   "cell_type": "code",
   "execution_count": null,
   "metadata": {
    "ExecuteTime": {
     "end_time": "2019-07-27T09:41:40.328474Z",
     "start_time": "2019-07-27T09:41:40.290470Z"
    }
   },
   "outputs": [],
   "source": [
    "query_df.head()"
   ]
  },
  {
   "cell_type": "code",
   "execution_count": null,
   "metadata": {
    "ExecuteTime": {
     "end_time": "2019-07-27T09:41:40.811618Z",
     "start_time": "2019-07-27T09:41:40.802981Z"
    }
   },
   "outputs": [],
   "source": [
    "query_df['business_number']=query_df['business_number'].astype('int64', inplace=True)"
   ]
  },
  {
   "cell_type": "markdown",
   "metadata": {},
   "source": [
    "**missed_cancellation_df**"
   ]
  },
  {
   "cell_type": "code",
   "execution_count": null,
   "metadata": {},
   "outputs": [],
   "source": [
    "missed_cancellation_df['business_number']=missed_cancellation_df['business_number'].astype('int64', inplace=True)"
   ]
  },
  {
   "cell_type": "code",
   "execution_count": null,
   "metadata": {},
   "outputs": [],
   "source": [
    "# Convert date to pandas date_time\n",
    "missed_cancellation_df['placement_time'] =  missed_cancellation_df['placement_time'].apply(pd.to_datetime, errors='coerce') \n",
    "missed_cancellation_df['confirmation_time'] =  missed_cancellation_df['confirmation_time'].apply(pd.to_datetime, errors='coerce') \n",
    "missed_cancellation_df['cancellation_time'] =  missed_cancellation_df['cancellation_time'].apply(pd.to_datetime, errors='coerce') \n"
   ]
  },
  {
   "cell_type": "code",
   "execution_count": null,
   "metadata": {},
   "outputs": [],
   "source": []
  },
  {
   "cell_type": "code",
   "execution_count": null,
   "metadata": {},
   "outputs": [],
   "source": []
  },
  {
   "cell_type": "code",
   "execution_count": null,
   "metadata": {},
   "outputs": [],
   "source": [
    "with_network.to_csv(\"with_network.csv\", sep=\"|\")"
   ]
  }
 ],
 "metadata": {
  "kernelspec": {
   "display_name": "Python 3",
   "language": "python",
   "name": "python3"
  },
  "language_info": {
   "codemirror_mode": {
    "name": "ipython",
    "version": 3
   },
   "file_extension": ".py",
   "mimetype": "text/x-python",
   "name": "python",
   "nbconvert_exporter": "python",
   "pygments_lexer": "ipython3",
   "version": "3.6.5"
  },
  "toc": {
   "base_numbering": 1,
   "nav_menu": {},
   "number_sections": true,
   "sideBar": true,
   "skip_h1_title": false,
   "title_cell": "Table of Contents",
   "title_sidebar": "Contents",
   "toc_cell": false,
   "toc_position": {},
   "toc_section_display": true,
   "toc_window_display": false
  }
 },
 "nbformat": 4,
 "nbformat_minor": 2
}
