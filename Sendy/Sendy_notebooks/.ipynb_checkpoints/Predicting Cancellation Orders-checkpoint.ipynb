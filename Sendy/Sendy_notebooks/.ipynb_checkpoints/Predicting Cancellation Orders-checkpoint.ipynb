{
 "cells": [
  {
   "cell_type": "code",
   "execution_count": 1,
   "metadata": {
    "ExecuteTime": {
     "end_time": "2019-07-30T09:50:15.945387Z",
     "start_time": "2019-07-30T09:50:15.625795Z"
    }
   },
   "outputs": [
    {
     "name": "stdout",
     "output_type": "stream",
     "text": [
      "Populating the interactive namespace from numpy and matplotlib\n"
     ]
    }
   ],
   "source": [
    "%pylab inline"
   ]
  },
  {
   "cell_type": "markdown",
   "metadata": {},
   "source": [
    "# Problem Statement"
   ]
  },
  {
   "cell_type": "markdown",
   "metadata": {},
   "source": [
    "**Data Analysis case study**\n",
    "\n",
    "I am working on a logistic problem where they have faced cancellation of orders in their deliveries. \n",
    "Their main goal is to be the 1st prefered delivery partner in Africa.\n",
    "\n",
    "**Challenge 2**\n",
    "\n",
    "-There's been deliberate deletion of data\n",
    "1. Use the data 2, missed data to predict cancellation reasons for all orders with missing data.\n",
    "2. Document steps and method used.\n",
    "\n",
    "How to predict cancellation reasons\n",
    "Our algorithm will be a multi-class classification machine learning algorithm which involves the following steps:\n",
    "\n",
    "1. Importing libraries\n",
    "2. Fetching the dataset\n",
    "3. Creating the dependent variable class\n",
    "4. Extracting features and output\n",
    "5. Train-Test dataset splitting (include test dataset as holdout data)\n",
    "6. Feature scaling\n",
    "7. Training the model\n",
    "8. Calculating the model score using the metric deemed fit based on the problem\n",
    "9. Saving the model for predicting cancellation reasons on the test dataset"
   ]
  },
  {
   "cell_type": "code",
   "execution_count": 103,
   "metadata": {
    "ExecuteTime": {
     "end_time": "2019-07-30T10:32:24.285104Z",
     "start_time": "2019-07-30T10:32:24.279157Z"
    }
   },
   "outputs": [],
   "source": [
    "##for faster data processing\n",
    "import numba as nb\n",
    "import dask as da\n",
    "\n",
    "#for data manipulation \n",
    "import pandas as pd\n",
    "import numpy as np\n",
    "\n",
    "##for data visualizations, distribution  and prediction of the variables\n",
    "from pandas_summary import DataFrameSummary\n",
    "import scipy as sc\n",
    "import sklearn as skl #used for splitting data into test and train and training the random forest.\n",
    "\n",
    "import seaborn as sns\n",
    "\n",
    "import random"
   ]
  },
  {
   "cell_type": "markdown",
   "metadata": {},
   "source": [
    "# Import Dataset"
   ]
  },
  {
   "cell_type": "code",
   "execution_count": 138,
   "metadata": {
    "ExecuteTime": {
     "end_time": "2019-07-30T10:43:51.982408Z",
     "start_time": "2019-07-30T10:43:51.913277Z"
    }
   },
   "outputs": [],
   "source": [
    "# I’ll start by using pandas.read_csv() library to read both files \n",
    "query_df = pd.read_csv('../Sendy_data/prediction_df.csv', sep=',')\n",
    "test_df = pd.read_csv('../Sendy_data/test_df.csv', sep=',')\n"
   ]
  },
  {
   "cell_type": "code",
   "execution_count": 139,
   "metadata": {
    "ExecuteTime": {
     "end_time": "2019-07-30T10:43:52.513128Z",
     "start_time": "2019-07-30T10:43:52.480119Z"
    }
   },
   "outputs": [
    {
     "data": {
      "text/html": [
       "<div>\n",
       "<style scoped>\n",
       "    .dataframe tbody tr th:only-of-type {\n",
       "        vertical-align: middle;\n",
       "    }\n",
       "\n",
       "    .dataframe tbody tr th {\n",
       "        vertical-align: top;\n",
       "    }\n",
       "\n",
       "    .dataframe thead th {\n",
       "        text-align: right;\n",
       "    }\n",
       "</style>\n",
       "<table border=\"1\" class=\"dataframe\">\n",
       "  <thead>\n",
       "    <tr style=\"text-align: right;\">\n",
       "      <th></th>\n",
       "      <th>index</th>\n",
       "      <th>personal_or_business</th>\n",
       "      <th>business_number</th>\n",
       "      <th>vehicle_type</th>\n",
       "      <th>standard_or_express</th>\n",
       "      <th>platform</th>\n",
       "      <th>cancel_reason</th>\n",
       "      <th>cancelled_by</th>\n",
       "      <th>placement_day</th>\n",
       "      <th>placement_time</th>\n",
       "      <th>...</th>\n",
       "      <th>distance_(km)</th>\n",
       "      <th>pickup_lat</th>\n",
       "      <th>pickup_long</th>\n",
       "      <th>scheduled</th>\n",
       "      <th>order_timedelta</th>\n",
       "      <th>processing_timedelta</th>\n",
       "      <th>confirmation_timedelta</th>\n",
       "      <th>order_period</th>\n",
       "      <th>processing_period</th>\n",
       "      <th>confirmation_period</th>\n",
       "    </tr>\n",
       "  </thead>\n",
       "  <tbody>\n",
       "    <tr>\n",
       "      <th>0</th>\n",
       "      <td>0</td>\n",
       "      <td>Personal</td>\n",
       "      <td>-1.0</td>\n",
       "      <td>Bike</td>\n",
       "      <td>Express</td>\n",
       "      <td>android</td>\n",
       "      <td>No driver has been allocated to my request.</td>\n",
       "      <td>Customer</td>\n",
       "      <td>1</td>\n",
       "      <td>2019-07-29 17:55:38</td>\n",
       "      <td>...</td>\n",
       "      <td>9</td>\n",
       "      <td>-1.313053</td>\n",
       "      <td>36.841437</td>\n",
       "      <td>OnDemAND</td>\n",
       "      <td>NaN</td>\n",
       "      <td>-1 days +23:59:03.000000000</td>\n",
       "      <td>NaN</td>\n",
       "      <td>0</td>\n",
       "      <td>0</td>\n",
       "      <td>0</td>\n",
       "    </tr>\n",
       "    <tr>\n",
       "      <th>1</th>\n",
       "      <td>1</td>\n",
       "      <td>Personal</td>\n",
       "      <td>-1.0</td>\n",
       "      <td>Bike</td>\n",
       "      <td>Express</td>\n",
       "      <td>android</td>\n",
       "      <td>My order is not ready.</td>\n",
       "      <td>Customer</td>\n",
       "      <td>1</td>\n",
       "      <td>2019-07-29 12:26:27</td>\n",
       "      <td>...</td>\n",
       "      <td>14</td>\n",
       "      <td>-1.318959</td>\n",
       "      <td>36.853394</td>\n",
       "      <td>OnDemAND</td>\n",
       "      <td>-1 days +23:58:51.000000000</td>\n",
       "      <td>-1 days +23:57:43.000000000</td>\n",
       "      <td>-1 days +23:58:52.000000000</td>\n",
       "      <td>0</td>\n",
       "      <td>0</td>\n",
       "      <td>0</td>\n",
       "    </tr>\n",
       "    <tr>\n",
       "      <th>2</th>\n",
       "      <td>2</td>\n",
       "      <td>Business</td>\n",
       "      <td>20680.0</td>\n",
       "      <td>Bike</td>\n",
       "      <td>Express</td>\n",
       "      <td>android</td>\n",
       "      <td>I placed the wrong locations.</td>\n",
       "      <td>Customer</td>\n",
       "      <td>1</td>\n",
       "      <td>2019-07-29 13:21:18</td>\n",
       "      <td>...</td>\n",
       "      <td>16</td>\n",
       "      <td>-1.313854</td>\n",
       "      <td>36.706867</td>\n",
       "      <td>OnDemAND</td>\n",
       "      <td>-1 days +23:59:44.000000000</td>\n",
       "      <td>-1 days +23:33:49.000000000</td>\n",
       "      <td>-1 days +23:34:05.000000000</td>\n",
       "      <td>0</td>\n",
       "      <td>0</td>\n",
       "      <td>0</td>\n",
       "    </tr>\n",
       "    <tr>\n",
       "      <th>3</th>\n",
       "      <td>3</td>\n",
       "      <td>Personal</td>\n",
       "      <td>-1.0</td>\n",
       "      <td>Bike</td>\n",
       "      <td>Express</td>\n",
       "      <td>android</td>\n",
       "      <td>My order is not ready.</td>\n",
       "      <td>Customer</td>\n",
       "      <td>1</td>\n",
       "      <td>2019-07-29 10:29:19</td>\n",
       "      <td>...</td>\n",
       "      <td>20</td>\n",
       "      <td>-1.206197</td>\n",
       "      <td>36.778776</td>\n",
       "      <td>OnDemAND</td>\n",
       "      <td>NaN</td>\n",
       "      <td>-1 days +23:59:50.000000000</td>\n",
       "      <td>NaN</td>\n",
       "      <td>0</td>\n",
       "      <td>0</td>\n",
       "      <td>0</td>\n",
       "    </tr>\n",
       "    <tr>\n",
       "      <th>4</th>\n",
       "      <td>4</td>\n",
       "      <td>Personal</td>\n",
       "      <td>-1.0</td>\n",
       "      <td>Bike</td>\n",
       "      <td>Standard</td>\n",
       "      <td>ios</td>\n",
       "      <td>No Partner</td>\n",
       "      <td>Staff</td>\n",
       "      <td>1</td>\n",
       "      <td>2019-07-29 14:34:05</td>\n",
       "      <td>...</td>\n",
       "      <td>11</td>\n",
       "      <td>-1.296958</td>\n",
       "      <td>36.808166</td>\n",
       "      <td>OnDemAND</td>\n",
       "      <td>-1 days +23:34:57.000000000</td>\n",
       "      <td>-1 days +22:44:24.000000000</td>\n",
       "      <td>-1 days +23:09:27.000000000</td>\n",
       "      <td>0</td>\n",
       "      <td>0</td>\n",
       "      <td>0</td>\n",
       "    </tr>\n",
       "  </tbody>\n",
       "</table>\n",
       "<p>5 rows × 24 columns</p>\n",
       "</div>"
      ],
      "text/plain": [
       "   index personal_or_business  business_number vehicle_type  \\\n",
       "0      0             Personal             -1.0         Bike   \n",
       "1      1             Personal             -1.0         Bike   \n",
       "2      2             Business          20680.0         Bike   \n",
       "3      3             Personal             -1.0         Bike   \n",
       "4      4             Personal             -1.0         Bike   \n",
       "\n",
       "  standard_or_express platform                                cancel_reason  \\\n",
       "0             Express  android  No driver has been allocated to my request.   \n",
       "1             Express  android                       My order is not ready.   \n",
       "2             Express  android                I placed the wrong locations.   \n",
       "3             Express  android                       My order is not ready.   \n",
       "4            Standard      ios                                   No Partner   \n",
       "\n",
       "  cancelled_by  placement_day       placement_time         ...          \\\n",
       "0     Customer              1  2019-07-29 17:55:38         ...           \n",
       "1     Customer              1  2019-07-29 12:26:27         ...           \n",
       "2     Customer              1  2019-07-29 13:21:18         ...           \n",
       "3     Customer              1  2019-07-29 10:29:19         ...           \n",
       "4        Staff              1  2019-07-29 14:34:05         ...           \n",
       "\n",
       "   distance_(km) pickup_lat  pickup_long scheduled  \\\n",
       "0              9  -1.313053    36.841437  OnDemAND   \n",
       "1             14  -1.318959    36.853394  OnDemAND   \n",
       "2             16  -1.313854    36.706867  OnDemAND   \n",
       "3             20  -1.206197    36.778776  OnDemAND   \n",
       "4             11  -1.296958    36.808166  OnDemAND   \n",
       "\n",
       "               order_timedelta         processing_timedelta  \\\n",
       "0                          NaN  -1 days +23:59:03.000000000   \n",
       "1  -1 days +23:58:51.000000000  -1 days +23:57:43.000000000   \n",
       "2  -1 days +23:59:44.000000000  -1 days +23:33:49.000000000   \n",
       "3                          NaN  -1 days +23:59:50.000000000   \n",
       "4  -1 days +23:34:57.000000000  -1 days +22:44:24.000000000   \n",
       "\n",
       "        confirmation_timedelta order_period processing_period  \\\n",
       "0                          NaN            0                 0   \n",
       "1  -1 days +23:58:52.000000000            0                 0   \n",
       "2  -1 days +23:34:05.000000000            0                 0   \n",
       "3                          NaN            0                 0   \n",
       "4  -1 days +23:09:27.000000000            0                 0   \n",
       "\n",
       "  confirmation_period  \n",
       "0                   0  \n",
       "1                   0  \n",
       "2                   0  \n",
       "3                   0  \n",
       "4                   0  \n",
       "\n",
       "[5 rows x 24 columns]"
      ]
     },
     "execution_count": 139,
     "metadata": {},
     "output_type": "execute_result"
    }
   ],
   "source": [
    "##Show the first five records of the dataset.\n",
    "query_df.head()"
   ]
  },
  {
   "cell_type": "code",
   "execution_count": 140,
   "metadata": {
    "ExecuteTime": {
     "end_time": "2019-07-30T10:43:53.101790Z",
     "start_time": "2019-07-30T10:43:53.074894Z"
    }
   },
   "outputs": [
    {
     "data": {
      "text/html": [
       "<div>\n",
       "<style scoped>\n",
       "    .dataframe tbody tr th:only-of-type {\n",
       "        vertical-align: middle;\n",
       "    }\n",
       "\n",
       "    .dataframe tbody tr th {\n",
       "        vertical-align: top;\n",
       "    }\n",
       "\n",
       "    .dataframe thead th {\n",
       "        text-align: right;\n",
       "    }\n",
       "</style>\n",
       "<table border=\"1\" class=\"dataframe\">\n",
       "  <thead>\n",
       "    <tr style=\"text-align: right;\">\n",
       "      <th></th>\n",
       "      <th>personal_or_business</th>\n",
       "      <th>business_number</th>\n",
       "      <th>vehicle_type</th>\n",
       "      <th>standard_or_express</th>\n",
       "      <th>platform</th>\n",
       "      <th>cancel_reason</th>\n",
       "      <th>cancelled_by</th>\n",
       "      <th>placement_day</th>\n",
       "      <th>placement_time</th>\n",
       "      <th>confirmation_day</th>\n",
       "      <th>confirmation_time</th>\n",
       "      <th>cancellation_day</th>\n",
       "      <th>cancellation_time</th>\n",
       "      <th>distance_(km)</th>\n",
       "      <th>pickup_lat</th>\n",
       "      <th>pickup_long</th>\n",
       "      <th>scheduled</th>\n",
       "    </tr>\n",
       "  </thead>\n",
       "  <tbody>\n",
       "    <tr>\n",
       "      <th>0</th>\n",
       "      <td>Personal</td>\n",
       "      <td>-1.0</td>\n",
       "      <td>Bike</td>\n",
       "      <td>Express</td>\n",
       "      <td>ios</td>\n",
       "      <td>NaN</td>\n",
       "      <td>Customer</td>\n",
       "      <td>1</td>\n",
       "      <td>15:23:44</td>\n",
       "      <td>1</td>\n",
       "      <td>16:40:47</td>\n",
       "      <td>1</td>\n",
       "      <td>16:43:50</td>\n",
       "      <td>4</td>\n",
       "      <td>-1.299370</td>\n",
       "      <td>36.822107</td>\n",
       "      <td>OnDemAND</td>\n",
       "    </tr>\n",
       "    <tr>\n",
       "      <th>1</th>\n",
       "      <td>Business</td>\n",
       "      <td>20680.0</td>\n",
       "      <td>Bike</td>\n",
       "      <td>Express</td>\n",
       "      <td>desktop</td>\n",
       "      <td>NaN</td>\n",
       "      <td>Staff</td>\n",
       "      <td>1</td>\n",
       "      <td>14:21:46</td>\n",
       "      <td>1</td>\n",
       "      <td>14:22:20</td>\n",
       "      <td>1</td>\n",
       "      <td>14:30:48</td>\n",
       "      <td>17</td>\n",
       "      <td>-1.264490</td>\n",
       "      <td>36.789303</td>\n",
       "      <td>OnDemAND</td>\n",
       "    </tr>\n",
       "    <tr>\n",
       "      <th>2</th>\n",
       "      <td>Business</td>\n",
       "      <td>17968.0</td>\n",
       "      <td>Bike</td>\n",
       "      <td>Express</td>\n",
       "      <td>desktop</td>\n",
       "      <td>NaN</td>\n",
       "      <td>Customer</td>\n",
       "      <td>1</td>\n",
       "      <td>15:13:20</td>\n",
       "      <td>1</td>\n",
       "      <td>NaN</td>\n",
       "      <td>1</td>\n",
       "      <td>15:56:34</td>\n",
       "      <td>18</td>\n",
       "      <td>-1.427056</td>\n",
       "      <td>36.961499</td>\n",
       "      <td>OnDemAND</td>\n",
       "    </tr>\n",
       "    <tr>\n",
       "      <th>3</th>\n",
       "      <td>Personal</td>\n",
       "      <td>-1.0</td>\n",
       "      <td>Bike</td>\n",
       "      <td>Standard</td>\n",
       "      <td>android</td>\n",
       "      <td>NaN</td>\n",
       "      <td>Customer</td>\n",
       "      <td>1</td>\n",
       "      <td>13:54:19</td>\n",
       "      <td>1</td>\n",
       "      <td>NaN</td>\n",
       "      <td>1</td>\n",
       "      <td>13:56:41</td>\n",
       "      <td>8</td>\n",
       "      <td>-1.301737</td>\n",
       "      <td>36.743936</td>\n",
       "      <td>OnDemAND</td>\n",
       "    </tr>\n",
       "    <tr>\n",
       "      <th>4</th>\n",
       "      <td>Personal</td>\n",
       "      <td>-1.0</td>\n",
       "      <td>Bike</td>\n",
       "      <td>Standard</td>\n",
       "      <td>android</td>\n",
       "      <td>NaN</td>\n",
       "      <td>Staff</td>\n",
       "      <td>1</td>\n",
       "      <td>13:24:05</td>\n",
       "      <td>1</td>\n",
       "      <td>15:57:20</td>\n",
       "      <td>1</td>\n",
       "      <td>17:14:46</td>\n",
       "      <td>13</td>\n",
       "      <td>-1.308098</td>\n",
       "      <td>36.920464</td>\n",
       "      <td>Scheduled</td>\n",
       "    </tr>\n",
       "  </tbody>\n",
       "</table>\n",
       "</div>"
      ],
      "text/plain": [
       "  personal_or_business  business_number vehicle_type standard_or_express  \\\n",
       "0             Personal             -1.0         Bike             Express   \n",
       "1             Business          20680.0         Bike             Express   \n",
       "2             Business          17968.0         Bike             Express   \n",
       "3             Personal             -1.0         Bike            Standard   \n",
       "4             Personal             -1.0         Bike            Standard   \n",
       "\n",
       "  platform  cancel_reason cancelled_by  placement_day placement_time  \\\n",
       "0      ios            NaN     Customer              1       15:23:44   \n",
       "1  desktop            NaN        Staff              1       14:21:46   \n",
       "2  desktop            NaN     Customer              1       15:13:20   \n",
       "3  android            NaN     Customer              1       13:54:19   \n",
       "4  android            NaN        Staff              1       13:24:05   \n",
       "\n",
       "   confirmation_day confirmation_time  cancellation_day cancellation_time  \\\n",
       "0                 1          16:40:47                 1          16:43:50   \n",
       "1                 1          14:22:20                 1          14:30:48   \n",
       "2                 1               NaN                 1          15:56:34   \n",
       "3                 1               NaN                 1          13:56:41   \n",
       "4                 1          15:57:20                 1          17:14:46   \n",
       "\n",
       "   distance_(km)  pickup_lat  pickup_long  scheduled  \n",
       "0              4   -1.299370    36.822107   OnDemAND  \n",
       "1             17   -1.264490    36.789303   OnDemAND  \n",
       "2             18   -1.427056    36.961499   OnDemAND  \n",
       "3              8   -1.301737    36.743936   OnDemAND  \n",
       "4             13   -1.308098    36.920464  Scheduled  "
      ]
     },
     "execution_count": 140,
     "metadata": {},
     "output_type": "execute_result"
    }
   ],
   "source": [
    "##Show the first five records of the dataset.\n",
    "test_df.head()"
   ]
  },
  {
   "cell_type": "code",
   "execution_count": 142,
   "metadata": {
    "ExecuteTime": {
     "end_time": "2019-07-30T10:44:00.711234Z",
     "start_time": "2019-07-30T10:44:00.703534Z"
    }
   },
   "outputs": [
    {
     "data": {
      "text/plain": [
       "(6393, 24)"
      ]
     },
     "execution_count": 142,
     "metadata": {},
     "output_type": "execute_result"
    }
   ],
   "source": [
    "##check the rows and the columns\n",
    "query_df.shape"
   ]
  },
  {
   "cell_type": "markdown",
   "metadata": {},
   "source": [
    "## Creating the dependent variable class for the query dataframe"
   ]
  },
  {
   "cell_type": "markdown",
   "metadata": {},
   "source": [
    "This is basically converting all the column values from string to intergers because the algorithms can only read numbers. "
   ]
  },
  {
   "cell_type": "code",
   "execution_count": 144,
   "metadata": {
    "ExecuteTime": {
     "end_time": "2019-07-30T10:44:35.702211Z",
     "start_time": "2019-07-30T10:44:33.505233Z"
    }
   },
   "outputs": [
    {
     "name": "stderr",
     "output_type": "stream",
     "text": [
      "/home/dancilla/PYTHON_37/lib/python3.6/site-packages/ipykernel_launcher.py:2: SettingWithCopyWarning: \n",
      "A value is trying to be set on a copy of a slice from a DataFrame\n",
      "\n",
      "See the caveats in the documentation: http://pandas.pydata.org/pandas-docs/stable/indexing.html#indexing-view-versus-copy\n",
      "  \n",
      "/home/dancilla/PYTHON_37/lib/python3.6/site-packages/ipykernel_launcher.py:3: SettingWithCopyWarning: \n",
      "A value is trying to be set on a copy of a slice from a DataFrame\n",
      "\n",
      "See the caveats in the documentation: http://pandas.pydata.org/pandas-docs/stable/indexing.html#indexing-view-versus-copy\n",
      "  This is separate from the ipykernel package so we can avoid doing imports until\n",
      "/home/dancilla/PYTHON_37/lib/python3.6/site-packages/ipykernel_launcher.py:5: SettingWithCopyWarning: \n",
      "A value is trying to be set on a copy of a slice from a DataFrame\n",
      "\n",
      "See the caveats in the documentation: http://pandas.pydata.org/pandas-docs/stable/indexing.html#indexing-view-versus-copy\n",
      "  \"\"\"\n",
      "/home/dancilla/PYTHON_37/lib/python3.6/site-packages/ipykernel_launcher.py:6: SettingWithCopyWarning: \n",
      "A value is trying to be set on a copy of a slice from a DataFrame\n",
      "\n",
      "See the caveats in the documentation: http://pandas.pydata.org/pandas-docs/stable/indexing.html#indexing-view-versus-copy\n",
      "  \n",
      "/home/dancilla/PYTHON_37/lib/python3.6/site-packages/ipykernel_launcher.py:8: SettingWithCopyWarning: \n",
      "A value is trying to be set on a copy of a slice from a DataFrame\n",
      "\n",
      "See the caveats in the documentation: http://pandas.pydata.org/pandas-docs/stable/indexing.html#indexing-view-versus-copy\n",
      "  \n",
      "/home/dancilla/PYTHON_37/lib/python3.6/site-packages/ipykernel_launcher.py:9: SettingWithCopyWarning: \n",
      "A value is trying to be set on a copy of a slice from a DataFrame\n",
      "\n",
      "See the caveats in the documentation: http://pandas.pydata.org/pandas-docs/stable/indexing.html#indexing-view-versus-copy\n",
      "  if __name__ == '__main__':\n",
      "/home/dancilla/PYTHON_37/lib/python3.6/site-packages/ipykernel_launcher.py:11: SettingWithCopyWarning: \n",
      "A value is trying to be set on a copy of a slice from a DataFrame\n",
      "\n",
      "See the caveats in the documentation: http://pandas.pydata.org/pandas-docs/stable/indexing.html#indexing-view-versus-copy\n",
      "  # This is added back by InteractiveShellApp.init_path()\n",
      "/home/dancilla/PYTHON_37/lib/python3.6/site-packages/ipykernel_launcher.py:12: SettingWithCopyWarning: \n",
      "A value is trying to be set on a copy of a slice from a DataFrame\n",
      "\n",
      "See the caveats in the documentation: http://pandas.pydata.org/pandas-docs/stable/indexing.html#indexing-view-versus-copy\n",
      "  if sys.path[0] == '':\n",
      "/home/dancilla/PYTHON_37/lib/python3.6/site-packages/ipykernel_launcher.py:14: SettingWithCopyWarning: \n",
      "A value is trying to be set on a copy of a slice from a DataFrame\n",
      "\n",
      "See the caveats in the documentation: http://pandas.pydata.org/pandas-docs/stable/indexing.html#indexing-view-versus-copy\n",
      "  \n",
      "/home/dancilla/PYTHON_37/lib/python3.6/site-packages/ipykernel_launcher.py:15: SettingWithCopyWarning: \n",
      "A value is trying to be set on a copy of a slice from a DataFrame\n",
      "\n",
      "See the caveats in the documentation: http://pandas.pydata.org/pandas-docs/stable/indexing.html#indexing-view-versus-copy\n",
      "  from ipykernel import kernelapp as app\n",
      "/home/dancilla/PYTHON_37/lib/python3.6/site-packages/ipykernel_launcher.py:17: SettingWithCopyWarning: \n",
      "A value is trying to be set on a copy of a slice from a DataFrame\n",
      "\n",
      "See the caveats in the documentation: http://pandas.pydata.org/pandas-docs/stable/indexing.html#indexing-view-versus-copy\n",
      "/home/dancilla/PYTHON_37/lib/python3.6/site-packages/ipykernel_launcher.py:18: SettingWithCopyWarning: \n",
      "A value is trying to be set on a copy of a slice from a DataFrame\n",
      "\n",
      "See the caveats in the documentation: http://pandas.pydata.org/pandas-docs/stable/indexing.html#indexing-view-versus-copy\n",
      "/home/dancilla/PYTHON_37/lib/python3.6/site-packages/ipykernel_launcher.py:19: SettingWithCopyWarning: \n",
      "A value is trying to be set on a copy of a slice from a DataFrame\n",
      "\n",
      "See the caveats in the documentation: http://pandas.pydata.org/pandas-docs/stable/indexing.html#indexing-view-versus-copy\n",
      "/home/dancilla/PYTHON_37/lib/python3.6/site-packages/ipykernel_launcher.py:20: SettingWithCopyWarning: \n",
      "A value is trying to be set on a copy of a slice from a DataFrame\n",
      "\n",
      "See the caveats in the documentation: http://pandas.pydata.org/pandas-docs/stable/indexing.html#indexing-view-versus-copy\n",
      "/home/dancilla/PYTHON_37/lib/python3.6/site-packages/ipykernel_launcher.py:21: SettingWithCopyWarning: \n",
      "A value is trying to be set on a copy of a slice from a DataFrame\n",
      "\n",
      "See the caveats in the documentation: http://pandas.pydata.org/pandas-docs/stable/indexing.html#indexing-view-versus-copy\n"
     ]
    }
   ],
   "source": [
    "# traversing through the column values of dataFrame and writing values where  condition matches. \n",
    "query_df['personal_or_business'][query_df['personal_or_business'] == 'Personal'] = 1\n",
    "query_df['personal_or_business'][query_df['personal_or_business'] == 'Business'] = 2\n",
    "\n",
    "query_df['vehicle_type'][query_df['vehicle_type'] == 'Bike'] = 1\n",
    "query_df['vehicle_type'][query_df['vehicle_type'] == 'Standard Bike'] = 2\n",
    "\n",
    "query_df['standard_or_express'][query_df['standard_or_express'] == 'Express'] = 1\n",
    "query_df['standard_or_express'][query_df['standard_or_express'] == 'Standard'] = 2\n",
    "\n",
    "query_df['cancelled_by'][query_df['cancelled_by'] == 'Customer'] = 1\n",
    "query_df['cancelled_by'][query_df['cancelled_by'] == 'Staff'] = 2\n",
    "\n",
    "query_df['scheduled'][query_df['scheduled'] == 'OnDemAND'] = 1\n",
    "query_df['scheduled'][query_df['scheduled'] == 'Scheduled'] = 2\n",
    "\n",
    "query_df['platform'][query_df['platform'] == 'android'] = 1\n",
    "query_df['platform'][query_df['platform'] == 'ios'] = 2\n",
    "query_df['platform'][query_df['platform'] == 'desktop'] = 3\n",
    "query_df['platform'][query_df['platform'] == 'API'] = 4\n",
    "query_df['platform'][query_df['platform'] == 'peer_web'] = 5\n"
   ]
  },
  {
   "cell_type": "markdown",
   "metadata": {},
   "source": [
    "Use one hot encoding for the cancel reason values"
   ]
  },
  {
   "cell_type": "code",
   "execution_count": 145,
   "metadata": {
    "ExecuteTime": {
     "end_time": "2019-07-30T10:44:42.336917Z",
     "start_time": "2019-07-30T10:44:42.315092Z"
    }
   },
   "outputs": [
    {
     "name": "stdout",
     "output_type": "stream",
     "text": [
      "y_train_ohe shape: (6393, 6)\n",
      "y_train_ohe samples:\n",
      "[[1 0 0 0 0 0]\n",
      " [0 1 0 0 0 0]\n",
      " [0 0 1 0 0 0]\n",
      " [0 1 0 0 0 0]\n",
      " [0 0 0 1 0 0]]\n"
     ]
    }
   ],
   "source": [
    "from sklearn.preprocessing import label_binarize\n",
    "\n",
    "#Transform labels into one hot encoded format.\n",
    "y_train_ohe = label_binarize(query_df['cancel_reason'], classes=['No driver has been allocated to my request.', \n",
    "                                                                 'My order is not ready.', 'I placed the wrong locations.',\n",
    "                                                                'No Partner', 'Customer error', 'The driver is too far away.'\n",
    "                                                                'Delay'])\n",
    "print('y_train_ohe shape: {}'.format(y_train_ohe.shape))\n",
    "print('y_train_ohe samples:')\n",
    "print(y_train_ohe[:5])"
   ]
  },
  {
   "cell_type": "code",
   "execution_count": 146,
   "metadata": {
    "ExecuteTime": {
     "end_time": "2019-07-30T10:44:43.017326Z",
     "start_time": "2019-07-30T10:44:42.982071Z"
    }
   },
   "outputs": [
    {
     "data": {
      "text/html": [
       "<div>\n",
       "<style scoped>\n",
       "    .dataframe tbody tr th:only-of-type {\n",
       "        vertical-align: middle;\n",
       "    }\n",
       "\n",
       "    .dataframe tbody tr th {\n",
       "        vertical-align: top;\n",
       "    }\n",
       "\n",
       "    .dataframe thead th {\n",
       "        text-align: right;\n",
       "    }\n",
       "</style>\n",
       "<table border=\"1\" class=\"dataframe\">\n",
       "  <thead>\n",
       "    <tr style=\"text-align: right;\">\n",
       "      <th></th>\n",
       "      <th>index</th>\n",
       "      <th>personal_or_business</th>\n",
       "      <th>business_number</th>\n",
       "      <th>vehicle_type</th>\n",
       "      <th>standard_or_express</th>\n",
       "      <th>platform</th>\n",
       "      <th>cancel_reason</th>\n",
       "      <th>cancelled_by</th>\n",
       "      <th>placement_day</th>\n",
       "      <th>placement_time</th>\n",
       "      <th>...</th>\n",
       "      <th>distance_(km)</th>\n",
       "      <th>pickup_lat</th>\n",
       "      <th>pickup_long</th>\n",
       "      <th>scheduled</th>\n",
       "      <th>order_timedelta</th>\n",
       "      <th>processing_timedelta</th>\n",
       "      <th>confirmation_timedelta</th>\n",
       "      <th>order_period</th>\n",
       "      <th>processing_period</th>\n",
       "      <th>confirmation_period</th>\n",
       "    </tr>\n",
       "  </thead>\n",
       "  <tbody>\n",
       "    <tr>\n",
       "      <th>0</th>\n",
       "      <td>0</td>\n",
       "      <td>1</td>\n",
       "      <td>-1.0</td>\n",
       "      <td>1</td>\n",
       "      <td>1</td>\n",
       "      <td>1</td>\n",
       "      <td>No driver has been allocated to my request.</td>\n",
       "      <td>1</td>\n",
       "      <td>1</td>\n",
       "      <td>2019-07-29 17:55:38</td>\n",
       "      <td>...</td>\n",
       "      <td>9</td>\n",
       "      <td>-1.313053</td>\n",
       "      <td>36.841437</td>\n",
       "      <td>1</td>\n",
       "      <td>NaN</td>\n",
       "      <td>-1 days +23:59:03.000000000</td>\n",
       "      <td>NaN</td>\n",
       "      <td>0</td>\n",
       "      <td>0</td>\n",
       "      <td>0</td>\n",
       "    </tr>\n",
       "    <tr>\n",
       "      <th>1</th>\n",
       "      <td>1</td>\n",
       "      <td>1</td>\n",
       "      <td>-1.0</td>\n",
       "      <td>1</td>\n",
       "      <td>1</td>\n",
       "      <td>1</td>\n",
       "      <td>My order is not ready.</td>\n",
       "      <td>1</td>\n",
       "      <td>1</td>\n",
       "      <td>2019-07-29 12:26:27</td>\n",
       "      <td>...</td>\n",
       "      <td>14</td>\n",
       "      <td>-1.318959</td>\n",
       "      <td>36.853394</td>\n",
       "      <td>1</td>\n",
       "      <td>-1 days +23:58:51.000000000</td>\n",
       "      <td>-1 days +23:57:43.000000000</td>\n",
       "      <td>-1 days +23:58:52.000000000</td>\n",
       "      <td>0</td>\n",
       "      <td>0</td>\n",
       "      <td>0</td>\n",
       "    </tr>\n",
       "    <tr>\n",
       "      <th>2</th>\n",
       "      <td>2</td>\n",
       "      <td>2</td>\n",
       "      <td>20680.0</td>\n",
       "      <td>1</td>\n",
       "      <td>1</td>\n",
       "      <td>1</td>\n",
       "      <td>I placed the wrong locations.</td>\n",
       "      <td>1</td>\n",
       "      <td>1</td>\n",
       "      <td>2019-07-29 13:21:18</td>\n",
       "      <td>...</td>\n",
       "      <td>16</td>\n",
       "      <td>-1.313854</td>\n",
       "      <td>36.706867</td>\n",
       "      <td>1</td>\n",
       "      <td>-1 days +23:59:44.000000000</td>\n",
       "      <td>-1 days +23:33:49.000000000</td>\n",
       "      <td>-1 days +23:34:05.000000000</td>\n",
       "      <td>0</td>\n",
       "      <td>0</td>\n",
       "      <td>0</td>\n",
       "    </tr>\n",
       "    <tr>\n",
       "      <th>3</th>\n",
       "      <td>3</td>\n",
       "      <td>1</td>\n",
       "      <td>-1.0</td>\n",
       "      <td>1</td>\n",
       "      <td>1</td>\n",
       "      <td>1</td>\n",
       "      <td>My order is not ready.</td>\n",
       "      <td>1</td>\n",
       "      <td>1</td>\n",
       "      <td>2019-07-29 10:29:19</td>\n",
       "      <td>...</td>\n",
       "      <td>20</td>\n",
       "      <td>-1.206197</td>\n",
       "      <td>36.778776</td>\n",
       "      <td>1</td>\n",
       "      <td>NaN</td>\n",
       "      <td>-1 days +23:59:50.000000000</td>\n",
       "      <td>NaN</td>\n",
       "      <td>0</td>\n",
       "      <td>0</td>\n",
       "      <td>0</td>\n",
       "    </tr>\n",
       "    <tr>\n",
       "      <th>4</th>\n",
       "      <td>4</td>\n",
       "      <td>1</td>\n",
       "      <td>-1.0</td>\n",
       "      <td>1</td>\n",
       "      <td>2</td>\n",
       "      <td>2</td>\n",
       "      <td>No Partner</td>\n",
       "      <td>2</td>\n",
       "      <td>1</td>\n",
       "      <td>2019-07-29 14:34:05</td>\n",
       "      <td>...</td>\n",
       "      <td>11</td>\n",
       "      <td>-1.296958</td>\n",
       "      <td>36.808166</td>\n",
       "      <td>1</td>\n",
       "      <td>-1 days +23:34:57.000000000</td>\n",
       "      <td>-1 days +22:44:24.000000000</td>\n",
       "      <td>-1 days +23:09:27.000000000</td>\n",
       "      <td>0</td>\n",
       "      <td>0</td>\n",
       "      <td>0</td>\n",
       "    </tr>\n",
       "  </tbody>\n",
       "</table>\n",
       "<p>5 rows × 24 columns</p>\n",
       "</div>"
      ],
      "text/plain": [
       "   index personal_or_business  business_number vehicle_type  \\\n",
       "0      0                    1             -1.0            1   \n",
       "1      1                    1             -1.0            1   \n",
       "2      2                    2          20680.0            1   \n",
       "3      3                    1             -1.0            1   \n",
       "4      4                    1             -1.0            1   \n",
       "\n",
       "  standard_or_express platform                                cancel_reason  \\\n",
       "0                   1        1  No driver has been allocated to my request.   \n",
       "1                   1        1                       My order is not ready.   \n",
       "2                   1        1                I placed the wrong locations.   \n",
       "3                   1        1                       My order is not ready.   \n",
       "4                   2        2                                   No Partner   \n",
       "\n",
       "  cancelled_by  placement_day       placement_time         ...          \\\n",
       "0            1              1  2019-07-29 17:55:38         ...           \n",
       "1            1              1  2019-07-29 12:26:27         ...           \n",
       "2            1              1  2019-07-29 13:21:18         ...           \n",
       "3            1              1  2019-07-29 10:29:19         ...           \n",
       "4            2              1  2019-07-29 14:34:05         ...           \n",
       "\n",
       "   distance_(km) pickup_lat  pickup_long scheduled  \\\n",
       "0              9  -1.313053    36.841437         1   \n",
       "1             14  -1.318959    36.853394         1   \n",
       "2             16  -1.313854    36.706867         1   \n",
       "3             20  -1.206197    36.778776         1   \n",
       "4             11  -1.296958    36.808166         1   \n",
       "\n",
       "               order_timedelta         processing_timedelta  \\\n",
       "0                          NaN  -1 days +23:59:03.000000000   \n",
       "1  -1 days +23:58:51.000000000  -1 days +23:57:43.000000000   \n",
       "2  -1 days +23:59:44.000000000  -1 days +23:33:49.000000000   \n",
       "3                          NaN  -1 days +23:59:50.000000000   \n",
       "4  -1 days +23:34:57.000000000  -1 days +22:44:24.000000000   \n",
       "\n",
       "        confirmation_timedelta order_period processing_period  \\\n",
       "0                          NaN            0                 0   \n",
       "1  -1 days +23:58:52.000000000            0                 0   \n",
       "2  -1 days +23:34:05.000000000            0                 0   \n",
       "3                          NaN            0                 0   \n",
       "4  -1 days +23:09:27.000000000            0                 0   \n",
       "\n",
       "  confirmation_period  \n",
       "0                   0  \n",
       "1                   0  \n",
       "2                   0  \n",
       "3                   0  \n",
       "4                   0  \n",
       "\n",
       "[5 rows x 24 columns]"
      ]
     },
     "execution_count": 146,
     "metadata": {},
     "output_type": "execute_result"
    }
   ],
   "source": [
    "query_df.head()"
   ]
  },
  {
   "cell_type": "markdown",
   "metadata": {},
   "source": [
    "### Change timelines to pandas datetime"
   ]
  },
  {
   "cell_type": "code",
   "execution_count": 147,
   "metadata": {
    "ExecuteTime": {
     "end_time": "2019-07-30T10:44:43.912559Z",
     "start_time": "2019-07-30T10:44:43.897021Z"
    }
   },
   "outputs": [],
   "source": [
    "query_df['placement_time'] = pd.to_datetime(query_df['placement_time'])\n",
    "query_df['confirmation_time'] = pd.to_datetime(query_df['confirmation_time'])\n",
    "query_df['cancellation_time'] = pd.to_datetime(query_df['cancellation_time'])\n"
   ]
  },
  {
   "cell_type": "markdown",
   "metadata": {},
   "source": [
    "## Split data"
   ]
  },
  {
   "cell_type": "code",
   "execution_count": 148,
   "metadata": {
    "ExecuteTime": {
     "end_time": "2019-07-30T10:44:44.802421Z",
     "start_time": "2019-07-30T10:44:44.795448Z"
    }
   },
   "outputs": [
    {
     "data": {
      "text/plain": [
       "Index(['index', 'personal_or_business', 'business_number', 'vehicle_type',\n",
       "       'standard_or_express', 'platform', 'cancel_reason', 'cancelled_by',\n",
       "       'placement_day', 'placement_time', 'confirmation_day',\n",
       "       'confirmation_time', 'cancellation_day', 'cancellation_time',\n",
       "       'distance_(km)', 'pickup_lat', 'pickup_long', 'scheduled',\n",
       "       'order_timedelta', 'processing_timedelta', 'confirmation_timedelta',\n",
       "       'order_period', 'processing_period', 'confirmation_period'],\n",
       "      dtype='object')"
      ]
     },
     "execution_count": 148,
     "metadata": {},
     "output_type": "execute_result"
    }
   ],
   "source": [
    "query_df.keys()"
   ]
  },
  {
   "cell_type": "code",
   "execution_count": 149,
   "metadata": {
    "ExecuteTime": {
     "end_time": "2019-07-30T10:44:45.117631Z",
     "start_time": "2019-07-30T10:44:45.109435Z"
    }
   },
   "outputs": [
    {
     "data": {
      "text/plain": [
       "Index(['personal_or_business', 'business_number', 'vehicle_type',\n",
       "       'standard_or_express', 'platform', 'cancel_reason', 'cancelled_by',\n",
       "       'placement_day', 'placement_time', 'confirmation_day',\n",
       "       'confirmation_time', 'cancellation_day', 'cancellation_time',\n",
       "       'distance_(km)', 'pickup_lat', 'pickup_long', 'scheduled'],\n",
       "      dtype='object')"
      ]
     },
     "execution_count": 149,
     "metadata": {},
     "output_type": "execute_result"
    }
   ],
   "source": [
    "test_df.keys()"
   ]
  },
  {
   "cell_type": "code",
   "execution_count": 150,
   "metadata": {
    "ExecuteTime": {
     "end_time": "2019-07-30T10:44:45.357188Z",
     "start_time": "2019-07-30T10:44:45.339171Z"
    }
   },
   "outputs": [],
   "source": [
    "import pandas as pd\n",
    "from sklearn import datasets, linear_model\n",
    "from sklearn.model_selection import train_test_split\n",
    "from matplotlib import pyplot as plt\n",
    "from sklearn import datasets, linear_model\n",
    "from sklearn.model_selection import train_test_split\n",
    "from matplotlib import pyplot as plt\n",
    "from sklearn.metrics import accuracy_score\n",
    "from sklearn.preprocessing import StandardScaler, PolynomialFeatures\n",
    "from sklearn.model_selection import train_test_split, GridSearchCV\n",
    "from sklearn.ensemble import RandomForestClassifier\n",
    "from sklearn.metrics import confusion_matrix\n",
    "from sklearn.externals import joblib\n",
    "\n",
    "\n",
    "#Choose the features which will be used for building the model\n",
    "columns = ['personal_or_business', 'business_number', 'vehicle_type',\n",
    "       'standard_or_express', 'platform', 'cancelled_by',\n",
    "       'placement_day', 'confirmation_day', 'cancellation_day',\n",
    "       'distance_(km)', 'pickup_lat', 'pickup_long', 'scheduled']\n",
    "\n",
    "\n",
    "X = query_df[columns]\n",
    "y = y_train_ohe\n",
    "\n",
    "X_train, X_test, y_train, y_test = train_test_split(X, y, test_size=0.20,random_state=0)"
   ]
  },
  {
   "cell_type": "markdown",
   "metadata": {
    "ExecuteTime": {
     "end_time": "2019-07-29T12:00:05.135028Z",
     "start_time": "2019-07-29T12:00:05.129326Z"
    }
   },
   "source": [
    "**In this case, since we are predicting multiple values, we need to use the multiclass classification using\n",
    "using Random Forest on Scikit-Learn Library**\n"
   ]
  },
  {
   "cell_type": "markdown",
   "metadata": {
    "ExecuteTime": {
     "end_time": "2019-07-29T10:44:34.299090Z",
     "start_time": "2019-07-29T10:44:34.291012Z"
    }
   },
   "source": [
    "## Feature Scaling"
   ]
  },
  {
   "cell_type": "code",
   "execution_count": 151,
   "metadata": {
    "ExecuteTime": {
     "end_time": "2019-07-30T10:44:46.405929Z",
     "start_time": "2019-07-30T10:44:46.382222Z"
    }
   },
   "outputs": [
    {
     "name": "stderr",
     "output_type": "stream",
     "text": [
      "/home/dancilla/PYTHON_37/lib/python3.6/site-packages/sklearn/preprocessing/data.py:625: DataConversionWarning: Data with input dtype int64, float64, object were all converted to float64 by StandardScaler.\n",
      "  return self.partial_fit(X, y)\n",
      "/home/dancilla/PYTHON_37/lib/python3.6/site-packages/sklearn/base.py:462: DataConversionWarning: Data with input dtype int64, float64, object were all converted to float64 by StandardScaler.\n",
      "  return self.fit(X, **fit_params).transform(X)\n",
      "/home/dancilla/PYTHON_37/lib/python3.6/site-packages/ipykernel_launcher.py:4: DataConversionWarning: Data with input dtype int64, float64, object were all converted to float64 by StandardScaler.\n",
      "  after removing the cwd from sys.path.\n"
     ]
    }
   ],
   "source": [
    "# Feature Scaling\n",
    "scaler = StandardScaler()\n",
    "X_train = scaler.fit_transform(X_train)\n",
    "X_test = scaler.transform(X_test)"
   ]
  },
  {
   "cell_type": "markdown",
   "metadata": {},
   "source": [
    "## Training the model"
   ]
  },
  {
   "cell_type": "markdown",
   "metadata": {},
   "source": [
    "### Apply  Random forest classifier to Test Data"
   ]
  },
  {
   "cell_type": "code",
   "execution_count": 163,
   "metadata": {
    "ExecuteTime": {
     "end_time": "2019-07-30T10:49:51.123913Z",
     "start_time": "2019-07-30T10:49:49.582117Z"
    }
   },
   "outputs": [
    {
     "name": "stdout",
     "output_type": "stream",
     "text": [
      "The accuracy of the Random Classifier is 0.15715402658326819\n"
     ]
    }
   ],
   "source": [
    "from sklearn.ensemble import RandomForestClassifier\n",
    "from sklearn import metrics\n",
    "from sklearn.metrics import accuracy_score \n",
    "\n",
    "# Create a random forest Classifier. By convention, clf means 'Classifier'\n",
    "clf = RandomForestClassifier(n_estimators=300, max_depth=2, random_state=0)\n",
    "\n",
    "# Train the Classifier to take the training features and learn how they relate to the training y (the cancel reasons)\n",
    "clf.fit(X_train, y_train)  \n",
    "\n",
    "# Fitting Random Forest Classification to the Training set\n",
    "prediction=clf.predict(X_test)\n",
    "print('The accuracy of the Random Classifier is', metrics.accuracy_score(prediction,y_test))"
   ]
  },
  {
   "cell_type": "code",
   "execution_count": 164,
   "metadata": {
    "ExecuteTime": {
     "end_time": "2019-07-30T10:49:51.349040Z",
     "start_time": "2019-07-30T10:49:51.127047Z"
    }
   },
   "outputs": [
    {
     "data": {
      "text/plain": [
       "[array([[0.69302968, 0.30697032],\n",
       "        [0.6936686 , 0.3063314 ],\n",
       "        [0.66770816, 0.33229184],\n",
       "        ...,\n",
       "        [0.66312643, 0.33687357],\n",
       "        [0.81229544, 0.18770456],\n",
       "        [0.65231768, 0.34768232]]), array([[0.74243853, 0.25756147],\n",
       "        [0.7482793 , 0.2517207 ],\n",
       "        [0.78422106, 0.21577894],\n",
       "        ...,\n",
       "        [0.78206502, 0.21793498],\n",
       "        [0.88986096, 0.11013904],\n",
       "        [0.79333771, 0.20666229]]), array([[0.77282804, 0.22717196],\n",
       "        [0.77505724, 0.22494276],\n",
       "        [0.79971957, 0.20028043],\n",
       "        ...,\n",
       "        [0.79913701, 0.20086299],\n",
       "        [0.90099577, 0.09900423],\n",
       "        [0.81114441, 0.18885559]]), array([[0.89775607, 0.10224393],\n",
       "        [0.89891052, 0.10108948],\n",
       "        [0.90508842, 0.09491158],\n",
       "        ...,\n",
       "        [0.91371188, 0.08628812],\n",
       "        [0.59123892, 0.40876108],\n",
       "        [0.90791719, 0.09208281]]), array([[0.97541644, 0.02458356],\n",
       "        [0.97566284, 0.02433716],\n",
       "        [0.97799497, 0.02200503],\n",
       "        ...,\n",
       "        [0.98083706, 0.01916294],\n",
       "        [0.90814275, 0.09185725],\n",
       "        [0.9807542 , 0.0192458 ]]), array([[1.],\n",
       "        [1.],\n",
       "        [1.],\n",
       "        ...,\n",
       "        [1.],\n",
       "        [1.],\n",
       "        [1.]])]"
      ]
     },
     "execution_count": 164,
     "metadata": {},
     "output_type": "execute_result"
    }
   ],
   "source": [
    "# View the predicted probabilities of the first 10 observations\n",
    "clf.predict_proba(X_test)[0:10]"
   ]
  },
  {
   "cell_type": "markdown",
   "metadata": {},
   "source": [
    "## evaluation of classification perfomance"
   ]
  },
  {
   "cell_type": "markdown",
   "metadata": {},
   "source": [
    "**Now that we have predicted the cancel reasons in the test data, we can compare our predicted cancel  reasons with the that order actual reasons.**"
   ]
  },
  {
   "cell_type": "code",
   "execution_count": 165,
   "metadata": {
    "ExecuteTime": {
     "end_time": "2019-07-30T10:49:51.368972Z",
     "start_time": "2019-07-30T10:49:51.351706Z"
    }
   },
   "outputs": [
    {
     "name": "stdout",
     "output_type": "stream",
     "text": [
      "The precision score of the Random Classifier is 0.16780198540036406\n",
      "The recall score of the Random Classifier is 0.059336823734729496\n",
      "The F1 score of the Random Classifier is 0.08767182383277448\n"
     ]
    },
    {
     "name": "stderr",
     "output_type": "stream",
     "text": [
      "/home/dancilla/PYTHON_37/lib/python3.6/site-packages/sklearn/metrics/classification.py:1143: UndefinedMetricWarning: Precision is ill-defined and being set to 0.0 in labels with no predicted samples.\n",
      "  'precision', 'predicted', average, warn_for)\n",
      "/home/dancilla/PYTHON_37/lib/python3.6/site-packages/sklearn/metrics/classification.py:1145: UndefinedMetricWarning: Recall is ill-defined and being set to 0.0 in labels with no true samples.\n",
      "  'recall', 'true', average, warn_for)\n",
      "/home/dancilla/PYTHON_37/lib/python3.6/site-packages/sklearn/metrics/classification.py:1143: UndefinedMetricWarning: F-score is ill-defined and being set to 0.0 in labels with no predicted samples.\n",
      "  'precision', 'predicted', average, warn_for)\n",
      "/home/dancilla/PYTHON_37/lib/python3.6/site-packages/sklearn/metrics/classification.py:1145: UndefinedMetricWarning: F-score is ill-defined and being set to 0.0 in labels with no true samples.\n",
      "  'recall', 'true', average, warn_for)\n"
     ]
    }
   ],
   "source": [
    "#check the perfomance of the model by using f1_score, precision_score, recall_score, \n",
    "from sklearn.metrics import f1_score, precision_score, recall_score, classification_report\n",
    "\n",
    "print ('The precision score of the Random Classifier is', precision_score(y_test, prediction, average='weighted'))\n",
    "print ('The recall score of the Random Classifier is', recall_score(y_test, prediction, average='weighted'))\n",
    "print ('The F1 score of the Random Classifier is', f1_score(y_test, prediction, average='weighted'))\n",
    "\n"
   ]
  },
  {
   "cell_type": "markdown",
   "metadata": {},
   "source": [
    "### View Feature Importance"
   ]
  },
  {
   "cell_type": "markdown",
   "metadata": {
    "ExecuteTime": {
     "end_time": "2019-07-30T10:40:14.481604Z",
     "start_time": "2019-07-30T10:40:14.473074Z"
    }
   },
   "source": [
    "**This gives a score telling us how important each feature was in classifying. We can clearly see thatsome features were more important in classification than others.**"
   ]
  },
  {
   "cell_type": "code",
   "execution_count": 166,
   "metadata": {
    "ExecuteTime": {
     "end_time": "2019-07-30T10:49:51.904439Z",
     "start_time": "2019-07-30T10:49:51.867441Z"
    }
   },
   "outputs": [
    {
     "data": {
      "text/plain": [
       "[('personal_or_business', 0.029037254042804418),\n",
       " ('business_number', 0.07170065994243856),\n",
       " ('vehicle_type', 0.0),\n",
       " ('standard_or_express', 0.018156057299197635),\n",
       " ('platform', 0.20289983696334435),\n",
       " ('cancelled_by', 0.4294071080779935),\n",
       " ('placement_day', 0.003212169094485514),\n",
       " ('confirmation_day', 0.003364760740313939),\n",
       " ('cancellation_day', 0.004183909447310197),\n",
       " ('distance_(km)', 0.15537445054445553),\n",
       " ('pickup_lat', 0.03729793974518505),\n",
       " ('pickup_long', 0.03276497426190171),\n",
       " ('scheduled', 0.012600879840569689)]"
      ]
     },
     "execution_count": 166,
     "metadata": {},
     "output_type": "execute_result"
    }
   ],
   "source": [
    "# View a list of the features and their importance scores\n",
    "list(zip(X, clf.feature_importances_))"
   ]
  },
  {
   "cell_type": "markdown",
   "metadata": {},
   "source": [
    "**Store the Random Forest classifier using the joblib function of sklearn.**"
   ]
  },
  {
   "cell_type": "markdown",
   "metadata": {},
   "source": [
    "## Holdout"
   ]
  },
  {
   "cell_type": "code",
   "execution_count": 156,
   "metadata": {
    "ExecuteTime": {
     "end_time": "2019-07-30T10:44:53.481250Z",
     "start_time": "2019-07-30T10:44:53.475077Z"
    }
   },
   "outputs": [
    {
     "data": {
      "text/plain": [
       "Index(['personal_or_business', 'business_number', 'vehicle_type',\n",
       "       'standard_or_express', 'platform', 'cancel_reason', 'cancelled_by',\n",
       "       'placement_day', 'placement_time', 'confirmation_day',\n",
       "       'confirmation_time', 'cancellation_day', 'cancellation_time',\n",
       "       'distance_(km)', 'pickup_lat', 'pickup_long', 'scheduled'],\n",
       "      dtype='object')"
      ]
     },
     "execution_count": 156,
     "metadata": {},
     "output_type": "execute_result"
    }
   ],
   "source": [
    "holdout = test_df # from now on we will refer to this\n",
    "               # dataframe as the holdout data\n",
    "holdout.columns"
   ]
  },
  {
   "cell_type": "code",
   "execution_count": 157,
   "metadata": {
    "ExecuteTime": {
     "end_time": "2019-07-30T10:44:54.490700Z",
     "start_time": "2019-07-30T10:44:54.462785Z"
    }
   },
   "outputs": [
    {
     "data": {
      "text/html": [
       "<div>\n",
       "<style scoped>\n",
       "    .dataframe tbody tr th:only-of-type {\n",
       "        vertical-align: middle;\n",
       "    }\n",
       "\n",
       "    .dataframe tbody tr th {\n",
       "        vertical-align: top;\n",
       "    }\n",
       "\n",
       "    .dataframe thead th {\n",
       "        text-align: right;\n",
       "    }\n",
       "</style>\n",
       "<table border=\"1\" class=\"dataframe\">\n",
       "  <thead>\n",
       "    <tr style=\"text-align: right;\">\n",
       "      <th></th>\n",
       "      <th>personal_or_business</th>\n",
       "      <th>business_number</th>\n",
       "      <th>vehicle_type</th>\n",
       "      <th>standard_or_express</th>\n",
       "      <th>platform</th>\n",
       "      <th>cancel_reason</th>\n",
       "      <th>cancelled_by</th>\n",
       "      <th>placement_day</th>\n",
       "      <th>placement_time</th>\n",
       "      <th>confirmation_day</th>\n",
       "      <th>confirmation_time</th>\n",
       "      <th>cancellation_day</th>\n",
       "      <th>cancellation_time</th>\n",
       "      <th>distance_(km)</th>\n",
       "      <th>pickup_lat</th>\n",
       "      <th>pickup_long</th>\n",
       "      <th>scheduled</th>\n",
       "    </tr>\n",
       "  </thead>\n",
       "  <tbody>\n",
       "    <tr>\n",
       "      <th>0</th>\n",
       "      <td>Personal</td>\n",
       "      <td>-1.0</td>\n",
       "      <td>Bike</td>\n",
       "      <td>Express</td>\n",
       "      <td>ios</td>\n",
       "      <td>NaN</td>\n",
       "      <td>Customer</td>\n",
       "      <td>1</td>\n",
       "      <td>15:23:44</td>\n",
       "      <td>1</td>\n",
       "      <td>16:40:47</td>\n",
       "      <td>1</td>\n",
       "      <td>16:43:50</td>\n",
       "      <td>4</td>\n",
       "      <td>-1.299370</td>\n",
       "      <td>36.822107</td>\n",
       "      <td>OnDemAND</td>\n",
       "    </tr>\n",
       "    <tr>\n",
       "      <th>1</th>\n",
       "      <td>Business</td>\n",
       "      <td>20680.0</td>\n",
       "      <td>Bike</td>\n",
       "      <td>Express</td>\n",
       "      <td>desktop</td>\n",
       "      <td>NaN</td>\n",
       "      <td>Staff</td>\n",
       "      <td>1</td>\n",
       "      <td>14:21:46</td>\n",
       "      <td>1</td>\n",
       "      <td>14:22:20</td>\n",
       "      <td>1</td>\n",
       "      <td>14:30:48</td>\n",
       "      <td>17</td>\n",
       "      <td>-1.264490</td>\n",
       "      <td>36.789303</td>\n",
       "      <td>OnDemAND</td>\n",
       "    </tr>\n",
       "    <tr>\n",
       "      <th>2</th>\n",
       "      <td>Business</td>\n",
       "      <td>17968.0</td>\n",
       "      <td>Bike</td>\n",
       "      <td>Express</td>\n",
       "      <td>desktop</td>\n",
       "      <td>NaN</td>\n",
       "      <td>Customer</td>\n",
       "      <td>1</td>\n",
       "      <td>15:13:20</td>\n",
       "      <td>1</td>\n",
       "      <td>NaN</td>\n",
       "      <td>1</td>\n",
       "      <td>15:56:34</td>\n",
       "      <td>18</td>\n",
       "      <td>-1.427056</td>\n",
       "      <td>36.961499</td>\n",
       "      <td>OnDemAND</td>\n",
       "    </tr>\n",
       "    <tr>\n",
       "      <th>3</th>\n",
       "      <td>Personal</td>\n",
       "      <td>-1.0</td>\n",
       "      <td>Bike</td>\n",
       "      <td>Standard</td>\n",
       "      <td>android</td>\n",
       "      <td>NaN</td>\n",
       "      <td>Customer</td>\n",
       "      <td>1</td>\n",
       "      <td>13:54:19</td>\n",
       "      <td>1</td>\n",
       "      <td>NaN</td>\n",
       "      <td>1</td>\n",
       "      <td>13:56:41</td>\n",
       "      <td>8</td>\n",
       "      <td>-1.301737</td>\n",
       "      <td>36.743936</td>\n",
       "      <td>OnDemAND</td>\n",
       "    </tr>\n",
       "    <tr>\n",
       "      <th>4</th>\n",
       "      <td>Personal</td>\n",
       "      <td>-1.0</td>\n",
       "      <td>Bike</td>\n",
       "      <td>Standard</td>\n",
       "      <td>android</td>\n",
       "      <td>NaN</td>\n",
       "      <td>Staff</td>\n",
       "      <td>1</td>\n",
       "      <td>13:24:05</td>\n",
       "      <td>1</td>\n",
       "      <td>15:57:20</td>\n",
       "      <td>1</td>\n",
       "      <td>17:14:46</td>\n",
       "      <td>13</td>\n",
       "      <td>-1.308098</td>\n",
       "      <td>36.920464</td>\n",
       "      <td>Scheduled</td>\n",
       "    </tr>\n",
       "  </tbody>\n",
       "</table>\n",
       "</div>"
      ],
      "text/plain": [
       "  personal_or_business  business_number vehicle_type standard_or_express  \\\n",
       "0             Personal             -1.0         Bike             Express   \n",
       "1             Business          20680.0         Bike             Express   \n",
       "2             Business          17968.0         Bike             Express   \n",
       "3             Personal             -1.0         Bike            Standard   \n",
       "4             Personal             -1.0         Bike            Standard   \n",
       "\n",
       "  platform  cancel_reason cancelled_by  placement_day placement_time  \\\n",
       "0      ios            NaN     Customer              1       15:23:44   \n",
       "1  desktop            NaN        Staff              1       14:21:46   \n",
       "2  desktop            NaN     Customer              1       15:13:20   \n",
       "3  android            NaN     Customer              1       13:54:19   \n",
       "4  android            NaN        Staff              1       13:24:05   \n",
       "\n",
       "   confirmation_day confirmation_time  cancellation_day cancellation_time  \\\n",
       "0                 1          16:40:47                 1          16:43:50   \n",
       "1                 1          14:22:20                 1          14:30:48   \n",
       "2                 1               NaN                 1          15:56:34   \n",
       "3                 1               NaN                 1          13:56:41   \n",
       "4                 1          15:57:20                 1          17:14:46   \n",
       "\n",
       "   distance_(km)  pickup_lat  pickup_long  scheduled  \n",
       "0              4   -1.299370    36.822107   OnDemAND  \n",
       "1             17   -1.264490    36.789303   OnDemAND  \n",
       "2             18   -1.427056    36.961499   OnDemAND  \n",
       "3              8   -1.301737    36.743936   OnDemAND  \n",
       "4             13   -1.308098    36.920464  Scheduled  "
      ]
     },
     "execution_count": 157,
     "metadata": {},
     "output_type": "execute_result"
    }
   ],
   "source": [
    "holdout.head()"
   ]
  },
  {
   "cell_type": "markdown",
   "metadata": {},
   "source": [
    "## Creating the dependent variable class on the holdout dataset"
   ]
  },
  {
   "cell_type": "code",
   "execution_count": 158,
   "metadata": {
    "ExecuteTime": {
     "end_time": "2019-07-30T10:44:57.574573Z",
     "start_time": "2019-07-30T10:44:55.411057Z"
    }
   },
   "outputs": [
    {
     "name": "stderr",
     "output_type": "stream",
     "text": [
      "/home/dancilla/PYTHON_37/lib/python3.6/site-packages/ipykernel_launcher.py:3: SettingWithCopyWarning: \n",
      "A value is trying to be set on a copy of a slice from a DataFrame\n",
      "\n",
      "See the caveats in the documentation: http://pandas.pydata.org/pandas-docs/stable/indexing.html#indexing-view-versus-copy\n",
      "  This is separate from the ipykernel package so we can avoid doing imports until\n",
      "/home/dancilla/PYTHON_37/lib/python3.6/site-packages/ipykernel_launcher.py:4: SettingWithCopyWarning: \n",
      "A value is trying to be set on a copy of a slice from a DataFrame\n",
      "\n",
      "See the caveats in the documentation: http://pandas.pydata.org/pandas-docs/stable/indexing.html#indexing-view-versus-copy\n",
      "  after removing the cwd from sys.path.\n",
      "/home/dancilla/PYTHON_37/lib/python3.6/site-packages/ipykernel_launcher.py:6: SettingWithCopyWarning: \n",
      "A value is trying to be set on a copy of a slice from a DataFrame\n",
      "\n",
      "See the caveats in the documentation: http://pandas.pydata.org/pandas-docs/stable/indexing.html#indexing-view-versus-copy\n",
      "  \n",
      "/home/dancilla/PYTHON_37/lib/python3.6/site-packages/ipykernel_launcher.py:7: SettingWithCopyWarning: \n",
      "A value is trying to be set on a copy of a slice from a DataFrame\n",
      "\n",
      "See the caveats in the documentation: http://pandas.pydata.org/pandas-docs/stable/indexing.html#indexing-view-versus-copy\n",
      "  import sys\n",
      "/home/dancilla/PYTHON_37/lib/python3.6/site-packages/ipykernel_launcher.py:9: SettingWithCopyWarning: \n",
      "A value is trying to be set on a copy of a slice from a DataFrame\n",
      "\n",
      "See the caveats in the documentation: http://pandas.pydata.org/pandas-docs/stable/indexing.html#indexing-view-versus-copy\n",
      "  if __name__ == '__main__':\n",
      "/home/dancilla/PYTHON_37/lib/python3.6/site-packages/ipykernel_launcher.py:10: SettingWithCopyWarning: \n",
      "A value is trying to be set on a copy of a slice from a DataFrame\n",
      "\n",
      "See the caveats in the documentation: http://pandas.pydata.org/pandas-docs/stable/indexing.html#indexing-view-versus-copy\n",
      "  # Remove the CWD from sys.path while we load stuff.\n",
      "/home/dancilla/PYTHON_37/lib/python3.6/site-packages/ipykernel_launcher.py:12: SettingWithCopyWarning: \n",
      "A value is trying to be set on a copy of a slice from a DataFrame\n",
      "\n",
      "See the caveats in the documentation: http://pandas.pydata.org/pandas-docs/stable/indexing.html#indexing-view-versus-copy\n",
      "  if sys.path[0] == '':\n",
      "/home/dancilla/PYTHON_37/lib/python3.6/site-packages/ipykernel_launcher.py:13: SettingWithCopyWarning: \n",
      "A value is trying to be set on a copy of a slice from a DataFrame\n",
      "\n",
      "See the caveats in the documentation: http://pandas.pydata.org/pandas-docs/stable/indexing.html#indexing-view-versus-copy\n",
      "  del sys.path[0]\n",
      "/home/dancilla/PYTHON_37/lib/python3.6/site-packages/ipykernel_launcher.py:15: SettingWithCopyWarning: \n",
      "A value is trying to be set on a copy of a slice from a DataFrame\n",
      "\n",
      "See the caveats in the documentation: http://pandas.pydata.org/pandas-docs/stable/indexing.html#indexing-view-versus-copy\n",
      "  from ipykernel import kernelapp as app\n",
      "/home/dancilla/PYTHON_37/lib/python3.6/site-packages/ipykernel_launcher.py:16: SettingWithCopyWarning: \n",
      "A value is trying to be set on a copy of a slice from a DataFrame\n",
      "\n",
      "See the caveats in the documentation: http://pandas.pydata.org/pandas-docs/stable/indexing.html#indexing-view-versus-copy\n",
      "  app.launch_new_instance()\n",
      "/home/dancilla/PYTHON_37/lib/python3.6/site-packages/ipykernel_launcher.py:19: SettingWithCopyWarning: \n",
      "A value is trying to be set on a copy of a slice from a DataFrame\n",
      "\n",
      "See the caveats in the documentation: http://pandas.pydata.org/pandas-docs/stable/indexing.html#indexing-view-versus-copy\n",
      "/home/dancilla/PYTHON_37/lib/python3.6/site-packages/ipykernel_launcher.py:20: SettingWithCopyWarning: \n",
      "A value is trying to be set on a copy of a slice from a DataFrame\n",
      "\n",
      "See the caveats in the documentation: http://pandas.pydata.org/pandas-docs/stable/indexing.html#indexing-view-versus-copy\n",
      "/home/dancilla/PYTHON_37/lib/python3.6/site-packages/ipykernel_launcher.py:21: SettingWithCopyWarning: \n",
      "A value is trying to be set on a copy of a slice from a DataFrame\n",
      "\n",
      "See the caveats in the documentation: http://pandas.pydata.org/pandas-docs/stable/indexing.html#indexing-view-versus-copy\n",
      "/home/dancilla/PYTHON_37/lib/python3.6/site-packages/ipykernel_launcher.py:22: SettingWithCopyWarning: \n",
      "A value is trying to be set on a copy of a slice from a DataFrame\n",
      "\n",
      "See the caveats in the documentation: http://pandas.pydata.org/pandas-docs/stable/indexing.html#indexing-view-versus-copy\n",
      "/home/dancilla/PYTHON_37/lib/python3.6/site-packages/ipykernel_launcher.py:23: SettingWithCopyWarning: \n",
      "A value is trying to be set on a copy of a slice from a DataFrame\n",
      "\n",
      "See the caveats in the documentation: http://pandas.pydata.org/pandas-docs/stable/indexing.html#indexing-view-versus-copy\n"
     ]
    }
   ],
   "source": [
    "# traversing through personal or business orders \n",
    "# column of dataFrame and writing values where  condition matches. \n",
    "holdout['personal_or_business'][holdout['personal_or_business'] == 'Personal'] = 1\n",
    "holdout['personal_or_business'][holdout['personal_or_business'] == 'Business'] = 2\n",
    "\n",
    "holdout['standard_or_express'][holdout['standard_or_express'] == 'Express'] = 1\n",
    "holdout['standard_or_express'][holdout['standard_or_express'] == 'Standard'] = 2\n",
    "\n",
    "holdout['cancelled_by'][holdout['cancelled_by'] == 'Customer'] = 1\n",
    "holdout['cancelled_by'][holdout['cancelled_by'] == 'Staff'] = 2\n",
    "\n",
    "holdout['vehicle_type'][holdout['vehicle_type'] == 'Bike'] = 1\n",
    "holdout['vehicle_type'][holdout['vehicle_type'] == 'Standard Bike'] = 2\n",
    "\n",
    "holdout['scheduled'][holdout['scheduled'] == 'OnDemAND'] = 1\n",
    "holdout['scheduled'][holdout['scheduled'] == 'Scheduled'] = 2\n",
    "\n",
    "\n",
    "holdout['platform'][holdout['platform'] == 'android'] = 1\n",
    "holdout['platform'][holdout['platform'] == 'ios'] = 2\n",
    "holdout['platform'][holdout['platform'] == 'desktop'] = 3\n",
    "holdout['platform'][holdout['platform'] == 'API'] = 4\n",
    "holdout['platform'][holdout['platform'] == 'peer_web'] = 5\n"
   ]
  },
  {
   "cell_type": "code",
   "execution_count": 159,
   "metadata": {
    "ExecuteTime": {
     "end_time": "2019-07-30T10:44:57.585339Z",
     "start_time": "2019-07-30T10:44:57.578788Z"
    }
   },
   "outputs": [],
   "source": [
    "#Choose the features which will be used for building the model\n",
    "columns = ['personal_or_business', 'business_number', 'vehicle_type',\n",
    "       'standard_or_express', 'platform', 'cancelled_by',\n",
    "       'placement_day', 'confirmation_day', 'cancellation_day',\n",
    "       'distance_(km)', 'pickup_lat', 'pickup_long', 'scheduled']\n",
    "holdout=holdout[columns]"
   ]
  },
  {
   "cell_type": "markdown",
   "metadata": {},
   "source": [
    "## Making predictions on unseen data"
   ]
  },
  {
   "cell_type": "markdown",
   "metadata": {},
   "source": [
    "**Generate predictions using .predict_proba() on the holdout columns.**\n"
   ]
  },
  {
   "cell_type": "code",
   "execution_count": 32,
   "metadata": {
    "ExecuteTime": {
     "end_time": "2019-07-30T09:59:40.017525Z",
     "start_time": "2019-07-30T09:59:39.536049Z"
    }
   },
   "outputs": [],
   "source": [
    "# Create a random forest Classifier. By convention, clf means 'Classifier'\n",
    "clf = RandomForestClassifier(n_estimators=100, max_depth=2, random_state=0)\n",
    "\n",
    "# Train the Classifier to take the training features and learn how they relate to the training y (the cancel reasons)\n",
    "clf.fit(X_train, y_train) \n",
    "holdout_predictions = clf.predict_proba(holdout[columns])"
   ]
  },
  {
   "cell_type": "markdown",
   "metadata": {},
   "source": [
    "## Creating a submission file\n"
   ]
  },
  {
   "cell_type": "code",
   "execution_count": 160,
   "metadata": {
    "ExecuteTime": {
     "end_time": "2019-07-30T10:48:15.913888Z",
     "start_time": "2019-07-30T10:48:15.909451Z"
    }
   },
   "outputs": [],
   "source": [
    "#Create a submission file using the holdout_predictions, to show the predictions done.\n",
    "submission_df = {\"cancel_reason\": holdout_predictions}\n",
    "submission = pd.DataFrame(submission_df)"
   ]
  },
  {
   "cell_type": "code",
   "execution_count": 161,
   "metadata": {
    "ExecuteTime": {
     "end_time": "2019-07-30T10:48:16.369246Z",
     "start_time": "2019-07-30T10:48:16.285821Z"
    }
   },
   "outputs": [],
   "source": [
    "submission.to_csv(\"cancelreason.csv\",index=False)"
   ]
  },
  {
   "cell_type": "code",
   "execution_count": null,
   "metadata": {},
   "outputs": [],
   "source": []
  }
 ],
 "metadata": {
  "kernelspec": {
   "display_name": "Python 3",
   "language": "python",
   "name": "python3"
  },
  "language_info": {
   "codemirror_mode": {
    "name": "ipython",
    "version": 3
   },
   "file_extension": ".py",
   "mimetype": "text/x-python",
   "name": "python",
   "nbconvert_exporter": "python",
   "pygments_lexer": "ipython3",
   "version": "3.6.5"
  },
  "toc": {
   "base_numbering": 1,
   "nav_menu": {},
   "number_sections": true,
   "sideBar": true,
   "skip_h1_title": false,
   "title_cell": "Table of Contents",
   "title_sidebar": "Contents",
   "toc_cell": false,
   "toc_position": {},
   "toc_section_display": true,
   "toc_window_display": false
  }
 },
 "nbformat": 4,
 "nbformat_minor": 2
}
