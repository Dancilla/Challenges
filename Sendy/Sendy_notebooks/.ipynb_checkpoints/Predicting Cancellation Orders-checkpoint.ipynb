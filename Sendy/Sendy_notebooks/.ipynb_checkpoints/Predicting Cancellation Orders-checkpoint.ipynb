{
 "cells": [
  {
   "cell_type": "code",
   "execution_count": 150,
   "metadata": {
    "ExecuteTime": {
     "end_time": "2019-07-29T12:25:18.876955Z",
     "start_time": "2019-07-29T12:25:18.868983Z"
    }
   },
   "outputs": [
    {
     "name": "stdout",
     "output_type": "stream",
     "text": [
      "Populating the interactive namespace from numpy and matplotlib\n"
     ]
    },
    {
     "name": "stderr",
     "output_type": "stream",
     "text": [
      "/home/dancilla/PYTHON_37/lib/python3.6/site-packages/IPython/core/magics/pylab.py:160: UserWarning: pylab import has clobbered these variables: ['clf', 'random']\n",
      "`%matplotlib` prevents importing * from pylab and numpy\n",
      "  \"\\n`%matplotlib` prevents importing * from pylab and numpy\"\n"
     ]
    }
   ],
   "source": [
    "%pylab inline"
   ]
  },
  {
   "cell_type": "markdown",
   "metadata": {},
   "source": [
    "# Problem Statement"
   ]
  },
  {
   "cell_type": "markdown",
   "metadata": {},
   "source": [
    "**Data Analysis case study**\n",
    "\n",
    "I am working on a logistic problem where they have faced cancellation of orders in their deliveries. \n",
    "Their main goal is to be the 1st prefered delivery partner in Africa.\n",
    "\n",
    "**Challenge 2**\n",
    "\n",
    "-There's been deliberate deletion of data\n",
    "1. Use the data 2, missed data to predict cancellation reasons for all orders with missing data.\n",
    "2. Document steps and method used.\n",
    "\n",
    "How to predict cancellation reasons\n",
    "Our algorithm will be a multi-class classification machine learning algorithm which involves the following steps:\n",
    "\n",
    "1. Importing libraries\n",
    "2. Fetching the dataset\n",
    "3. Creating the dependent variable class\n",
    "4. Extracting features and output\n",
    "5. Train-Test dataset splitting (include test dataset as holdout data)\n",
    "6. Feature scaling\n",
    "7. Training the model\n",
    "8. Calculating the model score using the metric deemed fit based on the problem\n",
    "9. Saving the model for predicting cancellation reasons on the test dataset"
   ]
  },
  {
   "cell_type": "code",
   "execution_count": 151,
   "metadata": {
    "ExecuteTime": {
     "end_time": "2019-07-29T12:25:19.224154Z",
     "start_time": "2019-07-29T12:25:19.219970Z"
    }
   },
   "outputs": [],
   "source": [
    "##for faster data processing\n",
    "import numba as nb\n",
    "import dask as da\n",
    "\n",
    "#for data manipulation \n",
    "import pandas as pd\n",
    "import numpy as np\n",
    "\n",
    "##for data visualizations, distribution  and prediction of the variables\n",
    "from pandas_summary import DataFrameSummary\n",
    "import scipy as sc\n",
    "import sklearn as skl\n",
    "import seaborn as sns\n",
    "\n",
    "import random"
   ]
  },
  {
   "cell_type": "markdown",
   "metadata": {},
   "source": [
    "# Import Dataset"
   ]
  },
  {
   "cell_type": "code",
   "execution_count": 152,
   "metadata": {
    "ExecuteTime": {
     "end_time": "2019-07-29T12:25:19.669625Z",
     "start_time": "2019-07-29T12:25:19.605168Z"
    }
   },
   "outputs": [],
   "source": [
    "query_df = pd.read_csv('../Sendy_data/prediction_df.csv', sep=',')\n",
    "test_df = pd.read_csv('../Sendy_data/test_df.csv', sep=',')\n"
   ]
  },
  {
   "cell_type": "code",
   "execution_count": 153,
   "metadata": {
    "ExecuteTime": {
     "end_time": "2019-07-29T12:25:19.861098Z",
     "start_time": "2019-07-29T12:25:19.824059Z"
    }
   },
   "outputs": [
    {
     "data": {
      "text/html": [
       "<div>\n",
       "<style scoped>\n",
       "    .dataframe tbody tr th:only-of-type {\n",
       "        vertical-align: middle;\n",
       "    }\n",
       "\n",
       "    .dataframe tbody tr th {\n",
       "        vertical-align: top;\n",
       "    }\n",
       "\n",
       "    .dataframe thead th {\n",
       "        text-align: right;\n",
       "    }\n",
       "</style>\n",
       "<table border=\"1\" class=\"dataframe\">\n",
       "  <thead>\n",
       "    <tr style=\"text-align: right;\">\n",
       "      <th></th>\n",
       "      <th>index</th>\n",
       "      <th>personal_or_business</th>\n",
       "      <th>business_number</th>\n",
       "      <th>vehicle_type</th>\n",
       "      <th>standard_or_express</th>\n",
       "      <th>platform</th>\n",
       "      <th>cancel_reason</th>\n",
       "      <th>cancelled_by</th>\n",
       "      <th>placement_day</th>\n",
       "      <th>placement_time</th>\n",
       "      <th>...</th>\n",
       "      <th>distance_(km)</th>\n",
       "      <th>pickup_lat</th>\n",
       "      <th>pickup_long</th>\n",
       "      <th>scheduled</th>\n",
       "      <th>order_timedelta</th>\n",
       "      <th>processing_timedelta</th>\n",
       "      <th>confirmation_timedelta</th>\n",
       "      <th>order_period</th>\n",
       "      <th>processing_period</th>\n",
       "      <th>confirmation_period</th>\n",
       "    </tr>\n",
       "  </thead>\n",
       "  <tbody>\n",
       "    <tr>\n",
       "      <th>0</th>\n",
       "      <td>0</td>\n",
       "      <td>Personal</td>\n",
       "      <td>-1.0</td>\n",
       "      <td>Bike</td>\n",
       "      <td>Express</td>\n",
       "      <td>android</td>\n",
       "      <td>No driver has been allocated to my request.</td>\n",
       "      <td>Customer</td>\n",
       "      <td>1</td>\n",
       "      <td>2019-07-29 17:55:38</td>\n",
       "      <td>...</td>\n",
       "      <td>9</td>\n",
       "      <td>-1.313053</td>\n",
       "      <td>36.841437</td>\n",
       "      <td>OnDemAND</td>\n",
       "      <td>NaN</td>\n",
       "      <td>-1 days +23:59:03.000000000</td>\n",
       "      <td>NaN</td>\n",
       "      <td>0</td>\n",
       "      <td>0</td>\n",
       "      <td>0</td>\n",
       "    </tr>\n",
       "    <tr>\n",
       "      <th>1</th>\n",
       "      <td>1</td>\n",
       "      <td>Personal</td>\n",
       "      <td>-1.0</td>\n",
       "      <td>Bike</td>\n",
       "      <td>Express</td>\n",
       "      <td>android</td>\n",
       "      <td>My order is not ready.</td>\n",
       "      <td>Customer</td>\n",
       "      <td>1</td>\n",
       "      <td>2019-07-29 12:26:27</td>\n",
       "      <td>...</td>\n",
       "      <td>14</td>\n",
       "      <td>-1.318959</td>\n",
       "      <td>36.853394</td>\n",
       "      <td>OnDemAND</td>\n",
       "      <td>-1 days +23:58:51.000000000</td>\n",
       "      <td>-1 days +23:57:43.000000000</td>\n",
       "      <td>-1 days +23:58:52.000000000</td>\n",
       "      <td>0</td>\n",
       "      <td>0</td>\n",
       "      <td>0</td>\n",
       "    </tr>\n",
       "    <tr>\n",
       "      <th>2</th>\n",
       "      <td>2</td>\n",
       "      <td>Business</td>\n",
       "      <td>20680.0</td>\n",
       "      <td>Bike</td>\n",
       "      <td>Express</td>\n",
       "      <td>android</td>\n",
       "      <td>I placed the wrong locations.</td>\n",
       "      <td>Customer</td>\n",
       "      <td>1</td>\n",
       "      <td>2019-07-29 13:21:18</td>\n",
       "      <td>...</td>\n",
       "      <td>16</td>\n",
       "      <td>-1.313854</td>\n",
       "      <td>36.706867</td>\n",
       "      <td>OnDemAND</td>\n",
       "      <td>-1 days +23:59:44.000000000</td>\n",
       "      <td>-1 days +23:33:49.000000000</td>\n",
       "      <td>-1 days +23:34:05.000000000</td>\n",
       "      <td>0</td>\n",
       "      <td>0</td>\n",
       "      <td>0</td>\n",
       "    </tr>\n",
       "    <tr>\n",
       "      <th>3</th>\n",
       "      <td>3</td>\n",
       "      <td>Personal</td>\n",
       "      <td>-1.0</td>\n",
       "      <td>Bike</td>\n",
       "      <td>Express</td>\n",
       "      <td>android</td>\n",
       "      <td>My order is not ready.</td>\n",
       "      <td>Customer</td>\n",
       "      <td>1</td>\n",
       "      <td>2019-07-29 10:29:19</td>\n",
       "      <td>...</td>\n",
       "      <td>20</td>\n",
       "      <td>-1.206197</td>\n",
       "      <td>36.778776</td>\n",
       "      <td>OnDemAND</td>\n",
       "      <td>NaN</td>\n",
       "      <td>-1 days +23:59:50.000000000</td>\n",
       "      <td>NaN</td>\n",
       "      <td>0</td>\n",
       "      <td>0</td>\n",
       "      <td>0</td>\n",
       "    </tr>\n",
       "    <tr>\n",
       "      <th>4</th>\n",
       "      <td>4</td>\n",
       "      <td>Personal</td>\n",
       "      <td>-1.0</td>\n",
       "      <td>Bike</td>\n",
       "      <td>Standard</td>\n",
       "      <td>ios</td>\n",
       "      <td>No Partner</td>\n",
       "      <td>Staff</td>\n",
       "      <td>1</td>\n",
       "      <td>2019-07-29 14:34:05</td>\n",
       "      <td>...</td>\n",
       "      <td>11</td>\n",
       "      <td>-1.296958</td>\n",
       "      <td>36.808166</td>\n",
       "      <td>OnDemAND</td>\n",
       "      <td>-1 days +23:34:57.000000000</td>\n",
       "      <td>-1 days +22:44:24.000000000</td>\n",
       "      <td>-1 days +23:09:27.000000000</td>\n",
       "      <td>0</td>\n",
       "      <td>0</td>\n",
       "      <td>0</td>\n",
       "    </tr>\n",
       "  </tbody>\n",
       "</table>\n",
       "<p>5 rows × 24 columns</p>\n",
       "</div>"
      ],
      "text/plain": [
       "   index personal_or_business  business_number vehicle_type  \\\n",
       "0      0             Personal             -1.0         Bike   \n",
       "1      1             Personal             -1.0         Bike   \n",
       "2      2             Business          20680.0         Bike   \n",
       "3      3             Personal             -1.0         Bike   \n",
       "4      4             Personal             -1.0         Bike   \n",
       "\n",
       "  standard_or_express platform                                cancel_reason  \\\n",
       "0             Express  android  No driver has been allocated to my request.   \n",
       "1             Express  android                       My order is not ready.   \n",
       "2             Express  android                I placed the wrong locations.   \n",
       "3             Express  android                       My order is not ready.   \n",
       "4            Standard      ios                                   No Partner   \n",
       "\n",
       "  cancelled_by  placement_day       placement_time  ...  distance_(km)  \\\n",
       "0     Customer              1  2019-07-29 17:55:38  ...              9   \n",
       "1     Customer              1  2019-07-29 12:26:27  ...             14   \n",
       "2     Customer              1  2019-07-29 13:21:18  ...             16   \n",
       "3     Customer              1  2019-07-29 10:29:19  ...             20   \n",
       "4        Staff              1  2019-07-29 14:34:05  ...             11   \n",
       "\n",
       "  pickup_lat  pickup_long scheduled              order_timedelta  \\\n",
       "0  -1.313053    36.841437  OnDemAND                          NaN   \n",
       "1  -1.318959    36.853394  OnDemAND  -1 days +23:58:51.000000000   \n",
       "2  -1.313854    36.706867  OnDemAND  -1 days +23:59:44.000000000   \n",
       "3  -1.206197    36.778776  OnDemAND                          NaN   \n",
       "4  -1.296958    36.808166  OnDemAND  -1 days +23:34:57.000000000   \n",
       "\n",
       "          processing_timedelta       confirmation_timedelta order_period  \\\n",
       "0  -1 days +23:59:03.000000000                          NaN            0   \n",
       "1  -1 days +23:57:43.000000000  -1 days +23:58:52.000000000            0   \n",
       "2  -1 days +23:33:49.000000000  -1 days +23:34:05.000000000            0   \n",
       "3  -1 days +23:59:50.000000000                          NaN            0   \n",
       "4  -1 days +22:44:24.000000000  -1 days +23:09:27.000000000            0   \n",
       "\n",
       "  processing_period confirmation_period  \n",
       "0                 0                   0  \n",
       "1                 0                   0  \n",
       "2                 0                   0  \n",
       "3                 0                   0  \n",
       "4                 0                   0  \n",
       "\n",
       "[5 rows x 24 columns]"
      ]
     },
     "execution_count": 153,
     "metadata": {},
     "output_type": "execute_result"
    }
   ],
   "source": [
    "query_df.head()"
   ]
  },
  {
   "cell_type": "code",
   "execution_count": 154,
   "metadata": {
    "ExecuteTime": {
     "end_time": "2019-07-29T12:25:20.039174Z",
     "start_time": "2019-07-29T12:25:20.002472Z"
    }
   },
   "outputs": [
    {
     "data": {
      "text/html": [
       "<div>\n",
       "<style scoped>\n",
       "    .dataframe tbody tr th:only-of-type {\n",
       "        vertical-align: middle;\n",
       "    }\n",
       "\n",
       "    .dataframe tbody tr th {\n",
       "        vertical-align: top;\n",
       "    }\n",
       "\n",
       "    .dataframe thead th {\n",
       "        text-align: right;\n",
       "    }\n",
       "</style>\n",
       "<table border=\"1\" class=\"dataframe\">\n",
       "  <thead>\n",
       "    <tr style=\"text-align: right;\">\n",
       "      <th></th>\n",
       "      <th>personal_or_business</th>\n",
       "      <th>business_number</th>\n",
       "      <th>vehicle_type</th>\n",
       "      <th>standard_or_express</th>\n",
       "      <th>platform</th>\n",
       "      <th>cancel_reason</th>\n",
       "      <th>cancelled_by</th>\n",
       "      <th>placement_day</th>\n",
       "      <th>placement_time</th>\n",
       "      <th>confirmation_day</th>\n",
       "      <th>confirmation_time</th>\n",
       "      <th>cancellation_day</th>\n",
       "      <th>cancellation_time</th>\n",
       "      <th>distance_(km)</th>\n",
       "      <th>pickup_lat</th>\n",
       "      <th>pickup_long</th>\n",
       "      <th>scheduled</th>\n",
       "    </tr>\n",
       "  </thead>\n",
       "  <tbody>\n",
       "    <tr>\n",
       "      <th>0</th>\n",
       "      <td>Personal</td>\n",
       "      <td>-1.0</td>\n",
       "      <td>Bike</td>\n",
       "      <td>Express</td>\n",
       "      <td>ios</td>\n",
       "      <td>NaN</td>\n",
       "      <td>Customer</td>\n",
       "      <td>1</td>\n",
       "      <td>15:23:44</td>\n",
       "      <td>1</td>\n",
       "      <td>16:40:47</td>\n",
       "      <td>1</td>\n",
       "      <td>16:43:50</td>\n",
       "      <td>4</td>\n",
       "      <td>-1.299370</td>\n",
       "      <td>36.822107</td>\n",
       "      <td>OnDemAND</td>\n",
       "    </tr>\n",
       "    <tr>\n",
       "      <th>1</th>\n",
       "      <td>Business</td>\n",
       "      <td>20680.0</td>\n",
       "      <td>Bike</td>\n",
       "      <td>Express</td>\n",
       "      <td>desktop</td>\n",
       "      <td>NaN</td>\n",
       "      <td>Staff</td>\n",
       "      <td>1</td>\n",
       "      <td>14:21:46</td>\n",
       "      <td>1</td>\n",
       "      <td>14:22:20</td>\n",
       "      <td>1</td>\n",
       "      <td>14:30:48</td>\n",
       "      <td>17</td>\n",
       "      <td>-1.264490</td>\n",
       "      <td>36.789303</td>\n",
       "      <td>OnDemAND</td>\n",
       "    </tr>\n",
       "    <tr>\n",
       "      <th>2</th>\n",
       "      <td>Business</td>\n",
       "      <td>17968.0</td>\n",
       "      <td>Bike</td>\n",
       "      <td>Express</td>\n",
       "      <td>desktop</td>\n",
       "      <td>NaN</td>\n",
       "      <td>Customer</td>\n",
       "      <td>1</td>\n",
       "      <td>15:13:20</td>\n",
       "      <td>1</td>\n",
       "      <td>NaN</td>\n",
       "      <td>1</td>\n",
       "      <td>15:56:34</td>\n",
       "      <td>18</td>\n",
       "      <td>-1.427056</td>\n",
       "      <td>36.961499</td>\n",
       "      <td>OnDemAND</td>\n",
       "    </tr>\n",
       "    <tr>\n",
       "      <th>3</th>\n",
       "      <td>Personal</td>\n",
       "      <td>-1.0</td>\n",
       "      <td>Bike</td>\n",
       "      <td>Standard</td>\n",
       "      <td>android</td>\n",
       "      <td>NaN</td>\n",
       "      <td>Customer</td>\n",
       "      <td>1</td>\n",
       "      <td>13:54:19</td>\n",
       "      <td>1</td>\n",
       "      <td>NaN</td>\n",
       "      <td>1</td>\n",
       "      <td>13:56:41</td>\n",
       "      <td>8</td>\n",
       "      <td>-1.301737</td>\n",
       "      <td>36.743936</td>\n",
       "      <td>OnDemAND</td>\n",
       "    </tr>\n",
       "    <tr>\n",
       "      <th>4</th>\n",
       "      <td>Personal</td>\n",
       "      <td>-1.0</td>\n",
       "      <td>Bike</td>\n",
       "      <td>Standard</td>\n",
       "      <td>android</td>\n",
       "      <td>NaN</td>\n",
       "      <td>Staff</td>\n",
       "      <td>1</td>\n",
       "      <td>13:24:05</td>\n",
       "      <td>1</td>\n",
       "      <td>15:57:20</td>\n",
       "      <td>1</td>\n",
       "      <td>17:14:46</td>\n",
       "      <td>13</td>\n",
       "      <td>-1.308098</td>\n",
       "      <td>36.920464</td>\n",
       "      <td>Scheduled</td>\n",
       "    </tr>\n",
       "  </tbody>\n",
       "</table>\n",
       "</div>"
      ],
      "text/plain": [
       "  personal_or_business  business_number vehicle_type standard_or_express  \\\n",
       "0             Personal             -1.0         Bike             Express   \n",
       "1             Business          20680.0         Bike             Express   \n",
       "2             Business          17968.0         Bike             Express   \n",
       "3             Personal             -1.0         Bike            Standard   \n",
       "4             Personal             -1.0         Bike            Standard   \n",
       "\n",
       "  platform  cancel_reason cancelled_by  placement_day placement_time  \\\n",
       "0      ios            NaN     Customer              1       15:23:44   \n",
       "1  desktop            NaN        Staff              1       14:21:46   \n",
       "2  desktop            NaN     Customer              1       15:13:20   \n",
       "3  android            NaN     Customer              1       13:54:19   \n",
       "4  android            NaN        Staff              1       13:24:05   \n",
       "\n",
       "   confirmation_day confirmation_time  cancellation_day cancellation_time  \\\n",
       "0                 1          16:40:47                 1          16:43:50   \n",
       "1                 1          14:22:20                 1          14:30:48   \n",
       "2                 1               NaN                 1          15:56:34   \n",
       "3                 1               NaN                 1          13:56:41   \n",
       "4                 1          15:57:20                 1          17:14:46   \n",
       "\n",
       "   distance_(km)  pickup_lat  pickup_long  scheduled  \n",
       "0              4   -1.299370    36.822107   OnDemAND  \n",
       "1             17   -1.264490    36.789303   OnDemAND  \n",
       "2             18   -1.427056    36.961499   OnDemAND  \n",
       "3              8   -1.301737    36.743936   OnDemAND  \n",
       "4             13   -1.308098    36.920464  Scheduled  "
      ]
     },
     "execution_count": 154,
     "metadata": {},
     "output_type": "execute_result"
    }
   ],
   "source": [
    "test_df.head()"
   ]
  },
  {
   "cell_type": "markdown",
   "metadata": {},
   "source": [
    "#### Deal with outliers"
   ]
  },
  {
   "cell_type": "code",
   "execution_count": 155,
   "metadata": {
    "ExecuteTime": {
     "end_time": "2019-07-29T12:25:20.642340Z",
     "start_time": "2019-07-29T12:25:20.633938Z"
    }
   },
   "outputs": [
    {
     "name": "stdout",
     "output_type": "stream",
     "text": [
      "[0.10883219 0.00152599 0.04566926 ... 0.26638563 0.08676056 0.02054565]\n",
      "(array([  42,  344,  356, 2816, 2954, 2955, 4203, 4208, 4250, 4259, 4266,\n",
      "       4301, 4304, 4338, 5490, 5495, 5502, 5503, 5519, 5692, 5775, 6107,\n",
      "       6134]),)\n"
     ]
    }
   ],
   "source": [
    "##z-test (check outliers using the z-test)\n",
    "from scipy import stats\n",
    "import numpy as np\n",
    "z = np.abs(stats.zscore(query_df['distance_(km)']))\n",
    "\n",
    "print (z)\n",
    "\n",
    "threshold = 3\n",
    "print(np.where(z > 3))"
   ]
  },
  {
   "cell_type": "code",
   "execution_count": 156,
   "metadata": {
    "ExecuteTime": {
     "end_time": "2019-07-29T12:25:20.925253Z",
     "start_time": "2019-07-29T12:25:20.919555Z"
    }
   },
   "outputs": [
    {
     "data": {
      "text/plain": [
       "(6393, 24)"
      ]
     },
     "execution_count": 156,
     "metadata": {},
     "output_type": "execute_result"
    }
   ],
   "source": [
    "query_df.shape"
   ]
  },
  {
   "cell_type": "markdown",
   "metadata": {},
   "source": [
    "## Assign numbers for string features"
   ]
  },
  {
   "cell_type": "code",
   "execution_count": 157,
   "metadata": {
    "ExecuteTime": {
     "end_time": "2019-07-29T12:25:21.377582Z",
     "start_time": "2019-07-29T12:25:21.361548Z"
    }
   },
   "outputs": [
    {
     "name": "stderr",
     "output_type": "stream",
     "text": [
      "/home/dancilla/PYTHON_37/lib/python3.6/site-packages/ipykernel_launcher.py:3: SettingWithCopyWarning: \n",
      "A value is trying to be set on a copy of a slice from a DataFrame\n",
      "\n",
      "See the caveats in the documentation: http://pandas.pydata.org/pandas-docs/stable/user_guide/indexing.html#returning-a-view-versus-a-copy\n",
      "  This is separate from the ipykernel package so we can avoid doing imports until\n",
      "/home/dancilla/PYTHON_37/lib/python3.6/site-packages/ipykernel_launcher.py:4: SettingWithCopyWarning: \n",
      "A value is trying to be set on a copy of a slice from a DataFrame\n",
      "\n",
      "See the caveats in the documentation: http://pandas.pydata.org/pandas-docs/stable/user_guide/indexing.html#returning-a-view-versus-a-copy\n",
      "  after removing the cwd from sys.path.\n"
     ]
    }
   ],
   "source": [
    "# traversing through personal or business orders \n",
    "# column of dataFrame and writing values where  condition matches. \n",
    "query_df['personal_or_business'][query_df['personal_or_business'] == 'Personal'] = 1\n",
    "query_df['personal_or_business'][query_df['personal_or_business'] == 'Business'] = 2\n"
   ]
  },
  {
   "cell_type": "code",
   "execution_count": 158,
   "metadata": {
    "ExecuteTime": {
     "end_time": "2019-07-29T12:25:21.625956Z",
     "start_time": "2019-07-29T12:25:21.607691Z"
    }
   },
   "outputs": [
    {
     "name": "stderr",
     "output_type": "stream",
     "text": [
      "/home/dancilla/PYTHON_37/lib/python3.6/site-packages/ipykernel_launcher.py:3: SettingWithCopyWarning: \n",
      "A value is trying to be set on a copy of a slice from a DataFrame\n",
      "\n",
      "See the caveats in the documentation: http://pandas.pydata.org/pandas-docs/stable/user_guide/indexing.html#returning-a-view-versus-a-copy\n",
      "  This is separate from the ipykernel package so we can avoid doing imports until\n",
      "/home/dancilla/PYTHON_37/lib/python3.6/site-packages/ipykernel_launcher.py:4: SettingWithCopyWarning: \n",
      "A value is trying to be set on a copy of a slice from a DataFrame\n",
      "\n",
      "See the caveats in the documentation: http://pandas.pydata.org/pandas-docs/stable/user_guide/indexing.html#returning-a-view-versus-a-copy\n",
      "  after removing the cwd from sys.path.\n"
     ]
    }
   ],
   "source": [
    "# traversing through types of vehicles \n",
    "# column of dataFrame and writing values where  condition matches. \n",
    "query_df['vehicle_type'][query_df['vehicle_type'] == 'Bike'] = 1\n",
    "query_df['vehicle_type'][query_df['vehicle_type'] == 'Standard Bike'] = 2\n"
   ]
  },
  {
   "cell_type": "code",
   "execution_count": 159,
   "metadata": {
    "ExecuteTime": {
     "end_time": "2019-07-29T12:25:21.923805Z",
     "start_time": "2019-07-29T12:25:21.910055Z"
    }
   },
   "outputs": [
    {
     "name": "stderr",
     "output_type": "stream",
     "text": [
      "/home/dancilla/PYTHON_37/lib/python3.6/site-packages/ipykernel_launcher.py:3: SettingWithCopyWarning: \n",
      "A value is trying to be set on a copy of a slice from a DataFrame\n",
      "\n",
      "See the caveats in the documentation: http://pandas.pydata.org/pandas-docs/stable/user_guide/indexing.html#returning-a-view-versus-a-copy\n",
      "  This is separate from the ipykernel package so we can avoid doing imports until\n",
      "/home/dancilla/PYTHON_37/lib/python3.6/site-packages/ipykernel_launcher.py:4: SettingWithCopyWarning: \n",
      "A value is trying to be set on a copy of a slice from a DataFrame\n",
      "\n",
      "See the caveats in the documentation: http://pandas.pydata.org/pandas-docs/stable/user_guide/indexing.html#returning-a-view-versus-a-copy\n",
      "  after removing the cwd from sys.path.\n"
     ]
    }
   ],
   "source": [
    "# traversing through types of order \n",
    "# column of dataFrame and writing values where  condition matches. \n",
    "query_df['standard_or_express'][query_df['standard_or_express'] == 'Express'] = 1\n",
    "query_df['standard_or_express'][query_df['standard_or_express'] == 'Standard'] = 2\n"
   ]
  },
  {
   "cell_type": "code",
   "execution_count": 160,
   "metadata": {
    "ExecuteTime": {
     "end_time": "2019-07-29T12:25:22.262997Z",
     "start_time": "2019-07-29T12:25:22.246945Z"
    }
   },
   "outputs": [
    {
     "name": "stderr",
     "output_type": "stream",
     "text": [
      "/home/dancilla/PYTHON_37/lib/python3.6/site-packages/ipykernel_launcher.py:3: SettingWithCopyWarning: \n",
      "A value is trying to be set on a copy of a slice from a DataFrame\n",
      "\n",
      "See the caveats in the documentation: http://pandas.pydata.org/pandas-docs/stable/user_guide/indexing.html#returning-a-view-versus-a-copy\n",
      "  This is separate from the ipykernel package so we can avoid doing imports until\n",
      "/home/dancilla/PYTHON_37/lib/python3.6/site-packages/ipykernel_launcher.py:4: SettingWithCopyWarning: \n",
      "A value is trying to be set on a copy of a slice from a DataFrame\n",
      "\n",
      "See the caveats in the documentation: http://pandas.pydata.org/pandas-docs/stable/user_guide/indexing.html#returning-a-view-versus-a-copy\n",
      "  after removing the cwd from sys.path.\n"
     ]
    }
   ],
   "source": [
    "# traversing through who cancelled the orders\n",
    "# column of dataFrame and writing values where  condition matches. \n",
    "query_df['cancelled_by'][query_df['cancelled_by'] == 'Customer'] = 1\n",
    "query_df['cancelled_by'][query_df['cancelled_by'] == 'Staff'] = 2\n"
   ]
  },
  {
   "cell_type": "code",
   "execution_count": 161,
   "metadata": {
    "ExecuteTime": {
     "end_time": "2019-07-29T12:25:22.801785Z",
     "start_time": "2019-07-29T12:25:22.786407Z"
    }
   },
   "outputs": [
    {
     "name": "stderr",
     "output_type": "stream",
     "text": [
      "/home/dancilla/PYTHON_37/lib/python3.6/site-packages/ipykernel_launcher.py:3: SettingWithCopyWarning: \n",
      "A value is trying to be set on a copy of a slice from a DataFrame\n",
      "\n",
      "See the caveats in the documentation: http://pandas.pydata.org/pandas-docs/stable/user_guide/indexing.html#returning-a-view-versus-a-copy\n",
      "  This is separate from the ipykernel package so we can avoid doing imports until\n",
      "/home/dancilla/PYTHON_37/lib/python3.6/site-packages/ipykernel_launcher.py:4: SettingWithCopyWarning: \n",
      "A value is trying to be set on a copy of a slice from a DataFrame\n",
      "\n",
      "See the caveats in the documentation: http://pandas.pydata.org/pandas-docs/stable/user_guide/indexing.html#returning-a-view-versus-a-copy\n",
      "  after removing the cwd from sys.path.\n"
     ]
    }
   ],
   "source": [
    "# traversing through types of indication of whether order was on demand or scheduled\n",
    "# column of dataFrame and writing values where  condition matches. \n",
    "query_df['scheduled'][query_df['scheduled'] == 'OnDemAND'] = 1\n",
    "query_df['scheduled'][query_df['scheduled'] == 'Scheduled'] = 2\n"
   ]
  },
  {
   "cell_type": "code",
   "execution_count": 162,
   "metadata": {
    "ExecuteTime": {
     "end_time": "2019-07-29T12:25:24.104489Z",
     "start_time": "2019-07-29T12:25:24.069669Z"
    }
   },
   "outputs": [
    {
     "name": "stderr",
     "output_type": "stream",
     "text": [
      "/home/dancilla/PYTHON_37/lib/python3.6/site-packages/ipykernel_launcher.py:3: SettingWithCopyWarning: \n",
      "A value is trying to be set on a copy of a slice from a DataFrame\n",
      "\n",
      "See the caveats in the documentation: http://pandas.pydata.org/pandas-docs/stable/user_guide/indexing.html#returning-a-view-versus-a-copy\n",
      "  This is separate from the ipykernel package so we can avoid doing imports until\n",
      "/home/dancilla/PYTHON_37/lib/python3.6/site-packages/ipykernel_launcher.py:4: SettingWithCopyWarning: \n",
      "A value is trying to be set on a copy of a slice from a DataFrame\n",
      "\n",
      "See the caveats in the documentation: http://pandas.pydata.org/pandas-docs/stable/user_guide/indexing.html#returning-a-view-versus-a-copy\n",
      "  after removing the cwd from sys.path.\n",
      "/home/dancilla/PYTHON_37/lib/python3.6/site-packages/ipykernel_launcher.py:5: SettingWithCopyWarning: \n",
      "A value is trying to be set on a copy of a slice from a DataFrame\n",
      "\n",
      "See the caveats in the documentation: http://pandas.pydata.org/pandas-docs/stable/user_guide/indexing.html#returning-a-view-versus-a-copy\n",
      "  \"\"\"\n",
      "/home/dancilla/PYTHON_37/lib/python3.6/site-packages/ipykernel_launcher.py:6: SettingWithCopyWarning: \n",
      "A value is trying to be set on a copy of a slice from a DataFrame\n",
      "\n",
      "See the caveats in the documentation: http://pandas.pydata.org/pandas-docs/stable/user_guide/indexing.html#returning-a-view-versus-a-copy\n",
      "  \n",
      "/home/dancilla/PYTHON_37/lib/python3.6/site-packages/ipykernel_launcher.py:7: SettingWithCopyWarning: \n",
      "A value is trying to be set on a copy of a slice from a DataFrame\n",
      "\n",
      "See the caveats in the documentation: http://pandas.pydata.org/pandas-docs/stable/user_guide/indexing.html#returning-a-view-versus-a-copy\n",
      "  import sys\n"
     ]
    }
   ],
   "source": [
    "# traversing through types of platforms used \n",
    "# column of dataFrame and writing values where  condition matches. \n",
    "query_df['platform'][query_df['platform'] == 'android'] = 1\n",
    "query_df['platform'][query_df['platform'] == 'ios'] = 2\n",
    "query_df['platform'][query_df['platform'] == 'desktop'] = 3\n",
    "query_df['platform'][query_df['platform'] == 'API'] = 4\n",
    "query_df['platform'][query_df['platform'] == 'peer_web'] = 5\n"
   ]
  },
  {
   "cell_type": "code",
   "execution_count": 122,
   "metadata": {
    "ExecuteTime": {
     "end_time": "2019-07-29T12:04:09.177769Z",
     "start_time": "2019-07-29T12:04:09.141460Z"
    },
    "scrolled": false
   },
   "outputs": [
    {
     "name": "stderr",
     "output_type": "stream",
     "text": [
      "/home/dancilla/PYTHON_37/lib/python3.6/site-packages/ipykernel_launcher.py:3: SettingWithCopyWarning: \n",
      "A value is trying to be set on a copy of a slice from a DataFrame\n",
      "\n",
      "See the caveats in the documentation: http://pandas.pydata.org/pandas-docs/stable/user_guide/indexing.html#returning-a-view-versus-a-copy\n",
      "  This is separate from the ipykernel package so we can avoid doing imports until\n",
      "/home/dancilla/PYTHON_37/lib/python3.6/site-packages/ipykernel_launcher.py:4: SettingWithCopyWarning: \n",
      "A value is trying to be set on a copy of a slice from a DataFrame\n",
      "\n",
      "See the caveats in the documentation: http://pandas.pydata.org/pandas-docs/stable/user_guide/indexing.html#returning-a-view-versus-a-copy\n",
      "  after removing the cwd from sys.path.\n",
      "/home/dancilla/PYTHON_37/lib/python3.6/site-packages/ipykernel_launcher.py:5: SettingWithCopyWarning: \n",
      "A value is trying to be set on a copy of a slice from a DataFrame\n",
      "\n",
      "See the caveats in the documentation: http://pandas.pydata.org/pandas-docs/stable/user_guide/indexing.html#returning-a-view-versus-a-copy\n",
      "  \"\"\"\n",
      "/home/dancilla/PYTHON_37/lib/python3.6/site-packages/ipykernel_launcher.py:6: SettingWithCopyWarning: \n",
      "A value is trying to be set on a copy of a slice from a DataFrame\n",
      "\n",
      "See the caveats in the documentation: http://pandas.pydata.org/pandas-docs/stable/user_guide/indexing.html#returning-a-view-versus-a-copy\n",
      "  \n",
      "/home/dancilla/PYTHON_37/lib/python3.6/site-packages/ipykernel_launcher.py:7: SettingWithCopyWarning: \n",
      "A value is trying to be set on a copy of a slice from a DataFrame\n",
      "\n",
      "See the caveats in the documentation: http://pandas.pydata.org/pandas-docs/stable/user_guide/indexing.html#returning-a-view-versus-a-copy\n",
      "  import sys\n",
      "/home/dancilla/PYTHON_37/lib/python3.6/site-packages/ipykernel_launcher.py:8: SettingWithCopyWarning: \n",
      "A value is trying to be set on a copy of a slice from a DataFrame\n",
      "\n",
      "See the caveats in the documentation: http://pandas.pydata.org/pandas-docs/stable/user_guide/indexing.html#returning-a-view-versus-a-copy\n",
      "  \n",
      "/home/dancilla/PYTHON_37/lib/python3.6/site-packages/ipykernel_launcher.py:9: SettingWithCopyWarning: \n",
      "A value is trying to be set on a copy of a slice from a DataFrame\n",
      "\n",
      "See the caveats in the documentation: http://pandas.pydata.org/pandas-docs/stable/user_guide/indexing.html#returning-a-view-versus-a-copy\n",
      "  if __name__ == '__main__':\n"
     ]
    }
   ],
   "source": [
    "# traversing through types of reasons of cancelling orders\n",
    "# column of dataFrame and writing values where  condition matches. \n",
    "query_df['cancel_reason'][query_df['cancel_reason'] == 'No driver has been allocated to my request.'] = 1\n",
    "query_df['cancel_reason'][query_df['cancel_reason'] == 'My order is not ready.'] = 2\n",
    "query_df['cancel_reason'][query_df['cancel_reason'] == 'I placed the wrong locations.'] = 3\n",
    "query_df['cancel_reason'][query_df['cancel_reason'] == 'No Partner'] = 4\n",
    "query_df['cancel_reason'][query_df['cancel_reason'] == 'Customer error'] = 5\n",
    "query_df['cancel_reason'][query_df['cancel_reason'] == 'The driver is too far away.'] = 6\n",
    "query_df['cancel_reason'][query_df['cancel_reason'] == 'Delay'] = 7\n",
    "\n"
   ]
  },
  {
   "cell_type": "code",
   "execution_count": 166,
   "metadata": {
    "ExecuteTime": {
     "end_time": "2019-07-29T12:27:54.654838Z",
     "start_time": "2019-07-29T12:27:54.647587Z"
    }
   },
   "outputs": [
    {
     "data": {
      "text/plain": [
       "array(['No driver has been allocated to my request.',\n",
       "       'My order is not ready.', 'I placed the wrong locations.',\n",
       "       'No Partner', 'Customer error', 'The driver is too far away.',\n",
       "       'Delay'], dtype=object)"
      ]
     },
     "execution_count": 166,
     "metadata": {},
     "output_type": "execute_result"
    }
   ],
   "source": [
    "query_df['cancel_reason'].unique()"
   ]
  },
  {
   "cell_type": "code",
   "execution_count": 167,
   "metadata": {
    "ExecuteTime": {
     "end_time": "2019-07-29T12:27:57.022869Z",
     "start_time": "2019-07-29T12:27:57.003799Z"
    }
   },
   "outputs": [
    {
     "name": "stdout",
     "output_type": "stream",
     "text": [
      "y_train_ohe shape: (6393, 6)\n",
      "y_train_ohe samples:\n",
      "[[1 0 0 0 0 0]\n",
      " [0 1 0 0 0 0]\n",
      " [0 0 1 0 0 0]\n",
      " [0 1 0 0 0 0]\n",
      " [0 0 0 1 0 0]]\n"
     ]
    }
   ],
   "source": [
    "from sklearn.preprocessing import label_binarize\n",
    "\n",
    "# Transform labels into one hot encoded format.\n",
    "y_train_ohe = label_binarize(query_df['cancel_reason'], classes=['No driver has been allocated to my request.', \n",
    "                                                                 'My order is not ready.', 'I placed the wrong locations.',\n",
    "                                                                'No Partner', 'Customer error', 'The driver is too far away.'\n",
    "                                                                'Delay'])\n",
    "print('y_train_ohe shape: {}'.format(y_train_ohe.shape))\n",
    "print('y_train_ohe samples:')\n",
    "print(y_train_ohe[:5])"
   ]
  },
  {
   "cell_type": "code",
   "execution_count": 171,
   "metadata": {
    "ExecuteTime": {
     "end_time": "2019-07-29T12:28:32.799030Z",
     "start_time": "2019-07-29T12:28:32.759499Z"
    }
   },
   "outputs": [
    {
     "data": {
      "text/html": [
       "<div>\n",
       "<style scoped>\n",
       "    .dataframe tbody tr th:only-of-type {\n",
       "        vertical-align: middle;\n",
       "    }\n",
       "\n",
       "    .dataframe tbody tr th {\n",
       "        vertical-align: top;\n",
       "    }\n",
       "\n",
       "    .dataframe thead th {\n",
       "        text-align: right;\n",
       "    }\n",
       "</style>\n",
       "<table border=\"1\" class=\"dataframe\">\n",
       "  <thead>\n",
       "    <tr style=\"text-align: right;\">\n",
       "      <th></th>\n",
       "      <th>index</th>\n",
       "      <th>personal_or_business</th>\n",
       "      <th>business_number</th>\n",
       "      <th>vehicle_type</th>\n",
       "      <th>standard_or_express</th>\n",
       "      <th>platform</th>\n",
       "      <th>cancel_reason</th>\n",
       "      <th>cancelled_by</th>\n",
       "      <th>placement_day</th>\n",
       "      <th>placement_time</th>\n",
       "      <th>...</th>\n",
       "      <th>distance_(km)</th>\n",
       "      <th>pickup_lat</th>\n",
       "      <th>pickup_long</th>\n",
       "      <th>scheduled</th>\n",
       "      <th>order_timedelta</th>\n",
       "      <th>processing_timedelta</th>\n",
       "      <th>confirmation_timedelta</th>\n",
       "      <th>order_period</th>\n",
       "      <th>processing_period</th>\n",
       "      <th>confirmation_period</th>\n",
       "    </tr>\n",
       "  </thead>\n",
       "  <tbody>\n",
       "    <tr>\n",
       "      <th>0</th>\n",
       "      <td>0</td>\n",
       "      <td>1</td>\n",
       "      <td>-1.0</td>\n",
       "      <td>1</td>\n",
       "      <td>1</td>\n",
       "      <td>1</td>\n",
       "      <td>No driver has been allocated to my request.</td>\n",
       "      <td>1</td>\n",
       "      <td>1</td>\n",
       "      <td>2019-07-29 17:55:38</td>\n",
       "      <td>...</td>\n",
       "      <td>9</td>\n",
       "      <td>-1.313053</td>\n",
       "      <td>36.841437</td>\n",
       "      <td>1</td>\n",
       "      <td>NaN</td>\n",
       "      <td>-1 days +23:59:03.000000000</td>\n",
       "      <td>NaN</td>\n",
       "      <td>0</td>\n",
       "      <td>0</td>\n",
       "      <td>0</td>\n",
       "    </tr>\n",
       "    <tr>\n",
       "      <th>1</th>\n",
       "      <td>1</td>\n",
       "      <td>1</td>\n",
       "      <td>-1.0</td>\n",
       "      <td>1</td>\n",
       "      <td>1</td>\n",
       "      <td>1</td>\n",
       "      <td>My order is not ready.</td>\n",
       "      <td>1</td>\n",
       "      <td>1</td>\n",
       "      <td>2019-07-29 12:26:27</td>\n",
       "      <td>...</td>\n",
       "      <td>14</td>\n",
       "      <td>-1.318959</td>\n",
       "      <td>36.853394</td>\n",
       "      <td>1</td>\n",
       "      <td>-1 days +23:58:51.000000000</td>\n",
       "      <td>-1 days +23:57:43.000000000</td>\n",
       "      <td>-1 days +23:58:52.000000000</td>\n",
       "      <td>0</td>\n",
       "      <td>0</td>\n",
       "      <td>0</td>\n",
       "    </tr>\n",
       "    <tr>\n",
       "      <th>2</th>\n",
       "      <td>2</td>\n",
       "      <td>2</td>\n",
       "      <td>20680.0</td>\n",
       "      <td>1</td>\n",
       "      <td>1</td>\n",
       "      <td>1</td>\n",
       "      <td>I placed the wrong locations.</td>\n",
       "      <td>1</td>\n",
       "      <td>1</td>\n",
       "      <td>2019-07-29 13:21:18</td>\n",
       "      <td>...</td>\n",
       "      <td>16</td>\n",
       "      <td>-1.313854</td>\n",
       "      <td>36.706867</td>\n",
       "      <td>1</td>\n",
       "      <td>-1 days +23:59:44.000000000</td>\n",
       "      <td>-1 days +23:33:49.000000000</td>\n",
       "      <td>-1 days +23:34:05.000000000</td>\n",
       "      <td>0</td>\n",
       "      <td>0</td>\n",
       "      <td>0</td>\n",
       "    </tr>\n",
       "    <tr>\n",
       "      <th>3</th>\n",
       "      <td>3</td>\n",
       "      <td>1</td>\n",
       "      <td>-1.0</td>\n",
       "      <td>1</td>\n",
       "      <td>1</td>\n",
       "      <td>1</td>\n",
       "      <td>My order is not ready.</td>\n",
       "      <td>1</td>\n",
       "      <td>1</td>\n",
       "      <td>2019-07-29 10:29:19</td>\n",
       "      <td>...</td>\n",
       "      <td>20</td>\n",
       "      <td>-1.206197</td>\n",
       "      <td>36.778776</td>\n",
       "      <td>1</td>\n",
       "      <td>NaN</td>\n",
       "      <td>-1 days +23:59:50.000000000</td>\n",
       "      <td>NaN</td>\n",
       "      <td>0</td>\n",
       "      <td>0</td>\n",
       "      <td>0</td>\n",
       "    </tr>\n",
       "    <tr>\n",
       "      <th>4</th>\n",
       "      <td>4</td>\n",
       "      <td>1</td>\n",
       "      <td>-1.0</td>\n",
       "      <td>1</td>\n",
       "      <td>2</td>\n",
       "      <td>2</td>\n",
       "      <td>No Partner</td>\n",
       "      <td>2</td>\n",
       "      <td>1</td>\n",
       "      <td>2019-07-29 14:34:05</td>\n",
       "      <td>...</td>\n",
       "      <td>11</td>\n",
       "      <td>-1.296958</td>\n",
       "      <td>36.808166</td>\n",
       "      <td>1</td>\n",
       "      <td>-1 days +23:34:57.000000000</td>\n",
       "      <td>-1 days +22:44:24.000000000</td>\n",
       "      <td>-1 days +23:09:27.000000000</td>\n",
       "      <td>0</td>\n",
       "      <td>0</td>\n",
       "      <td>0</td>\n",
       "    </tr>\n",
       "  </tbody>\n",
       "</table>\n",
       "<p>5 rows × 24 columns</p>\n",
       "</div>"
      ],
      "text/plain": [
       "   index personal_or_business  business_number vehicle_type  \\\n",
       "0      0                    1             -1.0            1   \n",
       "1      1                    1             -1.0            1   \n",
       "2      2                    2          20680.0            1   \n",
       "3      3                    1             -1.0            1   \n",
       "4      4                    1             -1.0            1   \n",
       "\n",
       "  standard_or_express platform                                cancel_reason  \\\n",
       "0                   1        1  No driver has been allocated to my request.   \n",
       "1                   1        1                       My order is not ready.   \n",
       "2                   1        1                I placed the wrong locations.   \n",
       "3                   1        1                       My order is not ready.   \n",
       "4                   2        2                                   No Partner   \n",
       "\n",
       "  cancelled_by  placement_day      placement_time  ...  distance_(km)  \\\n",
       "0            1              1 2019-07-29 17:55:38  ...              9   \n",
       "1            1              1 2019-07-29 12:26:27  ...             14   \n",
       "2            1              1 2019-07-29 13:21:18  ...             16   \n",
       "3            1              1 2019-07-29 10:29:19  ...             20   \n",
       "4            2              1 2019-07-29 14:34:05  ...             11   \n",
       "\n",
       "  pickup_lat  pickup_long scheduled              order_timedelta  \\\n",
       "0  -1.313053    36.841437         1                          NaN   \n",
       "1  -1.318959    36.853394         1  -1 days +23:58:51.000000000   \n",
       "2  -1.313854    36.706867         1  -1 days +23:59:44.000000000   \n",
       "3  -1.206197    36.778776         1                          NaN   \n",
       "4  -1.296958    36.808166         1  -1 days +23:34:57.000000000   \n",
       "\n",
       "          processing_timedelta       confirmation_timedelta order_period  \\\n",
       "0  -1 days +23:59:03.000000000                          NaN            0   \n",
       "1  -1 days +23:57:43.000000000  -1 days +23:58:52.000000000            0   \n",
       "2  -1 days +23:33:49.000000000  -1 days +23:34:05.000000000            0   \n",
       "3  -1 days +23:59:50.000000000                          NaN            0   \n",
       "4  -1 days +22:44:24.000000000  -1 days +23:09:27.000000000            0   \n",
       "\n",
       "  processing_period confirmation_period  \n",
       "0                 0                   0  \n",
       "1                 0                   0  \n",
       "2                 0                   0  \n",
       "3                 0                   0  \n",
       "4                 0                   0  \n",
       "\n",
       "[5 rows x 24 columns]"
      ]
     },
     "execution_count": 171,
     "metadata": {},
     "output_type": "execute_result"
    }
   ],
   "source": [
    "query_df.head()"
   ]
  },
  {
   "cell_type": "markdown",
   "metadata": {},
   "source": [
    "### Change timelines to pandas datetime"
   ]
  },
  {
   "cell_type": "code",
   "execution_count": 172,
   "metadata": {
    "ExecuteTime": {
     "end_time": "2019-07-29T12:28:38.219353Z",
     "start_time": "2019-07-29T12:28:38.205367Z"
    }
   },
   "outputs": [],
   "source": [
    "query_df['placement_time'] = pd.to_datetime(query_df['placement_time'])\n",
    "query_df['confirmation_time'] = pd.to_datetime(query_df['confirmation_time'])\n",
    "query_df['cancellation_time'] = pd.to_datetime(query_df['cancellation_time'])\n"
   ]
  },
  {
   "cell_type": "code",
   "execution_count": 173,
   "metadata": {
    "ExecuteTime": {
     "end_time": "2019-07-29T12:28:38.820846Z",
     "start_time": "2019-07-29T12:28:38.806515Z"
    }
   },
   "outputs": [
    {
     "name": "stdout",
     "output_type": "stream",
     "text": [
      "<class 'pandas.core.frame.DataFrame'>\n",
      "RangeIndex: 6393 entries, 0 to 6392\n",
      "Data columns (total 24 columns):\n",
      "index                     6393 non-null int64\n",
      "personal_or_business      6393 non-null object\n",
      "business_number           6393 non-null float64\n",
      "vehicle_type              6393 non-null object\n",
      "standard_or_express       6393 non-null object\n",
      "platform                  6393 non-null object\n",
      "cancel_reason             6393 non-null object\n",
      "cancelled_by              6393 non-null object\n",
      "placement_day             6393 non-null int64\n",
      "placement_time            6393 non-null datetime64[ns]\n",
      "confirmation_day          6393 non-null int64\n",
      "confirmation_time         2879 non-null datetime64[ns]\n",
      "cancellation_day          6393 non-null int64\n",
      "cancellation_time         6393 non-null datetime64[ns]\n",
      "distance_(km)             6393 non-null int64\n",
      "pickup_lat                6393 non-null float64\n",
      "pickup_long               6393 non-null float64\n",
      "scheduled                 6393 non-null object\n",
      "order_timedelta           2879 non-null object\n",
      "processing_timedelta      6393 non-null object\n",
      "confirmation_timedelta    2879 non-null object\n",
      "order_period              6393 non-null int64\n",
      "processing_period         6393 non-null int64\n",
      "confirmation_period       6393 non-null int64\n",
      "dtypes: datetime64[ns](3), float64(3), int64(8), object(10)\n",
      "memory usage: 1.2+ MB\n"
     ]
    }
   ],
   "source": [
    "query_df.info()"
   ]
  },
  {
   "cell_type": "markdown",
   "metadata": {},
   "source": [
    "## Split data"
   ]
  },
  {
   "cell_type": "code",
   "execution_count": 174,
   "metadata": {
    "ExecuteTime": {
     "end_time": "2019-07-29T12:28:40.477001Z",
     "start_time": "2019-07-29T12:28:40.471253Z"
    }
   },
   "outputs": [
    {
     "data": {
      "text/plain": [
       "Index(['index', 'personal_or_business', 'business_number', 'vehicle_type',\n",
       "       'standard_or_express', 'platform', 'cancel_reason', 'cancelled_by',\n",
       "       'placement_day', 'placement_time', 'confirmation_day',\n",
       "       'confirmation_time', 'cancellation_day', 'cancellation_time',\n",
       "       'distance_(km)', 'pickup_lat', 'pickup_long', 'scheduled',\n",
       "       'order_timedelta', 'processing_timedelta', 'confirmation_timedelta',\n",
       "       'order_period', 'processing_period', 'confirmation_period'],\n",
       "      dtype='object')"
      ]
     },
     "execution_count": 174,
     "metadata": {},
     "output_type": "execute_result"
    }
   ],
   "source": [
    "query_df.keys()"
   ]
  },
  {
   "cell_type": "code",
   "execution_count": 175,
   "metadata": {
    "ExecuteTime": {
     "end_time": "2019-07-29T12:28:40.781763Z",
     "start_time": "2019-07-29T12:28:40.774694Z"
    }
   },
   "outputs": [
    {
     "data": {
      "text/plain": [
       "Index(['personal_or_business', 'business_number', 'vehicle_type',\n",
       "       'standard_or_express', 'platform', 'cancel_reason', 'cancelled_by',\n",
       "       'placement_day', 'placement_time', 'confirmation_day',\n",
       "       'confirmation_time', 'cancellation_day', 'cancellation_time',\n",
       "       'distance_(km)', 'pickup_lat', 'pickup_long', 'scheduled'],\n",
       "      dtype='object')"
      ]
     },
     "execution_count": 175,
     "metadata": {},
     "output_type": "execute_result"
    }
   ],
   "source": [
    "test_df.keys()"
   ]
  },
  {
   "cell_type": "code",
   "execution_count": 176,
   "metadata": {
    "ExecuteTime": {
     "end_time": "2019-07-29T12:29:22.890718Z",
     "start_time": "2019-07-29T12:29:22.869998Z"
    }
   },
   "outputs": [],
   "source": [
    "import pandas as pd\n",
    "from sklearn import datasets, linear_model\n",
    "from sklearn.model_selection import train_test_split\n",
    "from matplotlib import pyplot as plt\n",
    "from sklearn import datasets, linear_model\n",
    "from sklearn.model_selection import train_test_split\n",
    "from matplotlib import pyplot as plt\n",
    "from sklearn.metrics import accuracy_score\n",
    "from sklearn.preprocessing import StandardScaler, PolynomialFeatures\n",
    "from sklearn.model_selection import train_test_split, GridSearchCV\n",
    "from sklearn.ensemble import RandomForestClassifier\n",
    "from sklearn.metrics import confusion_matrix\n",
    "from sklearn.externals import joblib\n",
    "\n",
    "\n",
    "#Choose the features which will be used for building the model\n",
    "columns = ['personal_or_business', 'business_number', 'vehicle_type',\n",
    "       'standard_or_express', 'platform', 'cancelled_by',\n",
    "       'placement_day', 'confirmation_day', 'cancellation_day',\n",
    "       'distance_(km)', 'pickup_lat', 'pickup_long', 'scheduled']\n",
    "\n",
    "holdout = test_df # from now on we will refer to this\n",
    "               # dataframe as the holdout data\n",
    "X = query_df[columns]\n",
    "y = y_train_ohe\n",
    "\n",
    "X_train, X_test, y_train, y_test = train_test_split(X, y, test_size=0.20,random_state=0)"
   ]
  },
  {
   "cell_type": "markdown",
   "metadata": {
    "ExecuteTime": {
     "end_time": "2019-07-29T12:00:05.135028Z",
     "start_time": "2019-07-29T12:00:05.129326Z"
    }
   },
   "source": [
    "**In this case, since we are predicting multiple values, we need to use the multiclass classification using\n",
    "using Random Forest on Scikit-Learn Library**\n"
   ]
  },
  {
   "cell_type": "markdown",
   "metadata": {
    "ExecuteTime": {
     "end_time": "2019-07-29T10:44:34.299090Z",
     "start_time": "2019-07-29T10:44:34.291012Z"
    }
   },
   "source": [
    "## Feature Scaling"
   ]
  },
  {
   "cell_type": "code",
   "execution_count": 177,
   "metadata": {
    "ExecuteTime": {
     "end_time": "2019-07-29T12:29:24.749106Z",
     "start_time": "2019-07-29T12:29:24.725448Z"
    }
   },
   "outputs": [
    {
     "name": "stderr",
     "output_type": "stream",
     "text": [
      "/home/dancilla/PYTHON_37/lib/python3.6/site-packages/sklearn/preprocessing/data.py:625: DataConversionWarning: Data with input dtype int64, float64, object were all converted to float64 by StandardScaler.\n",
      "  return self.partial_fit(X, y)\n",
      "/home/dancilla/PYTHON_37/lib/python3.6/site-packages/sklearn/base.py:462: DataConversionWarning: Data with input dtype int64, float64, object were all converted to float64 by StandardScaler.\n",
      "  return self.fit(X, **fit_params).transform(X)\n",
      "/home/dancilla/PYTHON_37/lib/python3.6/site-packages/ipykernel_launcher.py:4: DataConversionWarning: Data with input dtype int64, float64, object were all converted to float64 by StandardScaler.\n",
      "  after removing the cwd from sys.path.\n"
     ]
    }
   ],
   "source": [
    "# Feature Scaling\n",
    "scaler = StandardScaler()\n",
    "X_train = scaler.fit_transform(X_train)\n",
    "X_test = scaler.transform(X_test)"
   ]
  },
  {
   "cell_type": "markdown",
   "metadata": {},
   "source": [
    "## Training the model"
   ]
  },
  {
   "cell_type": "markdown",
   "metadata": {},
   "source": [
    "### Random forest classifier"
   ]
  },
  {
   "cell_type": "code",
   "execution_count": 185,
   "metadata": {
    "ExecuteTime": {
     "end_time": "2019-07-29T12:36:09.153645Z",
     "start_time": "2019-07-29T12:36:08.692518Z"
    }
   },
   "outputs": [
    {
     "data": {
      "text/plain": [
       "RandomForestClassifier(bootstrap=True, class_weight=None, criterion='gini',\n",
       "            max_depth=2, max_features='auto', max_leaf_nodes=None,\n",
       "            min_impurity_decrease=0.0, min_impurity_split=None,\n",
       "            min_samples_leaf=1, min_samples_split=2,\n",
       "            min_weight_fraction_leaf=0.0, n_estimators=100, n_jobs=None,\n",
       "            oob_score=False, random_state=0, verbose=0, warm_start=False)"
      ]
     },
     "execution_count": 185,
     "metadata": {},
     "output_type": "execute_result"
    }
   ],
   "source": [
    "# Fitting Random Forest Classification to the Training set\n",
    "\n",
    "clf = RandomForestClassifier(n_estimators=100, max_depth=2, random_state=0)\n",
    "clf.fit(X_train, y_train)  "
   ]
  },
  {
   "cell_type": "code",
   "execution_count": 187,
   "metadata": {
    "ExecuteTime": {
     "end_time": "2019-07-29T12:36:22.805986Z",
     "start_time": "2019-07-29T12:36:22.785254Z"
    }
   },
   "outputs": [
    {
     "ename": "NotFittedError",
     "evalue": "This RandomForestClassifier instance is not fitted yet. Call 'fit' with appropriate arguments before using this method.",
     "output_type": "error",
     "traceback": [
      "\u001b[0;31m---------------------------------------------------------------------------\u001b[0m",
      "\u001b[0;31mNotFittedError\u001b[0m                            Traceback (most recent call last)",
      "\u001b[0;32m<ipython-input-187-f8add776da6c>\u001b[0m in \u001b[0;36m<module>\u001b[0;34m\u001b[0m\n\u001b[1;32m      1\u001b[0m \u001b[0;31m# Predicting the Test set results\u001b[0m\u001b[0;34m\u001b[0m\u001b[0;34m\u001b[0m\u001b[0m\n\u001b[0;32m----> 2\u001b[0;31m \u001b[0my_pred\u001b[0m \u001b[0;34m=\u001b[0m \u001b[0mclassifier\u001b[0m\u001b[0;34m.\u001b[0m\u001b[0mpredict\u001b[0m\u001b[0;34m(\u001b[0m\u001b[0mX_test\u001b[0m\u001b[0;34m)\u001b[0m\u001b[0;34m\u001b[0m\u001b[0m\n\u001b[0m\u001b[1;32m      3\u001b[0m \u001b[0;31m#Reverse factorize (converting y_pred from 0s,1s and 2s to Iris-setosa, Iris-versicolor and Iris-virginica\u001b[0m\u001b[0;34m\u001b[0m\u001b[0;34m\u001b[0m\u001b[0m\n\u001b[1;32m      4\u001b[0m \u001b[0mreversefactor\u001b[0m \u001b[0;34m=\u001b[0m \u001b[0mdict\u001b[0m\u001b[0;34m(\u001b[0m\u001b[0mzip\u001b[0m\u001b[0;34m(\u001b[0m\u001b[0mrange\u001b[0m\u001b[0;34m(\u001b[0m\u001b[0;36m3\u001b[0m\u001b[0;34m)\u001b[0m\u001b[0;34m,\u001b[0m\u001b[0mdefinitions\u001b[0m\u001b[0;34m)\u001b[0m\u001b[0;34m)\u001b[0m\u001b[0;34m\u001b[0m\u001b[0m\n\u001b[1;32m      5\u001b[0m \u001b[0my_test\u001b[0m \u001b[0;34m=\u001b[0m \u001b[0mnp\u001b[0m\u001b[0;34m.\u001b[0m\u001b[0mvectorize\u001b[0m\u001b[0;34m(\u001b[0m\u001b[0mreversefactor\u001b[0m\u001b[0;34m.\u001b[0m\u001b[0mget\u001b[0m\u001b[0;34m)\u001b[0m\u001b[0;34m(\u001b[0m\u001b[0my_test\u001b[0m\u001b[0;34m)\u001b[0m\u001b[0;34m\u001b[0m\u001b[0m\n",
      "\u001b[0;32m~/PYTHON_37/lib/python3.6/site-packages/sklearn/ensemble/forest.py\u001b[0m in \u001b[0;36mpredict\u001b[0;34m(self, X)\u001b[0m\n\u001b[1;32m    541\u001b[0m             \u001b[0mThe\u001b[0m \u001b[0mpredicted\u001b[0m \u001b[0mclasses\u001b[0m\u001b[0;34m.\u001b[0m\u001b[0;34m\u001b[0m\u001b[0m\n\u001b[1;32m    542\u001b[0m         \"\"\"\n\u001b[0;32m--> 543\u001b[0;31m         \u001b[0mproba\u001b[0m \u001b[0;34m=\u001b[0m \u001b[0mself\u001b[0m\u001b[0;34m.\u001b[0m\u001b[0mpredict_proba\u001b[0m\u001b[0;34m(\u001b[0m\u001b[0mX\u001b[0m\u001b[0;34m)\u001b[0m\u001b[0;34m\u001b[0m\u001b[0m\n\u001b[0m\u001b[1;32m    544\u001b[0m \u001b[0;34m\u001b[0m\u001b[0m\n\u001b[1;32m    545\u001b[0m         \u001b[0;32mif\u001b[0m \u001b[0mself\u001b[0m\u001b[0;34m.\u001b[0m\u001b[0mn_outputs_\u001b[0m \u001b[0;34m==\u001b[0m \u001b[0;36m1\u001b[0m\u001b[0;34m:\u001b[0m\u001b[0;34m\u001b[0m\u001b[0m\n",
      "\u001b[0;32m~/PYTHON_37/lib/python3.6/site-packages/sklearn/ensemble/forest.py\u001b[0m in \u001b[0;36mpredict_proba\u001b[0;34m(self, X)\u001b[0m\n\u001b[1;32m    579\u001b[0m             \u001b[0mclasses\u001b[0m \u001b[0mcorresponds\u001b[0m \u001b[0mto\u001b[0m \u001b[0mthat\u001b[0m \u001b[0;32min\u001b[0m \u001b[0mthe\u001b[0m \u001b[0mattribute\u001b[0m\u001b[0;31m \u001b[0m\u001b[0;31m`\u001b[0m\u001b[0mclasses_\u001b[0m\u001b[0;31m`\u001b[0m\u001b[0;34m.\u001b[0m\u001b[0;34m\u001b[0m\u001b[0m\n\u001b[1;32m    580\u001b[0m         \"\"\"\n\u001b[0;32m--> 581\u001b[0;31m         \u001b[0mcheck_is_fitted\u001b[0m\u001b[0;34m(\u001b[0m\u001b[0mself\u001b[0m\u001b[0;34m,\u001b[0m \u001b[0;34m'estimators_'\u001b[0m\u001b[0;34m)\u001b[0m\u001b[0;34m\u001b[0m\u001b[0m\n\u001b[0m\u001b[1;32m    582\u001b[0m         \u001b[0;31m# Check data\u001b[0m\u001b[0;34m\u001b[0m\u001b[0;34m\u001b[0m\u001b[0m\n\u001b[1;32m    583\u001b[0m         \u001b[0mX\u001b[0m \u001b[0;34m=\u001b[0m \u001b[0mself\u001b[0m\u001b[0;34m.\u001b[0m\u001b[0m_validate_X_predict\u001b[0m\u001b[0;34m(\u001b[0m\u001b[0mX\u001b[0m\u001b[0;34m)\u001b[0m\u001b[0;34m\u001b[0m\u001b[0m\n",
      "\u001b[0;32m~/PYTHON_37/lib/python3.6/site-packages/sklearn/utils/validation.py\u001b[0m in \u001b[0;36mcheck_is_fitted\u001b[0;34m(estimator, attributes, msg, all_or_any)\u001b[0m\n\u001b[1;32m    949\u001b[0m \u001b[0;34m\u001b[0m\u001b[0m\n\u001b[1;32m    950\u001b[0m     \u001b[0;32mif\u001b[0m \u001b[0;32mnot\u001b[0m \u001b[0mall_or_any\u001b[0m\u001b[0;34m(\u001b[0m\u001b[0;34m[\u001b[0m\u001b[0mhasattr\u001b[0m\u001b[0;34m(\u001b[0m\u001b[0mestimator\u001b[0m\u001b[0;34m,\u001b[0m \u001b[0mattr\u001b[0m\u001b[0;34m)\u001b[0m \u001b[0;32mfor\u001b[0m \u001b[0mattr\u001b[0m \u001b[0;32min\u001b[0m \u001b[0mattributes\u001b[0m\u001b[0;34m]\u001b[0m\u001b[0;34m)\u001b[0m\u001b[0;34m:\u001b[0m\u001b[0;34m\u001b[0m\u001b[0m\n\u001b[0;32m--> 951\u001b[0;31m         \u001b[0;32mraise\u001b[0m \u001b[0mNotFittedError\u001b[0m\u001b[0;34m(\u001b[0m\u001b[0mmsg\u001b[0m \u001b[0;34m%\u001b[0m \u001b[0;34m{\u001b[0m\u001b[0;34m'name'\u001b[0m\u001b[0;34m:\u001b[0m \u001b[0mtype\u001b[0m\u001b[0;34m(\u001b[0m\u001b[0mestimator\u001b[0m\u001b[0;34m)\u001b[0m\u001b[0;34m.\u001b[0m\u001b[0m__name__\u001b[0m\u001b[0;34m}\u001b[0m\u001b[0;34m)\u001b[0m\u001b[0;34m\u001b[0m\u001b[0m\n\u001b[0m\u001b[1;32m    952\u001b[0m \u001b[0;34m\u001b[0m\u001b[0m\n\u001b[1;32m    953\u001b[0m \u001b[0;34m\u001b[0m\u001b[0m\n",
      "\u001b[0;31mNotFittedError\u001b[0m: This RandomForestClassifier instance is not fitted yet. Call 'fit' with appropriate arguments before using this method."
     ]
    }
   ],
   "source": [
    "# Predicting the Test set results\n",
    "y_pred = classifier.predict(X_test)\n",
    "#Reverse factorize (converting y_pred from 0s,1s and 2s to Iris-setosa, Iris-versicolor and Iris-virginica\n",
    "reversefactor = dict(zip(range(3),definitions))\n",
    "y_test = np.vectorize(reversefactor.get)(y_test)\n",
    "y_pred = np.vectorize(reversefactor.get)(y_pred)\n",
    "# Making the Confusion Matrix\n",
    "print(pd.crosstab(y_test, y_pred, rownames=['Actual cancelled orders'], colnames=['Predicted cancelled orders']))"
   ]
  },
  {
   "cell_type": "markdown",
   "metadata": {},
   "source": [
    "### Decision trees classifier"
   ]
  },
  {
   "cell_type": "code",
   "execution_count": 183,
   "metadata": {
    "ExecuteTime": {
     "end_time": "2019-07-29T12:31:20.415750Z",
     "start_time": "2019-07-29T12:31:20.338537Z"
    }
   },
   "outputs": [
    {
     "ename": "NameError",
     "evalue": "name 'k_fold' is not defined",
     "output_type": "error",
     "traceback": [
      "\u001b[0;31m---------------------------------------------------------------------------\u001b[0m",
      "\u001b[0;31mNameError\u001b[0m                                 Traceback (most recent call last)",
      "\u001b[0;32m<ipython-input-183-29d2bd8ee526>\u001b[0m in \u001b[0;36m<module>\u001b[0;34m\u001b[0m\n\u001b[1;32m      9\u001b[0m \u001b[0mdtc\u001b[0m\u001b[0;34m.\u001b[0m\u001b[0mfit\u001b[0m\u001b[0;34m(\u001b[0m\u001b[0mX_train\u001b[0m\u001b[0;34m,\u001b[0m \u001b[0my_train\u001b[0m\u001b[0;34m)\u001b[0m\u001b[0;34m\u001b[0m\u001b[0m\n\u001b[1;32m     10\u001b[0m \u001b[0mscoring\u001b[0m \u001b[0;34m=\u001b[0m \u001b[0;34m'accuracy'\u001b[0m\u001b[0;34m\u001b[0m\u001b[0m\n\u001b[0;32m---> 11\u001b[0;31m \u001b[0mscore\u001b[0m \u001b[0;34m=\u001b[0m \u001b[0mcross_val_score\u001b[0m\u001b[0;34m(\u001b[0m\u001b[0mdtc\u001b[0m\u001b[0;34m,\u001b[0m \u001b[0mX_train\u001b[0m\u001b[0;34m,\u001b[0m \u001b[0my_train\u001b[0m\u001b[0;34m,\u001b[0m \u001b[0mcv\u001b[0m\u001b[0;34m=\u001b[0m\u001b[0mk_fold\u001b[0m\u001b[0;34m,\u001b[0m \u001b[0mn_jobs\u001b[0m\u001b[0;34m=\u001b[0m\u001b[0;36m1\u001b[0m\u001b[0;34m,\u001b[0m \u001b[0mscoring\u001b[0m\u001b[0;34m=\u001b[0m\u001b[0mscoring\u001b[0m\u001b[0;34m)\u001b[0m\u001b[0;34m\u001b[0m\u001b[0m\n\u001b[0m\u001b[1;32m     12\u001b[0m \u001b[0mprint\u001b[0m\u001b[0;34m(\u001b[0m\u001b[0mscore\u001b[0m\u001b[0;34m)\u001b[0m\u001b[0;34m\u001b[0m\u001b[0m\n",
      "\u001b[0;31mNameError\u001b[0m: name 'k_fold' is not defined"
     ]
    }
   ],
   "source": [
    "# Fitting Decision tree  Classification to the Training set\n",
    "from sklearn.model_selection import cross_val_score\n",
    "\n",
    "from sklearn.tree import DecisionTreeClassifier\n",
    "\n",
    "dtc = DecisionTreeClassifier()\n",
    "\n",
    "dtc=DecisionTreeClassifier(criterion='gini') ##create classifier\n",
    "dtc.fit(X_train, y_train)\n",
    "scoring = 'accuracy'\n",
    "score = cross_val_score(dtc, X_train, y_train, cv=k_fold, n_jobs=1, scoring=scoring)\n",
    "print(score)"
   ]
  },
  {
   "cell_type": "code",
   "execution_count": null,
   "metadata": {},
   "outputs": [],
   "source": []
  },
  {
   "cell_type": "code",
   "execution_count": 15,
   "metadata": {
    "ExecuteTime": {
     "end_time": "2019-07-29T10:06:19.283845Z",
     "start_time": "2019-07-29T10:06:18.754608Z"
    }
   },
   "outputs": [
    {
     "ename": "NameError",
     "evalue": "name 'df' is not defined",
     "output_type": "error",
     "traceback": [
      "\u001b[0;31m---------------------------------------------------------------------------\u001b[0m",
      "\u001b[0;31mNameError\u001b[0m                                 Traceback (most recent call last)",
      "\u001b[0;32m<ipython-input-15-e9e9566847c4>\u001b[0m in \u001b[0;36m<module>\u001b[0;34m\u001b[0m\n\u001b[1;32m      1\u001b[0m \u001b[0;31m#splitting into train and test\u001b[0m\u001b[0;34m\u001b[0m\u001b[0;34m\u001b[0m\u001b[0m\n\u001b[1;32m      2\u001b[0m \u001b[0;32mfrom\u001b[0m \u001b[0msklearn\u001b[0m\u001b[0;34m.\u001b[0m\u001b[0mmodel_selection\u001b[0m \u001b[0;32mimport\u001b[0m \u001b[0mtrain_test_split\u001b[0m\u001b[0;34m\u001b[0m\u001b[0m\n\u001b[0;32m----> 3\u001b[0;31m \u001b[0mX_train\u001b[0m\u001b[0;34m,\u001b[0m \u001b[0mX_test\u001b[0m\u001b[0;34m,\u001b[0m \u001b[0my_train\u001b[0m\u001b[0;34m,\u001b[0m \u001b[0my_test\u001b[0m \u001b[0;34m=\u001b[0m \u001b[0mtrain_test_split\u001b[0m\u001b[0;34m(\u001b[0m\u001b[0mdf\u001b[0m\u001b[0;34m[\u001b[0m\u001b[0;34m'ride_review'\u001b[0m\u001b[0;34m]\u001b[0m\u001b[0;34m,\u001b[0m \u001b[0mdf\u001b[0m\u001b[0;34m[\u001b[0m\u001b[0;34m'binary_class'\u001b[0m\u001b[0;34m]\u001b[0m\u001b[0;34m,\u001b[0m \u001b[0mrandom_state\u001b[0m \u001b[0;34m=\u001b[0m \u001b[0;36m0\u001b[0m\u001b[0;34m)\u001b[0m\u001b[0;34m\u001b[0m\u001b[0m\n\u001b[0m\u001b[1;32m      4\u001b[0m \u001b[0;34m\u001b[0m\u001b[0m\n\u001b[1;32m      5\u001b[0m \u001b[0;31m#setting random number between 1 and 1000\u001b[0m\u001b[0;34m\u001b[0m\u001b[0;34m\u001b[0m\u001b[0m\n",
      "\u001b[0;31mNameError\u001b[0m: name 'df' is not defined"
     ]
    }
   ],
   "source": [
    "#splitting into train and test\n",
    "from sklearn.model_selection import train_test_split\n",
    "X_train, X_test, y_train, y_test = train_test_split(query_df, query_df, random_state = 0)\n",
    "\n"
   ]
  },
  {
   "cell_type": "code",
   "execution_count": null,
   "metadata": {},
   "outputs": [],
   "source": []
  },
  {
   "cell_type": "code",
   "execution_count": null,
   "metadata": {},
   "outputs": [],
   "source": []
  }
 ],
 "metadata": {
  "kernelspec": {
   "display_name": "Python 3",
   "language": "python",
   "name": "python3"
  },
  "language_info": {
   "codemirror_mode": {
    "name": "ipython",
    "version": 3
   },
   "file_extension": ".py",
   "mimetype": "text/x-python",
   "name": "python",
   "nbconvert_exporter": "python",
   "pygments_lexer": "ipython3",
   "version": "3.6.5"
  },
  "toc": {
   "base_numbering": 1,
   "nav_menu": {},
   "number_sections": true,
   "sideBar": true,
   "skip_h1_title": false,
   "title_cell": "Table of Contents",
   "title_sidebar": "Contents",
   "toc_cell": false,
   "toc_position": {},
   "toc_section_display": true,
   "toc_window_display": false
  }
 },
 "nbformat": 4,
 "nbformat_minor": 2
}
