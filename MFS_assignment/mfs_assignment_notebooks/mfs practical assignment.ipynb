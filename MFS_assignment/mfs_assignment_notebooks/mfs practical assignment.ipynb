{
 "cells": [
  {
   "cell_type": "markdown",
   "metadata": {},
   "source": [
    "# Problem Statement"
   ]
  },
  {
   "cell_type": "markdown",
   "metadata": {},
   "source": [
    "This is a practical assignment provided by the Mobile Financial Solutions. Its a dataset containing different variables\n",
    "\n",
    "**Questions**\n",
    "\n",
    "1. Find if there is any relation between \"features\" and Outputs.\n",
    "2. Can you identify model for the relation between input and output?\n",
    "3. Explain the approach used to solve the problem.\n",
    "4. Explain the programming languages and frameworks used and why?\n",
    "\n",
    "I have chosen to use python Jupyter notebooks to both relay my code plus output. steps involved will be to observe, clean and analyse the data and answer the answers above."
   ]
  },
  {
   "cell_type": "markdown",
   "metadata": {},
   "source": [
    "# Import packages"
   ]
  },
  {
   "cell_type": "code",
   "execution_count": 356,
   "metadata": {},
   "outputs": [],
   "source": [
    "##for faster data processing\n",
    "import numba as nb\n",
    "\n",
    "#for data manipulation \n",
    "import pandas as pd\n",
    "import numpy as np\n",
    "\n",
    "##for data visualizations and distributions of the variables\n",
    "import matplotlib as mtb\n",
    "import matplotlib.pyplot as plt\n",
    "from pandas_summary import DataFrameSummary\n",
    "import scipy as sc\n",
    "import sklearn as skl"
   ]
  },
  {
   "cell_type": "markdown",
   "metadata": {},
   "source": [
    "# Import dataset"
   ]
  },
  {
   "cell_type": "code",
   "execution_count": 357,
   "metadata": {},
   "outputs": [],
   "source": [
    "#read the data file\n",
    "mfs_df = pd.read_csv('../mfs_assignment_data/Practical_Assignment_Data_Scientists1.csv', sep=',')"
   ]
  },
  {
   "cell_type": "code",
   "execution_count": 358,
   "metadata": {},
   "outputs": [],
   "source": [
    "#mfs_df = mfs_df[mfs_df['Feature 2']!= \"179,769,313,486,231,000,000,000,000,000,000,000,000,000,000,000,000,000,000,000,000,000,000,000,000,000,000,000,000,000,000,000,000,000,000,000,000,000,000,000,000,000,000,000,000,000,000,000,000,000,000,000,000,000,000,000,000,000,000,000,000,000,000,000,000,000,000,000,000,000,000,000,000,000,000,000,000,000,000,000,000,000,000,000,000,000,000,000,000,000,000,000,000,000,000,000,000,000,000,000,000,000,000.00\"]"
   ]
  },
  {
   "cell_type": "markdown",
   "metadata": {},
   "source": [
    "# EDA (exploratory data analysis)"
   ]
  },
  {
   "cell_type": "code",
   "execution_count": 359,
   "metadata": {},
   "outputs": [
    {
     "data": {
      "text/html": [
       "<div>\n",
       "<style scoped>\n",
       "    .dataframe tbody tr th:only-of-type {\n",
       "        vertical-align: middle;\n",
       "    }\n",
       "\n",
       "    .dataframe tbody tr th {\n",
       "        vertical-align: top;\n",
       "    }\n",
       "\n",
       "    .dataframe thead th {\n",
       "        text-align: right;\n",
       "    }\n",
       "</style>\n",
       "<table border=\"1\" class=\"dataframe\">\n",
       "  <thead>\n",
       "    <tr style=\"text-align: right;\">\n",
       "      <th></th>\n",
       "      <th>Date</th>\n",
       "      <th>From</th>\n",
       "      <th>To</th>\n",
       "      <th>Feature 1</th>\n",
       "      <th>Feature 2</th>\n",
       "      <th>Feature 3</th>\n",
       "      <th>Ouput1</th>\n",
       "      <th>Output 2</th>\n",
       "    </tr>\n",
       "  </thead>\n",
       "  <tbody>\n",
       "    <tr>\n",
       "      <th>0</th>\n",
       "      <td>05/22/2018</td>\n",
       "      <td>6:20:12</td>\n",
       "      <td>6:23:00</td>\n",
       "      <td>3.260000e+09</td>\n",
       "      <td>294000000.0</td>\n",
       "      <td>9.700000e+10</td>\n",
       "      <td>500</td>\n",
       "      <td>3</td>\n",
       "    </tr>\n",
       "    <tr>\n",
       "      <th>1</th>\n",
       "      <td>05/22/2018</td>\n",
       "      <td>6:23:12</td>\n",
       "      <td>6:26:00</td>\n",
       "      <td>4.410000e+09</td>\n",
       "      <td>251000000.0</td>\n",
       "      <td>1.430000e+11</td>\n",
       "      <td>500</td>\n",
       "      <td>3</td>\n",
       "    </tr>\n",
       "    <tr>\n",
       "      <th>2</th>\n",
       "      <td>05/22/2018</td>\n",
       "      <td>6:26:12</td>\n",
       "      <td>6:29:00</td>\n",
       "      <td>7.090000e+09</td>\n",
       "      <td>194000000.0</td>\n",
       "      <td>1.780000e+11</td>\n",
       "      <td>500</td>\n",
       "      <td>3</td>\n",
       "    </tr>\n",
       "    <tr>\n",
       "      <th>3</th>\n",
       "      <td>05/22/2018</td>\n",
       "      <td>6:29:12</td>\n",
       "      <td>6:32:00</td>\n",
       "      <td>4.720000e+09</td>\n",
       "      <td>219000000.0</td>\n",
       "      <td>1.610000e+11</td>\n",
       "      <td>500</td>\n",
       "      <td>3</td>\n",
       "    </tr>\n",
       "    <tr>\n",
       "      <th>4</th>\n",
       "      <td>05/22/2018</td>\n",
       "      <td>6:32:12</td>\n",
       "      <td>6:35:00</td>\n",
       "      <td>6.560000e+09</td>\n",
       "      <td>218000000.0</td>\n",
       "      <td>1.880000e+11</td>\n",
       "      <td>500</td>\n",
       "      <td>3</td>\n",
       "    </tr>\n",
       "  </tbody>\n",
       "</table>\n",
       "</div>"
      ],
      "text/plain": [
       "         Date     From       To     Feature 1    Feature 2     Feature 3  \\\n",
       "0  05/22/2018  6:20:12  6:23:00  3.260000e+09  294000000.0  9.700000e+10   \n",
       "1  05/22/2018  6:23:12  6:26:00  4.410000e+09  251000000.0  1.430000e+11   \n",
       "2  05/22/2018  6:26:12  6:29:00  7.090000e+09  194000000.0  1.780000e+11   \n",
       "3  05/22/2018  6:29:12  6:32:00  4.720000e+09  219000000.0  1.610000e+11   \n",
       "4  05/22/2018  6:32:12  6:35:00  6.560000e+09  218000000.0  1.880000e+11   \n",
       "\n",
       "   Ouput1  Output 2  \n",
       "0     500         3  \n",
       "1     500         3  \n",
       "2     500         3  \n",
       "3     500         3  \n",
       "4     500         3  "
      ]
     },
     "execution_count": 359,
     "metadata": {},
     "output_type": "execute_result"
    }
   ],
   "source": [
    "#display the data \n",
    "mfs_df.head()"
   ]
  },
  {
   "cell_type": "code",
   "execution_count": 360,
   "metadata": {},
   "outputs": [
    {
     "name": "stdout",
     "output_type": "stream",
     "text": [
      "<class 'pandas.core.frame.DataFrame'>\n",
      "RangeIndex: 707 entries, 0 to 706\n",
      "Data columns (total 8 columns):\n",
      "Date         707 non-null object\n",
      "From         707 non-null object\n",
      "To           707 non-null object\n",
      "Feature 1    707 non-null float64\n",
      "Feature 2    707 non-null float64\n",
      "Feature 3    707 non-null float64\n",
      "Ouput1       707 non-null int64\n",
      "Output 2     707 non-null int64\n",
      "dtypes: float64(3), int64(2), object(3)\n",
      "memory usage: 44.3+ KB\n"
     ]
    }
   ],
   "source": [
    "#check the class of each dataset\n",
    "mfs_df.info()"
   ]
  },
  {
   "cell_type": "code",
   "execution_count": 361,
   "metadata": {},
   "outputs": [
    {
     "data": {
      "text/html": [
       "<div>\n",
       "<style scoped>\n",
       "    .dataframe tbody tr th:only-of-type {\n",
       "        vertical-align: middle;\n",
       "    }\n",
       "\n",
       "    .dataframe tbody tr th {\n",
       "        vertical-align: top;\n",
       "    }\n",
       "\n",
       "    .dataframe thead th {\n",
       "        text-align: right;\n",
       "    }\n",
       "</style>\n",
       "<table border=\"1\" class=\"dataframe\">\n",
       "  <thead>\n",
       "    <tr style=\"text-align: right;\">\n",
       "      <th></th>\n",
       "      <th>Feature 1</th>\n",
       "      <th>Feature 2</th>\n",
       "      <th>Feature 3</th>\n",
       "      <th>Ouput1</th>\n",
       "      <th>Output 2</th>\n",
       "    </tr>\n",
       "  </thead>\n",
       "  <tbody>\n",
       "    <tr>\n",
       "      <th>count</th>\n",
       "      <td>7.070000e+02</td>\n",
       "      <td>7.070000e+02</td>\n",
       "      <td>7.070000e+02</td>\n",
       "      <td>707.000000</td>\n",
       "      <td>707.000000</td>\n",
       "    </tr>\n",
       "    <tr>\n",
       "      <th>mean</th>\n",
       "      <td>5.369079e+09</td>\n",
       "      <td>1.133999e+08</td>\n",
       "      <td>1.280988e+11</td>\n",
       "      <td>370.226308</td>\n",
       "      <td>4.376238</td>\n",
       "    </tr>\n",
       "    <tr>\n",
       "      <th>std</th>\n",
       "      <td>3.631373e+09</td>\n",
       "      <td>9.033315e+07</td>\n",
       "      <td>8.167410e+10</td>\n",
       "      <td>114.950191</td>\n",
       "      <td>5.217632</td>\n",
       "    </tr>\n",
       "    <tr>\n",
       "      <th>min</th>\n",
       "      <td>1.380000e+08</td>\n",
       "      <td>5.019605e+06</td>\n",
       "      <td>5.160000e+08</td>\n",
       "      <td>200.000000</td>\n",
       "      <td>2.000000</td>\n",
       "    </tr>\n",
       "    <tr>\n",
       "      <th>25%</th>\n",
       "      <td>3.650000e+09</td>\n",
       "      <td>4.660000e+07</td>\n",
       "      <td>7.945000e+10</td>\n",
       "      <td>280.000000</td>\n",
       "      <td>2.000000</td>\n",
       "    </tr>\n",
       "    <tr>\n",
       "      <th>50%</th>\n",
       "      <td>4.970000e+09</td>\n",
       "      <td>1.010000e+08</td>\n",
       "      <td>1.240000e+11</td>\n",
       "      <td>400.000000</td>\n",
       "      <td>3.000000</td>\n",
       "    </tr>\n",
       "    <tr>\n",
       "      <th>75%</th>\n",
       "      <td>6.695000e+09</td>\n",
       "      <td>1.610000e+08</td>\n",
       "      <td>1.735000e+11</td>\n",
       "      <td>450.000000</td>\n",
       "      <td>4.000000</td>\n",
       "    </tr>\n",
       "    <tr>\n",
       "      <th>max</th>\n",
       "      <td>6.190000e+10</td>\n",
       "      <td>8.930000e+08</td>\n",
       "      <td>8.620000e+11</td>\n",
       "      <td>600.000000</td>\n",
       "      <td>30.000000</td>\n",
       "    </tr>\n",
       "  </tbody>\n",
       "</table>\n",
       "</div>"
      ],
      "text/plain": [
       "          Feature 1     Feature 2     Feature 3      Ouput1    Output 2\n",
       "count  7.070000e+02  7.070000e+02  7.070000e+02  707.000000  707.000000\n",
       "mean   5.369079e+09  1.133999e+08  1.280988e+11  370.226308    4.376238\n",
       "std    3.631373e+09  9.033315e+07  8.167410e+10  114.950191    5.217632\n",
       "min    1.380000e+08  5.019605e+06  5.160000e+08  200.000000    2.000000\n",
       "25%    3.650000e+09  4.660000e+07  7.945000e+10  280.000000    2.000000\n",
       "50%    4.970000e+09  1.010000e+08  1.240000e+11  400.000000    3.000000\n",
       "75%    6.695000e+09  1.610000e+08  1.735000e+11  450.000000    4.000000\n",
       "max    6.190000e+10  8.930000e+08  8.620000e+11  600.000000   30.000000"
      ]
     },
     "execution_count": 361,
     "metadata": {},
     "output_type": "execute_result"
    }
   ],
   "source": [
    "# show the summary of each dataset\n",
    "mfs_df.describe()"
   ]
  },
  {
   "cell_type": "code",
   "execution_count": 362,
   "metadata": {},
   "outputs": [
    {
     "data": {
      "text/html": [
       "<div>\n",
       "<style scoped>\n",
       "    .dataframe tbody tr th:only-of-type {\n",
       "        vertical-align: middle;\n",
       "    }\n",
       "\n",
       "    .dataframe tbody tr th {\n",
       "        vertical-align: top;\n",
       "    }\n",
       "\n",
       "    .dataframe thead th {\n",
       "        text-align: right;\n",
       "    }\n",
       "</style>\n",
       "<table border=\"1\" class=\"dataframe\">\n",
       "  <thead>\n",
       "    <tr style=\"text-align: right;\">\n",
       "      <th></th>\n",
       "      <th>Date</th>\n",
       "      <th>From</th>\n",
       "      <th>To</th>\n",
       "      <th>Feature 1</th>\n",
       "      <th>Feature 2</th>\n",
       "      <th>Feature 3</th>\n",
       "      <th>Ouput1</th>\n",
       "      <th>Output 2</th>\n",
       "    </tr>\n",
       "  </thead>\n",
       "  <tbody>\n",
       "    <tr>\n",
       "      <th>690</th>\n",
       "      <td>05/25/2018</td>\n",
       "      <td>10:18:24</td>\n",
       "      <td>10:20:24</td>\n",
       "      <td>5.190000e+09</td>\n",
       "      <td>112000000.0</td>\n",
       "      <td>1.840000e+11</td>\n",
       "      <td>600</td>\n",
       "      <td>2</td>\n",
       "    </tr>\n",
       "    <tr>\n",
       "      <th>691</th>\n",
       "      <td>05/25/2018</td>\n",
       "      <td>10:20:24</td>\n",
       "      <td>10:22:10</td>\n",
       "      <td>6.580000e+09</td>\n",
       "      <td>154000000.0</td>\n",
       "      <td>1.910000e+11</td>\n",
       "      <td>600</td>\n",
       "      <td>2</td>\n",
       "    </tr>\n",
       "    <tr>\n",
       "      <th>692</th>\n",
       "      <td>05/25/2018</td>\n",
       "      <td>10:22:24</td>\n",
       "      <td>10:24:10</td>\n",
       "      <td>5.500000e+09</td>\n",
       "      <td>92200000.0</td>\n",
       "      <td>1.520000e+11</td>\n",
       "      <td>600</td>\n",
       "      <td>2</td>\n",
       "    </tr>\n",
       "    <tr>\n",
       "      <th>693</th>\n",
       "      <td>05/25/2018</td>\n",
       "      <td>10:24:22</td>\n",
       "      <td>10:27:10</td>\n",
       "      <td>6.130000e+09</td>\n",
       "      <td>36500000.0</td>\n",
       "      <td>1.980000e+11</td>\n",
       "      <td>520</td>\n",
       "      <td>3</td>\n",
       "    </tr>\n",
       "    <tr>\n",
       "      <th>694</th>\n",
       "      <td>05/25/2018</td>\n",
       "      <td>10:27:22</td>\n",
       "      <td>10:30:10</td>\n",
       "      <td>5.620000e+09</td>\n",
       "      <td>52900000.0</td>\n",
       "      <td>1.820000e+11</td>\n",
       "      <td>520</td>\n",
       "      <td>3</td>\n",
       "    </tr>\n",
       "    <tr>\n",
       "      <th>695</th>\n",
       "      <td>05/25/2018</td>\n",
       "      <td>10:30:22</td>\n",
       "      <td>10:33:10</td>\n",
       "      <td>5.730000e+09</td>\n",
       "      <td>44800000.0</td>\n",
       "      <td>1.740000e+11</td>\n",
       "      <td>520</td>\n",
       "      <td>3</td>\n",
       "    </tr>\n",
       "    <tr>\n",
       "      <th>696</th>\n",
       "      <td>05/25/2018</td>\n",
       "      <td>10:33:22</td>\n",
       "      <td>10:36:10</td>\n",
       "      <td>5.310000e+09</td>\n",
       "      <td>45100000.0</td>\n",
       "      <td>1.650000e+11</td>\n",
       "      <td>520</td>\n",
       "      <td>3</td>\n",
       "    </tr>\n",
       "    <tr>\n",
       "      <th>697</th>\n",
       "      <td>05/25/2018</td>\n",
       "      <td>10:36:22</td>\n",
       "      <td>10:39:10</td>\n",
       "      <td>7.370000e+09</td>\n",
       "      <td>37900000.0</td>\n",
       "      <td>1.980000e+11</td>\n",
       "      <td>520</td>\n",
       "      <td>3</td>\n",
       "    </tr>\n",
       "    <tr>\n",
       "      <th>698</th>\n",
       "      <td>05/25/2018</td>\n",
       "      <td>10:39:21</td>\n",
       "      <td>10:42:10</td>\n",
       "      <td>6.350000e+09</td>\n",
       "      <td>35700000.0</td>\n",
       "      <td>1.710000e+11</td>\n",
       "      <td>450</td>\n",
       "      <td>3</td>\n",
       "    </tr>\n",
       "    <tr>\n",
       "      <th>699</th>\n",
       "      <td>05/25/2018</td>\n",
       "      <td>10:42:21</td>\n",
       "      <td>10:45:10</td>\n",
       "      <td>4.920000e+09</td>\n",
       "      <td>29200000.0</td>\n",
       "      <td>1.530000e+11</td>\n",
       "      <td>450</td>\n",
       "      <td>3</td>\n",
       "    </tr>\n",
       "    <tr>\n",
       "      <th>700</th>\n",
       "      <td>05/25/2018</td>\n",
       "      <td>10:45:21</td>\n",
       "      <td>10:48:10</td>\n",
       "      <td>6.040000e+09</td>\n",
       "      <td>33600000.0</td>\n",
       "      <td>1.760000e+11</td>\n",
       "      <td>450</td>\n",
       "      <td>3</td>\n",
       "    </tr>\n",
       "    <tr>\n",
       "      <th>701</th>\n",
       "      <td>05/25/2018</td>\n",
       "      <td>10:48:21</td>\n",
       "      <td>10:51:10</td>\n",
       "      <td>5.780000e+09</td>\n",
       "      <td>28300000.0</td>\n",
       "      <td>1.710000e+11</td>\n",
       "      <td>450</td>\n",
       "      <td>3</td>\n",
       "    </tr>\n",
       "    <tr>\n",
       "      <th>702</th>\n",
       "      <td>05/25/2018</td>\n",
       "      <td>10:51:16</td>\n",
       "      <td>10:59:10</td>\n",
       "      <td>3.120000e+09</td>\n",
       "      <td>22100000.0</td>\n",
       "      <td>9.590000e+10</td>\n",
       "      <td>200</td>\n",
       "      <td>15</td>\n",
       "    </tr>\n",
       "    <tr>\n",
       "      <th>703</th>\n",
       "      <td>05/25/2018</td>\n",
       "      <td>11:06:19</td>\n",
       "      <td>11:09:10</td>\n",
       "      <td>4.050000e+09</td>\n",
       "      <td>43500000.0</td>\n",
       "      <td>9.920000e+10</td>\n",
       "      <td>360</td>\n",
       "      <td>3</td>\n",
       "    </tr>\n",
       "    <tr>\n",
       "      <th>704</th>\n",
       "      <td>05/25/2018</td>\n",
       "      <td>11:09:19</td>\n",
       "      <td>11:12:10</td>\n",
       "      <td>4.150000e+09</td>\n",
       "      <td>43900000.0</td>\n",
       "      <td>1.230000e+11</td>\n",
       "      <td>360</td>\n",
       "      <td>3</td>\n",
       "    </tr>\n",
       "    <tr>\n",
       "      <th>705</th>\n",
       "      <td>05/25/2018</td>\n",
       "      <td>11:12:19</td>\n",
       "      <td>11:15:10</td>\n",
       "      <td>4.610000e+09</td>\n",
       "      <td>51400000.0</td>\n",
       "      <td>1.180000e+11</td>\n",
       "      <td>360</td>\n",
       "      <td>3</td>\n",
       "    </tr>\n",
       "    <tr>\n",
       "      <th>706</th>\n",
       "      <td>05/25/2018</td>\n",
       "      <td>11:15:18</td>\n",
       "      <td>11:18:10</td>\n",
       "      <td>3.560000e+09</td>\n",
       "      <td>36900000.0</td>\n",
       "      <td>9.990000e+10</td>\n",
       "      <td>300</td>\n",
       "      <td>3</td>\n",
       "    </tr>\n",
       "  </tbody>\n",
       "</table>\n",
       "</div>"
      ],
      "text/plain": [
       "           Date      From        To     Feature 1    Feature 2     Feature 3  \\\n",
       "690  05/25/2018  10:18:24  10:20:24  5.190000e+09  112000000.0  1.840000e+11   \n",
       "691  05/25/2018  10:20:24  10:22:10  6.580000e+09  154000000.0  1.910000e+11   \n",
       "692  05/25/2018  10:22:24  10:24:10  5.500000e+09   92200000.0  1.520000e+11   \n",
       "693  05/25/2018  10:24:22  10:27:10  6.130000e+09   36500000.0  1.980000e+11   \n",
       "694  05/25/2018  10:27:22  10:30:10  5.620000e+09   52900000.0  1.820000e+11   \n",
       "695  05/25/2018  10:30:22  10:33:10  5.730000e+09   44800000.0  1.740000e+11   \n",
       "696  05/25/2018  10:33:22  10:36:10  5.310000e+09   45100000.0  1.650000e+11   \n",
       "697  05/25/2018  10:36:22  10:39:10  7.370000e+09   37900000.0  1.980000e+11   \n",
       "698  05/25/2018  10:39:21  10:42:10  6.350000e+09   35700000.0  1.710000e+11   \n",
       "699  05/25/2018  10:42:21  10:45:10  4.920000e+09   29200000.0  1.530000e+11   \n",
       "700  05/25/2018  10:45:21  10:48:10  6.040000e+09   33600000.0  1.760000e+11   \n",
       "701  05/25/2018  10:48:21  10:51:10  5.780000e+09   28300000.0  1.710000e+11   \n",
       "702  05/25/2018  10:51:16  10:59:10  3.120000e+09   22100000.0  9.590000e+10   \n",
       "703  05/25/2018  11:06:19  11:09:10  4.050000e+09   43500000.0  9.920000e+10   \n",
       "704  05/25/2018  11:09:19  11:12:10  4.150000e+09   43900000.0  1.230000e+11   \n",
       "705  05/25/2018  11:12:19  11:15:10  4.610000e+09   51400000.0  1.180000e+11   \n",
       "706  05/25/2018  11:15:18  11:18:10  3.560000e+09   36900000.0  9.990000e+10   \n",
       "\n",
       "     Ouput1  Output 2  \n",
       "690     600         2  \n",
       "691     600         2  \n",
       "692     600         2  \n",
       "693     520         3  \n",
       "694     520         3  \n",
       "695     520         3  \n",
       "696     520         3  \n",
       "697     520         3  \n",
       "698     450         3  \n",
       "699     450         3  \n",
       "700     450         3  \n",
       "701     450         3  \n",
       "702     200        15  \n",
       "703     360         3  \n",
       "704     360         3  \n",
       "705     360         3  \n",
       "706     300         3  "
      ]
     },
     "execution_count": 362,
     "metadata": {},
     "output_type": "execute_result"
    }
   ],
   "source": [
    "mfs_df.iloc[690:]"
   ]
  },
  {
   "cell_type": "code",
   "execution_count": 363,
   "metadata": {},
   "outputs": [
    {
     "data": {
      "text/plain": [
       "(707, 8)"
      ]
     },
     "execution_count": 363,
     "metadata": {},
     "output_type": "execute_result"
    }
   ],
   "source": [
    "#check number of rows and columns\n",
    "mfs_df.shape"
   ]
  },
  {
   "cell_type": "code",
   "execution_count": 364,
   "metadata": {},
   "outputs": [
    {
     "data": {
      "text/plain": [
       "Date          object\n",
       "From          object\n",
       "To            object\n",
       "Feature 1    float64\n",
       "Feature 2    float64\n",
       "Feature 3    float64\n",
       "Ouput1         int64\n",
       "Output 2       int64\n",
       "dtype: object"
      ]
     },
     "execution_count": 364,
     "metadata": {},
     "output_type": "execute_result"
    }
   ],
   "source": [
    "#check the data types\n",
    "mfs_df.dtypes"
   ]
  },
  {
   "cell_type": "code",
   "execution_count": 365,
   "metadata": {},
   "outputs": [
    {
     "data": {
      "text/plain": [
       "Index(['Date', 'From', 'To', 'Feature 1', 'Feature 2', 'Feature 3', 'Ouput1',\n",
       "       'Output 2'],\n",
       "      dtype='object')"
      ]
     },
     "execution_count": 365,
     "metadata": {},
     "output_type": "execute_result"
    }
   ],
   "source": [
    "mfs_df.columns"
   ]
  },
  {
   "cell_type": "markdown",
   "metadata": {},
   "source": [
    "# Data Prep"
   ]
  },
  {
   "cell_type": "markdown",
   "metadata": {},
   "source": [
    "## Rename columns"
   ]
  },
  {
   "cell_type": "code",
   "execution_count": 366,
   "metadata": {},
   "outputs": [],
   "source": [
    "# Rename columns using a dictionary to map values\n",
    "\n",
    "mfs_df.rename(columns={'Feature 1':'feature_1', 'Feature 2':'feature_2', 'Feature 3':'feature_3',\n",
    "                       'Ouput1':'output_1', 'Output 2':'output_2'}, inplace=True)"
   ]
  },
  {
   "cell_type": "markdown",
   "metadata": {},
   "source": [
    "## change dtypes"
   ]
  },
  {
   "cell_type": "code",
   "execution_count": 367,
   "metadata": {},
   "outputs": [],
   "source": [
    "mfs_df['feature_1']=mfs_df['feature_1'].astype('int64',inplace=True)\n",
    "mfs_df['feature_2']=mfs_df['feature_2'].astype('int64',inplace=True)\n",
    "mfs_df['feature_3']=mfs_df['feature_3'].astype('int64',inplace=True)"
   ]
  },
  {
   "cell_type": "code",
   "execution_count": 368,
   "metadata": {},
   "outputs": [],
   "source": [
    "# Convert date to pandas date_time\n",
    "mfs_df[\"From\"] = mfs_df[\"From\"].apply(pd.to_datetime, errors='coerce')\n",
    "mfs_df[\"To\"] = mfs_df[\"To\"].apply(pd.to_datetime, errors='coerce')\n",
    "mfs_df['Date'] = mfs_df['Date'].apply(pd.to_datetime, errors='coerce')"
   ]
  },
  {
   "cell_type": "code",
   "execution_count": 369,
   "metadata": {},
   "outputs": [
    {
     "data": {
      "text/html": [
       "<div>\n",
       "<style scoped>\n",
       "    .dataframe tbody tr th:only-of-type {\n",
       "        vertical-align: middle;\n",
       "    }\n",
       "\n",
       "    .dataframe tbody tr th {\n",
       "        vertical-align: top;\n",
       "    }\n",
       "\n",
       "    .dataframe thead th {\n",
       "        text-align: right;\n",
       "    }\n",
       "</style>\n",
       "<table border=\"1\" class=\"dataframe\">\n",
       "  <thead>\n",
       "    <tr style=\"text-align: right;\">\n",
       "      <th></th>\n",
       "      <th>feature_1</th>\n",
       "      <th>feature_2</th>\n",
       "      <th>feature_3</th>\n",
       "      <th>output_1</th>\n",
       "      <th>output_2</th>\n",
       "    </tr>\n",
       "  </thead>\n",
       "  <tbody>\n",
       "    <tr>\n",
       "      <th>count</th>\n",
       "      <td>7.070000e+02</td>\n",
       "      <td>7.070000e+02</td>\n",
       "      <td>7.070000e+02</td>\n",
       "      <td>707.000000</td>\n",
       "      <td>707.000000</td>\n",
       "    </tr>\n",
       "    <tr>\n",
       "      <th>mean</th>\n",
       "      <td>5.369079e+09</td>\n",
       "      <td>1.133999e+08</td>\n",
       "      <td>1.280988e+11</td>\n",
       "      <td>370.226308</td>\n",
       "      <td>4.376238</td>\n",
       "    </tr>\n",
       "    <tr>\n",
       "      <th>std</th>\n",
       "      <td>3.631373e+09</td>\n",
       "      <td>9.033315e+07</td>\n",
       "      <td>8.167410e+10</td>\n",
       "      <td>114.950191</td>\n",
       "      <td>5.217632</td>\n",
       "    </tr>\n",
       "    <tr>\n",
       "      <th>min</th>\n",
       "      <td>1.380000e+08</td>\n",
       "      <td>5.019604e+06</td>\n",
       "      <td>5.160000e+08</td>\n",
       "      <td>200.000000</td>\n",
       "      <td>2.000000</td>\n",
       "    </tr>\n",
       "    <tr>\n",
       "      <th>25%</th>\n",
       "      <td>3.650000e+09</td>\n",
       "      <td>4.660000e+07</td>\n",
       "      <td>7.945000e+10</td>\n",
       "      <td>280.000000</td>\n",
       "      <td>2.000000</td>\n",
       "    </tr>\n",
       "    <tr>\n",
       "      <th>50%</th>\n",
       "      <td>4.970000e+09</td>\n",
       "      <td>1.010000e+08</td>\n",
       "      <td>1.240000e+11</td>\n",
       "      <td>400.000000</td>\n",
       "      <td>3.000000</td>\n",
       "    </tr>\n",
       "    <tr>\n",
       "      <th>75%</th>\n",
       "      <td>6.695000e+09</td>\n",
       "      <td>1.610000e+08</td>\n",
       "      <td>1.735000e+11</td>\n",
       "      <td>450.000000</td>\n",
       "      <td>4.000000</td>\n",
       "    </tr>\n",
       "    <tr>\n",
       "      <th>max</th>\n",
       "      <td>6.190000e+10</td>\n",
       "      <td>8.930000e+08</td>\n",
       "      <td>8.620000e+11</td>\n",
       "      <td>600.000000</td>\n",
       "      <td>30.000000</td>\n",
       "    </tr>\n",
       "  </tbody>\n",
       "</table>\n",
       "</div>"
      ],
      "text/plain": [
       "          feature_1     feature_2     feature_3    output_1    output_2\n",
       "count  7.070000e+02  7.070000e+02  7.070000e+02  707.000000  707.000000\n",
       "mean   5.369079e+09  1.133999e+08  1.280988e+11  370.226308    4.376238\n",
       "std    3.631373e+09  9.033315e+07  8.167410e+10  114.950191    5.217632\n",
       "min    1.380000e+08  5.019604e+06  5.160000e+08  200.000000    2.000000\n",
       "25%    3.650000e+09  4.660000e+07  7.945000e+10  280.000000    2.000000\n",
       "50%    4.970000e+09  1.010000e+08  1.240000e+11  400.000000    3.000000\n",
       "75%    6.695000e+09  1.610000e+08  1.735000e+11  450.000000    4.000000\n",
       "max    6.190000e+10  8.930000e+08  8.620000e+11  600.000000   30.000000"
      ]
     },
     "execution_count": 369,
     "metadata": {},
     "output_type": "execute_result"
    }
   ],
   "source": [
    "mfs_df.describe()"
   ]
  },
  {
   "cell_type": "markdown",
   "metadata": {},
   "source": [
    "## Check for Nan"
   ]
  },
  {
   "cell_type": "code",
   "execution_count": 370,
   "metadata": {},
   "outputs": [
    {
     "data": {
      "text/plain": [
       "False"
      ]
     },
     "execution_count": 370,
     "metadata": {},
     "output_type": "execute_result"
    }
   ],
   "source": [
    "mfs_df.isnull().values.any()"
   ]
  },
  {
   "cell_type": "code",
   "execution_count": 371,
   "metadata": {},
   "outputs": [
    {
     "data": {
      "text/plain": [
       "array(['Date', 'From', 'To', 'feature_1', 'feature_2', 'feature_3',\n",
       "       'output_1', 'output_2'], dtype=object)"
      ]
     },
     "execution_count": 371,
     "metadata": {},
     "output_type": "execute_result"
    }
   ],
   "source": [
    "mfs_df.columns.values"
   ]
  },
  {
   "cell_type": "markdown",
   "metadata": {},
   "source": [
    "## separate Categorical and numerical variables"
   ]
  },
  {
   "cell_type": "code",
   "execution_count": 372,
   "metadata": {},
   "outputs": [],
   "source": [
    "categorical_features = ['Date','From','To']\n",
    "numerical_features = ['feature_1','feature_2','feature_3','output_1','output_2'] "
   ]
  },
  {
   "cell_type": "markdown",
   "metadata": {},
   "source": [
    "## Measures of central tendancy"
   ]
  },
  {
   "cell_type": "code",
   "execution_count": 373,
   "metadata": {},
   "outputs": [
    {
     "data": {
      "text/plain": [
       "feature_1    5.369079e+09\n",
       "feature_2    1.133999e+08\n",
       "feature_3    1.280988e+11\n",
       "output_1     3.702263e+02\n",
       "output_2     4.376238e+00\n",
       "dtype: float64"
      ]
     },
     "execution_count": 373,
     "metadata": {},
     "output_type": "execute_result"
    }
   ],
   "source": [
    "mfs_df[numerical_features].mean()"
   ]
  },
  {
   "cell_type": "code",
   "execution_count": 374,
   "metadata": {},
   "outputs": [
    {
     "data": {
      "text/plain": [
       "feature_1    4.970000e+09\n",
       "feature_2    1.010000e+08\n",
       "feature_3    1.240000e+11\n",
       "output_1     4.000000e+02\n",
       "output_2     3.000000e+00\n",
       "dtype: float64"
      ]
     },
     "execution_count": 374,
     "metadata": {},
     "output_type": "execute_result"
    }
   ],
   "source": [
    "mfs_df[numerical_features].median()"
   ]
  },
  {
   "cell_type": "code",
   "execution_count": 375,
   "metadata": {},
   "outputs": [
    {
     "data": {
      "text/html": [
       "<div>\n",
       "<style scoped>\n",
       "    .dataframe tbody tr th:only-of-type {\n",
       "        vertical-align: middle;\n",
       "    }\n",
       "\n",
       "    .dataframe tbody tr th {\n",
       "        vertical-align: top;\n",
       "    }\n",
       "\n",
       "    .dataframe thead th {\n",
       "        text-align: right;\n",
       "    }\n",
       "</style>\n",
       "<table border=\"1\" class=\"dataframe\">\n",
       "  <thead>\n",
       "    <tr style=\"text-align: right;\">\n",
       "      <th></th>\n",
       "      <th>feature_1</th>\n",
       "      <th>feature_2</th>\n",
       "      <th>feature_3</th>\n",
       "      <th>output_1</th>\n",
       "      <th>output_2</th>\n",
       "    </tr>\n",
       "  </thead>\n",
       "  <tbody>\n",
       "    <tr>\n",
       "      <th>702</th>\n",
       "      <td>3779569000000</td>\n",
       "      <td>79998020919</td>\n",
       "      <td>90125786000000</td>\n",
       "      <td>260370</td>\n",
       "      <td>3082</td>\n",
       "    </tr>\n",
       "    <tr>\n",
       "      <th>703</th>\n",
       "      <td>3783619000000</td>\n",
       "      <td>80041520919</td>\n",
       "      <td>90224986000000</td>\n",
       "      <td>260730</td>\n",
       "      <td>3085</td>\n",
       "    </tr>\n",
       "    <tr>\n",
       "      <th>704</th>\n",
       "      <td>3787769000000</td>\n",
       "      <td>80085420919</td>\n",
       "      <td>90347986000000</td>\n",
       "      <td>261090</td>\n",
       "      <td>3088</td>\n",
       "    </tr>\n",
       "    <tr>\n",
       "      <th>705</th>\n",
       "      <td>3792379000000</td>\n",
       "      <td>80136820919</td>\n",
       "      <td>90465986000000</td>\n",
       "      <td>261450</td>\n",
       "      <td>3091</td>\n",
       "    </tr>\n",
       "    <tr>\n",
       "      <th>706</th>\n",
       "      <td>3795939000000</td>\n",
       "      <td>80173720919</td>\n",
       "      <td>90565886000000</td>\n",
       "      <td>261750</td>\n",
       "      <td>3094</td>\n",
       "    </tr>\n",
       "  </tbody>\n",
       "</table>\n",
       "</div>"
      ],
      "text/plain": [
       "         feature_1    feature_2       feature_3  output_1  output_2\n",
       "702  3779569000000  79998020919  90125786000000    260370      3082\n",
       "703  3783619000000  80041520919  90224986000000    260730      3085\n",
       "704  3787769000000  80085420919  90347986000000    261090      3088\n",
       "705  3792379000000  80136820919  90465986000000    261450      3091\n",
       "706  3795939000000  80173720919  90565886000000    261750      3094"
      ]
     },
     "execution_count": 375,
     "metadata": {},
     "output_type": "execute_result"
    }
   ],
   "source": [
    "mfs_df[numerical_features].cumsum().tail()"
   ]
  },
  {
   "cell_type": "code",
   "execution_count": 376,
   "metadata": {},
   "outputs": [
    {
     "data": {
      "text/plain": [
       "dtype('int64')"
      ]
     },
     "execution_count": 376,
     "metadata": {},
     "output_type": "execute_result"
    }
   ],
   "source": [
    "mfs_df['feature_2'].dtype"
   ]
  },
  {
   "cell_type": "code",
   "execution_count": 377,
   "metadata": {},
   "outputs": [
    {
     "data": {
      "text/plain": [
       "<matplotlib.axes._subplots.AxesSubplot at 0x7f0435784c88>"
      ]
     },
     "execution_count": 377,
     "metadata": {},
     "output_type": "execute_result"
    },
    {
     "data": {
      "image/png": "[encoded data removed]",
      "text/plain": [
       "<Figure size 576x432 with 1 Axes>"
      ]
     },
     "metadata": {},
     "output_type": "display_data"
    }
   ],
   "source": [
    "mfs_df.boxplot(figsize=(8,6))"
   ]
  },
  {
   "cell_type": "markdown",
   "metadata": {},
   "source": [
    "# Mfs practical questions"
   ]
  },
  {
   "cell_type": "markdown",
   "metadata": {},
   "source": [
    "## Find if there is any relation between \"features\" and Outputs"
   ]
  },
  {
   "cell_type": "markdown",
   "metadata": {},
   "source": [
    "Relations are correspondences between sets of values. The first value of a relation is an input value and the second value is the output value. The input is the independent value, and the output value is the dependent value. In this case I decided to use correlation to check if there was any relation between the features and the outputs."
   ]
  },
  {
   "cell_type": "code",
   "execution_count": 378,
   "metadata": {},
   "outputs": [
    {
     "data": {
      "text/html": [
       "<div>\n",
       "<style scoped>\n",
       "    .dataframe tbody tr th:only-of-type {\n",
       "        vertical-align: middle;\n",
       "    }\n",
       "\n",
       "    .dataframe tbody tr th {\n",
       "        vertical-align: top;\n",
       "    }\n",
       "\n",
       "    .dataframe thead th {\n",
       "        text-align: right;\n",
       "    }\n",
       "</style>\n",
       "<table border=\"1\" class=\"dataframe\">\n",
       "  <thead>\n",
       "    <tr style=\"text-align: right;\">\n",
       "      <th></th>\n",
       "      <th>feature_1</th>\n",
       "      <th>feature_2</th>\n",
       "      <th>feature_3</th>\n",
       "      <th>output_1</th>\n",
       "      <th>output_2</th>\n",
       "    </tr>\n",
       "  </thead>\n",
       "  <tbody>\n",
       "    <tr>\n",
       "      <th>feature_1</th>\n",
       "      <td>1.000000</td>\n",
       "      <td>0.240527</td>\n",
       "      <td>0.707022</td>\n",
       "      <td>0.254550</td>\n",
       "      <td>-0.092633</td>\n",
       "    </tr>\n",
       "    <tr>\n",
       "      <th>feature_2</th>\n",
       "      <td>0.240527</td>\n",
       "      <td>1.000000</td>\n",
       "      <td>0.462291</td>\n",
       "      <td>0.515097</td>\n",
       "      <td>-0.281395</td>\n",
       "    </tr>\n",
       "    <tr>\n",
       "      <th>feature_3</th>\n",
       "      <td>0.707022</td>\n",
       "      <td>0.462291</td>\n",
       "      <td>1.000000</td>\n",
       "      <td>0.536483</td>\n",
       "      <td>-0.220468</td>\n",
       "    </tr>\n",
       "    <tr>\n",
       "      <th>output_1</th>\n",
       "      <td>0.254550</td>\n",
       "      <td>0.515097</td>\n",
       "      <td>0.536483</td>\n",
       "      <td>1.000000</td>\n",
       "      <td>-0.407689</td>\n",
       "    </tr>\n",
       "    <tr>\n",
       "      <th>output_2</th>\n",
       "      <td>-0.092633</td>\n",
       "      <td>-0.281395</td>\n",
       "      <td>-0.220468</td>\n",
       "      <td>-0.407689</td>\n",
       "      <td>1.000000</td>\n",
       "    </tr>\n",
       "  </tbody>\n",
       "</table>\n",
       "</div>"
      ],
      "text/plain": [
       "           feature_1  feature_2  feature_3  output_1  output_2\n",
       "feature_1   1.000000   0.240527   0.707022  0.254550 -0.092633\n",
       "feature_2   0.240527   1.000000   0.462291  0.515097 -0.281395\n",
       "feature_3   0.707022   0.462291   1.000000  0.536483 -0.220468\n",
       "output_1    0.254550   0.515097   0.536483  1.000000 -0.407689\n",
       "output_2   -0.092633  -0.281395  -0.220468 -0.407689  1.000000"
      ]
     },
     "execution_count": 378,
     "metadata": {},
     "output_type": "execute_result"
    }
   ],
   "source": [
    "mfs_df.corr()"
   ]
  },
  {
   "cell_type": "markdown",
   "metadata": {},
   "source": [
    "**conclusion**\n",
    "\n",
    "1. We can see that feature 1 and Output 1 have a weak positive relation of ~26% \n",
    "2. feature 2 and Output 1 have a fair positive realation of ~52% \n",
    "3. feature 3 and Output 1 have a strong positive relation of ~53.6% \n",
    "\n",
    "\n",
    "1. We can see that feature 1 and Output 2 have a weak negative relation of ~-9.3% \n",
    "2. feature 2 and Output 2 have a strong negative realation of ~-28.1% \n",
    "3. feature 3 and Output 2 have a strong negative relation of ~22% "
   ]
  },
  {
   "cell_type": "code",
   "execution_count": 379,
   "metadata": {},
   "outputs": [
    {
     "data": {
      "image/png": "[encoded data removed]",
      "text/plain": [
       "<Figure size 1080x720 with 2 Axes>"
      ]
     },
     "metadata": {},
     "output_type": "display_data"
    }
   ],
   "source": [
    "#check the relationship between feautures and outputs using the heatmap(correlation) \n",
    "mfs_df.corr()\n",
    "# Plot correlation matrix\n",
    "plt.figure(figsize=(15,10))\n",
    "sns.heatmap(mfs_df[numerical_features].corr(), annot=True, fmt=\".1f\")\n",
    "plt.show()\n",
    "\n",
    "#when it tends to 1, it shows it has a relation, and as it tends to -1, it shows a weak relation."
   ]
  },
  {
   "cell_type": "markdown",
   "metadata": {},
   "source": [
    "Check association between output 2 and the timelines\n"
   ]
  },
  {
   "cell_type": "code",
   "execution_count": 380,
   "metadata": {},
   "outputs": [],
   "source": [
    "#specify columns required and create a new dataframe with those columns\n",
    "columns= ['Date', 'From', 'To', 'output_2']\n",
    "mfs_df1 = mfs_df[columns]"
   ]
  },
  {
   "cell_type": "code",
   "execution_count": 381,
   "metadata": {},
   "outputs": [
    {
     "data": {
      "text/html": [
       "<div>\n",
       "<style scoped>\n",
       "    .dataframe tbody tr th:only-of-type {\n",
       "        vertical-align: middle;\n",
       "    }\n",
       "\n",
       "    .dataframe tbody tr th {\n",
       "        vertical-align: top;\n",
       "    }\n",
       "\n",
       "    .dataframe thead th {\n",
       "        text-align: right;\n",
       "    }\n",
       "</style>\n",
       "<table border=\"1\" class=\"dataframe\">\n",
       "  <thead>\n",
       "    <tr style=\"text-align: right;\">\n",
       "      <th></th>\n",
       "      <th>output_2</th>\n",
       "    </tr>\n",
       "  </thead>\n",
       "  <tbody>\n",
       "    <tr>\n",
       "      <th>output_2</th>\n",
       "      <td>1.0</td>\n",
       "    </tr>\n",
       "  </tbody>\n",
       "</table>\n",
       "</div>"
      ],
      "text/plain": [
       "          output_2\n",
       "output_2       1.0"
      ]
     },
     "execution_count": 381,
     "metadata": {},
     "output_type": "execute_result"
    }
   ],
   "source": [
    "mfs_df1.corr()"
   ]
  },
  {
   "cell_type": "markdown",
   "metadata": {},
   "source": [
    "Conclusion: This shows output2 has no correlation with the the timelines"
   ]
  },
  {
   "cell_type": "markdown",
   "metadata": {},
   "source": [
    "Net step is to ceate a new column to the first dataframe showing the difference between  column To and column From"
   ]
  },
  {
   "cell_type": "code",
   "execution_count": 382,
   "metadata": {},
   "outputs": [],
   "source": [
    "mfs_df['time_delta']=mfs_df['To']-mfs_df['From']"
   ]
  },
  {
   "cell_type": "code",
   "execution_count": 383,
   "metadata": {},
   "outputs": [
    {
     "data": {
      "text/html": [
       "<div>\n",
       "<style scoped>\n",
       "    .dataframe tbody tr th:only-of-type {\n",
       "        vertical-align: middle;\n",
       "    }\n",
       "\n",
       "    .dataframe tbody tr th {\n",
       "        vertical-align: top;\n",
       "    }\n",
       "\n",
       "    .dataframe thead th {\n",
       "        text-align: right;\n",
       "    }\n",
       "</style>\n",
       "<table border=\"1\" class=\"dataframe\">\n",
       "  <thead>\n",
       "    <tr style=\"text-align: right;\">\n",
       "      <th></th>\n",
       "      <th>Date</th>\n",
       "      <th>From</th>\n",
       "      <th>To</th>\n",
       "      <th>feature_1</th>\n",
       "      <th>feature_2</th>\n",
       "      <th>feature_3</th>\n",
       "      <th>output_1</th>\n",
       "      <th>output_2</th>\n",
       "      <th>time_delta</th>\n",
       "    </tr>\n",
       "  </thead>\n",
       "  <tbody>\n",
       "    <tr>\n",
       "      <th>0</th>\n",
       "      <td>2018-05-22</td>\n",
       "      <td>2019-07-19 06:20:12</td>\n",
       "      <td>2019-07-19 06:23:00</td>\n",
       "      <td>3260000000</td>\n",
       "      <td>294000000</td>\n",
       "      <td>97000000000</td>\n",
       "      <td>500</td>\n",
       "      <td>3</td>\n",
       "      <td>00:02:48</td>\n",
       "    </tr>\n",
       "    <tr>\n",
       "      <th>1</th>\n",
       "      <td>2018-05-22</td>\n",
       "      <td>2019-07-19 06:23:12</td>\n",
       "      <td>2019-07-19 06:26:00</td>\n",
       "      <td>4410000000</td>\n",
       "      <td>251000000</td>\n",
       "      <td>143000000000</td>\n",
       "      <td>500</td>\n",
       "      <td>3</td>\n",
       "      <td>00:02:48</td>\n",
       "    </tr>\n",
       "    <tr>\n",
       "      <th>2</th>\n",
       "      <td>2018-05-22</td>\n",
       "      <td>2019-07-19 06:26:12</td>\n",
       "      <td>2019-07-19 06:29:00</td>\n",
       "      <td>7090000000</td>\n",
       "      <td>194000000</td>\n",
       "      <td>178000000000</td>\n",
       "      <td>500</td>\n",
       "      <td>3</td>\n",
       "      <td>00:02:48</td>\n",
       "    </tr>\n",
       "    <tr>\n",
       "      <th>3</th>\n",
       "      <td>2018-05-22</td>\n",
       "      <td>2019-07-19 06:29:12</td>\n",
       "      <td>2019-07-19 06:32:00</td>\n",
       "      <td>4720000000</td>\n",
       "      <td>219000000</td>\n",
       "      <td>161000000000</td>\n",
       "      <td>500</td>\n",
       "      <td>3</td>\n",
       "      <td>00:02:48</td>\n",
       "    </tr>\n",
       "    <tr>\n",
       "      <th>4</th>\n",
       "      <td>2018-05-22</td>\n",
       "      <td>2019-07-19 06:32:12</td>\n",
       "      <td>2019-07-19 06:35:00</td>\n",
       "      <td>6560000000</td>\n",
       "      <td>218000000</td>\n",
       "      <td>188000000000</td>\n",
       "      <td>500</td>\n",
       "      <td>3</td>\n",
       "      <td>00:02:48</td>\n",
       "    </tr>\n",
       "  </tbody>\n",
       "</table>\n",
       "</div>"
      ],
      "text/plain": [
       "        Date                From                  To   feature_1  feature_2  \\\n",
       "0 2018-05-22 2019-07-19 06:20:12 2019-07-19 06:23:00  3260000000  294000000   \n",
       "1 2018-05-22 2019-07-19 06:23:12 2019-07-19 06:26:00  4410000000  251000000   \n",
       "2 2018-05-22 2019-07-19 06:26:12 2019-07-19 06:29:00  7090000000  194000000   \n",
       "3 2018-05-22 2019-07-19 06:29:12 2019-07-19 06:32:00  4720000000  219000000   \n",
       "4 2018-05-22 2019-07-19 06:32:12 2019-07-19 06:35:00  6560000000  218000000   \n",
       "\n",
       "      feature_3  output_1  output_2 time_delta  \n",
       "0   97000000000       500         3   00:02:48  \n",
       "1  143000000000       500         3   00:02:48  \n",
       "2  178000000000       500         3   00:02:48  \n",
       "3  161000000000       500         3   00:02:48  \n",
       "4  188000000000       500         3   00:02:48  "
      ]
     },
     "execution_count": 383,
     "metadata": {},
     "output_type": "execute_result"
    }
   ],
   "source": [
    "mfs_df.head()"
   ]
  },
  {
   "cell_type": "code",
   "execution_count": 384,
   "metadata": {},
   "outputs": [
    {
     "data": {
      "text/plain": [
       "0   00:03:54\n",
       "dtype: timedelta64[ns]"
      ]
     },
     "execution_count": 384,
     "metadata": {},
     "output_type": "execute_result"
    }
   ],
   "source": [
    "mfs_df['time_delta'].mode()"
   ]
  },
  {
   "cell_type": "code",
   "execution_count": 385,
   "metadata": {},
   "outputs": [
    {
     "data": {
      "text/plain": [
       "Timedelta('0 days 00:03:18.111739')"
      ]
     },
     "execution_count": 385,
     "metadata": {},
     "output_type": "execute_result"
    }
   ],
   "source": [
    "mfs_df['time_delta'].mean()"
   ]
  },
  {
   "cell_type": "markdown",
   "metadata": {},
   "source": [
    "**Concusion**\n",
    "\n",
    "I observed there is mainly a difference of 3 minutes 45 seconds looking at the time delta mode and average of approximately 3 minutes 18 seconds."
   ]
  },
  {
   "cell_type": "markdown",
   "metadata": {},
   "source": [
    "Use the time_delta column to create new columns to different time intervals such as hours, days and months"
   ]
  },
  {
   "cell_type": "code",
   "execution_count": 386,
   "metadata": {},
   "outputs": [
    {
     "data": {
      "text/html": [
       "<div>\n",
       "<style scoped>\n",
       "    .dataframe tbody tr th:only-of-type {\n",
       "        vertical-align: middle;\n",
       "    }\n",
       "\n",
       "    .dataframe tbody tr th {\n",
       "        vertical-align: top;\n",
       "    }\n",
       "\n",
       "    .dataframe thead th {\n",
       "        text-align: right;\n",
       "    }\n",
       "</style>\n",
       "<table border=\"1\" class=\"dataframe\">\n",
       "  <thead>\n",
       "    <tr style=\"text-align: right;\">\n",
       "      <th></th>\n",
       "      <th>Date</th>\n",
       "      <th>From</th>\n",
       "      <th>To</th>\n",
       "      <th>feature_1</th>\n",
       "      <th>feature_2</th>\n",
       "      <th>feature_3</th>\n",
       "      <th>output_1</th>\n",
       "      <th>output_2</th>\n",
       "      <th>time_delta</th>\n",
       "      <th>hour</th>\n",
       "    </tr>\n",
       "  </thead>\n",
       "  <tbody>\n",
       "    <tr>\n",
       "      <th>0</th>\n",
       "      <td>2018-05-22</td>\n",
       "      <td>2019-07-19 06:20:12</td>\n",
       "      <td>2019-07-19 06:23:00</td>\n",
       "      <td>3260000000</td>\n",
       "      <td>294000000</td>\n",
       "      <td>97000000000</td>\n",
       "      <td>500</td>\n",
       "      <td>3</td>\n",
       "      <td>00:02:48</td>\n",
       "      <td>0</td>\n",
       "    </tr>\n",
       "    <tr>\n",
       "      <th>1</th>\n",
       "      <td>2018-05-22</td>\n",
       "      <td>2019-07-19 06:23:12</td>\n",
       "      <td>2019-07-19 06:26:00</td>\n",
       "      <td>4410000000</td>\n",
       "      <td>251000000</td>\n",
       "      <td>143000000000</td>\n",
       "      <td>500</td>\n",
       "      <td>3</td>\n",
       "      <td>00:02:48</td>\n",
       "      <td>0</td>\n",
       "    </tr>\n",
       "    <tr>\n",
       "      <th>2</th>\n",
       "      <td>2018-05-22</td>\n",
       "      <td>2019-07-19 06:26:12</td>\n",
       "      <td>2019-07-19 06:29:00</td>\n",
       "      <td>7090000000</td>\n",
       "      <td>194000000</td>\n",
       "      <td>178000000000</td>\n",
       "      <td>500</td>\n",
       "      <td>3</td>\n",
       "      <td>00:02:48</td>\n",
       "      <td>0</td>\n",
       "    </tr>\n",
       "    <tr>\n",
       "      <th>3</th>\n",
       "      <td>2018-05-22</td>\n",
       "      <td>2019-07-19 06:29:12</td>\n",
       "      <td>2019-07-19 06:32:00</td>\n",
       "      <td>4720000000</td>\n",
       "      <td>219000000</td>\n",
       "      <td>161000000000</td>\n",
       "      <td>500</td>\n",
       "      <td>3</td>\n",
       "      <td>00:02:48</td>\n",
       "      <td>0</td>\n",
       "    </tr>\n",
       "    <tr>\n",
       "      <th>4</th>\n",
       "      <td>2018-05-22</td>\n",
       "      <td>2019-07-19 06:32:12</td>\n",
       "      <td>2019-07-19 06:35:00</td>\n",
       "      <td>6560000000</td>\n",
       "      <td>218000000</td>\n",
       "      <td>188000000000</td>\n",
       "      <td>500</td>\n",
       "      <td>3</td>\n",
       "      <td>00:02:48</td>\n",
       "      <td>0</td>\n",
       "    </tr>\n",
       "  </tbody>\n",
       "</table>\n",
       "</div>"
      ],
      "text/plain": [
       "        Date                From                  To   feature_1  feature_2  \\\n",
       "0 2018-05-22 2019-07-19 06:20:12 2019-07-19 06:23:00  3260000000  294000000   \n",
       "1 2018-05-22 2019-07-19 06:23:12 2019-07-19 06:26:00  4410000000  251000000   \n",
       "2 2018-05-22 2019-07-19 06:26:12 2019-07-19 06:29:00  7090000000  194000000   \n",
       "3 2018-05-22 2019-07-19 06:29:12 2019-07-19 06:32:00  4720000000  219000000   \n",
       "4 2018-05-22 2019-07-19 06:32:12 2019-07-19 06:35:00  6560000000  218000000   \n",
       "\n",
       "      feature_3  output_1  output_2 time_delta  hour  \n",
       "0   97000000000       500         3   00:02:48     0  \n",
       "1  143000000000       500         3   00:02:48     0  \n",
       "2  178000000000       500         3   00:02:48     0  \n",
       "3  161000000000       500         3   00:02:48     0  \n",
       "4  188000000000       500         3   00:02:48     0  "
      ]
     },
     "execution_count": 386,
     "metadata": {},
     "output_type": "execute_result"
    }
   ],
   "source": [
    "import calendar\n",
    "\n",
    "#add columns for the timeline range for hours and minutes\n",
    "mfs_df['hour'] = pd.DatetimeIndex(mfs_df['time_delta']).hour\n",
    "\n",
    "mfs_df.head()"
   ]
  },
  {
   "cell_type": "code",
   "execution_count": 388,
   "metadata": {},
   "outputs": [],
   "source": [
    "mfs_df['Date'] = pd.to_datetime(mfs_df['Date'])\n",
    "tmp2_df =mfs_df\n",
    "tmp2_df = tmp2_df.reset_index()\n",
    "tmp2_df = tmp2_df.groupby(\n",
    "    tmp2_df['Date'].dt.strftime('%Y-%m-%d'))['index'].count().reset_index()\n",
    "tmp2_df\n",
    "tmp2_df.columns = ['Date', 'output1']\n",
    "tmp2_df[['Date', 'output1']].to_csv(\"tmp2_df.csv\", sep=\"|\")"
   ]
  },
  {
   "cell_type": "code",
   "execution_count": 389,
   "metadata": {},
   "outputs": [
    {
     "data": {
      "image/png": "[encoded data removed]",
      "text/plain": [
       "<Figure size 1440x576 with 1 Axes>"
      ]
     },
     "metadata": {},
     "output_type": "display_data"
    }
   ],
   "source": [
    "import matplotlib.dates as mdates\n",
    "%matplotlib inline\n",
    "\n",
    "#set ggplot style\n",
    "plt.style.use('ggplot')\n",
    "\n",
    "#read data from csv\n",
    "tmp2_df = pd.read_csv('tmp2_df.csv', usecols=['Date', 'output1'], parse_dates=['Date'], sep=\"|\")\n",
    "\n",
    "#set date as index\n",
    "tmp2_df.set_index('Date', inplace=True)\n",
    "\n",
    "#plot data\n",
    "fig, ax = plt.subplots(figsize=(20,8))\n",
    "#ax.bar(tmp2_df.index, tmp2_df['name'])\n",
    "tmp2_df.plot(ax=ax)\n",
    "\n",
    "#set ticks every week\n",
    "ax.xaxis.set_major_locator(mdates.WeekdayLocator(byweekday=(0), interval=2))\n",
    "\n",
    "#format date\n",
    "ax.xaxis.set_major_formatter(mdates.DateFormatter('%d-%b-%Y'))\n"
   ]
  },
  {
   "cell_type": "code",
   "execution_count": 390,
   "metadata": {},
   "outputs": [
    {
     "data": {
      "text/html": [
       "<div>\n",
       "<style scoped>\n",
       "    .dataframe tbody tr th:only-of-type {\n",
       "        vertical-align: middle;\n",
       "    }\n",
       "\n",
       "    .dataframe tbody tr th {\n",
       "        vertical-align: top;\n",
       "    }\n",
       "\n",
       "    .dataframe thead th {\n",
       "        text-align: right;\n",
       "    }\n",
       "</style>\n",
       "<table border=\"1\" class=\"dataframe\">\n",
       "  <thead>\n",
       "    <tr style=\"text-align: right;\">\n",
       "      <th></th>\n",
       "      <th>feature_1</th>\n",
       "      <th>feature_2</th>\n",
       "      <th>feature_3</th>\n",
       "      <th>output_1</th>\n",
       "      <th>output_2</th>\n",
       "      <th>hour</th>\n",
       "    </tr>\n",
       "  </thead>\n",
       "  <tbody>\n",
       "    <tr>\n",
       "      <th>feature_1</th>\n",
       "      <td>1.000000</td>\n",
       "      <td>0.240527</td>\n",
       "      <td>0.707022</td>\n",
       "      <td>0.254550</td>\n",
       "      <td>-0.092633</td>\n",
       "      <td>NaN</td>\n",
       "    </tr>\n",
       "    <tr>\n",
       "      <th>feature_2</th>\n",
       "      <td>0.240527</td>\n",
       "      <td>1.000000</td>\n",
       "      <td>0.462291</td>\n",
       "      <td>0.515097</td>\n",
       "      <td>-0.281395</td>\n",
       "      <td>NaN</td>\n",
       "    </tr>\n",
       "    <tr>\n",
       "      <th>feature_3</th>\n",
       "      <td>0.707022</td>\n",
       "      <td>0.462291</td>\n",
       "      <td>1.000000</td>\n",
       "      <td>0.536483</td>\n",
       "      <td>-0.220468</td>\n",
       "      <td>NaN</td>\n",
       "    </tr>\n",
       "    <tr>\n",
       "      <th>output_1</th>\n",
       "      <td>0.254550</td>\n",
       "      <td>0.515097</td>\n",
       "      <td>0.536483</td>\n",
       "      <td>1.000000</td>\n",
       "      <td>-0.407689</td>\n",
       "      <td>NaN</td>\n",
       "    </tr>\n",
       "    <tr>\n",
       "      <th>output_2</th>\n",
       "      <td>-0.092633</td>\n",
       "      <td>-0.281395</td>\n",
       "      <td>-0.220468</td>\n",
       "      <td>-0.407689</td>\n",
       "      <td>1.000000</td>\n",
       "      <td>NaN</td>\n",
       "    </tr>\n",
       "    <tr>\n",
       "      <th>hour</th>\n",
       "      <td>NaN</td>\n",
       "      <td>NaN</td>\n",
       "      <td>NaN</td>\n",
       "      <td>NaN</td>\n",
       "      <td>NaN</td>\n",
       "      <td>NaN</td>\n",
       "    </tr>\n",
       "  </tbody>\n",
       "</table>\n",
       "</div>"
      ],
      "text/plain": [
       "           feature_1  feature_2  feature_3  output_1  output_2  hour\n",
       "feature_1   1.000000   0.240527   0.707022  0.254550 -0.092633   NaN\n",
       "feature_2   0.240527   1.000000   0.462291  0.515097 -0.281395   NaN\n",
       "feature_3   0.707022   0.462291   1.000000  0.536483 -0.220468   NaN\n",
       "output_1    0.254550   0.515097   0.536483  1.000000 -0.407689   NaN\n",
       "output_2   -0.092633  -0.281395  -0.220468 -0.407689  1.000000   NaN\n",
       "hour             NaN        NaN        NaN       NaN       NaN   NaN"
      ]
     },
     "execution_count": 390,
     "metadata": {},
     "output_type": "execute_result"
    }
   ],
   "source": [
    "mfs_df.corr()"
   ]
  },
  {
   "cell_type": "markdown",
   "metadata": {},
   "source": [
    "**observation**\n",
    "correlation of hour column was Nan because it was all zero"
   ]
  },
  {
   "cell_type": "code",
   "execution_count": 391,
   "metadata": {},
   "outputs": [
    {
     "data": {
      "text/plain": [
       "array(['Date', 'From', 'To', 'feature_1', 'feature_2', 'feature_3',\n",
       "       'output_1', 'output_2', 'time_delta', 'hour'], dtype=object)"
      ]
     },
     "execution_count": 391,
     "metadata": {},
     "output_type": "execute_result"
    }
   ],
   "source": [
    "mfs_df.columns.values"
   ]
  },
  {
   "cell_type": "markdown",
   "metadata": {},
   "source": [
    "## Can you identify model for the relation between input and output?\n"
   ]
  },
  {
   "cell_type": "markdown",
   "metadata": {},
   "source": [
    "Linear Regression Model.- where the input(x) variable predicts the outcome value of the Output(Y) variable. \n",
    "In our case we have 2 dependant variables (output1 and output2) and 3 independent variables(feature1, feature2 and feature3)\n",
    "\n",
    "In this case we have seen that output 2 is negatively correlated to the features and has no correllation with the timelines so I chose to use Output 1 to build the model."
   ]
  },
  {
   "cell_type": "code",
   "execution_count": 392,
   "metadata": {},
   "outputs": [],
   "source": [
    "#Import necessary packages for the model\n",
    "import numpy as np \n",
    "import sklearn as skl\n",
    "from sklearn.linear_model import LinearRegression\n",
    "\n",
    "X = mfs_df[['feature_1', 'feature_2', 'feature_3']] #put all the independendent variables under one name\n",
    "y = mfs_df['output_1'] ##dependent variable\n",
    "\n"
   ]
  },
  {
   "cell_type": "markdown",
   "metadata": {},
   "source": [
    "Split the dataset to a train and test datasets to fit the model\n"
   ]
  },
  {
   "cell_type": "code",
   "execution_count": 401,
   "metadata": {},
   "outputs": [
    {
     "name": "stdout",
     "output_type": "stream",
     "text": [
      "(424, 3) (424,)\n",
      "(283, 3) (283,)\n"
     ]
    }
   ],
   "source": [
    "from sklearn.model_selection import train_test_split #to split to training and test sets\n",
    "X_train, X_test, y_train, y_test = train_test_split(X, y, test_size=0.4, random_state=23)\n",
    "print (X_train.shape, y_train.shape)\n",
    "print (X_test.shape, y_test.shape)"
   ]
  },
  {
   "cell_type": "code",
   "execution_count": 402,
   "metadata": {},
   "outputs": [
    {
     "data": {
      "text/plain": [
       "Index(['feature_1', 'feature_2', 'feature_3'], dtype='object')"
      ]
     },
     "execution_count": 402,
     "metadata": {},
     "output_type": "execute_result"
    }
   ],
   "source": [
    "X_train.keys()"
   ]
  },
  {
   "cell_type": "code",
   "execution_count": 404,
   "metadata": {},
   "outputs": [],
   "source": [
    "import statsmodels.api as sm ## for statistical models inclusive of regression\n",
    "\n",
    "model = sm.OLS(y_train, X_train).fit()\n",
    "\n",
    "predictions = model.predict(X_test)\n",
    "expected = y_test"
   ]
  },
  {
   "cell_type": "code",
   "execution_count": 405,
   "metadata": {},
   "outputs": [
    {
     "data": {
      "text/html": [
       "<table class=\"simpletable\">\n",
       "<caption>OLS Regression Results</caption>\n",
       "<tr>\n",
       "  <th>Dep. Variable:</th>        <td>output_1</td>     <th>  R-squared:         </th> <td>   0.854</td> \n",
       "</tr>\n",
       "<tr>\n",
       "  <th>Model:</th>                   <td>OLS</td>       <th>  Adj. R-squared:    </th> <td>   0.853</td> \n",
       "</tr>\n",
       "<tr>\n",
       "  <th>Method:</th>             <td>Least Squares</td>  <th>  F-statistic:       </th> <td>   819.9</td> \n",
       "</tr>\n",
       "<tr>\n",
       "  <th>Date:</th>             <td>Fri, 19 Jul 2019</td> <th>  Prob (F-statistic):</th> <td>2.31e-175</td>\n",
       "</tr>\n",
       "<tr>\n",
       "  <th>Time:</th>                 <td>12:39:47</td>     <th>  Log-Likelihood:    </th> <td> -2717.7</td> \n",
       "</tr>\n",
       "<tr>\n",
       "  <th>No. Observations:</th>      <td>   424</td>      <th>  AIC:               </th> <td>   5441.</td> \n",
       "</tr>\n",
       "<tr>\n",
       "  <th>Df Residuals:</th>          <td>   421</td>      <th>  BIC:               </th> <td>   5454.</td> \n",
       "</tr>\n",
       "<tr>\n",
       "  <th>Df Model:</th>              <td>     3</td>      <th>                     </th>     <td> </td>    \n",
       "</tr>\n",
       "<tr>\n",
       "  <th>Covariance Type:</th>      <td>nonrobust</td>    <th>                     </th>     <td> </td>    \n",
       "</tr>\n",
       "</table>\n",
       "<table class=\"simpletable\">\n",
       "<tr>\n",
       "      <td></td>         <th>coef</th>     <th>std err</th>      <th>t</th>      <th>P>|t|</th>  <th>[0.025</th>    <th>0.975]</th>  \n",
       "</tr>\n",
       "<tr>\n",
       "  <th>feature_1</th> <td> 1.606e-08</td> <td>  2.7e-09</td> <td>    5.959</td> <td> 0.000</td> <td> 1.08e-08</td> <td> 2.14e-08</td>\n",
       "</tr>\n",
       "<tr>\n",
       "  <th>feature_2</th> <td> 6.706e-07</td> <td> 8.41e-08</td> <td>    7.974</td> <td> 0.000</td> <td> 5.05e-07</td> <td> 8.36e-07</td>\n",
       "</tr>\n",
       "<tr>\n",
       "  <th>feature_3</th> <td> 1.189e-09</td> <td>  1.3e-10</td> <td>    9.146</td> <td> 0.000</td> <td> 9.34e-10</td> <td> 1.44e-09</td>\n",
       "</tr>\n",
       "</table>\n",
       "<table class=\"simpletable\">\n",
       "<tr>\n",
       "  <th>Omnibus:</th>       <td>16.649</td> <th>  Durbin-Watson:     </th> <td>   1.894</td>\n",
       "</tr>\n",
       "<tr>\n",
       "  <th>Prob(Omnibus):</th> <td> 0.000</td> <th>  Jarque-Bera (JB):  </th> <td>  24.065</td>\n",
       "</tr>\n",
       "<tr>\n",
       "  <th>Skew:</th>          <td>-0.317</td> <th>  Prob(JB):          </th> <td>5.95e-06</td>\n",
       "</tr>\n",
       "<tr>\n",
       "  <th>Kurtosis:</th>      <td> 3.980</td> <th>  Cond. No.          </th> <td>1.73e+03</td>\n",
       "</tr>\n",
       "</table><br/><br/>Warnings:<br/>[1] Standard Errors assume that the covariance matrix of the errors is correctly specified.<br/>[2] The condition number is large, 1.73e+03. This might indicate that there are<br/>strong multicollinearity or other numerical problems."
      ],
      "text/plain": [
       "<class 'statsmodels.iolib.summary.Summary'>\n",
       "\"\"\"\n",
       "                            OLS Regression Results                            \n",
       "==============================================================================\n",
       "Dep. Variable:               output_1   R-squared:                       0.854\n",
       "Model:                            OLS   Adj. R-squared:                  0.853\n",
       "Method:                 Least Squares   F-statistic:                     819.9\n",
       "Date:                Fri, 19 Jul 2019   Prob (F-statistic):          2.31e-175\n",
       "Time:                        12:39:47   Log-Likelihood:                -2717.7\n",
       "No. Observations:                 424   AIC:                             5441.\n",
       "Df Residuals:                     421   BIC:                             5454.\n",
       "Df Model:                           3                                         \n",
       "Covariance Type:            nonrobust                                         \n",
       "==============================================================================\n",
       "                 coef    std err          t      P>|t|      [0.025      0.975]\n",
       "------------------------------------------------------------------------------\n",
       "feature_1   1.606e-08    2.7e-09      5.959      0.000    1.08e-08    2.14e-08\n",
       "feature_2   6.706e-07   8.41e-08      7.974      0.000    5.05e-07    8.36e-07\n",
       "feature_3   1.189e-09    1.3e-10      9.146      0.000    9.34e-10    1.44e-09\n",
       "==============================================================================\n",
       "Omnibus:                       16.649   Durbin-Watson:                   1.894\n",
       "Prob(Omnibus):                  0.000   Jarque-Bera (JB):               24.065\n",
       "Skew:                          -0.317   Prob(JB):                     5.95e-06\n",
       "Kurtosis:                       3.980   Cond. No.                     1.73e+03\n",
       "==============================================================================\n",
       "\n",
       "Warnings:\n",
       "[1] Standard Errors assume that the covariance matrix of the errors is correctly specified.\n",
       "[2] The condition number is large, 1.73e+03. This might indicate that there are\n",
       "strong multicollinearity or other numerical problems.\n",
       "\"\"\""
      ]
     },
     "execution_count": 405,
     "metadata": {},
     "output_type": "execute_result"
    }
   ],
   "source": [
    "model.summary()"
   ]
  },
  {
   "cell_type": "markdown",
   "metadata": {},
   "source": [
    "**conclusion**\n",
    "The intercept β^0=4.16\n",
    "\n",
    "The slope β^1=6.71\n",
    "\n",
    "The slope β^2=\t1.19\n",
    "\n",
    "The positive β^1 parameter estimate implies that there feature2 has a positive effect on the outcome\n",
    "\n",
    "The p-value of 0.000 for β^1 implies that the input and the output features are statistically significant (using p < 0.05 as a rejection rule)"
   ]
  },
  {
   "cell_type": "markdown",
   "metadata": {},
   "source": [
    "### fit the linear regression model using scikit-learn"
   ]
  },
  {
   "cell_type": "code",
   "execution_count": 408,
   "metadata": {},
   "outputs": [
    {
     "data": {
      "text/plain": [
       "LinearRegression(copy_X=True, fit_intercept=True, n_jobs=None,\n",
       "         normalize=False)"
      ]
     },
     "execution_count": 408,
     "metadata": {},
     "output_type": "execute_result"
    }
   ],
   "source": [
    "from sklearn import linear_model\n",
    "lr_model = linear_model.LinearRegression()\n",
    "lr_model.fit(X_train, y_train)"
   ]
  },
  {
   "cell_type": "code",
   "execution_count": 409,
   "metadata": {},
   "outputs": [],
   "source": [
    "# Make predictions using the testing set\n",
    "y_pred = lr_model.predict(X_test)"
   ]
  },
  {
   "cell_type": "code",
   "execution_count": 410,
   "metadata": {},
   "outputs": [
    {
     "data": {
      "text/plain": [
       "0.4064273721365029"
      ]
     },
     "execution_count": 410,
     "metadata": {},
     "output_type": "execute_result"
    }
   ],
   "source": [
    "lr_model.score(X_train,y_train)"
   ]
  },
  {
   "cell_type": "markdown",
   "metadata": {},
   "source": [
    "**Conclusion**\n",
    "I have observed that the accuracy level is low mainly due to a strong multi colinearity between some features"
   ]
  },
  {
   "cell_type": "markdown",
   "metadata": {},
   "source": [
    "## Explain the approach used to solve the problem."
   ]
  },
  {
   "cell_type": "markdown",
   "metadata": {},
   "source": [
    "1. The first step was to import the package numpy for numerical functions and class LinearRegression from skilearn. this are needed to show how inputs affect the result/output\n",
    "\n",
    "e.g.\n",
    "import numpy as np\n",
    "from sklearn.linear_model import LinearRegression\n",
    " \n",
    "2. I provided the data with the features being the regressors(x) and output being (y) and split the dataset to have training and testing datasets\n",
    "\n",
    "3. Next step was to fit an Ordinary least square (OLS) to check for multi colinearity which was indicated to be strong. This indicates that the model accuracy will be low.\n",
    "Multi colinearity occurs when independent variables in a regression model are correlated.  this shows that they are co-dependant of each other meaning when one idependet variable changes the other independent variable changes as well.\n",
    "\n",
    "4. I then created a linear regression model and fit it using the provided data. \n",
    "e.g. model = LinearRegression() \n",
    "then fit the model i.e. model.fit(x, y) \n",
    "\n",
    " model= LinearRegression.fit(x, y)\n",
    "5. after fitting the model, I the accracy results of the model  for interpretaion.\n",
    "\n",
    "6. Once I have checked the models accuracy, I can use it to make good valid predictions with the existing data or new data.\n"
   ]
  },
  {
   "cell_type": "markdown",
   "metadata": {},
   "source": [
    "## Explain the programming languages and frameworks used and why?"
   ]
  },
  {
   "cell_type": "markdown",
   "metadata": {},
   "source": [
    "I used Python programming language on a jupyter notebook(an open source platform where I can share live code, visualizations and interestingly write code and see its output below it). the frameworks used were numpy for numerical operations, pandas for data manipulation, skilearn and scipy to show data distributions, regression models and Visualizations and lastly use of statmodels for the colinearlity and output relation to the inputs and to fit the model.\n"
   ]
  },
  {
   "cell_type": "code",
   "execution_count": null,
   "metadata": {},
   "outputs": [],
   "source": []
  }
 ],
 "metadata": {
  "kernelspec": {
   "display_name": "Python 3",
   "language": "python",
   "name": "python3"
  },
  "language_info": {
   "codemirror_mode": {
    "name": "ipython",
    "version": 3
   },
   "file_extension": ".py",
   "mimetype": "text/x-python",
   "name": "python",
   "nbconvert_exporter": "python",
   "pygments_lexer": "ipython3",
   "version": "3.6.5"
  },
  "toc": {
   "base_numbering": 1,
   "nav_menu": {},
   "number_sections": true,
   "sideBar": true,
   "skip_h1_title": false,
   "title_cell": "Table of Contents",
   "title_sidebar": "Contents",
   "toc_cell": false,
   "toc_position": {},
   "toc_section_display": true,
   "toc_window_display": false
  }
 },
 "nbformat": 4,
 "nbformat_minor": 2
}
