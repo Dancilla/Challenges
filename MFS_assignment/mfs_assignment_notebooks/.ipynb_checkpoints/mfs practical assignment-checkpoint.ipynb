{
 "cells": [
  {
   "cell_type": "markdown",
   "metadata": {},
   "source": [
    "# Problem Statement"
   ]
  },
  {
   "cell_type": "markdown",
   "metadata": {},
   "source": [
    "This is a practical assignment provided by the Mobile Financial Solutions. Its a dataset containing different variables\n",
    "\n",
    "**Questions**\n",
    "\n",
    "1. Find if there is any relation between \"features\" and Outputs.\n",
    "2. Can you identify model for the relation between input and output?\n",
    "3. Explain the approach used to solve the problem.\n",
    "4. Explain the programming languages and frameworks used and why?\n",
    "\n",
    "I have chosen to use python Jupyter notebooks to both relay my code plus output. steps involved will be to observe, clean and analyse the data and answer the answers above."
   ]
  },
  {
   "cell_type": "markdown",
   "metadata": {},
   "source": [
    "# Import packages"
   ]
  },
  {
   "cell_type": "code",
   "execution_count": 1,
   "metadata": {},
   "outputs": [],
   "source": [
    "##for faster data processing\n",
    "import numba as nb\n",
    "\n",
    "#for data manipulation \n",
    "import pandas as pd\n",
    "import numpy as np\n",
    "\n",
    "##for data visualizations and distributions of the variables\n",
    "import matplotlib as mtb\n",
    "import matplotlib.pyplot as plt\n",
    "from pandas_summary import DataFrameSummary\n",
    "import scipy as sc\n",
    "import sklearn as skl"
   ]
  },
  {
   "cell_type": "markdown",
   "metadata": {},
   "source": [
    "# Import dataset"
   ]
  },
  {
   "cell_type": "code",
   "execution_count": 3,
   "metadata": {},
   "outputs": [],
   "source": [
    "#read the data file\n",
    "mfs_df = pd.read_csv('../mfs_assignment_data/Practical_Assignment_Data_Scientists1.csv', sep=',')"
   ]
  },
  {
   "cell_type": "code",
   "execution_count": 4,
   "metadata": {},
   "outputs": [],
   "source": [
    "#mfs_df = mfs_df[mfs_df['Feature 2']!= \"179,769,313,486,231,000,000,000,000,000,000,000,000,000,000,000,000,000,000,000,000,000,000,000,000,000,000,000,000,000,000,000,000,000,000,000,000,000,000,000,000,000,000,000,000,000,000,000,000,000,000,000,000,000,000,000,000,000,000,000,000,000,000,000,000,000,000,000,000,000,000,000,000,000,000,000,000,000,000,000,000,000,000,000,000,000,000,000,000,000,000,000,000,000,000,000,000,000,000,000,000,000,000.00\"]"
   ]
  },
  {
   "cell_type": "markdown",
   "metadata": {},
   "source": [
    "# EDA (exploratory data analysis)"
   ]
  },
  {
   "cell_type": "code",
   "execution_count": 16,
   "metadata": {},
   "outputs": [
    {
     "data": {
      "text/html": [
       "<div>\n",
       "<style scoped>\n",
       "    .dataframe tbody tr th:only-of-type {\n",
       "        vertical-align: middle;\n",
       "    }\n",
       "\n",
       "    .dataframe tbody tr th {\n",
       "        vertical-align: top;\n",
       "    }\n",
       "\n",
       "    .dataframe thead th {\n",
       "        text-align: right;\n",
       "    }\n",
       "</style>\n",
       "<table border=\"1\" class=\"dataframe\">\n",
       "  <thead>\n",
       "    <tr style=\"text-align: right;\">\n",
       "      <th></th>\n",
       "      <th>Date</th>\n",
       "      <th>From</th>\n",
       "      <th>To</th>\n",
       "      <th>feature_1</th>\n",
       "      <th>feature_2</th>\n",
       "      <th>feature_3</th>\n",
       "      <th>output_1</th>\n",
       "      <th>output_2</th>\n",
       "    </tr>\n",
       "  </thead>\n",
       "  <tbody>\n",
       "    <tr>\n",
       "      <th>0</th>\n",
       "      <td>05/22/2018</td>\n",
       "      <td>6:20:12</td>\n",
       "      <td>6:23:00</td>\n",
       "      <td>3.260000e+09</td>\n",
       "      <td>294000000.0</td>\n",
       "      <td>9.700000e+10</td>\n",
       "      <td>500</td>\n",
       "      <td>3</td>\n",
       "    </tr>\n",
       "    <tr>\n",
       "      <th>1</th>\n",
       "      <td>05/22/2018</td>\n",
       "      <td>6:23:12</td>\n",
       "      <td>6:26:00</td>\n",
       "      <td>4.410000e+09</td>\n",
       "      <td>251000000.0</td>\n",
       "      <td>1.430000e+11</td>\n",
       "      <td>500</td>\n",
       "      <td>3</td>\n",
       "    </tr>\n",
       "    <tr>\n",
       "      <th>2</th>\n",
       "      <td>05/22/2018</td>\n",
       "      <td>6:26:12</td>\n",
       "      <td>6:29:00</td>\n",
       "      <td>7.090000e+09</td>\n",
       "      <td>194000000.0</td>\n",
       "      <td>1.780000e+11</td>\n",
       "      <td>500</td>\n",
       "      <td>3</td>\n",
       "    </tr>\n",
       "    <tr>\n",
       "      <th>3</th>\n",
       "      <td>05/22/2018</td>\n",
       "      <td>6:29:12</td>\n",
       "      <td>6:32:00</td>\n",
       "      <td>4.720000e+09</td>\n",
       "      <td>219000000.0</td>\n",
       "      <td>1.610000e+11</td>\n",
       "      <td>500</td>\n",
       "      <td>3</td>\n",
       "    </tr>\n",
       "    <tr>\n",
       "      <th>4</th>\n",
       "      <td>05/22/2018</td>\n",
       "      <td>6:32:12</td>\n",
       "      <td>6:35:00</td>\n",
       "      <td>6.560000e+09</td>\n",
       "      <td>218000000.0</td>\n",
       "      <td>1.880000e+11</td>\n",
       "      <td>500</td>\n",
       "      <td>3</td>\n",
       "    </tr>\n",
       "  </tbody>\n",
       "</table>\n",
       "</div>"
      ],
      "text/plain": [
       "         Date     From       To     feature_1    feature_2     feature_3  \\\n",
       "0  05/22/2018  6:20:12  6:23:00  3.260000e+09  294000000.0  9.700000e+10   \n",
       "1  05/22/2018  6:23:12  6:26:00  4.410000e+09  251000000.0  1.430000e+11   \n",
       "2  05/22/2018  6:26:12  6:29:00  7.090000e+09  194000000.0  1.780000e+11   \n",
       "3  05/22/2018  6:29:12  6:32:00  4.720000e+09  219000000.0  1.610000e+11   \n",
       "4  05/22/2018  6:32:12  6:35:00  6.560000e+09  218000000.0  1.880000e+11   \n",
       "\n",
       "   output_1  output_2  \n",
       "0       500         3  \n",
       "1       500         3  \n",
       "2       500         3  \n",
       "3       500         3  \n",
       "4       500         3  "
      ]
     },
     "execution_count": 16,
     "metadata": {},
     "output_type": "execute_result"
    }
   ],
   "source": [
    "#display the data \n",
    "mfs_df.head()"
   ]
  },
  {
   "cell_type": "code",
   "execution_count": 17,
   "metadata": {},
   "outputs": [
    {
     "name": "stdout",
     "output_type": "stream",
     "text": [
      "<class 'pandas.core.frame.DataFrame'>\n",
      "RangeIndex: 707 entries, 0 to 706\n",
      "Data columns (total 8 columns):\n",
      "Date         707 non-null object\n",
      "From         707 non-null object\n",
      "To           707 non-null object\n",
      "feature_1    707 non-null float64\n",
      "feature_2    707 non-null float64\n",
      "feature_3    707 non-null float64\n",
      "output_1     707 non-null int64\n",
      "output_2     707 non-null int64\n",
      "dtypes: float64(3), int64(2), object(3)\n",
      "memory usage: 44.3+ KB\n"
     ]
    }
   ],
   "source": [
    "#check the class of each dataset\n",
    "mfs_df.info()"
   ]
  },
  {
   "cell_type": "code",
   "execution_count": 26,
   "metadata": {},
   "outputs": [
    {
     "data": {
      "text/html": [
       "<div>\n",
       "<style scoped>\n",
       "    .dataframe tbody tr th:only-of-type {\n",
       "        vertical-align: middle;\n",
       "    }\n",
       "\n",
       "    .dataframe tbody tr th {\n",
       "        vertical-align: top;\n",
       "    }\n",
       "\n",
       "    .dataframe thead th {\n",
       "        text-align: right;\n",
       "    }\n",
       "</style>\n",
       "<table border=\"1\" class=\"dataframe\">\n",
       "  <thead>\n",
       "    <tr style=\"text-align: right;\">\n",
       "      <th></th>\n",
       "      <th>feature_1</th>\n",
       "      <th>feature_2</th>\n",
       "      <th>feature_3</th>\n",
       "      <th>output_1</th>\n",
       "      <th>output_2</th>\n",
       "    </tr>\n",
       "  </thead>\n",
       "  <tbody>\n",
       "    <tr>\n",
       "      <th>count</th>\n",
       "      <td>7.070000e+02</td>\n",
       "      <td>7.070000e+02</td>\n",
       "      <td>7.070000e+02</td>\n",
       "      <td>707.000000</td>\n",
       "      <td>707.000000</td>\n",
       "    </tr>\n",
       "    <tr>\n",
       "      <th>mean</th>\n",
       "      <td>5.369079e+09</td>\n",
       "      <td>1.133999e+08</td>\n",
       "      <td>1.280988e+11</td>\n",
       "      <td>370.226308</td>\n",
       "      <td>4.376238</td>\n",
       "    </tr>\n",
       "    <tr>\n",
       "      <th>std</th>\n",
       "      <td>3.631373e+09</td>\n",
       "      <td>9.033315e+07</td>\n",
       "      <td>8.167410e+10</td>\n",
       "      <td>114.950191</td>\n",
       "      <td>5.217632</td>\n",
       "    </tr>\n",
       "    <tr>\n",
       "      <th>min</th>\n",
       "      <td>1.380000e+08</td>\n",
       "      <td>5.019605e+06</td>\n",
       "      <td>5.160000e+08</td>\n",
       "      <td>200.000000</td>\n",
       "      <td>2.000000</td>\n",
       "    </tr>\n",
       "    <tr>\n",
       "      <th>25%</th>\n",
       "      <td>3.650000e+09</td>\n",
       "      <td>4.660000e+07</td>\n",
       "      <td>7.945000e+10</td>\n",
       "      <td>280.000000</td>\n",
       "      <td>2.000000</td>\n",
       "    </tr>\n",
       "    <tr>\n",
       "      <th>50%</th>\n",
       "      <td>4.970000e+09</td>\n",
       "      <td>1.010000e+08</td>\n",
       "      <td>1.240000e+11</td>\n",
       "      <td>400.000000</td>\n",
       "      <td>3.000000</td>\n",
       "    </tr>\n",
       "    <tr>\n",
       "      <th>75%</th>\n",
       "      <td>6.695000e+09</td>\n",
       "      <td>1.610000e+08</td>\n",
       "      <td>1.735000e+11</td>\n",
       "      <td>450.000000</td>\n",
       "      <td>4.000000</td>\n",
       "    </tr>\n",
       "    <tr>\n",
       "      <th>max</th>\n",
       "      <td>6.190000e+10</td>\n",
       "      <td>8.930000e+08</td>\n",
       "      <td>8.620000e+11</td>\n",
       "      <td>600.000000</td>\n",
       "      <td>30.000000</td>\n",
       "    </tr>\n",
       "  </tbody>\n",
       "</table>\n",
       "</div>"
      ],
      "text/plain": [
       "          feature_1     feature_2     feature_3    output_1    output_2\n",
       "count  7.070000e+02  7.070000e+02  7.070000e+02  707.000000  707.000000\n",
       "mean   5.369079e+09  1.133999e+08  1.280988e+11  370.226308    4.376238\n",
       "std    3.631373e+09  9.033315e+07  8.167410e+10  114.950191    5.217632\n",
       "min    1.380000e+08  5.019605e+06  5.160000e+08  200.000000    2.000000\n",
       "25%    3.650000e+09  4.660000e+07  7.945000e+10  280.000000    2.000000\n",
       "50%    4.970000e+09  1.010000e+08  1.240000e+11  400.000000    3.000000\n",
       "75%    6.695000e+09  1.610000e+08  1.735000e+11  450.000000    4.000000\n",
       "max    6.190000e+10  8.930000e+08  8.620000e+11  600.000000   30.000000"
      ]
     },
     "execution_count": 26,
     "metadata": {},
     "output_type": "execute_result"
    }
   ],
   "source": [
    "# show the summary of each dataset\n",
    "mfs_df.describe()"
   ]
  },
  {
   "cell_type": "code",
   "execution_count": 27,
   "metadata": {},
   "outputs": [
    {
     "data": {
      "text/html": [
       "<div>\n",
       "<style scoped>\n",
       "    .dataframe tbody tr th:only-of-type {\n",
       "        vertical-align: middle;\n",
       "    }\n",
       "\n",
       "    .dataframe tbody tr th {\n",
       "        vertical-align: top;\n",
       "    }\n",
       "\n",
       "    .dataframe thead th {\n",
       "        text-align: right;\n",
       "    }\n",
       "</style>\n",
       "<table border=\"1\" class=\"dataframe\">\n",
       "  <thead>\n",
       "    <tr style=\"text-align: right;\">\n",
       "      <th></th>\n",
       "      <th>Date</th>\n",
       "      <th>From</th>\n",
       "      <th>To</th>\n",
       "      <th>feature_1</th>\n",
       "      <th>feature_2</th>\n",
       "      <th>feature_3</th>\n",
       "      <th>output_1</th>\n",
       "      <th>output_2</th>\n",
       "    </tr>\n",
       "  </thead>\n",
       "  <tbody>\n",
       "    <tr>\n",
       "      <th>690</th>\n",
       "      <td>05/25/2018</td>\n",
       "      <td>10:18:24</td>\n",
       "      <td>10:20:24</td>\n",
       "      <td>5.190000e+09</td>\n",
       "      <td>112000000.0</td>\n",
       "      <td>1.840000e+11</td>\n",
       "      <td>600</td>\n",
       "      <td>2</td>\n",
       "    </tr>\n",
       "    <tr>\n",
       "      <th>691</th>\n",
       "      <td>05/25/2018</td>\n",
       "      <td>10:20:24</td>\n",
       "      <td>10:22:10</td>\n",
       "      <td>6.580000e+09</td>\n",
       "      <td>154000000.0</td>\n",
       "      <td>1.910000e+11</td>\n",
       "      <td>600</td>\n",
       "      <td>2</td>\n",
       "    </tr>\n",
       "    <tr>\n",
       "      <th>692</th>\n",
       "      <td>05/25/2018</td>\n",
       "      <td>10:22:24</td>\n",
       "      <td>10:24:10</td>\n",
       "      <td>5.500000e+09</td>\n",
       "      <td>92200000.0</td>\n",
       "      <td>1.520000e+11</td>\n",
       "      <td>600</td>\n",
       "      <td>2</td>\n",
       "    </tr>\n",
       "    <tr>\n",
       "      <th>693</th>\n",
       "      <td>05/25/2018</td>\n",
       "      <td>10:24:22</td>\n",
       "      <td>10:27:10</td>\n",
       "      <td>6.130000e+09</td>\n",
       "      <td>36500000.0</td>\n",
       "      <td>1.980000e+11</td>\n",
       "      <td>520</td>\n",
       "      <td>3</td>\n",
       "    </tr>\n",
       "    <tr>\n",
       "      <th>694</th>\n",
       "      <td>05/25/2018</td>\n",
       "      <td>10:27:22</td>\n",
       "      <td>10:30:10</td>\n",
       "      <td>5.620000e+09</td>\n",
       "      <td>52900000.0</td>\n",
       "      <td>1.820000e+11</td>\n",
       "      <td>520</td>\n",
       "      <td>3</td>\n",
       "    </tr>\n",
       "    <tr>\n",
       "      <th>695</th>\n",
       "      <td>05/25/2018</td>\n",
       "      <td>10:30:22</td>\n",
       "      <td>10:33:10</td>\n",
       "      <td>5.730000e+09</td>\n",
       "      <td>44800000.0</td>\n",
       "      <td>1.740000e+11</td>\n",
       "      <td>520</td>\n",
       "      <td>3</td>\n",
       "    </tr>\n",
       "    <tr>\n",
       "      <th>696</th>\n",
       "      <td>05/25/2018</td>\n",
       "      <td>10:33:22</td>\n",
       "      <td>10:36:10</td>\n",
       "      <td>5.310000e+09</td>\n",
       "      <td>45100000.0</td>\n",
       "      <td>1.650000e+11</td>\n",
       "      <td>520</td>\n",
       "      <td>3</td>\n",
       "    </tr>\n",
       "    <tr>\n",
       "      <th>697</th>\n",
       "      <td>05/25/2018</td>\n",
       "      <td>10:36:22</td>\n",
       "      <td>10:39:10</td>\n",
       "      <td>7.370000e+09</td>\n",
       "      <td>37900000.0</td>\n",
       "      <td>1.980000e+11</td>\n",
       "      <td>520</td>\n",
       "      <td>3</td>\n",
       "    </tr>\n",
       "    <tr>\n",
       "      <th>698</th>\n",
       "      <td>05/25/2018</td>\n",
       "      <td>10:39:21</td>\n",
       "      <td>10:42:10</td>\n",
       "      <td>6.350000e+09</td>\n",
       "      <td>35700000.0</td>\n",
       "      <td>1.710000e+11</td>\n",
       "      <td>450</td>\n",
       "      <td>3</td>\n",
       "    </tr>\n",
       "    <tr>\n",
       "      <th>699</th>\n",
       "      <td>05/25/2018</td>\n",
       "      <td>10:42:21</td>\n",
       "      <td>10:45:10</td>\n",
       "      <td>4.920000e+09</td>\n",
       "      <td>29200000.0</td>\n",
       "      <td>1.530000e+11</td>\n",
       "      <td>450</td>\n",
       "      <td>3</td>\n",
       "    </tr>\n",
       "    <tr>\n",
       "      <th>700</th>\n",
       "      <td>05/25/2018</td>\n",
       "      <td>10:45:21</td>\n",
       "      <td>10:48:10</td>\n",
       "      <td>6.040000e+09</td>\n",
       "      <td>33600000.0</td>\n",
       "      <td>1.760000e+11</td>\n",
       "      <td>450</td>\n",
       "      <td>3</td>\n",
       "    </tr>\n",
       "    <tr>\n",
       "      <th>701</th>\n",
       "      <td>05/25/2018</td>\n",
       "      <td>10:48:21</td>\n",
       "      <td>10:51:10</td>\n",
       "      <td>5.780000e+09</td>\n",
       "      <td>28300000.0</td>\n",
       "      <td>1.710000e+11</td>\n",
       "      <td>450</td>\n",
       "      <td>3</td>\n",
       "    </tr>\n",
       "    <tr>\n",
       "      <th>702</th>\n",
       "      <td>05/25/2018</td>\n",
       "      <td>10:51:16</td>\n",
       "      <td>10:59:10</td>\n",
       "      <td>3.120000e+09</td>\n",
       "      <td>22100000.0</td>\n",
       "      <td>9.590000e+10</td>\n",
       "      <td>200</td>\n",
       "      <td>15</td>\n",
       "    </tr>\n",
       "    <tr>\n",
       "      <th>703</th>\n",
       "      <td>05/25/2018</td>\n",
       "      <td>11:06:19</td>\n",
       "      <td>11:09:10</td>\n",
       "      <td>4.050000e+09</td>\n",
       "      <td>43500000.0</td>\n",
       "      <td>9.920000e+10</td>\n",
       "      <td>360</td>\n",
       "      <td>3</td>\n",
       "    </tr>\n",
       "    <tr>\n",
       "      <th>704</th>\n",
       "      <td>05/25/2018</td>\n",
       "      <td>11:09:19</td>\n",
       "      <td>11:12:10</td>\n",
       "      <td>4.150000e+09</td>\n",
       "      <td>43900000.0</td>\n",
       "      <td>1.230000e+11</td>\n",
       "      <td>360</td>\n",
       "      <td>3</td>\n",
       "    </tr>\n",
       "    <tr>\n",
       "      <th>705</th>\n",
       "      <td>05/25/2018</td>\n",
       "      <td>11:12:19</td>\n",
       "      <td>11:15:10</td>\n",
       "      <td>4.610000e+09</td>\n",
       "      <td>51400000.0</td>\n",
       "      <td>1.180000e+11</td>\n",
       "      <td>360</td>\n",
       "      <td>3</td>\n",
       "    </tr>\n",
       "    <tr>\n",
       "      <th>706</th>\n",
       "      <td>05/25/2018</td>\n",
       "      <td>11:15:18</td>\n",
       "      <td>11:18:10</td>\n",
       "      <td>3.560000e+09</td>\n",
       "      <td>36900000.0</td>\n",
       "      <td>9.990000e+10</td>\n",
       "      <td>300</td>\n",
       "      <td>3</td>\n",
       "    </tr>\n",
       "  </tbody>\n",
       "</table>\n",
       "</div>"
      ],
      "text/plain": [
       "           Date      From        To     feature_1    feature_2     feature_3  \\\n",
       "690  05/25/2018  10:18:24  10:20:24  5.190000e+09  112000000.0  1.840000e+11   \n",
       "691  05/25/2018  10:20:24  10:22:10  6.580000e+09  154000000.0  1.910000e+11   \n",
       "692  05/25/2018  10:22:24  10:24:10  5.500000e+09   92200000.0  1.520000e+11   \n",
       "693  05/25/2018  10:24:22  10:27:10  6.130000e+09   36500000.0  1.980000e+11   \n",
       "694  05/25/2018  10:27:22  10:30:10  5.620000e+09   52900000.0  1.820000e+11   \n",
       "695  05/25/2018  10:30:22  10:33:10  5.730000e+09   44800000.0  1.740000e+11   \n",
       "696  05/25/2018  10:33:22  10:36:10  5.310000e+09   45100000.0  1.650000e+11   \n",
       "697  05/25/2018  10:36:22  10:39:10  7.370000e+09   37900000.0  1.980000e+11   \n",
       "698  05/25/2018  10:39:21  10:42:10  6.350000e+09   35700000.0  1.710000e+11   \n",
       "699  05/25/2018  10:42:21  10:45:10  4.920000e+09   29200000.0  1.530000e+11   \n",
       "700  05/25/2018  10:45:21  10:48:10  6.040000e+09   33600000.0  1.760000e+11   \n",
       "701  05/25/2018  10:48:21  10:51:10  5.780000e+09   28300000.0  1.710000e+11   \n",
       "702  05/25/2018  10:51:16  10:59:10  3.120000e+09   22100000.0  9.590000e+10   \n",
       "703  05/25/2018  11:06:19  11:09:10  4.050000e+09   43500000.0  9.920000e+10   \n",
       "704  05/25/2018  11:09:19  11:12:10  4.150000e+09   43900000.0  1.230000e+11   \n",
       "705  05/25/2018  11:12:19  11:15:10  4.610000e+09   51400000.0  1.180000e+11   \n",
       "706  05/25/2018  11:15:18  11:18:10  3.560000e+09   36900000.0  9.990000e+10   \n",
       "\n",
       "     output_1  output_2  \n",
       "690       600         2  \n",
       "691       600         2  \n",
       "692       600         2  \n",
       "693       520         3  \n",
       "694       520         3  \n",
       "695       520         3  \n",
       "696       520         3  \n",
       "697       520         3  \n",
       "698       450         3  \n",
       "699       450         3  \n",
       "700       450         3  \n",
       "701       450         3  \n",
       "702       200        15  \n",
       "703       360         3  \n",
       "704       360         3  \n",
       "705       360         3  \n",
       "706       300         3  "
      ]
     },
     "execution_count": 27,
     "metadata": {},
     "output_type": "execute_result"
    }
   ],
   "source": [
    "mfs_df.iloc[690:]"
   ]
  },
  {
   "cell_type": "code",
   "execution_count": 29,
   "metadata": {},
   "outputs": [
    {
     "data": {
      "text/plain": [
       "(707, 8)"
      ]
     },
     "execution_count": 29,
     "metadata": {},
     "output_type": "execute_result"
    }
   ],
   "source": [
    "#check number of rows and columns\n",
    "mfs_df.shape"
   ]
  },
  {
   "cell_type": "code",
   "execution_count": 13,
   "metadata": {},
   "outputs": [
    {
     "data": {
      "text/plain": [
       "Date          object\n",
       "From          object\n",
       "To            object\n",
       "Feature 1    float64\n",
       "Feature 2    float64\n",
       "Feature 3    float64\n",
       "Ouput1         int64\n",
       "Output 2       int64\n",
       "dtype: object"
      ]
     },
     "execution_count": 13,
     "metadata": {},
     "output_type": "execute_result"
    }
   ],
   "source": [
    "#check the data types\n",
    "mfs_df.dtypes"
   ]
  },
  {
   "cell_type": "code",
   "execution_count": 14,
   "metadata": {},
   "outputs": [
    {
     "data": {
      "text/plain": [
       "Index(['Date', 'From', 'To', 'Feature 1', 'Feature 2', 'Feature 3', 'Ouput1',\n",
       "       'Output 2'],\n",
       "      dtype='object')"
      ]
     },
     "execution_count": 14,
     "metadata": {},
     "output_type": "execute_result"
    }
   ],
   "source": [
    "mfs_df.columns"
   ]
  },
  {
   "cell_type": "markdown",
   "metadata": {},
   "source": [
    "# Data Prep"
   ]
  },
  {
   "cell_type": "markdown",
   "metadata": {},
   "source": [
    "## Rename columns"
   ]
  },
  {
   "cell_type": "code",
   "execution_count": 30,
   "metadata": {},
   "outputs": [],
   "source": [
    "# Rename columns using a dictionary to map values\n",
    "\n",
    "mfs_df.rename(columns={'Feature 1':'feature_1', 'Feature 2':'feature_2', 'Feature 3':'feature_3',\n",
    "                       'Ouput1':'output_1', 'Output 2':'output_2'}, inplace=True)"
   ]
  },
  {
   "cell_type": "markdown",
   "metadata": {},
   "source": [
    "## change dtypes"
   ]
  },
  {
   "cell_type": "code",
   "execution_count": 32,
   "metadata": {},
   "outputs": [],
   "source": [
    "mfs_df['feature_1']=mfs_df['feature_1'].astype('int64',inplace=True)\n",
    "mfs_df['feature_2']=mfs_df['feature_2'].astype('int64',inplace=True)\n",
    "mfs_df['feature_3']=mfs_df['feature_3'].astype('int64',inplace=True)"
   ]
  },
  {
   "cell_type": "code",
   "execution_count": 33,
   "metadata": {},
   "outputs": [],
   "source": [
    "# Convert date to pandas date_time\n",
    "mfs_df[\"From\"] = mfs_df[\"From\"].apply(pd.to_datetime, errors='coerce')\n",
    "mfs_df[\"To\"] = mfs_df[\"To\"].apply(pd.to_datetime, errors='coerce')\n",
    "mfs_df['Date'] = mfs_df['Date'].apply(pd.to_datetime, errors='coerce')"
   ]
  },
  {
   "cell_type": "code",
   "execution_count": 34,
   "metadata": {},
   "outputs": [
    {
     "data": {
      "text/html": [
       "<div>\n",
       "<style scoped>\n",
       "    .dataframe tbody tr th:only-of-type {\n",
       "        vertical-align: middle;\n",
       "    }\n",
       "\n",
       "    .dataframe tbody tr th {\n",
       "        vertical-align: top;\n",
       "    }\n",
       "\n",
       "    .dataframe thead th {\n",
       "        text-align: right;\n",
       "    }\n",
       "</style>\n",
       "<table border=\"1\" class=\"dataframe\">\n",
       "  <thead>\n",
       "    <tr style=\"text-align: right;\">\n",
       "      <th></th>\n",
       "      <th>feature_1</th>\n",
       "      <th>feature_2</th>\n",
       "      <th>feature_3</th>\n",
       "      <th>output_1</th>\n",
       "      <th>output_2</th>\n",
       "    </tr>\n",
       "  </thead>\n",
       "  <tbody>\n",
       "    <tr>\n",
       "      <th>count</th>\n",
       "      <td>7.070000e+02</td>\n",
       "      <td>7.070000e+02</td>\n",
       "      <td>7.070000e+02</td>\n",
       "      <td>707.000000</td>\n",
       "      <td>707.000000</td>\n",
       "    </tr>\n",
       "    <tr>\n",
       "      <th>mean</th>\n",
       "      <td>5.369079e+09</td>\n",
       "      <td>1.133999e+08</td>\n",
       "      <td>1.280988e+11</td>\n",
       "      <td>370.226308</td>\n",
       "      <td>4.376238</td>\n",
       "    </tr>\n",
       "    <tr>\n",
       "      <th>std</th>\n",
       "      <td>3.631373e+09</td>\n",
       "      <td>9.033315e+07</td>\n",
       "      <td>8.167410e+10</td>\n",
       "      <td>114.950191</td>\n",
       "      <td>5.217632</td>\n",
       "    </tr>\n",
       "    <tr>\n",
       "      <th>min</th>\n",
       "      <td>1.380000e+08</td>\n",
       "      <td>5.019604e+06</td>\n",
       "      <td>5.160000e+08</td>\n",
       "      <td>200.000000</td>\n",
       "      <td>2.000000</td>\n",
       "    </tr>\n",
       "    <tr>\n",
       "      <th>25%</th>\n",
       "      <td>3.650000e+09</td>\n",
       "      <td>4.660000e+07</td>\n",
       "      <td>7.945000e+10</td>\n",
       "      <td>280.000000</td>\n",
       "      <td>2.000000</td>\n",
       "    </tr>\n",
       "    <tr>\n",
       "      <th>50%</th>\n",
       "      <td>4.970000e+09</td>\n",
       "      <td>1.010000e+08</td>\n",
       "      <td>1.240000e+11</td>\n",
       "      <td>400.000000</td>\n",
       "      <td>3.000000</td>\n",
       "    </tr>\n",
       "    <tr>\n",
       "      <th>75%</th>\n",
       "      <td>6.695000e+09</td>\n",
       "      <td>1.610000e+08</td>\n",
       "      <td>1.735000e+11</td>\n",
       "      <td>450.000000</td>\n",
       "      <td>4.000000</td>\n",
       "    </tr>\n",
       "    <tr>\n",
       "      <th>max</th>\n",
       "      <td>6.190000e+10</td>\n",
       "      <td>8.930000e+08</td>\n",
       "      <td>8.620000e+11</td>\n",
       "      <td>600.000000</td>\n",
       "      <td>30.000000</td>\n",
       "    </tr>\n",
       "  </tbody>\n",
       "</table>\n",
       "</div>"
      ],
      "text/plain": [
       "          feature_1     feature_2     feature_3    output_1    output_2\n",
       "count  7.070000e+02  7.070000e+02  7.070000e+02  707.000000  707.000000\n",
       "mean   5.369079e+09  1.133999e+08  1.280988e+11  370.226308    4.376238\n",
       "std    3.631373e+09  9.033315e+07  8.167410e+10  114.950191    5.217632\n",
       "min    1.380000e+08  5.019604e+06  5.160000e+08  200.000000    2.000000\n",
       "25%    3.650000e+09  4.660000e+07  7.945000e+10  280.000000    2.000000\n",
       "50%    4.970000e+09  1.010000e+08  1.240000e+11  400.000000    3.000000\n",
       "75%    6.695000e+09  1.610000e+08  1.735000e+11  450.000000    4.000000\n",
       "max    6.190000e+10  8.930000e+08  8.620000e+11  600.000000   30.000000"
      ]
     },
     "execution_count": 34,
     "metadata": {},
     "output_type": "execute_result"
    }
   ],
   "source": [
    "mfs_df.describe()"
   ]
  },
  {
   "cell_type": "markdown",
   "metadata": {},
   "source": [
    "## Check for Nan"
   ]
  },
  {
   "cell_type": "code",
   "execution_count": 35,
   "metadata": {},
   "outputs": [
    {
     "data": {
      "text/plain": [
       "False"
      ]
     },
     "execution_count": 35,
     "metadata": {},
     "output_type": "execute_result"
    }
   ],
   "source": [
    "mfs_df.isnull().values.any()"
   ]
  },
  {
   "cell_type": "code",
   "execution_count": 37,
   "metadata": {},
   "outputs": [
    {
     "data": {
      "text/plain": [
       "array(['Date', 'From', 'To', 'feature_1', 'feature_2', 'feature_3',\n",
       "       'output_1', 'output_2'], dtype=object)"
      ]
     },
     "execution_count": 37,
     "metadata": {},
     "output_type": "execute_result"
    }
   ],
   "source": [
    "mfs_df.columns.values"
   ]
  },
  {
   "cell_type": "markdown",
   "metadata": {},
   "source": [
    "## separate Categorical and numerical variables"
   ]
  },
  {
   "cell_type": "code",
   "execution_count": 43,
   "metadata": {},
   "outputs": [],
   "source": [
    "categorical_features = ['Date','From','To']\n",
    "numerical_features = ['feature_1','feature_2','feature_3','output_1','output_2'] "
   ]
  },
  {
   "cell_type": "markdown",
   "metadata": {},
   "source": [
    "## Measures of central tendancy"
   ]
  },
  {
   "cell_type": "code",
   "execution_count": 44,
   "metadata": {},
   "outputs": [
    {
     "data": {
      "text/plain": [
       "feature_1    5.369079e+09\n",
       "feature_2    1.133999e+08\n",
       "feature_3    1.280988e+11\n",
       "output_1     3.702263e+02\n",
       "output_2     4.376238e+00\n",
       "dtype: float64"
      ]
     },
     "execution_count": 44,
     "metadata": {},
     "output_type": "execute_result"
    }
   ],
   "source": [
    "mfs_df[numerical_features].mean()"
   ]
  },
  {
   "cell_type": "code",
   "execution_count": 49,
   "metadata": {},
   "outputs": [
    {
     "data": {
      "text/plain": [
       "feature_1    4.970000e+09\n",
       "feature_2    1.010000e+08\n",
       "feature_3    1.240000e+11\n",
       "output_1     4.000000e+02\n",
       "output_2     3.000000e+00\n",
       "dtype: float64"
      ]
     },
     "execution_count": 49,
     "metadata": {},
     "output_type": "execute_result"
    }
   ],
   "source": [
    "mfs_df[numerical_features].median()"
   ]
  },
  {
   "cell_type": "code",
   "execution_count": 50,
   "metadata": {},
   "outputs": [
    {
     "data": {
      "text/html": [
       "<div>\n",
       "<style scoped>\n",
       "    .dataframe tbody tr th:only-of-type {\n",
       "        vertical-align: middle;\n",
       "    }\n",
       "\n",
       "    .dataframe tbody tr th {\n",
       "        vertical-align: top;\n",
       "    }\n",
       "\n",
       "    .dataframe thead th {\n",
       "        text-align: right;\n",
       "    }\n",
       "</style>\n",
       "<table border=\"1\" class=\"dataframe\">\n",
       "  <thead>\n",
       "    <tr style=\"text-align: right;\">\n",
       "      <th></th>\n",
       "      <th>feature_1</th>\n",
       "      <th>feature_2</th>\n",
       "      <th>feature_3</th>\n",
       "      <th>output_1</th>\n",
       "      <th>output_2</th>\n",
       "    </tr>\n",
       "  </thead>\n",
       "  <tbody>\n",
       "    <tr>\n",
       "      <th>702</th>\n",
       "      <td>3779569000000</td>\n",
       "      <td>79998020919</td>\n",
       "      <td>90125786000000</td>\n",
       "      <td>260370</td>\n",
       "      <td>3082</td>\n",
       "    </tr>\n",
       "    <tr>\n",
       "      <th>703</th>\n",
       "      <td>3783619000000</td>\n",
       "      <td>80041520919</td>\n",
       "      <td>90224986000000</td>\n",
       "      <td>260730</td>\n",
       "      <td>3085</td>\n",
       "    </tr>\n",
       "    <tr>\n",
       "      <th>704</th>\n",
       "      <td>3787769000000</td>\n",
       "      <td>80085420919</td>\n",
       "      <td>90347986000000</td>\n",
       "      <td>261090</td>\n",
       "      <td>3088</td>\n",
       "    </tr>\n",
       "    <tr>\n",
       "      <th>705</th>\n",
       "      <td>3792379000000</td>\n",
       "      <td>80136820919</td>\n",
       "      <td>90465986000000</td>\n",
       "      <td>261450</td>\n",
       "      <td>3091</td>\n",
       "    </tr>\n",
       "    <tr>\n",
       "      <th>706</th>\n",
       "      <td>3795939000000</td>\n",
       "      <td>80173720919</td>\n",
       "      <td>90565886000000</td>\n",
       "      <td>261750</td>\n",
       "      <td>3094</td>\n",
       "    </tr>\n",
       "  </tbody>\n",
       "</table>\n",
       "</div>"
      ],
      "text/plain": [
       "         feature_1    feature_2       feature_3  output_1  output_2\n",
       "702  3779569000000  79998020919  90125786000000    260370      3082\n",
       "703  3783619000000  80041520919  90224986000000    260730      3085\n",
       "704  3787769000000  80085420919  90347986000000    261090      3088\n",
       "705  3792379000000  80136820919  90465986000000    261450      3091\n",
       "706  3795939000000  80173720919  90565886000000    261750      3094"
      ]
     },
     "execution_count": 50,
     "metadata": {},
     "output_type": "execute_result"
    }
   ],
   "source": [
    "mfs_df[numerical_features].cumsum().tail()"
   ]
  },
  {
   "cell_type": "code",
   "execution_count": 51,
   "metadata": {},
   "outputs": [
    {
     "data": {
      "text/plain": [
       "dtype('int64')"
      ]
     },
     "execution_count": 51,
     "metadata": {},
     "output_type": "execute_result"
    }
   ],
   "source": [
    "mfs_df['feature_2'].dtype"
   ]
  },
  {
   "cell_type": "markdown",
   "metadata": {},
   "source": [
    "# Mfs practical questions"
   ]
  },
  {
   "cell_type": "markdown",
   "metadata": {},
   "source": [
    "## Find if there is any relation between \"features\" and Outputs"
   ]
  },
  {
   "cell_type": "markdown",
   "metadata": {},
   "source": [
    "Relations are correspondences between sets of values. The first value of a relation is an input value and the second value is the output value. The input is the independent value, and the output value is the dependent value. In this case I decided to use correlation to check if there was any relation between the features and the outputs."
   ]
  },
  {
   "cell_type": "code",
   "execution_count": 52,
   "metadata": {},
   "outputs": [
    {
     "data": {
      "text/html": [
       "<div>\n",
       "<style scoped>\n",
       "    .dataframe tbody tr th:only-of-type {\n",
       "        vertical-align: middle;\n",
       "    }\n",
       "\n",
       "    .dataframe tbody tr th {\n",
       "        vertical-align: top;\n",
       "    }\n",
       "\n",
       "    .dataframe thead th {\n",
       "        text-align: right;\n",
       "    }\n",
       "</style>\n",
       "<table border=\"1\" class=\"dataframe\">\n",
       "  <thead>\n",
       "    <tr style=\"text-align: right;\">\n",
       "      <th></th>\n",
       "      <th>feature_1</th>\n",
       "      <th>feature_2</th>\n",
       "      <th>feature_3</th>\n",
       "      <th>output_1</th>\n",
       "      <th>output_2</th>\n",
       "    </tr>\n",
       "  </thead>\n",
       "  <tbody>\n",
       "    <tr>\n",
       "      <th>feature_1</th>\n",
       "      <td>1.000000</td>\n",
       "      <td>0.240527</td>\n",
       "      <td>0.707022</td>\n",
       "      <td>0.254550</td>\n",
       "      <td>-0.092633</td>\n",
       "    </tr>\n",
       "    <tr>\n",
       "      <th>feature_2</th>\n",
       "      <td>0.240527</td>\n",
       "      <td>1.000000</td>\n",
       "      <td>0.462291</td>\n",
       "      <td>0.515097</td>\n",
       "      <td>-0.281395</td>\n",
       "    </tr>\n",
       "    <tr>\n",
       "      <th>feature_3</th>\n",
       "      <td>0.707022</td>\n",
       "      <td>0.462291</td>\n",
       "      <td>1.000000</td>\n",
       "      <td>0.536483</td>\n",
       "      <td>-0.220468</td>\n",
       "    </tr>\n",
       "    <tr>\n",
       "      <th>output_1</th>\n",
       "      <td>0.254550</td>\n",
       "      <td>0.515097</td>\n",
       "      <td>0.536483</td>\n",
       "      <td>1.000000</td>\n",
       "      <td>-0.407689</td>\n",
       "    </tr>\n",
       "    <tr>\n",
       "      <th>output_2</th>\n",
       "      <td>-0.092633</td>\n",
       "      <td>-0.281395</td>\n",
       "      <td>-0.220468</td>\n",
       "      <td>-0.407689</td>\n",
       "      <td>1.000000</td>\n",
       "    </tr>\n",
       "  </tbody>\n",
       "</table>\n",
       "</div>"
      ],
      "text/plain": [
       "           feature_1  feature_2  feature_3  output_1  output_2\n",
       "feature_1   1.000000   0.240527   0.707022  0.254550 -0.092633\n",
       "feature_2   0.240527   1.000000   0.462291  0.515097 -0.281395\n",
       "feature_3   0.707022   0.462291   1.000000  0.536483 -0.220468\n",
       "output_1    0.254550   0.515097   0.536483  1.000000 -0.407689\n",
       "output_2   -0.092633  -0.281395  -0.220468 -0.407689  1.000000"
      ]
     },
     "execution_count": 52,
     "metadata": {},
     "output_type": "execute_result"
    }
   ],
   "source": [
    "mfs_df.corr()"
   ]
  },
  {
   "cell_type": "markdown",
   "metadata": {},
   "source": [
    "1. We can see that feature 1 and Output 1 have a weak positive relation of ~26% \n",
    "2. feature 2 and Output 1 have a fair positive realation of ~52% \n",
    "3. feature 3 and Output 1 have a strong positive relation of ~53.6% \n",
    "\n",
    "\n",
    "1. We can see that feature 1 and Output 2 have a weak negative relation of ~-9.3% \n",
    "2. feature 2 and Output 2 have a strong negative realation of ~-28.1% \n",
    "3. feature 3 and Output 2 have a strong negative relation of ~22% "
   ]
  },
  {
   "cell_type": "code",
   "execution_count": 53,
   "metadata": {},
   "outputs": [
    {
     "data": {
      "image/png": "[encoded data removed]",
      "text/plain": [
       "<Figure size 1080x720 with 2 Axes>"
      ]
     },
     "metadata": {
      "needs_background": "light"
     },
     "output_type": "display_data"
    }
   ],
   "source": [
    "#check the relationship between feautures and outputs using the heatmap(correlation) \n",
    "mfs_df.corr()\n",
    "# Plot correlation matrix\n",
    "plt.figure(figsize=(15,10))\n",
    "sns.heatmap(mfs_df[numerical_features].corr(), annot=True, fmt=\".1f\")\n",
    "plt.show()\n",
    "\n",
    "#when it tends to 1, it shows it has a relation, and as it tends to -1, it shows a weak relation."
   ]
  },
  {
   "cell_type": "code",
   "execution_count": 56,
   "metadata": {},
   "outputs": [
    {
     "data": {
      "text/plain": [
       "array(['Date', 'From', 'To', 'feature_1', 'feature_2', 'feature_3',\n",
       "       'output_1', 'output_2'], dtype=object)"
      ]
     },
     "execution_count": 56,
     "metadata": {},
     "output_type": "execute_result"
    }
   ],
   "source": [
    "mfs_df.columns.values"
   ]
  },
  {
   "cell_type": "markdown",
   "metadata": {},
   "source": [
    "## Can you identify model for the relation between input and output?\n"
   ]
  },
  {
   "cell_type": "code",
   "execution_count": null,
   "metadata": {},
   "outputs": [],
   "source": [
    "Linear Regression Model.- where the input(x) variable predicts the outcome value of the Output(Y) variable. "
   ]
  },
  {
   "cell_type": "markdown",
   "metadata": {},
   "source": [
    "## Explain the approach used to solve the problem."
   ]
  },
  {
   "cell_type": "markdown",
   "metadata": {},
   "source": [
    "1. The first step was to import the package nummpy for numerical functions and class LinearRegression from skilearn. this are needed to show how inputs affect the result/output\n",
    "\n",
    "e.g.\n",
    "import numpy as np\n",
    "from sklearn.linear_model import LinearRegression\n",
    "\n",
    "2. I provided the data with the features being the regressors(x) and output being (y)\n",
    "\n",
    "3. I then created a linear regression model and fit it using the provided data. \n",
    "e.g. model = LinearRegression() \n",
    "then fit the model i.e. model.fit(x, y) \n",
    "4. model= LinearRegression.fit(x, y) \n",
    "after fitting the model, I then checked the results for interpretaion.\n",
    "\n",
    "Once I have checked the models accuracy, I can use it to make good valid predictions with the existing data or new data.\n"
   ]
  },
  {
   "cell_type": "markdown",
   "metadata": {},
   "source": [
    "## Explain the programming languages and frameworks used and why?"
   ]
  },
  {
   "cell_type": "markdown",
   "metadata": {},
   "source": [
    "I used Python programming language on a jupyter notebook(an open source platform where I can share live code, visualizations and interestingly write code and see its output below it). the frameworks used were numpy for numerical operations, pandas for data manipulation, skilearn and scipy to show data distributions and Visualizations.\n"
   ]
  },
  {
   "cell_type": "code",
   "execution_count": null,
   "metadata": {},
   "outputs": [],
   "source": []
  }
 ],
 "metadata": {
  "kernelspec": {
   "display_name": "Python 3",
   "language": "python",
   "name": "python3"
  },
  "language_info": {
   "codemirror_mode": {
    "name": "ipython",
    "version": 3
   },
   "file_extension": ".py",
   "mimetype": "text/x-python",
   "name": "python",
   "nbconvert_exporter": "python",
   "pygments_lexer": "ipython3",
   "version": "3.6.5"
  },
  "toc": {
   "base_numbering": 1,
   "nav_menu": {},
   "number_sections": true,
   "sideBar": true,
   "skip_h1_title": false,
   "title_cell": "Table of Contents",
   "title_sidebar": "Contents",
   "toc_cell": false,
   "toc_position": {},
   "toc_section_display": true,
   "toc_window_display": false
  }
 },
 "nbformat": 4,
 "nbformat_minor": 2
}
